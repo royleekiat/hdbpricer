{
  "nbformat": 4,
  "nbformat_minor": 0,
  "metadata": {
    "colab": {
      "name": "hdbpricer.ipynb",
      "provenance": [],
      "authorship_tag": "ABX9TyMSDsfT3ibtB5E9wAIhUKHQ",
      "include_colab_link": true
    },
    "kernelspec": {
      "name": "python3",
      "display_name": "Python 3"
    },
    "accelerator": "TPU"
  },
  "cells": [
    {
      "cell_type": "markdown",
      "metadata": {
        "id": "view-in-github",
        "colab_type": "text"
      },
      "source": [
        "<a href=\"https://colab.research.google.com/github/royleekiat/hdbpricer/blob/main/hdbpricer.ipynb\" target=\"_parent\"><img src=\"https://colab.research.google.com/assets/colab-badge.svg\" alt=\"Open In Colab\"/></a>"
      ]
    },
    {
      "cell_type": "markdown",
      "metadata": {
        "id": "IY6SVTgzRvzb"
      },
      "source": [
        "# HDB Resale Price Prediction\n",
        "\n",
        "Some inspiration (and code) taken from US Housing data prediction https://towardsdatascience.com/house-prices-prediction-using-deep-learning-dea265cc3154\n",
        "\n",
        "**Dataset for HDB Resale prices**\n",
        "https://data.gov.sg/dataset/resale-flat-prices"
      ]
    },
    {
      "cell_type": "code",
      "metadata": {
        "id": "nMheCkNFKvE4"
      },
      "source": [
        "%pip -q install tf-nightly"
      ],
      "execution_count": 1,
      "outputs": []
    },
    {
      "cell_type": "code",
      "metadata": {
        "id": "2tqXkSY1LrHa"
      },
      "source": [
        "%matplotlib inline\n",
        "import matplotlib.pyplot as plt\n",
        "\n",
        "import math\n",
        "import tensorflow as tf\n",
        "from collections import defaultdict\n",
        "import numpy as np\n",
        "from numpy import unique\n",
        "import pandas as pd\n",
        "import seaborn as sns\n",
        "from sklearn.preprocessing import StandardScaler, LabelEncoder\n",
        "from tensorflow import keras\n",
        "from tensorflow.keras import layers\n",
        "from tensorflow.keras.callbacks import ModelCheckpoint, Callback, TensorBoard"
      ],
      "execution_count": 2,
      "outputs": []
    },
    {
      "cell_type": "code",
      "metadata": {
        "id": "u9eQmO_MLxbs",
        "outputId": "e960746b-6904-474a-ef23-d343ec83a9af",
        "colab": {
          "base_uri": "https://localhost:8080/",
          "height": 35
        }
      },
      "source": [
        "tf.__version__"
      ],
      "execution_count": 3,
      "outputs": [
        {
          "output_type": "execute_result",
          "data": {
            "application/vnd.google.colaboratory.intrinsic+json": {
              "type": "string"
            },
            "text/plain": [
              "'2.4.0-dev20201007'"
            ]
          },
          "metadata": {
            "tags": []
          },
          "execution_count": 3
        }
      ]
    },
    {
      "cell_type": "code",
      "metadata": {
        "id": "0gHolheVL3eS"
      },
      "source": [
        "#Dataset from https://data.gov.sg/dataset/resale-flat-prices\n",
        "file_url = \"https://docs.google.com/spreadsheets/d/e/2PACX-1vQ8OfO82KXoRmO0E6c58MdwsOSc8ns5Geme87SiaiqTUrS_hI8u8mYE5KIOfQe4m2m3GGf9En22xuXx/pub?gid=382289391&single=true&output=csv\"\n",
        "data = pd.read_csv(file_url)\n",
        "\n"
      ],
      "execution_count": 4,
      "outputs": []
    },
    {
      "cell_type": "code",
      "metadata": {
        "id": "Rk5vYDwddrZ9",
        "outputId": "eb99b266-1d83-4e82-8938-bc7d757f1e58",
        "colab": {
          "base_uri": "https://localhost:8080/",
          "height": 34
        }
      },
      "source": [
        "dataframe = data.copy()\n",
        "dataframe.shape"
      ],
      "execution_count": 5,
      "outputs": [
        {
          "output_type": "execute_result",
          "data": {
            "text/plain": [
              "(77895, 11)"
            ]
          },
          "metadata": {
            "tags": []
          },
          "execution_count": 5
        }
      ]
    },
    {
      "cell_type": "code",
      "metadata": {
        "id": "gSjTZLBoOaZ-",
        "outputId": "8e0f02ff-6e00-487b-d3dc-cea7106e38e6",
        "colab": {
          "base_uri": "https://localhost:8080/",
          "height": 204
        }
      },
      "source": [
        "dataframe.head()"
      ],
      "execution_count": 6,
      "outputs": [
        {
          "output_type": "execute_result",
          "data": {
            "text/html": [
              "<div>\n",
              "<style scoped>\n",
              "    .dataframe tbody tr th:only-of-type {\n",
              "        vertical-align: middle;\n",
              "    }\n",
              "\n",
              "    .dataframe tbody tr th {\n",
              "        vertical-align: top;\n",
              "    }\n",
              "\n",
              "    .dataframe thead th {\n",
              "        text-align: right;\n",
              "    }\n",
              "</style>\n",
              "<table border=\"1\" class=\"dataframe\">\n",
              "  <thead>\n",
              "    <tr style=\"text-align: right;\">\n",
              "      <th></th>\n",
              "      <th>month</th>\n",
              "      <th>town</th>\n",
              "      <th>flat_type</th>\n",
              "      <th>block</th>\n",
              "      <th>street_name</th>\n",
              "      <th>storey_range</th>\n",
              "      <th>floor_area_sqm</th>\n",
              "      <th>flat_model</th>\n",
              "      <th>lease_commence_date</th>\n",
              "      <th>remaining_lease</th>\n",
              "      <th>resale_price</th>\n",
              "    </tr>\n",
              "  </thead>\n",
              "  <tbody>\n",
              "    <tr>\n",
              "      <th>0</th>\n",
              "      <td>2017-01</td>\n",
              "      <td>ANG MO KIO</td>\n",
              "      <td>2 ROOM</td>\n",
              "      <td>406</td>\n",
              "      <td>ANG MO KIO AVE 10</td>\n",
              "      <td>10 TO 12</td>\n",
              "      <td>44.0</td>\n",
              "      <td>Improved</td>\n",
              "      <td>1979</td>\n",
              "      <td>61 years 04 months</td>\n",
              "      <td>232000.0</td>\n",
              "    </tr>\n",
              "    <tr>\n",
              "      <th>1</th>\n",
              "      <td>2017-01</td>\n",
              "      <td>ANG MO KIO</td>\n",
              "      <td>3 ROOM</td>\n",
              "      <td>108</td>\n",
              "      <td>ANG MO KIO AVE 4</td>\n",
              "      <td>01 TO 03</td>\n",
              "      <td>67.0</td>\n",
              "      <td>New Generation</td>\n",
              "      <td>1978</td>\n",
              "      <td>60 years 07 months</td>\n",
              "      <td>250000.0</td>\n",
              "    </tr>\n",
              "    <tr>\n",
              "      <th>2</th>\n",
              "      <td>2017-01</td>\n",
              "      <td>ANG MO KIO</td>\n",
              "      <td>3 ROOM</td>\n",
              "      <td>602</td>\n",
              "      <td>ANG MO KIO AVE 5</td>\n",
              "      <td>01 TO 03</td>\n",
              "      <td>67.0</td>\n",
              "      <td>New Generation</td>\n",
              "      <td>1980</td>\n",
              "      <td>62 years 05 months</td>\n",
              "      <td>262000.0</td>\n",
              "    </tr>\n",
              "    <tr>\n",
              "      <th>3</th>\n",
              "      <td>2017-01</td>\n",
              "      <td>ANG MO KIO</td>\n",
              "      <td>3 ROOM</td>\n",
              "      <td>465</td>\n",
              "      <td>ANG MO KIO AVE 10</td>\n",
              "      <td>04 TO 06</td>\n",
              "      <td>68.0</td>\n",
              "      <td>New Generation</td>\n",
              "      <td>1980</td>\n",
              "      <td>62 years 01 month</td>\n",
              "      <td>265000.0</td>\n",
              "    </tr>\n",
              "    <tr>\n",
              "      <th>4</th>\n",
              "      <td>2017-01</td>\n",
              "      <td>ANG MO KIO</td>\n",
              "      <td>3 ROOM</td>\n",
              "      <td>601</td>\n",
              "      <td>ANG MO KIO AVE 5</td>\n",
              "      <td>01 TO 03</td>\n",
              "      <td>67.0</td>\n",
              "      <td>New Generation</td>\n",
              "      <td>1980</td>\n",
              "      <td>62 years 05 months</td>\n",
              "      <td>265000.0</td>\n",
              "    </tr>\n",
              "  </tbody>\n",
              "</table>\n",
              "</div>"
            ],
            "text/plain": [
              "     month        town  ...     remaining_lease resale_price\n",
              "0  2017-01  ANG MO KIO  ...  61 years 04 months     232000.0\n",
              "1  2017-01  ANG MO KIO  ...  60 years 07 months     250000.0\n",
              "2  2017-01  ANG MO KIO  ...  62 years 05 months     262000.0\n",
              "3  2017-01  ANG MO KIO  ...   62 years 01 month     265000.0\n",
              "4  2017-01  ANG MO KIO  ...  62 years 05 months     265000.0\n",
              "\n",
              "[5 rows x 11 columns]"
            ]
          },
          "metadata": {
            "tags": []
          },
          "execution_count": 6
        }
      ]
    },
    {
      "cell_type": "markdown",
      "metadata": {
        "id": "Xp5rgObpPOsq"
      },
      "source": [
        "We can also use Google Geocode rest API to enrich the dataframe with longtitude and latitude data. For example,\n",
        "import requests\n",
        "\n",
        "response = requests.get('https://maps.googleapis.com/maps/api/geocode/json?address=1600+Amphitheatre+Parkway,+Mountain+View,+CA')\n",
        "\n",
        "resp_json_payload = response.json()\n",
        "\n",
        "print(resp_json_payload['results'][0]['geometry']['location'])"
      ]
    },
    {
      "cell_type": "code",
      "metadata": {
        "id": "fwx_agYhRdgA",
        "outputId": "f1f67358-529c-48a3-c9f3-5f5a56b5fef2",
        "colab": {
          "base_uri": "https://localhost:8080/",
          "height": 1000
        }
      },
      "source": [
        "#visualizing house prices\n",
        "fig = plt.figure(figsize=(10,7))\n",
        "fig.add_subplot(2,1,1)\n",
        "sns.distplot(dataframe['resale_price'])\n",
        "plt.tight_layout()\n",
        "\n",
        "#visualizing square metres\n",
        "fig = plt.figure(figsize=(20,12))\n",
        "fig.add_subplot(2,2,1)\n",
        "sns.scatterplot(dataframe['floor_area_sqm'], dataframe['resale_price'])\n",
        "\n",
        "\n",
        "#visualizing bedrooms,bathrooms,floors,grade\n",
        "fig = plt.figure(figsize=(15,7))\n",
        "fig.add_subplot(2,2,1)\n",
        "sns.countplot(dataframe['town'])\n",
        "plt.xticks(rotation=90)\n",
        "fig.add_subplot(2,2,2)\n",
        "sns.countplot(dataframe['flat_type'])\n",
        "plt.xticks(rotation=90)\n",
        "fig.add_subplot(2,2,3)\n",
        "sns.countplot(dataframe['flat_model'])\n",
        "plt.xticks(rotation=90)\n",
        "fig.add_subplot(2,2,4)\n",
        "sns.countplot(dataframe['storey_range'])\n",
        "plt.xticks(rotation=90)\n",
        "\n",
        "plt.tight_layout()\n"
      ],
      "execution_count": 7,
      "outputs": [
        {
          "output_type": "stream",
          "text": [
            "/usr/local/lib/python3.6/dist-packages/seaborn/distributions.py:2551: FutureWarning: `distplot` is a deprecated function and will be removed in a future version. Please adapt your code to use either `displot` (a figure-level function with similar flexibility) or `histplot` (an axes-level function for histograms).\n",
            "  warnings.warn(msg, FutureWarning)\n",
            "/usr/local/lib/python3.6/dist-packages/seaborn/_decorators.py:43: FutureWarning: Pass the following variables as keyword args: x, y. From version 0.12, the only valid positional argument will be `data`, and passing other arguments without an explicit keyword will result in an error or misinterpretation.\n",
            "  FutureWarning\n",
            "/usr/local/lib/python3.6/dist-packages/seaborn/_decorators.py:43: FutureWarning: Pass the following variable as a keyword arg: x. From version 0.12, the only valid positional argument will be `data`, and passing other arguments without an explicit keyword will result in an error or misinterpretation.\n",
            "  FutureWarning\n",
            "/usr/local/lib/python3.6/dist-packages/seaborn/_decorators.py:43: FutureWarning: Pass the following variable as a keyword arg: x. From version 0.12, the only valid positional argument will be `data`, and passing other arguments without an explicit keyword will result in an error or misinterpretation.\n",
            "  FutureWarning\n",
            "/usr/local/lib/python3.6/dist-packages/seaborn/_decorators.py:43: FutureWarning: Pass the following variable as a keyword arg: x. From version 0.12, the only valid positional argument will be `data`, and passing other arguments without an explicit keyword will result in an error or misinterpretation.\n",
            "  FutureWarning\n",
            "/usr/local/lib/python3.6/dist-packages/seaborn/_decorators.py:43: FutureWarning: Pass the following variable as a keyword arg: x. From version 0.12, the only valid positional argument will be `data`, and passing other arguments without an explicit keyword will result in an error or misinterpretation.\n",
            "  FutureWarning\n"
          ],
          "name": "stderr"
        },
        {
          "output_type": "display_data",
          "data": {
            "image/png": "[encoded data removed]",
            "text/plain": [
              "<Figure size 720x504 with 1 Axes>"
            ]
          },
          "metadata": {
            "tags": [],
            "needs_background": "light"
          }
        },
        {
          "output_type": "display_data",
          "data": {
            "image/png": "[encoded data removed]",
            "text/plain": [
              "<Figure size 1440x864 with 1 Axes>"
            ]
          },
          "metadata": {
            "tags": [],
            "needs_background": "light"
          }
        },
        {
          "output_type": "display_data",
          "data": {
            "image/png": "[encoded data removed]",
            "text/plain": [
              "<Figure size 1080x504 with 4 Axes>"
            ]
          },
          "metadata": {
            "tags": [],
            "needs_background": "light"
          }
        }
      ]
    },
    {
      "cell_type": "code",
      "metadata": {
        "id": "I2QVArbHVJ6u",
        "outputId": "932ce32c-f563-4aec-ee91-859ea54e59fb",
        "colab": {
          "base_uri": "https://localhost:8080/",
          "height": 351
        }
      },
      "source": [
        "#let's break date to years, months\n",
        "dataframe['date'] = pd.to_datetime(dataframe['month'])\n",
        "dataframe['month'] = dataframe['date'].apply(lambda date:date.month)\n",
        "dataframe['year'] = dataframe['date'].apply(lambda date:date.year)\n",
        "\n",
        "#Get number of years left on lease as a continuous number (ignoring months)\n",
        "dataframe['remaining_lease'] = dataframe['remaining_lease'].apply(lambda remaining_lease:remaining_lease[:2])\n",
        "\n",
        "\n",
        "#data visualization house price vs months and years\n",
        "fig = plt.figure(figsize=(16,5))\n",
        "fig.add_subplot(1,2,1)\n",
        "dataframe.groupby('month').mean()['resale_price'].plot()\n",
        "fig.add_subplot(1,2,2)\n",
        "dataframe.groupby('year').mean()['resale_price'].plot()\n"
      ],
      "execution_count": 8,
      "outputs": [
        {
          "output_type": "execute_result",
          "data": {
            "text/plain": [
              "<matplotlib.axes._subplots.AxesSubplot at 0x7fcb39f0d940>"
            ]
          },
          "metadata": {
            "tags": []
          },
          "execution_count": 8
        },
        {
          "output_type": "display_data",
          "data": {
            "image/png": "[encoded data removed]",
            "text/plain": [
              "<Figure size 1152x360 with 2 Axes>"
            ]
          },
          "metadata": {
            "tags": [],
            "needs_background": "light"
          }
        }
      ]
    },
    {
      "cell_type": "code",
      "metadata": {
        "id": "YbQuKgBXV26S",
        "outputId": "99076004-6585-48e2-e619-883e5cc583d5",
        "colab": {
          "base_uri": "https://localhost:8080/",
          "height": 289
        }
      },
      "source": [
        "dataframe.head()"
      ],
      "execution_count": 9,
      "outputs": [
        {
          "output_type": "execute_result",
          "data": {
            "text/html": [
              "<div>\n",
              "<style scoped>\n",
              "    .dataframe tbody tr th:only-of-type {\n",
              "        vertical-align: middle;\n",
              "    }\n",
              "\n",
              "    .dataframe tbody tr th {\n",
              "        vertical-align: top;\n",
              "    }\n",
              "\n",
              "    .dataframe thead th {\n",
              "        text-align: right;\n",
              "    }\n",
              "</style>\n",
              "<table border=\"1\" class=\"dataframe\">\n",
              "  <thead>\n",
              "    <tr style=\"text-align: right;\">\n",
              "      <th></th>\n",
              "      <th>month</th>\n",
              "      <th>town</th>\n",
              "      <th>flat_type</th>\n",
              "      <th>block</th>\n",
              "      <th>street_name</th>\n",
              "      <th>storey_range</th>\n",
              "      <th>floor_area_sqm</th>\n",
              "      <th>flat_model</th>\n",
              "      <th>lease_commence_date</th>\n",
              "      <th>remaining_lease</th>\n",
              "      <th>resale_price</th>\n",
              "      <th>date</th>\n",
              "      <th>year</th>\n",
              "    </tr>\n",
              "  </thead>\n",
              "  <tbody>\n",
              "    <tr>\n",
              "      <th>0</th>\n",
              "      <td>1</td>\n",
              "      <td>ANG MO KIO</td>\n",
              "      <td>2 ROOM</td>\n",
              "      <td>406</td>\n",
              "      <td>ANG MO KIO AVE 10</td>\n",
              "      <td>10 TO 12</td>\n",
              "      <td>44.0</td>\n",
              "      <td>Improved</td>\n",
              "      <td>1979</td>\n",
              "      <td>61</td>\n",
              "      <td>232000.0</td>\n",
              "      <td>2017-01-01</td>\n",
              "      <td>2017</td>\n",
              "    </tr>\n",
              "    <tr>\n",
              "      <th>1</th>\n",
              "      <td>1</td>\n",
              "      <td>ANG MO KIO</td>\n",
              "      <td>3 ROOM</td>\n",
              "      <td>108</td>\n",
              "      <td>ANG MO KIO AVE 4</td>\n",
              "      <td>01 TO 03</td>\n",
              "      <td>67.0</td>\n",
              "      <td>New Generation</td>\n",
              "      <td>1978</td>\n",
              "      <td>60</td>\n",
              "      <td>250000.0</td>\n",
              "      <td>2017-01-01</td>\n",
              "      <td>2017</td>\n",
              "    </tr>\n",
              "    <tr>\n",
              "      <th>2</th>\n",
              "      <td>1</td>\n",
              "      <td>ANG MO KIO</td>\n",
              "      <td>3 ROOM</td>\n",
              "      <td>602</td>\n",
              "      <td>ANG MO KIO AVE 5</td>\n",
              "      <td>01 TO 03</td>\n",
              "      <td>67.0</td>\n",
              "      <td>New Generation</td>\n",
              "      <td>1980</td>\n",
              "      <td>62</td>\n",
              "      <td>262000.0</td>\n",
              "      <td>2017-01-01</td>\n",
              "      <td>2017</td>\n",
              "    </tr>\n",
              "    <tr>\n",
              "      <th>3</th>\n",
              "      <td>1</td>\n",
              "      <td>ANG MO KIO</td>\n",
              "      <td>3 ROOM</td>\n",
              "      <td>465</td>\n",
              "      <td>ANG MO KIO AVE 10</td>\n",
              "      <td>04 TO 06</td>\n",
              "      <td>68.0</td>\n",
              "      <td>New Generation</td>\n",
              "      <td>1980</td>\n",
              "      <td>62</td>\n",
              "      <td>265000.0</td>\n",
              "      <td>2017-01-01</td>\n",
              "      <td>2017</td>\n",
              "    </tr>\n",
              "    <tr>\n",
              "      <th>4</th>\n",
              "      <td>1</td>\n",
              "      <td>ANG MO KIO</td>\n",
              "      <td>3 ROOM</td>\n",
              "      <td>601</td>\n",
              "      <td>ANG MO KIO AVE 5</td>\n",
              "      <td>01 TO 03</td>\n",
              "      <td>67.0</td>\n",
              "      <td>New Generation</td>\n",
              "      <td>1980</td>\n",
              "      <td>62</td>\n",
              "      <td>265000.0</td>\n",
              "      <td>2017-01-01</td>\n",
              "      <td>2017</td>\n",
              "    </tr>\n",
              "  </tbody>\n",
              "</table>\n",
              "</div>"
            ],
            "text/plain": [
              "   month        town flat_type  ... resale_price       date  year\n",
              "0      1  ANG MO KIO    2 ROOM  ...     232000.0 2017-01-01  2017\n",
              "1      1  ANG MO KIO    3 ROOM  ...     250000.0 2017-01-01  2017\n",
              "2      1  ANG MO KIO    3 ROOM  ...     262000.0 2017-01-01  2017\n",
              "3      1  ANG MO KIO    3 ROOM  ...     265000.0 2017-01-01  2017\n",
              "4      1  ANG MO KIO    3 ROOM  ...     265000.0 2017-01-01  2017\n",
              "\n",
              "[5 rows x 13 columns]"
            ]
          },
          "metadata": {
            "tags": []
          },
          "execution_count": 9
        }
      ]
    },
    {
      "cell_type": "code",
      "metadata": {
        "id": "XSok6aemZp-6",
        "outputId": "6cb0c71b-5704-4f4a-f4c1-74eeff70e5a2",
        "colab": {
          "base_uri": "https://localhost:8080/",
          "height": 52
        }
      },
      "source": [
        "# check if there are any Null values\n",
        "#dataframe.isnull().sum()\n",
        "\n",
        "# drop some unnecessary columns\n",
        "dataframe = dataframe.drop('date',axis=1)\n",
        "'''\n",
        "dataframe = dataframe.drop('block',axis=1)\n",
        "dataframe = dataframe.drop('lease_commence_date',axis=1)\n",
        "dataframe = dataframe.drop('month',axis=1)\n",
        "dataframe = dataframe.drop('street_name',axis=1)\n",
        "dataframe = dataframe.drop('flat_model',axis=1)\n",
        "'''\n",
        "\n",
        "\n",
        "\n",
        "\n",
        "\n"
      ],
      "execution_count": 10,
      "outputs": [
        {
          "output_type": "execute_result",
          "data": {
            "application/vnd.google.colaboratory.intrinsic+json": {
              "type": "string"
            },
            "text/plain": [
              "\"\\ndataframe = dataframe.drop('block',axis=1)\\ndataframe = dataframe.drop('lease_commence_date',axis=1)\\ndataframe = dataframe.drop('month',axis=1)\\ndataframe = dataframe.drop('street_name',axis=1)\\ndataframe = dataframe.drop('flat_model',axis=1)\\n\""
            ]
          },
          "metadata": {
            "tags": []
          },
          "execution_count": 10
        }
      ]
    },
    {
      "cell_type": "markdown",
      "metadata": {
        "id": "4kAbWZA4aXCr"
      },
      "source": [
        "# Data Split"
      ]
    },
    {
      "cell_type": "code",
      "metadata": {
        "id": "sd4bkIREaWdV"
      },
      "source": [
        "#X = dataframe.drop('resale_price',axis =1).values\n",
        "#y = dataframe['resale_price'].values\n",
        "\n",
        "X = dataframe.drop('resale_price',axis =1)\n",
        "y = dataframe['resale_price']\n",
        "\n"
      ],
      "execution_count": 11,
      "outputs": []
    },
    {
      "cell_type": "code",
      "metadata": {
        "id": "8z8EtJ26b-kv"
      },
      "source": [
        "### label encode the categorical values and convert them to numbers \n",
        "le = LabelEncoder()\n",
        "\n",
        "X['town']= le.fit_transform(X['town'].astype(str))\n",
        "\n",
        "X['flat_type'] = le.fit_transform(X['flat_type'].astype(str))\n",
        "\n",
        "X['street_name'] = le.fit_transform(X['street_name'].astype(str))\n",
        "\n",
        "X['storey_range'] = le.fit_transform(X['storey_range'].astype(str))\n",
        "\n",
        "X['flat_model'] = le.fit_transform(X['flat_model'].astype(str))\n",
        "\n",
        "X['block'] = le.fit_transform(X['block'].astype(str))\n"
      ],
      "execution_count": 12,
      "outputs": []
    },
    {
      "cell_type": "code",
      "metadata": {
        "id": "iJt0ec62uUrQ"
      },
      "source": [
        "X=X.values\n",
        "y=y.values"
      ],
      "execution_count": 13,
      "outputs": []
    },
    {
      "cell_type": "code",
      "metadata": {
        "id": "bN047MfapYPL"
      },
      "source": [
        "#splitting Train and Test \n",
        "from sklearn.model_selection import train_test_split\n",
        "X_train, X_test, y_train, y_test = train_test_split(X, y, test_size=0.2, random_state=101)"
      ],
      "execution_count": 14,
      "outputs": []
    },
    {
      "cell_type": "markdown",
      "metadata": {
        "id": "_vdqRRZ5w9Np"
      },
      "source": [
        "Model 1"
      ]
    },
    {
      "cell_type": "code",
      "metadata": {
        "id": "fC1xzGrNaplB"
      },
      "source": [
        "#standardization scaler - fit&transform on train, fit only on test\n",
        "\n",
        "s_scaler = StandardScaler()\n",
        "X_train = s_scaler.fit_transform(X_train.astype(np.float))\n",
        "X_test = s_scaler.transform(X_test.astype(np.float))\n"
      ],
      "execution_count": 15,
      "outputs": []
    },
    {
      "cell_type": "code",
      "metadata": {
        "id": "92nWzIlCjbVu",
        "outputId": "a94de3a0-6498-49e8-a052-e5a1391e8c0a",
        "colab": {
          "base_uri": "https://localhost:8080/",
          "height": 458
        }
      },
      "source": [
        "# Multiple Liner Regression\n",
        "from sklearn.linear_model import LinearRegression\n",
        "regressor = LinearRegression()  \n",
        "regressor.fit(X_train, y_train)\n",
        "#evaluate the model (intercept and slope)\n",
        "print(regressor.intercept_)\n",
        "print(regressor.coef_)\n",
        "#predicting the test set result\n",
        "y_pred = regressor.predict(X_test)\n",
        "#put results as a DataFrame\n",
        "coeff_df = pd.DataFrame(regressor.coef_, dataframe.drop('resale_price',axis =1).columns, columns=['Coefficient']) \n",
        "coeff_df"
      ],
      "execution_count": 16,
      "outputs": [
        {
          "output_type": "stream",
          "text": [
            "438566.8391174016\n",
            "[ -3200.21013301 -28534.19812663  28096.81317528 -14231.14648161\n",
            "   7519.07076957  45389.13163437  67119.17464654  -2810.10339416\n",
            " 114735.00531432 -89262.44659329 -10702.21096438]\n"
          ],
          "name": "stdout"
        },
        {
          "output_type": "execute_result",
          "data": {
            "text/html": [
              "<div>\n",
              "<style scoped>\n",
              "    .dataframe tbody tr th:only-of-type {\n",
              "        vertical-align: middle;\n",
              "    }\n",
              "\n",
              "    .dataframe tbody tr th {\n",
              "        vertical-align: top;\n",
              "    }\n",
              "\n",
              "    .dataframe thead th {\n",
              "        text-align: right;\n",
              "    }\n",
              "</style>\n",
              "<table border=\"1\" class=\"dataframe\">\n",
              "  <thead>\n",
              "    <tr style=\"text-align: right;\">\n",
              "      <th></th>\n",
              "      <th>Coefficient</th>\n",
              "    </tr>\n",
              "  </thead>\n",
              "  <tbody>\n",
              "    <tr>\n",
              "      <th>month</th>\n",
              "      <td>-3200.210133</td>\n",
              "    </tr>\n",
              "    <tr>\n",
              "      <th>town</th>\n",
              "      <td>-28534.198127</td>\n",
              "    </tr>\n",
              "    <tr>\n",
              "      <th>flat_type</th>\n",
              "      <td>28096.813175</td>\n",
              "    </tr>\n",
              "    <tr>\n",
              "      <th>block</th>\n",
              "      <td>-14231.146482</td>\n",
              "    </tr>\n",
              "    <tr>\n",
              "      <th>street_name</th>\n",
              "      <td>7519.070770</td>\n",
              "    </tr>\n",
              "    <tr>\n",
              "      <th>storey_range</th>\n",
              "      <td>45389.131634</td>\n",
              "    </tr>\n",
              "    <tr>\n",
              "      <th>floor_area_sqm</th>\n",
              "      <td>67119.174647</td>\n",
              "    </tr>\n",
              "    <tr>\n",
              "      <th>flat_model</th>\n",
              "      <td>-2810.103394</td>\n",
              "    </tr>\n",
              "    <tr>\n",
              "      <th>lease_commence_date</th>\n",
              "      <td>114735.005314</td>\n",
              "    </tr>\n",
              "    <tr>\n",
              "      <th>remaining_lease</th>\n",
              "      <td>-89262.446593</td>\n",
              "    </tr>\n",
              "    <tr>\n",
              "      <th>year</th>\n",
              "      <td>-10702.210964</td>\n",
              "    </tr>\n",
              "  </tbody>\n",
              "</table>\n",
              "</div>"
            ],
            "text/plain": [
              "                       Coefficient\n",
              "month                 -3200.210133\n",
              "town                 -28534.198127\n",
              "flat_type             28096.813175\n",
              "block                -14231.146482\n",
              "street_name            7519.070770\n",
              "storey_range          45389.131634\n",
              "floor_area_sqm        67119.174647\n",
              "flat_model            -2810.103394\n",
              "lease_commence_date  114735.005314\n",
              "remaining_lease      -89262.446593\n",
              "year                 -10702.210964"
            ]
          },
          "metadata": {
            "tags": []
          },
          "execution_count": 16
        }
      ]
    },
    {
      "cell_type": "code",
      "metadata": {
        "id": "wBZq4DIAjknU",
        "outputId": "1b1cd783-0d18-4efd-b3d7-9c9ba9066857",
        "colab": {
          "base_uri": "https://localhost:8080/",
          "height": 402
        }
      },
      "source": [
        "# visualizing residuals\n",
        "fig = plt.figure(figsize=(10,5))\n",
        "residuals = (y_test- y_pred)\n",
        "sns.distplot(residuals)"
      ],
      "execution_count": 17,
      "outputs": [
        {
          "output_type": "stream",
          "text": [
            "/usr/local/lib/python3.6/dist-packages/seaborn/distributions.py:2551: FutureWarning: `distplot` is a deprecated function and will be removed in a future version. Please adapt your code to use either `displot` (a figure-level function with similar flexibility) or `histplot` (an axes-level function for histograms).\n",
            "  warnings.warn(msg, FutureWarning)\n"
          ],
          "name": "stderr"
        },
        {
          "output_type": "execute_result",
          "data": {
            "text/plain": [
              "<matplotlib.axes._subplots.AxesSubplot at 0x7fcb3923b518>"
            ]
          },
          "metadata": {
            "tags": []
          },
          "execution_count": 17
        },
        {
          "output_type": "display_data",
          "data": {
            "image/png": "[encoded data removed]",
            "text/plain": [
              "<Figure size 720x360 with 1 Axes>"
            ]
          },
          "metadata": {
            "tags": [],
            "needs_background": "light"
          }
        }
      ]
    },
    {
      "cell_type": "code",
      "metadata": {
        "id": "iP6FZyGCjoas",
        "outputId": "e48e9db9-7375-4270-d084-51296aca2a73",
        "colab": {
          "base_uri": "https://localhost:8080/",
          "height": 359
        }
      },
      "source": [
        "#compare actual output values with predicted values\n",
        "y_pred = regressor.predict(X_test)\n",
        "df = pd.DataFrame({'Actual': y_test, 'Predicted': y_pred})\n",
        "df1 = df.head(10)\n",
        "df1\n"
      ],
      "execution_count": 18,
      "outputs": [
        {
          "output_type": "execute_result",
          "data": {
            "text/html": [
              "<div>\n",
              "<style scoped>\n",
              "    .dataframe tbody tr th:only-of-type {\n",
              "        vertical-align: middle;\n",
              "    }\n",
              "\n",
              "    .dataframe tbody tr th {\n",
              "        vertical-align: top;\n",
              "    }\n",
              "\n",
              "    .dataframe thead th {\n",
              "        text-align: right;\n",
              "    }\n",
              "</style>\n",
              "<table border=\"1\" class=\"dataframe\">\n",
              "  <thead>\n",
              "    <tr style=\"text-align: right;\">\n",
              "      <th></th>\n",
              "      <th>Actual</th>\n",
              "      <th>Predicted</th>\n",
              "    </tr>\n",
              "  </thead>\n",
              "  <tbody>\n",
              "    <tr>\n",
              "      <th>0</th>\n",
              "      <td>318000.0</td>\n",
              "      <td>422974.048494</td>\n",
              "    </tr>\n",
              "    <tr>\n",
              "      <th>1</th>\n",
              "      <td>770000.0</td>\n",
              "      <td>523065.652980</td>\n",
              "    </tr>\n",
              "    <tr>\n",
              "      <th>2</th>\n",
              "      <td>851800.0</td>\n",
              "      <td>539307.438685</td>\n",
              "    </tr>\n",
              "    <tr>\n",
              "      <th>3</th>\n",
              "      <td>475000.0</td>\n",
              "      <td>527469.397864</td>\n",
              "    </tr>\n",
              "    <tr>\n",
              "      <th>4</th>\n",
              "      <td>320000.0</td>\n",
              "      <td>358563.530422</td>\n",
              "    </tr>\n",
              "    <tr>\n",
              "      <th>5</th>\n",
              "      <td>305000.0</td>\n",
              "      <td>351953.578110</td>\n",
              "    </tr>\n",
              "    <tr>\n",
              "      <th>6</th>\n",
              "      <td>460000.0</td>\n",
              "      <td>506696.465512</td>\n",
              "    </tr>\n",
              "    <tr>\n",
              "      <th>7</th>\n",
              "      <td>470000.0</td>\n",
              "      <td>428566.985725</td>\n",
              "    </tr>\n",
              "    <tr>\n",
              "      <th>8</th>\n",
              "      <td>468000.0</td>\n",
              "      <td>690691.046654</td>\n",
              "    </tr>\n",
              "    <tr>\n",
              "      <th>9</th>\n",
              "      <td>340000.0</td>\n",
              "      <td>521952.539939</td>\n",
              "    </tr>\n",
              "  </tbody>\n",
              "</table>\n",
              "</div>"
            ],
            "text/plain": [
              "     Actual      Predicted\n",
              "0  318000.0  422974.048494\n",
              "1  770000.0  523065.652980\n",
              "2  851800.0  539307.438685\n",
              "3  475000.0  527469.397864\n",
              "4  320000.0  358563.530422\n",
              "5  305000.0  351953.578110\n",
              "6  460000.0  506696.465512\n",
              "7  470000.0  428566.985725\n",
              "8  468000.0  690691.046654\n",
              "9  340000.0  521952.539939"
            ]
          },
          "metadata": {
            "tags": []
          },
          "execution_count": 18
        }
      ]
    },
    {
      "cell_type": "code",
      "metadata": {
        "id": "w9vLUJwv7EsR",
        "outputId": "19755fc4-e369-4a5e-9814-275577a04d85",
        "colab": {
          "base_uri": "https://localhost:8080/",
          "height": 34
        }
      },
      "source": [
        "print(y_test)"
      ],
      "execution_count": 19,
      "outputs": [
        {
          "output_type": "stream",
          "text": [
            "[318000. 770000. 851800. ... 388000. 520000. 465000.]\n"
          ],
          "name": "stdout"
        }
      ]
    },
    {
      "cell_type": "code",
      "metadata": {
        "id": "Z7-QqN3gvQcC",
        "outputId": "91908bff-55f4-40eb-f47f-45c39bba5ac6",
        "colab": {
          "base_uri": "https://localhost:8080/",
          "height": 85
        }
      },
      "source": [
        "# evaluate the performance of the algorithm (MAE - MSE - RMSE)\n",
        "from sklearn import metrics\n",
        "print('MAE:', metrics.mean_absolute_error(y_test, y_pred))  \n",
        "print('MSE:', metrics.mean_squared_error(y_test, y_pred))  \n",
        "print('RMSE:', np.sqrt(metrics.mean_squared_error(y_test, y_pred)))\n",
        "print('VarScore:',metrics.explained_variance_score(y_test,y_pred))"
      ],
      "execution_count": 20,
      "outputs": [
        {
          "output_type": "stream",
          "text": [
            "MAE: 74161.70907729944\n",
            "MSE: 9833647410.134441\n",
            "RMSE: 99164.74882807117\n",
            "VarScore: 0.5831967030325731\n"
          ],
          "name": "stdout"
        }
      ]
    },
    {
      "cell_type": "markdown",
      "metadata": {
        "id": "swPahS1wwxnN"
      },
      "source": [
        "# Model 2"
      ]
    },
    {
      "cell_type": "code",
      "metadata": {
        "id": "TiWCiD1Fw_D0"
      },
      "source": [
        "# Creating a Neural Network Model\n",
        "from tensorflow.keras.models import Sequential\n",
        "from tensorflow.keras.layers import Dense, Activation\n",
        "from tensorflow.keras.optimizers import Adam"
      ],
      "execution_count": 21,
      "outputs": []
    },
    {
      "cell_type": "code",
      "metadata": {
        "id": "QoU6INMfxDPH"
      },
      "source": [
        "# having 19 neuron is based on the number of available features\n",
        "model = Sequential()\n",
        "model.add(Dense(19,activation='relu'))\n",
        "model.add(Dense(19,activation='relu'))\n",
        "model.add(Dense(19,activation='relu'))\n",
        "model.add(Dense(19,activation='relu'))\n",
        "model.add(Dense(1))\n",
        "model.compile(optimizer='Adam',loss='mse')"
      ],
      "execution_count": 22,
      "outputs": []
    },
    {
      "cell_type": "code",
      "metadata": {
        "id": "XDmYDa6nxF4L",
        "outputId": "22df0840-18b2-49ed-ac0b-c8a5e0f34ec3",
        "colab": {
          "base_uri": "https://localhost:8080/",
          "height": 1000
        }
      },
      "source": [
        "model.fit(x=X_train,y=y_train,\n",
        "          validation_data=(X_test,y_test),\n",
        "          batch_size=128,epochs=400)\n",
        "model.summary()"
      ],
      "execution_count": 23,
      "outputs": [
        {
          "output_type": "stream",
          "text": [
            "Epoch 1/400\n",
            "487/487 [==============================] - 1s 2ms/step - loss: 211930233268.4590 - val_loss: 96763641856.0000\n",
            "Epoch 2/400\n",
            "487/487 [==============================] - 1s 1ms/step - loss: 48590050774.0328 - val_loss: 15769987072.0000\n",
            "Epoch 3/400\n",
            "487/487 [==============================] - 1s 1ms/step - loss: 14959421299.4098 - val_loss: 12168677376.0000\n",
            "Epoch 4/400\n",
            "487/487 [==============================] - 1s 1ms/step - loss: 11587349084.3279 - val_loss: 10710591488.0000\n",
            "Epoch 5/400\n",
            "487/487 [==============================] - 1s 1ms/step - loss: 10653468871.3443 - val_loss: 9999424512.0000\n",
            "Epoch 6/400\n",
            "487/487 [==============================] - 1s 1ms/step - loss: 9869440392.3934 - val_loss: 9575003136.0000\n",
            "Epoch 7/400\n",
            "487/487 [==============================] - 1s 1ms/step - loss: 9603399476.4590 - val_loss: 9277521920.0000\n",
            "Epoch 8/400\n",
            "487/487 [==============================] - 1s 1ms/step - loss: 9367574435.6721 - val_loss: 9060956160.0000\n",
            "Epoch 9/400\n",
            "487/487 [==============================] - 1s 1ms/step - loss: 9054751412.4590 - val_loss: 8911852544.0000\n",
            "Epoch 10/400\n",
            "487/487 [==============================] - 1s 1ms/step - loss: 8976863096.6557 - val_loss: 8799684608.0000\n",
            "Epoch 11/400\n",
            "487/487 [==============================] - 1s 1ms/step - loss: 8937415834.2295 - val_loss: 8720135168.0000\n",
            "Epoch 12/400\n",
            "487/487 [==============================] - 1s 1ms/step - loss: 8746705417.4426 - val_loss: 8648905728.0000\n",
            "Epoch 13/400\n",
            "487/487 [==============================] - 1s 1ms/step - loss: 8703553854.9508 - val_loss: 8586942464.0000\n",
            "Epoch 14/400\n",
            "487/487 [==============================] - 1s 1ms/step - loss: 8794598729.4426 - val_loss: 8545339904.0000\n",
            "Epoch 15/400\n",
            "487/487 [==============================] - 1s 1ms/step - loss: 8536000097.5738 - val_loss: 8490582016.0000\n",
            "Epoch 16/400\n",
            "487/487 [==============================] - 1s 1ms/step - loss: 8461127160.6557 - val_loss: 8452530176.0000\n",
            "Epoch 17/400\n",
            "487/487 [==============================] - 1s 1ms/step - loss: 8522435716.1967 - val_loss: 8411318784.0000\n",
            "Epoch 18/400\n",
            "487/487 [==============================] - 1s 1ms/step - loss: 8587411431.8689 - val_loss: 8377568768.0000\n",
            "Epoch 19/400\n",
            "487/487 [==============================] - 1s 1ms/step - loss: 8540079524.7213 - val_loss: 8356229120.0000\n",
            "Epoch 20/400\n",
            "487/487 [==============================] - 1s 1ms/step - loss: 8432502740.9836 - val_loss: 8331257344.0000\n",
            "Epoch 21/400\n",
            "487/487 [==============================] - 1s 1ms/step - loss: 8463959349.5082 - val_loss: 8295579136.0000\n",
            "Epoch 22/400\n",
            "487/487 [==============================] - 1s 1ms/step - loss: 8355357405.3770 - val_loss: 8276102144.0000\n",
            "Epoch 23/400\n",
            "487/487 [==============================] - 1s 1ms/step - loss: 8395659371.0164 - val_loss: 8250329600.0000\n",
            "Epoch 24/400\n",
            "487/487 [==============================] - 1s 1ms/step - loss: 8347303925.5082 - val_loss: 8225620992.0000\n",
            "Epoch 25/400\n",
            "487/487 [==============================] - 1s 1ms/step - loss: 8309056683.0164 - val_loss: 8214163456.0000\n",
            "Epoch 26/400\n",
            "487/487 [==============================] - 1s 1ms/step - loss: 8403593811.9344 - val_loss: 8192365568.0000\n",
            "Epoch 27/400\n",
            "487/487 [==============================] - 1s 1ms/step - loss: 8202826941.9016 - val_loss: 8174680064.0000\n",
            "Epoch 28/400\n",
            "487/487 [==============================] - 1s 1ms/step - loss: 8238709149.3770 - val_loss: 8158665728.0000\n",
            "Epoch 29/400\n",
            "487/487 [==============================] - 1s 1ms/step - loss: 8186798024.3934 - val_loss: 8145608704.0000\n",
            "Epoch 30/400\n",
            "487/487 [==============================] - 1s 1ms/step - loss: 8170095620.1967 - val_loss: 8125364736.0000\n",
            "Epoch 31/400\n",
            "487/487 [==============================] - 1s 1ms/step - loss: 8212575017.9672 - val_loss: 8120472576.0000\n",
            "Epoch 32/400\n",
            "487/487 [==============================] - 1s 1ms/step - loss: 8204973578.4918 - val_loss: 8097136128.0000\n",
            "Epoch 33/400\n",
            "487/487 [==============================] - 1s 1ms/step - loss: 8068038996.9836 - val_loss: 8086803456.0000\n",
            "Epoch 34/400\n",
            "487/487 [==============================] - 1s 1ms/step - loss: 8099214499.6721 - val_loss: 8099993600.0000\n",
            "Epoch 35/400\n",
            "487/487 [==============================] - 1s 1ms/step - loss: 8075775881.4426 - val_loss: 8055990272.0000\n",
            "Epoch 36/400\n",
            "487/487 [==============================] - 1s 1ms/step - loss: 8160368103.8689 - val_loss: 8053328384.0000\n",
            "Epoch 37/400\n",
            "487/487 [==============================] - 1s 1ms/step - loss: 8104182664.3934 - val_loss: 8027991552.0000\n",
            "Epoch 38/400\n",
            "487/487 [==============================] - 1s 1ms/step - loss: 8129204523.0164 - val_loss: 8020294656.0000\n",
            "Epoch 39/400\n",
            "487/487 [==============================] - 1s 1ms/step - loss: 8204166224.7869 - val_loss: 8018902016.0000\n",
            "Epoch 40/400\n",
            "487/487 [==============================] - 1s 1ms/step - loss: 8066669006.6885 - val_loss: 8010501632.0000\n",
            "Epoch 41/400\n",
            "487/487 [==============================] - 1s 1ms/step - loss: 8005055482.7541 - val_loss: 7995225600.0000\n",
            "Epoch 42/400\n",
            "487/487 [==============================] - 1s 1ms/step - loss: 8046040706.0984 - val_loss: 7990508032.0000\n",
            "Epoch 43/400\n",
            "487/487 [==============================] - 1s 1ms/step - loss: 8079631375.7377 - val_loss: 7979367424.0000\n",
            "Epoch 44/400\n",
            "487/487 [==============================] - 1s 1ms/step - loss: 8096516482.0984 - val_loss: 7961624064.0000\n",
            "Epoch 45/400\n",
            "487/487 [==============================] - 1s 1ms/step - loss: 7896431474.3607 - val_loss: 7968002560.0000\n",
            "Epoch 46/400\n",
            "487/487 [==============================] - 1s 1ms/step - loss: 8016147637.5082 - val_loss: 7957612544.0000\n",
            "Epoch 47/400\n",
            "487/487 [==============================] - 1s 1ms/step - loss: 7923716170.4918 - val_loss: 7937275904.0000\n",
            "Epoch 48/400\n",
            "487/487 [==============================] - 1s 1ms/step - loss: 7950478918.2951 - val_loss: 7928070656.0000\n",
            "Epoch 49/400\n",
            "487/487 [==============================] - 1s 1ms/step - loss: 8020159790.1639 - val_loss: 7920121856.0000\n",
            "Epoch 50/400\n",
            "487/487 [==============================] - 1s 1ms/step - loss: 7945153823.4754 - val_loss: 7936765440.0000\n",
            "Epoch 51/400\n",
            "487/487 [==============================] - 1s 1ms/step - loss: 7851304300.0656 - val_loss: 7922108928.0000\n",
            "Epoch 52/400\n",
            "487/487 [==============================] - 1s 1ms/step - loss: 7871451826.3607 - val_loss: 7896299008.0000\n",
            "Epoch 53/400\n",
            "487/487 [==============================] - 1s 1ms/step - loss: 7899677340.3279 - val_loss: 7883196928.0000\n",
            "Epoch 54/400\n",
            "487/487 [==============================] - 1s 1ms/step - loss: 7896549993.9672 - val_loss: 7874200064.0000\n",
            "Epoch 55/400\n",
            "487/487 [==============================] - 1s 1ms/step - loss: 7840390431.4754 - val_loss: 7858414080.0000\n",
            "Epoch 56/400\n",
            "487/487 [==============================] - 1s 1ms/step - loss: 7863817612.5902 - val_loss: 7861841920.0000\n",
            "Epoch 57/400\n",
            "487/487 [==============================] - 1s 1ms/step - loss: 7825107427.6721 - val_loss: 7845530624.0000\n",
            "Epoch 58/400\n",
            "487/487 [==============================] - 1s 1ms/step - loss: 7756203764.4590 - val_loss: 7840899072.0000\n",
            "Epoch 59/400\n",
            "487/487 [==============================] - 1s 1ms/step - loss: 7829988106.4918 - val_loss: 7841059840.0000\n",
            "Epoch 60/400\n",
            "487/487 [==============================] - 1s 1ms/step - loss: 7828565680.2623 - val_loss: 7828923904.0000\n",
            "Epoch 61/400\n",
            "487/487 [==============================] - 1s 1ms/step - loss: 7834766064.2623 - val_loss: 7814521856.0000\n",
            "Epoch 62/400\n",
            "487/487 [==============================] - 1s 1ms/step - loss: 7909563268.1967 - val_loss: 7833406976.0000\n",
            "Epoch 63/400\n",
            "487/487 [==============================] - 1s 1ms/step - loss: 7847556926.9508 - val_loss: 7805026304.0000\n",
            "Epoch 64/400\n",
            "487/487 [==============================] - 1s 1ms/step - loss: 7758565529.1803 - val_loss: 7812726784.0000\n",
            "Epoch 65/400\n",
            "487/487 [==============================] - 1s 1ms/step - loss: 7773844670.9508 - val_loss: 7798870528.0000\n",
            "Epoch 66/400\n",
            "487/487 [==============================] - 1s 1ms/step - loss: 7836081445.7705 - val_loss: 7798957056.0000\n",
            "Epoch 67/400\n",
            "487/487 [==============================] - 1s 1ms/step - loss: 7817834278.8197 - val_loss: 7848246272.0000\n",
            "Epoch 68/400\n",
            "487/487 [==============================] - 1s 1ms/step - loss: 7760061788.3279 - val_loss: 7794573312.0000\n",
            "Epoch 69/400\n",
            "487/487 [==============================] - 1s 1ms/step - loss: 7757648919.0820 - val_loss: 7790391296.0000\n",
            "Epoch 70/400\n",
            "487/487 [==============================] - 1s 1ms/step - loss: 7845171048.9180 - val_loss: 7811868160.0000\n",
            "Epoch 71/400\n",
            "487/487 [==============================] - 1s 1ms/step - loss: 7764752026.2295 - val_loss: 7770067456.0000\n",
            "Epoch 72/400\n",
            "487/487 [==============================] - 1s 1ms/step - loss: 7831726035.9344 - val_loss: 7772512768.0000\n",
            "Epoch 73/400\n",
            "487/487 [==============================] - 1s 1ms/step - loss: 7751319222.5574 - val_loss: 7739603456.0000\n",
            "Epoch 74/400\n",
            "487/487 [==============================] - 1s 1ms/step - loss: 7782293868.0656 - val_loss: 7727898624.0000\n",
            "Epoch 75/400\n",
            "487/487 [==============================] - 1s 1ms/step - loss: 7705210631.3443 - val_loss: 7712913408.0000\n",
            "Epoch 76/400\n",
            "487/487 [==============================] - 1s 1ms/step - loss: 7690874492.8525 - val_loss: 7731582464.0000\n",
            "Epoch 77/400\n",
            "487/487 [==============================] - 1s 1ms/step - loss: 7657280115.4098 - val_loss: 7686298624.0000\n",
            "Epoch 78/400\n",
            "487/487 [==============================] - 1s 1ms/step - loss: 7689594787.6721 - val_loss: 7668855296.0000\n",
            "Epoch 79/400\n",
            "487/487 [==============================] - 1s 1ms/step - loss: 7739084116.9836 - val_loss: 7701480448.0000\n",
            "Epoch 80/400\n",
            "487/487 [==============================] - 1s 1ms/step - loss: 7645408294.8197 - val_loss: 7674059776.0000\n",
            "Epoch 81/400\n",
            "487/487 [==============================] - 1s 1ms/step - loss: 7612851535.7377 - val_loss: 7645670912.0000\n",
            "Epoch 82/400\n",
            "487/487 [==============================] - 1s 1ms/step - loss: 7615503998.9508 - val_loss: 7594545152.0000\n",
            "Epoch 83/400\n",
            "487/487 [==============================] - 1s 1ms/step - loss: 7638543752.3934 - val_loss: 7583004160.0000\n",
            "Epoch 84/400\n",
            "487/487 [==============================] - 1s 1ms/step - loss: 7512739829.5082 - val_loss: 7567429632.0000\n",
            "Epoch 85/400\n",
            "487/487 [==============================] - 1s 1ms/step - loss: 7515547469.6393 - val_loss: 7540403712.0000\n",
            "Epoch 86/400\n",
            "487/487 [==============================] - 1s 1ms/step - loss: 7623038940.3279 - val_loss: 7536507392.0000\n",
            "Epoch 87/400\n",
            "487/487 [==============================] - 1s 1ms/step - loss: 7566068060.3279 - val_loss: 7526585344.0000\n",
            "Epoch 88/400\n",
            "487/487 [==============================] - 1s 1ms/step - loss: 7366910778.7541 - val_loss: 7488078848.0000\n",
            "Epoch 89/400\n",
            "487/487 [==============================] - 1s 1ms/step - loss: 7454762499.1475 - val_loss: 7460608000.0000\n",
            "Epoch 90/400\n",
            "487/487 [==============================] - 1s 1ms/step - loss: 7377579188.4590 - val_loss: 7450854912.0000\n",
            "Epoch 91/400\n",
            "487/487 [==============================] - 1s 1ms/step - loss: 7336334276.1967 - val_loss: 7408921600.0000\n",
            "Epoch 92/400\n",
            "487/487 [==============================] - 1s 1ms/step - loss: 7556106527.4754 - val_loss: 7443077120.0000\n",
            "Epoch 93/400\n",
            "487/487 [==============================] - 1s 1ms/step - loss: 7398744544.5246 - val_loss: 7366829568.0000\n",
            "Epoch 94/400\n",
            "487/487 [==============================] - 1s 1ms/step - loss: 7303524049.8361 - val_loss: 7355711488.0000\n",
            "Epoch 95/400\n",
            "487/487 [==============================] - 1s 1ms/step - loss: 7327003015.3443 - val_loss: 7326279168.0000\n",
            "Epoch 96/400\n",
            "487/487 [==============================] - 1s 1ms/step - loss: 7240006179.6721 - val_loss: 7295746560.0000\n",
            "Epoch 97/400\n",
            "487/487 [==============================] - 1s 1ms/step - loss: 7230952862.4262 - val_loss: 7266448896.0000\n",
            "Epoch 98/400\n",
            "487/487 [==============================] - 1s 1ms/step - loss: 7217266619.8033 - val_loss: 7251564544.0000\n",
            "Epoch 99/400\n",
            "487/487 [==============================] - 1s 1ms/step - loss: 7180918216.3934 - val_loss: 7232272896.0000\n",
            "Epoch 100/400\n",
            "487/487 [==============================] - 1s 1ms/step - loss: 7177319540.4590 - val_loss: 7216494592.0000\n",
            "Epoch 101/400\n",
            "487/487 [==============================] - 1s 1ms/step - loss: 7172394254.6885 - val_loss: 7175426560.0000\n",
            "Epoch 102/400\n",
            "487/487 [==============================] - 1s 1ms/step - loss: 7159264033.5738 - val_loss: 7151507456.0000\n",
            "Epoch 103/400\n",
            "487/487 [==============================] - 1s 1ms/step - loss: 7072993323.0164 - val_loss: 7130287104.0000\n",
            "Epoch 104/400\n",
            "487/487 [==============================] - 1s 1ms/step - loss: 7060358135.6066 - val_loss: 7105036288.0000\n",
            "Epoch 105/400\n",
            "487/487 [==============================] - 1s 1ms/step - loss: 7136976487.8689 - val_loss: 7080666112.0000\n",
            "Epoch 106/400\n",
            "487/487 [==============================] - 1s 1ms/step - loss: 7075012576.5246 - val_loss: 7056774144.0000\n",
            "Epoch 107/400\n",
            "487/487 [==============================] - 1s 1ms/step - loss: 6978232335.7377 - val_loss: 7049753088.0000\n",
            "Epoch 108/400\n",
            "487/487 [==============================] - 1s 1ms/step - loss: 7070418017.5738 - val_loss: 7019076096.0000\n",
            "Epoch 109/400\n",
            "487/487 [==============================] - 1s 1ms/step - loss: 7163272927.4754 - val_loss: 7009691136.0000\n",
            "Epoch 110/400\n",
            "487/487 [==============================] - 1s 1ms/step - loss: 7010039020.0656 - val_loss: 7013315072.0000\n",
            "Epoch 111/400\n",
            "487/487 [==============================] - 1s 1ms/step - loss: 6831359261.3770 - val_loss: 6966865920.0000\n",
            "Epoch 112/400\n",
            "487/487 [==============================] - 1s 1ms/step - loss: 6961973445.2459 - val_loss: 6936756736.0000\n",
            "Epoch 113/400\n",
            "487/487 [==============================] - 1s 1ms/step - loss: 6873622134.5574 - val_loss: 6920217600.0000\n",
            "Epoch 114/400\n",
            "487/487 [==============================] - 1s 1ms/step - loss: 6966988883.9344 - val_loss: 6894797312.0000\n",
            "Epoch 115/400\n",
            "487/487 [==============================] - 1s 1ms/step - loss: 6879965575.3443 - val_loss: 6909103616.0000\n",
            "Epoch 116/400\n",
            "487/487 [==============================] - 1s 1ms/step - loss: 6886768206.6885 - val_loss: 6863377920.0000\n",
            "Epoch 117/400\n",
            "487/487 [==============================] - 1s 1ms/step - loss: 6733721603.1475 - val_loss: 6824972288.0000\n",
            "Epoch 118/400\n",
            "487/487 [==============================] - 1s 1ms/step - loss: 6796570686.9508 - val_loss: 6821223936.0000\n",
            "Epoch 119/400\n",
            "487/487 [==============================] - 1s 1ms/step - loss: 6802692213.5082 - val_loss: 6788832256.0000\n",
            "Epoch 120/400\n",
            "487/487 [==============================] - 1s 1ms/step - loss: 6702306074.2295 - val_loss: 6770509824.0000\n",
            "Epoch 121/400\n",
            "487/487 [==============================] - 1s 1ms/step - loss: 6789769142.5574 - val_loss: 6745445888.0000\n",
            "Epoch 122/400\n",
            "487/487 [==============================] - 1s 1ms/step - loss: 6772683721.4426 - val_loss: 6721726464.0000\n",
            "Epoch 123/400\n",
            "487/487 [==============================] - 1s 1ms/step - loss: 6668019787.5410 - val_loss: 6702990336.0000\n",
            "Epoch 124/400\n",
            "487/487 [==============================] - 1s 1ms/step - loss: 6701914878.9508 - val_loss: 6684525568.0000\n",
            "Epoch 125/400\n",
            "487/487 [==============================] - 1s 1ms/step - loss: 6735107405.6393 - val_loss: 6682571776.0000\n",
            "Epoch 126/400\n",
            "487/487 [==============================] - 1s 1ms/step - loss: 6639050893.6393 - val_loss: 6655657984.0000\n",
            "Epoch 127/400\n",
            "487/487 [==============================] - 1s 1ms/step - loss: 6600182747.2787 - val_loss: 6627340800.0000\n",
            "Epoch 128/400\n",
            "487/487 [==============================] - 1s 1ms/step - loss: 6681072625.3115 - val_loss: 6599441920.0000\n",
            "Epoch 129/400\n",
            "487/487 [==============================] - 1s 1ms/step - loss: 6568972877.6393 - val_loss: 6600217088.0000\n",
            "Epoch 130/400\n",
            "487/487 [==============================] - 1s 1ms/step - loss: 6652335188.9836 - val_loss: 6592316416.0000\n",
            "Epoch 131/400\n",
            "487/487 [==============================] - 1s 1ms/step - loss: 6545768796.3279 - val_loss: 6577944576.0000\n",
            "Epoch 132/400\n",
            "487/487 [==============================] - 1s 1ms/step - loss: 6494748974.1639 - val_loss: 6542977024.0000\n",
            "Epoch 133/400\n",
            "487/487 [==============================] - 1s 1ms/step - loss: 6473342930.8852 - val_loss: 6531340800.0000\n",
            "Epoch 134/400\n",
            "487/487 [==============================] - 1s 1ms/step - loss: 6553483276.5902 - val_loss: 6514505728.0000\n",
            "Epoch 135/400\n",
            "487/487 [==============================] - 1s 1ms/step - loss: 6378382649.7049 - val_loss: 6511178752.0000\n",
            "Epoch 136/400\n",
            "487/487 [==============================] - 1s 1ms/step - loss: 6436672864.5246 - val_loss: 6499091968.0000\n",
            "Epoch 137/400\n",
            "487/487 [==============================] - 1s 1ms/step - loss: 6552892895.4754 - val_loss: 6473266176.0000\n",
            "Epoch 138/400\n",
            "487/487 [==============================] - 1s 1ms/step - loss: 6302620340.4590 - val_loss: 6460226048.0000\n",
            "Epoch 139/400\n",
            "487/487 [==============================] - 1s 1ms/step - loss: 6478048292.7213 - val_loss: 6446670336.0000\n",
            "Epoch 140/400\n",
            "487/487 [==============================] - 1s 1ms/step - loss: 6368521256.9180 - val_loss: 6461372416.0000\n",
            "Epoch 141/400\n",
            "487/487 [==============================] - 1s 1ms/step - loss: 6434488547.6721 - val_loss: 6419642880.0000\n",
            "Epoch 142/400\n",
            "487/487 [==============================] - 1s 1ms/step - loss: 6424566792.3934 - val_loss: 6402004480.0000\n",
            "Epoch 143/400\n",
            "487/487 [==============================] - 1s 1ms/step - loss: 6387279400.9180 - val_loss: 6384605184.0000\n",
            "Epoch 144/400\n",
            "487/487 [==============================] - 1s 1ms/step - loss: 6295112545.5738 - val_loss: 6378561024.0000\n",
            "Epoch 145/400\n",
            "487/487 [==============================] - 1s 1ms/step - loss: 6395392112.2623 - val_loss: 6353664000.0000\n",
            "Epoch 146/400\n",
            "487/487 [==============================] - 1s 1ms/step - loss: 6268936116.4590 - val_loss: 6336619008.0000\n",
            "Epoch 147/400\n",
            "487/487 [==============================] - 1s 1ms/step - loss: 6357957814.5574 - val_loss: 6324274688.0000\n",
            "Epoch 148/400\n",
            "487/487 [==============================] - 1s 1ms/step - loss: 6269731442.3607 - val_loss: 6333690880.0000\n",
            "Epoch 149/400\n",
            "487/487 [==============================] - 1s 1ms/step - loss: 6266977460.4590 - val_loss: 6297774080.0000\n",
            "Epoch 150/400\n",
            "487/487 [==============================] - 1s 1ms/step - loss: 6195259267.1475 - val_loss: 6278919168.0000\n",
            "Epoch 151/400\n",
            "487/487 [==============================] - 1s 1ms/step - loss: 6313279160.6557 - val_loss: 6276289536.0000\n",
            "Epoch 152/400\n",
            "487/487 [==============================] - 1s 1ms/step - loss: 6233159171.1475 - val_loss: 6257054208.0000\n",
            "Epoch 153/400\n",
            "487/487 [==============================] - 1s 1ms/step - loss: 6210522411.0164 - val_loss: 6249814016.0000\n",
            "Epoch 154/400\n",
            "487/487 [==============================] - 1s 1ms/step - loss: 6293013971.9344 - val_loss: 6247247360.0000\n",
            "Epoch 155/400\n",
            "487/487 [==============================] - 1s 1ms/step - loss: 6164334559.4754 - val_loss: 6210591232.0000\n",
            "Epoch 156/400\n",
            "487/487 [==============================] - 1s 1ms/step - loss: 6167833925.2459 - val_loss: 6185634304.0000\n",
            "Epoch 157/400\n",
            "487/487 [==============================] - 1s 1ms/step - loss: 6103502764.0656 - val_loss: 6179267584.0000\n",
            "Epoch 158/400\n",
            "487/487 [==============================] - 1s 1ms/step - loss: 6306285817.7049 - val_loss: 6175481856.0000\n",
            "Epoch 159/400\n",
            "487/487 [==============================] - 1s 1ms/step - loss: 6127414032.7869 - val_loss: 6163878400.0000\n",
            "Epoch 160/400\n",
            "487/487 [==============================] - 1s 1ms/step - loss: 6091840502.5574 - val_loss: 6155051008.0000\n",
            "Epoch 161/400\n",
            "487/487 [==============================] - 1s 1ms/step - loss: 6090926626.6230 - val_loss: 6125275136.0000\n",
            "Epoch 162/400\n",
            "487/487 [==============================] - 1s 1ms/step - loss: 6115524658.3607 - val_loss: 6121658880.0000\n",
            "Epoch 163/400\n",
            "487/487 [==============================] - 1s 1ms/step - loss: 5972255439.7377 - val_loss: 6100314112.0000\n",
            "Epoch 164/400\n",
            "487/487 [==============================] - 1s 1ms/step - loss: 6017724113.8361 - val_loss: 6069826560.0000\n",
            "Epoch 165/400\n",
            "487/487 [==============================] - 1s 1ms/step - loss: 6051007719.8689 - val_loss: 6050013696.0000\n",
            "Epoch 166/400\n",
            "487/487 [==============================] - 1s 1ms/step - loss: 6004948231.3443 - val_loss: 6050032640.0000\n",
            "Epoch 167/400\n",
            "487/487 [==============================] - 1s 1ms/step - loss: 5910810636.5902 - val_loss: 6035190784.0000\n",
            "Epoch 168/400\n",
            "487/487 [==============================] - 1s 1ms/step - loss: 5983777619.9344 - val_loss: 6021198848.0000\n",
            "Epoch 169/400\n",
            "487/487 [==============================] - 1s 1ms/step - loss: 5981024130.0984 - val_loss: 6013167104.0000\n",
            "Epoch 170/400\n",
            "487/487 [==============================] - 1s 1ms/step - loss: 5876678242.6230 - val_loss: 6006996992.0000\n",
            "Epoch 171/400\n",
            "487/487 [==============================] - 1s 1ms/step - loss: 5998806156.5902 - val_loss: 5980468224.0000\n",
            "Epoch 172/400\n",
            "487/487 [==============================] - 1s 1ms/step - loss: 5917431731.4098 - val_loss: 5974025728.0000\n",
            "Epoch 173/400\n",
            "487/487 [==============================] - 1s 1ms/step - loss: 5808988910.1639 - val_loss: 5971820544.0000\n",
            "Epoch 174/400\n",
            "487/487 [==============================] - 1s 1ms/step - loss: 5977320918.0328 - val_loss: 5951220224.0000\n",
            "Epoch 175/400\n",
            "487/487 [==============================] - 1s 1ms/step - loss: 5885468664.6557 - val_loss: 5951311872.0000\n",
            "Epoch 176/400\n",
            "487/487 [==============================] - 1s 1ms/step - loss: 5838417228.5902 - val_loss: 5947971584.0000\n",
            "Epoch 177/400\n",
            "487/487 [==============================] - 1s 1ms/step - loss: 5880863415.6066 - val_loss: 5929130496.0000\n",
            "Epoch 178/400\n",
            "487/487 [==============================] - 1s 1ms/step - loss: 5925017374.4262 - val_loss: 5924797952.0000\n",
            "Epoch 179/400\n",
            "487/487 [==============================] - 1s 1ms/step - loss: 5845325832.3934 - val_loss: 5919065600.0000\n",
            "Epoch 180/400\n",
            "487/487 [==============================] - 1s 1ms/step - loss: 5871779245.1148 - val_loss: 5905862144.0000\n",
            "Epoch 181/400\n",
            "487/487 [==============================] - 1s 1ms/step - loss: 5846038147.1475 - val_loss: 5908967936.0000\n",
            "Epoch 182/400\n",
            "487/487 [==============================] - 1s 1ms/step - loss: 5779795793.8361 - val_loss: 5887063552.0000\n",
            "Epoch 183/400\n",
            "487/487 [==============================] - 1s 1ms/step - loss: 5772295137.5738 - val_loss: 5914413568.0000\n",
            "Epoch 184/400\n",
            "487/487 [==============================] - 1s 1ms/step - loss: 5905608662.0328 - val_loss: 5885754368.0000\n",
            "Epoch 185/400\n",
            "487/487 [==============================] - 1s 1ms/step - loss: 5844670920.3934 - val_loss: 5882667008.0000\n",
            "Epoch 186/400\n",
            "487/487 [==============================] - 1s 1ms/step - loss: 5744350878.4262 - val_loss: 5867793408.0000\n",
            "Epoch 187/400\n",
            "487/487 [==============================] - 1s 1ms/step - loss: 5819412459.0164 - val_loss: 5861737472.0000\n",
            "Epoch 188/400\n",
            "487/487 [==============================] - 1s 1ms/step - loss: 5779512997.7705 - val_loss: 5859240960.0000\n",
            "Epoch 189/400\n",
            "487/487 [==============================] - 1s 1ms/step - loss: 5698294115.6721 - val_loss: 5854005248.0000\n",
            "Epoch 190/400\n",
            "487/487 [==============================] - 1s 1ms/step - loss: 5838564141.1148 - val_loss: 5846579200.0000\n",
            "Epoch 191/400\n",
            "487/487 [==============================] - 1s 1ms/step - loss: 5768892346.7541 - val_loss: 5856134656.0000\n",
            "Epoch 192/400\n",
            "487/487 [==============================] - 1s 1ms/step - loss: 5768017735.3443 - val_loss: 5847772160.0000\n",
            "Epoch 193/400\n",
            "487/487 [==============================] - 1s 1ms/step - loss: 5789249250.6230 - val_loss: 5858902528.0000\n",
            "Epoch 194/400\n",
            "487/487 [==============================] - 1s 1ms/step - loss: 5712577303.0820 - val_loss: 5902545920.0000\n",
            "Epoch 195/400\n",
            "487/487 [==============================] - 1s 1ms/step - loss: 5680511776.5246 - val_loss: 5900847616.0000\n",
            "Epoch 196/400\n",
            "487/487 [==============================] - 1s 1ms/step - loss: 5740713666.0984 - val_loss: 5832249856.0000\n",
            "Epoch 197/400\n",
            "487/487 [==============================] - 1s 1ms/step - loss: 5823542125.1148 - val_loss: 5835276800.0000\n",
            "Epoch 198/400\n",
            "487/487 [==============================] - 1s 1ms/step - loss: 5697707905.0492 - val_loss: 5820689920.0000\n",
            "Epoch 199/400\n",
            "487/487 [==============================] - 1s 1ms/step - loss: 5672241473.0492 - val_loss: 5837033984.0000\n",
            "Epoch 200/400\n",
            "487/487 [==============================] - 1s 1ms/step - loss: 5744980472.6557 - val_loss: 5820943360.0000\n",
            "Epoch 201/400\n",
            "487/487 [==============================] - 1s 1ms/step - loss: 5775708621.6393 - val_loss: 5820874240.0000\n",
            "Epoch 202/400\n",
            "487/487 [==============================] - 1s 1ms/step - loss: 5648965377.0492 - val_loss: 5806174720.0000\n",
            "Epoch 203/400\n",
            "487/487 [==============================] - 1s 1ms/step - loss: 5604450707.9344 - val_loss: 5817690112.0000\n",
            "Epoch 204/400\n",
            "487/487 [==============================] - 1s 1ms/step - loss: 5706732534.5574 - val_loss: 5827958272.0000\n",
            "Epoch 205/400\n",
            "487/487 [==============================] - 1s 1ms/step - loss: 5728992104.9180 - val_loss: 5794442752.0000\n",
            "Epoch 206/400\n",
            "487/487 [==============================] - 1s 1ms/step - loss: 5747460039.3443 - val_loss: 5789641216.0000\n",
            "Epoch 207/400\n",
            "487/487 [==============================] - 1s 1ms/step - loss: 5756297976.1311 - val_loss: 5785715200.0000\n",
            "Epoch 208/400\n",
            "487/487 [==============================] - 1s 1ms/step - loss: 5728587964.8525 - val_loss: 5821924864.0000\n",
            "Epoch 209/400\n",
            "487/487 [==============================] - 1s 1ms/step - loss: 5634562044.3279 - val_loss: 5792811520.0000\n",
            "Epoch 210/400\n",
            "487/487 [==============================] - 1s 1ms/step - loss: 5607778086.8197 - val_loss: 5783730688.0000\n",
            "Epoch 211/400\n",
            "487/487 [==============================] - 1s 1ms/step - loss: 5713929433.1803 - val_loss: 5777908224.0000\n",
            "Epoch 212/400\n",
            "487/487 [==============================] - 1s 1ms/step - loss: 5656103760.2623 - val_loss: 5758825472.0000\n",
            "Epoch 213/400\n",
            "487/487 [==============================] - 1s 1ms/step - loss: 5673502151.3443 - val_loss: 5787988992.0000\n",
            "Epoch 214/400\n",
            "487/487 [==============================] - 1s 1ms/step - loss: 5672862643.4098 - val_loss: 5776803840.0000\n",
            "Epoch 215/400\n",
            "487/487 [==============================] - 1s 1ms/step - loss: 5704122076.3279 - val_loss: 5751921152.0000\n",
            "Epoch 216/400\n",
            "487/487 [==============================] - 1s 1ms/step - loss: 5691805939.4098 - val_loss: 5755548160.0000\n",
            "Epoch 217/400\n",
            "487/487 [==============================] - 1s 1ms/step - loss: 5661434631.3443 - val_loss: 5755812864.0000\n",
            "Epoch 218/400\n",
            "487/487 [==============================] - 1s 1ms/step - loss: 5616294306.6230 - val_loss: 5742160384.0000\n",
            "Epoch 219/400\n",
            "487/487 [==============================] - 1s 1ms/step - loss: 5628172229.2459 - val_loss: 5748231680.0000\n",
            "Epoch 220/400\n",
            "487/487 [==============================] - 1s 1ms/step - loss: 5761873757.9016 - val_loss: 5747289088.0000\n",
            "Epoch 221/400\n",
            "487/487 [==============================] - 1s 1ms/step - loss: 5620346862.1639 - val_loss: 5741667840.0000\n",
            "Epoch 222/400\n",
            "487/487 [==============================] - 1s 1ms/step - loss: 5611191527.8689 - val_loss: 5757782016.0000\n",
            "Epoch 223/400\n",
            "487/487 [==============================] - 1s 1ms/step - loss: 5543034496.0000 - val_loss: 5752202752.0000\n",
            "Epoch 224/400\n",
            "487/487 [==============================] - 1s 1ms/step - loss: 5627841041.8361 - val_loss: 5729403904.0000\n",
            "Epoch 225/400\n",
            "487/487 [==============================] - 1s 1ms/step - loss: 5653759195.2787 - val_loss: 5714499584.0000\n",
            "Epoch 226/400\n",
            "487/487 [==============================] - 1s 1ms/step - loss: 5582898016.5246 - val_loss: 5713263616.0000\n",
            "Epoch 227/400\n",
            "487/487 [==============================] - 1s 1ms/step - loss: 5618044487.3443 - val_loss: 5713401344.0000\n",
            "Epoch 228/400\n",
            "487/487 [==============================] - 1s 1ms/step - loss: 5590381032.9180 - val_loss: 5711715328.0000\n",
            "Epoch 229/400\n",
            "487/487 [==============================] - 1s 1ms/step - loss: 5708390854.2951 - val_loss: 5707475456.0000\n",
            "Epoch 230/400\n",
            "487/487 [==============================] - 1s 1ms/step - loss: 5673065021.9016 - val_loss: 5717098496.0000\n",
            "Epoch 231/400\n",
            "487/487 [==============================] - 1s 1ms/step - loss: 5653516302.6885 - val_loss: 5713103872.0000\n",
            "Epoch 232/400\n",
            "487/487 [==============================] - 1s 1ms/step - loss: 5570669033.9672 - val_loss: 5708580864.0000\n",
            "Epoch 233/400\n",
            "487/487 [==============================] - 1s 1ms/step - loss: 5553065562.2295 - val_loss: 5716229120.0000\n",
            "Epoch 234/400\n",
            "487/487 [==============================] - 1s 1ms/step - loss: 5603747303.8689 - val_loss: 5714959872.0000\n",
            "Epoch 235/400\n",
            "487/487 [==============================] - 1s 1ms/step - loss: 5511878672.7869 - val_loss: 5717837312.0000\n",
            "Epoch 236/400\n",
            "487/487 [==============================] - 1s 1ms/step - loss: 5614641540.1967 - val_loss: 5687673344.0000\n",
            "Epoch 237/400\n",
            "487/487 [==============================] - 1s 1ms/step - loss: 5537378241.0492 - val_loss: 5698331648.0000\n",
            "Epoch 238/400\n",
            "487/487 [==============================] - 1s 1ms/step - loss: 5587111610.7541 - val_loss: 5694815232.0000\n",
            "Epoch 239/400\n",
            "487/487 [==============================] - 1s 1ms/step - loss: 5669847230.9508 - val_loss: 5687865344.0000\n",
            "Epoch 240/400\n",
            "487/487 [==============================] - 1s 1ms/step - loss: 5681706998.5574 - val_loss: 5687570944.0000\n",
            "Epoch 241/400\n",
            "487/487 [==============================] - 1s 1ms/step - loss: 5498719652.7213 - val_loss: 5681570304.0000\n",
            "Epoch 242/400\n",
            "487/487 [==============================] - 1s 1ms/step - loss: 5604431971.6721 - val_loss: 5671136256.0000\n",
            "Epoch 243/400\n",
            "487/487 [==============================] - 1s 1ms/step - loss: 5560180563.9344 - val_loss: 5689431552.0000\n",
            "Epoch 244/400\n",
            "487/487 [==============================] - 1s 1ms/step - loss: 5473784015.7377 - val_loss: 5682939392.0000\n",
            "Epoch 245/400\n",
            "487/487 [==============================] - 1s 1ms/step - loss: 5475168295.8689 - val_loss: 5687544832.0000\n",
            "Epoch 246/400\n",
            "487/487 [==============================] - 1s 1ms/step - loss: 5630103742.9508 - val_loss: 5672584192.0000\n",
            "Epoch 247/400\n",
            "487/487 [==============================] - 1s 1ms/step - loss: 5519392964.1967 - val_loss: 5687465984.0000\n",
            "Epoch 248/400\n",
            "487/487 [==============================] - 1s 1ms/step - loss: 5579308438.0328 - val_loss: 5662447616.0000\n",
            "Epoch 249/400\n",
            "487/487 [==============================] - 1s 1ms/step - loss: 5450066968.1311 - val_loss: 5666353664.0000\n",
            "Epoch 250/400\n",
            "487/487 [==============================] - 1s 1ms/step - loss: 5543075640.6557 - val_loss: 5690472448.0000\n",
            "Epoch 251/400\n",
            "487/487 [==============================] - 1s 1ms/step - loss: 5535841107.9344 - val_loss: 5671592448.0000\n",
            "Epoch 252/400\n",
            "487/487 [==============================] - 1s 1ms/step - loss: 5558533232.2623 - val_loss: 5659553280.0000\n",
            "Epoch 253/400\n",
            "487/487 [==============================] - 1s 2ms/step - loss: 5486472571.8033 - val_loss: 5687250432.0000\n",
            "Epoch 254/400\n",
            "487/487 [==============================] - 1s 2ms/step - loss: 5483190782.9508 - val_loss: 5678770176.0000\n",
            "Epoch 255/400\n",
            "487/487 [==============================] - 1s 2ms/step - loss: 5528305613.6393 - val_loss: 5669890048.0000\n",
            "Epoch 256/400\n",
            "487/487 [==============================] - 1s 2ms/step - loss: 5501811053.1148 - val_loss: 5646119424.0000\n",
            "Epoch 257/400\n",
            "487/487 [==============================] - 1s 1ms/step - loss: 5516053140.9836 - val_loss: 5625696256.0000\n",
            "Epoch 258/400\n",
            "487/487 [==============================] - 1s 1ms/step - loss: 5548942092.5902 - val_loss: 5630978560.0000\n",
            "Epoch 259/400\n",
            "487/487 [==============================] - 1s 1ms/step - loss: 5512596267.0164 - val_loss: 5624547328.0000\n",
            "Epoch 260/400\n",
            "487/487 [==============================] - 1s 1ms/step - loss: 5522760379.8033 - val_loss: 5615499776.0000\n",
            "Epoch 261/400\n",
            "487/487 [==============================] - 1s 1ms/step - loss: 5523482284.0656 - val_loss: 5619384832.0000\n",
            "Epoch 262/400\n",
            "487/487 [==============================] - 1s 1ms/step - loss: 5445398216.3934 - val_loss: 5617630208.0000\n",
            "Epoch 263/400\n",
            "487/487 [==============================] - 1s 1ms/step - loss: 5585031516.3279 - val_loss: 5608459264.0000\n",
            "Epoch 264/400\n",
            "487/487 [==============================] - 1s 1ms/step - loss: 5455257251.1475 - val_loss: 5604881920.0000\n",
            "Epoch 265/400\n",
            "487/487 [==============================] - 1s 1ms/step - loss: 5572799247.7377 - val_loss: 5605461504.0000\n",
            "Epoch 266/400\n",
            "487/487 [==============================] - 1s 1ms/step - loss: 5511410702.6885 - val_loss: 5625469440.0000\n",
            "Epoch 267/400\n",
            "487/487 [==============================] - 1s 1ms/step - loss: 5438763128.6557 - val_loss: 5606583808.0000\n",
            "Epoch 268/400\n",
            "487/487 [==============================] - 1s 1ms/step - loss: 5521103010.6230 - val_loss: 5612487168.0000\n",
            "Epoch 269/400\n",
            "487/487 [==============================] - 1s 1ms/step - loss: 5402199449.1803 - val_loss: 5589465600.0000\n",
            "Epoch 270/400\n",
            "487/487 [==============================] - 1s 1ms/step - loss: 5506047680.0000 - val_loss: 5584715264.0000\n",
            "Epoch 271/400\n",
            "487/487 [==============================] - 1s 1ms/step - loss: 5507977256.9180 - val_loss: 5585393664.0000\n",
            "Epoch 272/400\n",
            "487/487 [==============================] - 1s 1ms/step - loss: 5451394658.6230 - val_loss: 5578013696.0000\n",
            "Epoch 273/400\n",
            "487/487 [==============================] - 1s 1ms/step - loss: 5505204375.0820 - val_loss: 5579021312.0000\n",
            "Epoch 274/400\n",
            "487/487 [==============================] - 1s 1ms/step - loss: 5508245568.5246 - val_loss: 5571252736.0000\n",
            "Epoch 275/400\n",
            "487/487 [==============================] - 1s 1ms/step - loss: 5459119449.1803 - val_loss: 5572997120.0000\n",
            "Epoch 276/400\n",
            "487/487 [==============================] - 1s 1ms/step - loss: 5386158029.6393 - val_loss: 5588250624.0000\n",
            "Epoch 277/400\n",
            "487/487 [==============================] - 1s 1ms/step - loss: 5509267210.4918 - val_loss: 5580237824.0000\n",
            "Epoch 278/400\n",
            "487/487 [==============================] - 1s 1ms/step - loss: 5453836054.0328 - val_loss: 5594957824.0000\n",
            "Epoch 279/400\n",
            "487/487 [==============================] - 1s 1ms/step - loss: 5462113537.0492 - val_loss: 5577091584.0000\n",
            "Epoch 280/400\n",
            "487/487 [==============================] - 1s 1ms/step - loss: 5438126489.1803 - val_loss: 5576819200.0000\n",
            "Epoch 281/400\n",
            "487/487 [==============================] - 1s 1ms/step - loss: 5436459981.6393 - val_loss: 5597835776.0000\n",
            "Epoch 282/400\n",
            "487/487 [==============================] - 1s 1ms/step - loss: 5546771783.3443 - val_loss: 5563372544.0000\n",
            "Epoch 283/400\n",
            "487/487 [==============================] - 1s 1ms/step - loss: 5468133794.6230 - val_loss: 5579238400.0000\n",
            "Epoch 284/400\n",
            "487/487 [==============================] - 1s 1ms/step - loss: 5432844188.3279 - val_loss: 5573108736.0000\n",
            "Epoch 285/400\n",
            "487/487 [==============================] - 1s 1ms/step - loss: 5473905930.4918 - val_loss: 5563630080.0000\n",
            "Epoch 286/400\n",
            "487/487 [==============================] - 1s 1ms/step - loss: 5421970780.3279 - val_loss: 5559785472.0000\n",
            "Epoch 287/400\n",
            "487/487 [==============================] - 1s 1ms/step - loss: 5434911804.8525 - val_loss: 5584751616.0000\n",
            "Epoch 288/400\n",
            "487/487 [==============================] - 1s 1ms/step - loss: 5414542484.9836 - val_loss: 5573457408.0000\n",
            "Epoch 289/400\n",
            "487/487 [==============================] - 1s 1ms/step - loss: 5412890959.7377 - val_loss: 5561532928.0000\n",
            "Epoch 290/400\n",
            "487/487 [==============================] - 1s 1ms/step - loss: 5509048208.7869 - val_loss: 5555788288.0000\n",
            "Epoch 291/400\n",
            "487/487 [==============================] - 1s 1ms/step - loss: 5556120922.2295 - val_loss: 5586851840.0000\n",
            "Epoch 292/400\n",
            "487/487 [==============================] - 1s 1ms/step - loss: 5477968802.6230 - val_loss: 5607883264.0000\n",
            "Epoch 293/400\n",
            "487/487 [==============================] - 1s 1ms/step - loss: 5387610741.5082 - val_loss: 5557657088.0000\n",
            "Epoch 294/400\n",
            "487/487 [==============================] - 1s 1ms/step - loss: 5522953539.1475 - val_loss: 5546201088.0000\n",
            "Epoch 295/400\n",
            "487/487 [==============================] - 1s 1ms/step - loss: 5479703356.8525 - val_loss: 5554498560.0000\n",
            "Epoch 296/400\n",
            "487/487 [==============================] - 1s 1ms/step - loss: 5430910261.5082 - val_loss: 5552017920.0000\n",
            "Epoch 297/400\n",
            "487/487 [==============================] - 1s 1ms/step - loss: 5447799092.4590 - val_loss: 5550224384.0000\n",
            "Epoch 298/400\n",
            "487/487 [==============================] - 1s 1ms/step - loss: 5438436332.0656 - val_loss: 5556888576.0000\n",
            "Epoch 299/400\n",
            "487/487 [==============================] - 1s 1ms/step - loss: 5423243555.6721 - val_loss: 5560926720.0000\n",
            "Epoch 300/400\n",
            "487/487 [==============================] - 1s 1ms/step - loss: 5437318450.3607 - val_loss: 5559965184.0000\n",
            "Epoch 301/400\n",
            "487/487 [==============================] - 1s 1ms/step - loss: 5452770503.3443 - val_loss: 5550697984.0000\n",
            "Epoch 302/400\n",
            "487/487 [==============================] - 1s 1ms/step - loss: 5473955561.9672 - val_loss: 5547579392.0000\n",
            "Epoch 303/400\n",
            "487/487 [==============================] - 1s 1ms/step - loss: 5436778444.5902 - val_loss: 5572657664.0000\n",
            "Epoch 304/400\n",
            "487/487 [==============================] - 1s 1ms/step - loss: 5432568596.9836 - val_loss: 5557072384.0000\n",
            "Epoch 305/400\n",
            "487/487 [==============================] - 1s 1ms/step - loss: 5367978953.4426 - val_loss: 5539334656.0000\n",
            "Epoch 306/400\n",
            "487/487 [==============================] - 1s 1ms/step - loss: 5464900987.8033 - val_loss: 5570491904.0000\n",
            "Epoch 307/400\n",
            "487/487 [==============================] - 1s 1ms/step - loss: 5423334855.3443 - val_loss: 5553752064.0000\n",
            "Epoch 308/400\n",
            "487/487 [==============================] - 1s 1ms/step - loss: 5297071990.5574 - val_loss: 5568465920.0000\n",
            "Epoch 309/400\n",
            "487/487 [==============================] - 1s 1ms/step - loss: 5527284676.1967 - val_loss: 5540114432.0000\n",
            "Epoch 310/400\n",
            "487/487 [==============================] - 1s 1ms/step - loss: 5432937789.9016 - val_loss: 5555300864.0000\n",
            "Epoch 311/400\n",
            "487/487 [==============================] - 1s 1ms/step - loss: 5355326065.3115 - val_loss: 5539577344.0000\n",
            "Epoch 312/400\n",
            "487/487 [==============================] - 1s 1ms/step - loss: 5464776039.8689 - val_loss: 5527040000.0000\n",
            "Epoch 313/400\n",
            "487/487 [==============================] - 1s 1ms/step - loss: 5434484221.9016 - val_loss: 5552395264.0000\n",
            "Epoch 314/400\n",
            "487/487 [==============================] - 1s 1ms/step - loss: 5307941262.6885 - val_loss: 5523059200.0000\n",
            "Epoch 315/400\n",
            "487/487 [==============================] - 1s 1ms/step - loss: 5349724680.3934 - val_loss: 5521997824.0000\n",
            "Epoch 316/400\n",
            "487/487 [==============================] - 1s 1ms/step - loss: 5411278999.0820 - val_loss: 5521666560.0000\n",
            "Epoch 317/400\n",
            "487/487 [==============================] - 1s 1ms/step - loss: 5431948856.6557 - val_loss: 5557488640.0000\n",
            "Epoch 318/400\n",
            "487/487 [==============================] - 1s 1ms/step - loss: 5411091424.5246 - val_loss: 5526496256.0000\n",
            "Epoch 319/400\n",
            "487/487 [==============================] - 1s 1ms/step - loss: 5310403291.2787 - val_loss: 5525964288.0000\n",
            "Epoch 320/400\n",
            "487/487 [==============================] - 1s 1ms/step - loss: 5324277526.0328 - val_loss: 5524077568.0000\n",
            "Epoch 321/400\n",
            "487/487 [==============================] - 1s 1ms/step - loss: 5305925611.0164 - val_loss: 5515674112.0000\n",
            "Epoch 322/400\n",
            "487/487 [==============================] - 1s 1ms/step - loss: 5383306298.2295 - val_loss: 5538891776.0000\n",
            "Epoch 323/400\n",
            "487/487 [==============================] - 1s 1ms/step - loss: 5413064449.0492 - val_loss: 5521218048.0000\n",
            "Epoch 324/400\n",
            "487/487 [==============================] - 1s 1ms/step - loss: 5412739130.7541 - val_loss: 5528043520.0000\n",
            "Epoch 325/400\n",
            "487/487 [==============================] - 1s 1ms/step - loss: 5432309506.0984 - val_loss: 5539111424.0000\n",
            "Epoch 326/400\n",
            "487/487 [==============================] - 1s 1ms/step - loss: 5445992087.0820 - val_loss: 5519298560.0000\n",
            "Epoch 327/400\n",
            "487/487 [==============================] - 1s 1ms/step - loss: 5352577358.6885 - val_loss: 5529330688.0000\n",
            "Epoch 328/400\n",
            "487/487 [==============================] - 1s 1ms/step - loss: 5426418513.8361 - val_loss: 5518679040.0000\n",
            "Epoch 329/400\n",
            "487/487 [==============================] - 1s 1ms/step - loss: 5395645195.5410 - val_loss: 5540055552.0000\n",
            "Epoch 330/400\n",
            "487/487 [==============================] - 1s 1ms/step - loss: 5333992036.1967 - val_loss: 5510854144.0000\n",
            "Epoch 331/400\n",
            "487/487 [==============================] - 1s 1ms/step - loss: 5378432636.8525 - val_loss: 5512668672.0000\n",
            "Epoch 332/400\n",
            "487/487 [==============================] - 1s 1ms/step - loss: 5475894018.0984 - val_loss: 5520479744.0000\n",
            "Epoch 333/400\n",
            "487/487 [==============================] - 1s 1ms/step - loss: 5470897341.9016 - val_loss: 5506716160.0000\n",
            "Epoch 334/400\n",
            "487/487 [==============================] - 1s 1ms/step - loss: 5415377063.8689 - val_loss: 5527660544.0000\n",
            "Epoch 335/400\n",
            "487/487 [==============================] - 1s 1ms/step - loss: 5428017789.9016 - val_loss: 5510376960.0000\n",
            "Epoch 336/400\n",
            "487/487 [==============================] - 1s 1ms/step - loss: 5388264903.3443 - val_loss: 5511809024.0000\n",
            "Epoch 337/400\n",
            "487/487 [==============================] - 1s 1ms/step - loss: 5492386330.2295 - val_loss: 5505739776.0000\n",
            "Epoch 338/400\n",
            "487/487 [==============================] - 1s 1ms/step - loss: 5481026658.6230 - val_loss: 5518686720.0000\n",
            "Epoch 339/400\n",
            "487/487 [==============================] - 1s 1ms/step - loss: 5405263976.9180 - val_loss: 5527905792.0000\n",
            "Epoch 340/400\n",
            "487/487 [==============================] - 1s 1ms/step - loss: 5345794665.9672 - val_loss: 5500881408.0000\n",
            "Epoch 341/400\n",
            "487/487 [==============================] - 1s 1ms/step - loss: 5429119547.8033 - val_loss: 5519978496.0000\n",
            "Epoch 342/400\n",
            "487/487 [==============================] - 1s 1ms/step - loss: 5296064806.8197 - val_loss: 5520204800.0000\n",
            "Epoch 343/400\n",
            "487/487 [==============================] - 1s 1ms/step - loss: 5367888984.1311 - val_loss: 5499209216.0000\n",
            "Epoch 344/400\n",
            "487/487 [==============================] - 1s 1ms/step - loss: 5348239119.7377 - val_loss: 5520326656.0000\n",
            "Epoch 345/400\n",
            "487/487 [==============================] - 1s 1ms/step - loss: 5438182647.6066 - val_loss: 5512780800.0000\n",
            "Epoch 346/400\n",
            "487/487 [==============================] - 1s 1ms/step - loss: 5299833869.6393 - val_loss: 5515008512.0000\n",
            "Epoch 347/400\n",
            "487/487 [==============================] - 1s 1ms/step - loss: 5399650489.7049 - val_loss: 5521214976.0000\n",
            "Epoch 348/400\n",
            "487/487 [==============================] - 1s 1ms/step - loss: 5273445234.3607 - val_loss: 5510451712.0000\n",
            "Epoch 349/400\n",
            "487/487 [==============================] - 1s 1ms/step - loss: 5364081190.8197 - val_loss: 5508081152.0000\n",
            "Epoch 350/400\n",
            "487/487 [==============================] - 1s 1ms/step - loss: 5390443879.8689 - val_loss: 5508995072.0000\n",
            "Epoch 351/400\n",
            "487/487 [==============================] - 1s 1ms/step - loss: 5325885896.3934 - val_loss: 5486818304.0000\n",
            "Epoch 352/400\n",
            "487/487 [==============================] - 1s 1ms/step - loss: 5300195179.0164 - val_loss: 5496615424.0000\n",
            "Epoch 353/400\n",
            "487/487 [==============================] - 1s 1ms/step - loss: 5300632701.9016 - val_loss: 5487221248.0000\n",
            "Epoch 354/400\n",
            "487/487 [==============================] - 1s 1ms/step - loss: 5373901922.6230 - val_loss: 5486937600.0000\n",
            "Epoch 355/400\n",
            "487/487 [==============================] - 1s 1ms/step - loss: 5338049265.3115 - val_loss: 5495651328.0000\n",
            "Epoch 356/400\n",
            "487/487 [==============================] - 1s 1ms/step - loss: 5410479007.4754 - val_loss: 5471842304.0000\n",
            "Epoch 357/400\n",
            "487/487 [==============================] - 1s 1ms/step - loss: 5423823929.7049 - val_loss: 5510264832.0000\n",
            "Epoch 358/400\n",
            "487/487 [==============================] - 1s 1ms/step - loss: 5327982710.5574 - val_loss: 5481234432.0000\n",
            "Epoch 359/400\n",
            "487/487 [==============================] - 1s 1ms/step - loss: 5249650669.6393 - val_loss: 5469640704.0000\n",
            "Epoch 360/400\n",
            "487/487 [==============================] - 1s 1ms/step - loss: 5323745064.9180 - val_loss: 5476301824.0000\n",
            "Epoch 361/400\n",
            "487/487 [==============================] - 1s 1ms/step - loss: 5246259358.4262 - val_loss: 5471751680.0000\n",
            "Epoch 362/400\n",
            "487/487 [==============================] - 1s 1ms/step - loss: 5325121452.0656 - val_loss: 5463645696.0000\n",
            "Epoch 363/400\n",
            "487/487 [==============================] - 1s 1ms/step - loss: 5302509510.2951 - val_loss: 5468036608.0000\n",
            "Epoch 364/400\n",
            "487/487 [==============================] - 1s 1ms/step - loss: 5356581198.6885 - val_loss: 5471293952.0000\n",
            "Epoch 365/400\n",
            "487/487 [==============================] - 1s 1ms/step - loss: 5265565459.9344 - val_loss: 5490936320.0000\n",
            "Epoch 366/400\n",
            "487/487 [==============================] - 1s 1ms/step - loss: 5256510678.0328 - val_loss: 5457133056.0000\n",
            "Epoch 367/400\n",
            "487/487 [==============================] - 1s 1ms/step - loss: 5336105298.8852 - val_loss: 5466283008.0000\n",
            "Epoch 368/400\n",
            "487/487 [==============================] - 1s 1ms/step - loss: 5268986935.6066 - val_loss: 5451704832.0000\n",
            "Epoch 369/400\n",
            "487/487 [==============================] - 1s 1ms/step - loss: 5313496134.2951 - val_loss: 5460024320.0000\n",
            "Epoch 370/400\n",
            "487/487 [==============================] - 1s 1ms/step - loss: 5203244617.9672 - val_loss: 5487768064.0000\n",
            "Epoch 371/400\n",
            "487/487 [==============================] - 1s 1ms/step - loss: 5333690892.5902 - val_loss: 5454266368.0000\n",
            "Epoch 372/400\n",
            "487/487 [==============================] - 1s 1ms/step - loss: 5307159299.1475 - val_loss: 5445450240.0000\n",
            "Epoch 373/400\n",
            "487/487 [==============================] - 1s 1ms/step - loss: 5210630140.3279 - val_loss: 5460313088.0000\n",
            "Epoch 374/400\n",
            "487/487 [==============================] - 1s 1ms/step - loss: 5258338223.2131 - val_loss: 5459098112.0000\n",
            "Epoch 375/400\n",
            "487/487 [==============================] - 1s 1ms/step - loss: 5415472971.5410 - val_loss: 5474752512.0000\n",
            "Epoch 376/400\n",
            "487/487 [==============================] - 1s 1ms/step - loss: 5245580463.7377 - val_loss: 5442215936.0000\n",
            "Epoch 377/400\n",
            "487/487 [==============================] - 1s 1ms/step - loss: 5264103589.7705 - val_loss: 5442188288.0000\n",
            "Epoch 378/400\n",
            "487/487 [==============================] - 1s 1ms/step - loss: 5115766281.4426 - val_loss: 5448444928.0000\n",
            "Epoch 379/400\n",
            "487/487 [==============================] - 1s 1ms/step - loss: 5243282462.4262 - val_loss: 5487270400.0000\n",
            "Epoch 380/400\n",
            "487/487 [==============================] - 1s 1ms/step - loss: 5332758219.5410 - val_loss: 5439524864.0000\n",
            "Epoch 381/400\n",
            "487/487 [==============================] - 1s 1ms/step - loss: 5272816870.8197 - val_loss: 5471301632.0000\n",
            "Epoch 382/400\n",
            "487/487 [==============================] - 1s 1ms/step - loss: 5297574324.4590 - val_loss: 5441522688.0000\n",
            "Epoch 383/400\n",
            "487/487 [==============================] - 1s 1ms/step - loss: 5203736105.9672 - val_loss: 5424711168.0000\n",
            "Epoch 384/400\n",
            "487/487 [==============================] - 1s 1ms/step - loss: 5291284116.9836 - val_loss: 5466345984.0000\n",
            "Epoch 385/400\n",
            "487/487 [==============================] - 1s 1ms/step - loss: 5357147251.4098 - val_loss: 5421905408.0000\n",
            "Epoch 386/400\n",
            "487/487 [==============================] - 1s 1ms/step - loss: 5312226832.7869 - val_loss: 5434622976.0000\n",
            "Epoch 387/400\n",
            "487/487 [==============================] - 1s 1ms/step - loss: 5307365923.6721 - val_loss: 5435937280.0000\n",
            "Epoch 388/400\n",
            "487/487 [==============================] - 1s 1ms/step - loss: 5239275548.3279 - val_loss: 5437267456.0000\n",
            "Epoch 389/400\n",
            "487/487 [==============================] - 1s 1ms/step - loss: 5268230133.5082 - val_loss: 5425213952.0000\n",
            "Epoch 390/400\n",
            "487/487 [==============================] - 1s 1ms/step - loss: 5268133868.0656 - val_loss: 5459511296.0000\n",
            "Epoch 391/400\n",
            "487/487 [==============================] - 1s 1ms/step - loss: 5271812517.7705 - val_loss: 5436498432.0000\n",
            "Epoch 392/400\n",
            "487/487 [==============================] - 1s 1ms/step - loss: 5248049945.1803 - val_loss: 5441421824.0000\n",
            "Epoch 393/400\n",
            "487/487 [==============================] - 1s 1ms/step - loss: 5245286946.0984 - val_loss: 5447011328.0000\n",
            "Epoch 394/400\n",
            "487/487 [==============================] - 1s 1ms/step - loss: 5255342844.8525 - val_loss: 5419452928.0000\n",
            "Epoch 395/400\n",
            "487/487 [==============================] - 1s 1ms/step - loss: 5263695458.0984 - val_loss: 5424583680.0000\n",
            "Epoch 396/400\n",
            "487/487 [==============================] - 1s 1ms/step - loss: 5254304991.4754 - val_loss: 5411287552.0000\n",
            "Epoch 397/400\n",
            "487/487 [==============================] - 1s 1ms/step - loss: 5265297775.2131 - val_loss: 5443639296.0000\n",
            "Epoch 398/400\n",
            "487/487 [==============================] - 1s 1ms/step - loss: 5275891912.3934 - val_loss: 5416116224.0000\n",
            "Epoch 399/400\n",
            "487/487 [==============================] - 1s 1ms/step - loss: 5279524553.4426 - val_loss: 5448134656.0000\n",
            "Epoch 400/400\n",
            "487/487 [==============================] - 1s 1ms/step - loss: 5280040160.5246 - val_loss: 5418300416.0000\n",
            "Model: \"sequential\"\n",
            "_________________________________________________________________\n",
            "Layer (type)                 Output Shape              Param #   \n",
            "=================================================================\n",
            "dense (Dense)                (None, 19)                228       \n",
            "_________________________________________________________________\n",
            "dense_1 (Dense)              (None, 19)                380       \n",
            "_________________________________________________________________\n",
            "dense_2 (Dense)              (None, 19)                380       \n",
            "_________________________________________________________________\n",
            "dense_3 (Dense)              (None, 19)                380       \n",
            "_________________________________________________________________\n",
            "dense_4 (Dense)              (None, 1)                 20        \n",
            "=================================================================\n",
            "Total params: 1,388\n",
            "Trainable params: 1,388\n",
            "Non-trainable params: 0\n",
            "_________________________________________________________________\n"
          ],
          "name": "stdout"
        }
      ]
    },
    {
      "cell_type": "code",
      "metadata": {
        "id": "65IrrJNLxH1a",
        "outputId": "1374148b-076d-4d19-fe03-f81601c60990",
        "colab": {
          "base_uri": "https://localhost:8080/",
          "height": 511
        }
      },
      "source": [
        "loss_df = pd.DataFrame(model.history.history)\n",
        "loss_df.plot(figsize=(12,8))"
      ],
      "execution_count": 24,
      "outputs": [
        {
          "output_type": "execute_result",
          "data": {
            "text/plain": [
              "<matplotlib.axes._subplots.AxesSubplot at 0x7fcb3bff7a20>"
            ]
          },
          "metadata": {
            "tags": []
          },
          "execution_count": 24
        },
        {
          "output_type": "display_data",
          "data": {
            "image/png": "[encoded data removed]",
            "text/plain": [
              "<Figure size 864x576 with 1 Axes>"
            ]
          },
          "metadata": {
            "tags": [],
            "needs_background": "light"
          }
        }
      ]
    },
    {
      "cell_type": "code",
      "metadata": {
        "id": "UPCFGIXAxKkX",
        "outputId": "f9179a35-d4d9-4140-b093-841b7e6266f0",
        "colab": {
          "base_uri": "https://localhost:8080/",
          "height": 429
        }
      },
      "source": [
        "y_pred = model.predict(X_test)\n",
        "from sklearn import metrics\n",
        "print('MAE:', metrics.mean_absolute_error(y_test, y_pred))  \n",
        "print('MSE:', metrics.mean_squared_error(y_test, y_pred))  \n",
        "print('RMSE:', np.sqrt(metrics.mean_squared_error(y_test, y_pred)))\n",
        "print('VarScore:',metrics.explained_variance_score(y_test,y_pred))\n",
        "# Visualizing Our predictions\n",
        "fig = plt.figure(figsize=(10,5))\n",
        "plt.scatter(y_test,y_pred)\n",
        "# Perfect predictions\n",
        "plt.plot(y_test,y_test,'r')"
      ],
      "execution_count": 25,
      "outputs": [
        {
          "output_type": "stream",
          "text": [
            "MAE: 51890.74289590555\n",
            "MSE: 5418301376.866801\n",
            "RMSE: 73609.11205052538\n",
            "VarScore: 0.770602610165677\n"
          ],
          "name": "stdout"
        },
        {
          "output_type": "execute_result",
          "data": {
            "text/plain": [
              "[<matplotlib.lines.Line2D at 0x7fcb3c079e10>]"
            ]
          },
          "metadata": {
            "tags": []
          },
          "execution_count": 25
        },
        {
          "output_type": "display_data",
          "data": {
            "image/png": "[encoded data removed]",
            "text/plain": [
              "<Figure size 720x360 with 1 Axes>"
            ]
          },
          "metadata": {
            "tags": [],
            "needs_background": "light"
          }
        }
      ]
    },
    {
      "cell_type": "code",
      "metadata": {
        "id": "X0gj0KtCxQwC",
        "outputId": "d49215f4-882d-4452-d0d2-87116bcf5c5c",
        "colab": {
          "base_uri": "https://localhost:8080/",
          "height": 35
        }
      },
      "source": [
        "# visualizing residuals\n",
        "'''\n",
        "fig = plt.figure(figsize=(10,5))\n",
        "residuals = (y_test- y_pred)\n",
        "sns.distplot(residuals)\n",
        "'''"
      ],
      "execution_count": 26,
      "outputs": [
        {
          "output_type": "execute_result",
          "data": {
            "application/vnd.google.colaboratory.intrinsic+json": {
              "type": "string"
            },
            "text/plain": [
              "'\\nfig = plt.figure(figsize=(10,5))\\nresiduals = (y_test- y_pred)\\nsns.distplot(residuals)\\n'"
            ]
          },
          "metadata": {
            "tags": []
          },
          "execution_count": 26
        }
      ]
    },
    {
      "cell_type": "code",
      "metadata": {
        "id": "GgJ_2Gp26ohf",
        "outputId": "53f197d0-dc87-4fbf-ff0e-c84e3db192bb",
        "colab": {
          "base_uri": "https://localhost:8080/",
          "height": 136
        }
      },
      "source": [
        "print(y_pred)"
      ],
      "execution_count": 27,
      "outputs": [
        {
          "output_type": "stream",
          "text": [
            "[[344643.34]\n",
            " [569016.1 ]\n",
            " [643836.  ]\n",
            " ...\n",
            " [431024.5 ]\n",
            " [490247.  ]\n",
            " [396152.2 ]]\n"
          ],
          "name": "stdout"
        }
      ]
    },
    {
      "cell_type": "code",
      "metadata": {
        "id": "Z75-c6Hr3dp9",
        "outputId": "90404f6d-e3af-4f81-c71c-471396f8d606",
        "colab": {
          "base_uri": "https://localhost:8080/",
          "height": 669
        }
      },
      "source": [
        "y_pred_2 = []\n",
        "for pred in y_pred:\n",
        "  y_pred_2.append(pred[0])\n",
        "\n",
        "df = pd.DataFrame({'Actual': y_test, 'Predicted': y_pred_2})\n",
        "df1 = df.head(20)\n",
        "df1"
      ],
      "execution_count": 28,
      "outputs": [
        {
          "output_type": "execute_result",
          "data": {
            "text/html": [
              "<div>\n",
              "<style scoped>\n",
              "    .dataframe tbody tr th:only-of-type {\n",
              "        vertical-align: middle;\n",
              "    }\n",
              "\n",
              "    .dataframe tbody tr th {\n",
              "        vertical-align: top;\n",
              "    }\n",
              "\n",
              "    .dataframe thead th {\n",
              "        text-align: right;\n",
              "    }\n",
              "</style>\n",
              "<table border=\"1\" class=\"dataframe\">\n",
              "  <thead>\n",
              "    <tr style=\"text-align: right;\">\n",
              "      <th></th>\n",
              "      <th>Actual</th>\n",
              "      <th>Predicted</th>\n",
              "    </tr>\n",
              "  </thead>\n",
              "  <tbody>\n",
              "    <tr>\n",
              "      <th>0</th>\n",
              "      <td>318000.0</td>\n",
              "      <td>344643.34375</td>\n",
              "    </tr>\n",
              "    <tr>\n",
              "      <th>1</th>\n",
              "      <td>770000.0</td>\n",
              "      <td>569016.12500</td>\n",
              "    </tr>\n",
              "    <tr>\n",
              "      <th>2</th>\n",
              "      <td>851800.0</td>\n",
              "      <td>643836.00000</td>\n",
              "    </tr>\n",
              "    <tr>\n",
              "      <th>3</th>\n",
              "      <td>475000.0</td>\n",
              "      <td>465973.12500</td>\n",
              "    </tr>\n",
              "    <tr>\n",
              "      <th>4</th>\n",
              "      <td>320000.0</td>\n",
              "      <td>340859.37500</td>\n",
              "    </tr>\n",
              "    <tr>\n",
              "      <th>5</th>\n",
              "      <td>305000.0</td>\n",
              "      <td>322941.75000</td>\n",
              "    </tr>\n",
              "    <tr>\n",
              "      <th>6</th>\n",
              "      <td>460000.0</td>\n",
              "      <td>423540.68750</td>\n",
              "    </tr>\n",
              "    <tr>\n",
              "      <th>7</th>\n",
              "      <td>470000.0</td>\n",
              "      <td>451387.15625</td>\n",
              "    </tr>\n",
              "    <tr>\n",
              "      <th>8</th>\n",
              "      <td>468000.0</td>\n",
              "      <td>576561.50000</td>\n",
              "    </tr>\n",
              "    <tr>\n",
              "      <th>9</th>\n",
              "      <td>340000.0</td>\n",
              "      <td>437295.31250</td>\n",
              "    </tr>\n",
              "    <tr>\n",
              "      <th>10</th>\n",
              "      <td>355000.0</td>\n",
              "      <td>365293.78125</td>\n",
              "    </tr>\n",
              "    <tr>\n",
              "      <th>11</th>\n",
              "      <td>308000.0</td>\n",
              "      <td>326151.78125</td>\n",
              "    </tr>\n",
              "    <tr>\n",
              "      <th>12</th>\n",
              "      <td>250000.0</td>\n",
              "      <td>307075.71875</td>\n",
              "    </tr>\n",
              "    <tr>\n",
              "      <th>13</th>\n",
              "      <td>442000.0</td>\n",
              "      <td>474154.62500</td>\n",
              "    </tr>\n",
              "    <tr>\n",
              "      <th>14</th>\n",
              "      <td>228000.0</td>\n",
              "      <td>216858.25000</td>\n",
              "    </tr>\n",
              "    <tr>\n",
              "      <th>15</th>\n",
              "      <td>315000.0</td>\n",
              "      <td>331083.56250</td>\n",
              "    </tr>\n",
              "    <tr>\n",
              "      <th>16</th>\n",
              "      <td>363000.0</td>\n",
              "      <td>361288.12500</td>\n",
              "    </tr>\n",
              "    <tr>\n",
              "      <th>17</th>\n",
              "      <td>395000.0</td>\n",
              "      <td>435657.31250</td>\n",
              "    </tr>\n",
              "    <tr>\n",
              "      <th>18</th>\n",
              "      <td>398000.0</td>\n",
              "      <td>363522.12500</td>\n",
              "    </tr>\n",
              "    <tr>\n",
              "      <th>19</th>\n",
              "      <td>325000.0</td>\n",
              "      <td>340851.09375</td>\n",
              "    </tr>\n",
              "  </tbody>\n",
              "</table>\n",
              "</div>"
            ],
            "text/plain": [
              "      Actual     Predicted\n",
              "0   318000.0  344643.34375\n",
              "1   770000.0  569016.12500\n",
              "2   851800.0  643836.00000\n",
              "3   475000.0  465973.12500\n",
              "4   320000.0  340859.37500\n",
              "5   305000.0  322941.75000\n",
              "6   460000.0  423540.68750\n",
              "7   470000.0  451387.15625\n",
              "8   468000.0  576561.50000\n",
              "9   340000.0  437295.31250\n",
              "10  355000.0  365293.78125\n",
              "11  308000.0  326151.78125\n",
              "12  250000.0  307075.71875\n",
              "13  442000.0  474154.62500\n",
              "14  228000.0  216858.25000\n",
              "15  315000.0  331083.56250\n",
              "16  363000.0  361288.12500\n",
              "17  395000.0  435657.31250\n",
              "18  398000.0  363522.12500\n",
              "19  325000.0  340851.09375"
            ]
          },
          "metadata": {
            "tags": []
          },
          "execution_count": 28
        }
      ]
    },
    {
      "cell_type": "markdown",
      "metadata": {
        "id": "08i_sKgk9UQw"
      },
      "source": [
        "# Conclusion\n",
        "\n",
        "The variance for Keras (Model 2) is better than that of the first model, hence might need some re-engineering to improve this. "
      ]
    }
  ]
}