{
  "nbformat": 4,
  "nbformat_minor": 0,
  "metadata": {
    "colab": {
      "name": "hdbpricer.ipynb",
      "provenance": [],
      "collapsed_sections": [],
      "toc_visible": true,
      "authorship_tag": "ABX9TyOMmzhXY1mm6+DEoMuq4EdQ",
      "include_colab_link": true
    },
    "kernelspec": {
      "name": "python3",
      "display_name": "Python 3"
    },
    "accelerator": "GPU"
  },
  "cells": [
    {
      "cell_type": "markdown",
      "metadata": {
        "id": "view-in-github",
        "colab_type": "text"
      },
      "source": [
        "<a href=\"https://colab.research.google.com/github/royleekiat/hdbpricer/blob/main/hdbpricer.ipynb\" target=\"_parent\"><img src=\"https://colab.research.google.com/assets/colab-badge.svg\" alt=\"Open In Colab\"/></a>"
      ]
    },
    {
      "cell_type": "markdown",
      "metadata": {
        "id": "IY6SVTgzRvzb"
      },
      "source": [
        "# HDB Resale Price Prediction\n",
        "\n",
        "Some inspiration (and code) taken from US Housing data prediction https://towardsdatascience.com/house-prices-prediction-using-deep-learning-dea265cc3154\n",
        "\n",
        "**Dataset for HDB Resale prices**\n",
        "https://data.gov.sg/dataset/resale-flat-prices"
      ]
    },
    {
      "cell_type": "code",
      "metadata": {
        "id": "nMheCkNFKvE4",
        "outputId": "188d6e12-de16-4895-fd2b-b005e234337c",
        "colab": {
          "base_uri": "https://localhost:8080/",
          "height": 67
        }
      },
      "source": [
        "%pip -q install tf-nightly"
      ],
      "execution_count": 1,
      "outputs": [
        {
          "output_type": "stream",
          "text": [
            "\u001b[K     |████████████████████████████████| 392.2MB 41kB/s \n",
            "\u001b[K     |████████████████████████████████| 471kB 56.7MB/s \n",
            "\u001b[K     |████████████████████████████████| 10.6MB 55.9MB/s \n",
            "\u001b[?25h"
          ],
          "name": "stdout"
        }
      ]
    },
    {
      "cell_type": "code",
      "metadata": {
        "id": "2tqXkSY1LrHa",
        "outputId": "108de850-3118-4d0f-9481-396e96d982dd",
        "colab": {
          "base_uri": "https://localhost:8080/",
          "height": 185
        }
      },
      "source": [
        "%matplotlib inline\n",
        "import matplotlib.pyplot as plt\n",
        "\n",
        "import math\n",
        "import tensorflow as tf\n",
        "from collections import defaultdict\n",
        "import numpy as np\n",
        "from numpy import unique\n",
        "import pandas as pd\n",
        "import seaborn as sns\n",
        "from sklearn.preprocessing import StandardScaler, LabelEncoder, MinMaxScaler\n",
        "from tensorflow import keras\n",
        "from tensorflow.keras import layers\n",
        "from tensorflow.keras.callbacks import ModelCheckpoint, Callback, TensorBoard"
      ],
      "execution_count": 2,
      "outputs": [
        {
          "output_type": "stream",
          "text": [
            "INFO:tensorflow:Using local port 19433\n",
            "INFO:tensorflow:Using local port 16397\n",
            "INFO:tensorflow:Using local port 18954\n",
            "INFO:tensorflow:Using local port 20179\n",
            "INFO:tensorflow:Using local port 19699\n",
            "INFO:tensorflow:Using local port 21581\n",
            "INFO:tensorflow:Using local port 24366\n",
            "INFO:tensorflow:Using local port 20304\n",
            "INFO:tensorflow:Using local port 21442\n",
            "INFO:tensorflow:Using local port 20496\n"
          ],
          "name": "stdout"
        }
      ]
    },
    {
      "cell_type": "code",
      "metadata": {
        "id": "u9eQmO_MLxbs",
        "outputId": "1a6469dd-57e5-4bd7-c2aa-0b73e02f4691",
        "colab": {
          "base_uri": "https://localhost:8080/",
          "height": 35
        }
      },
      "source": [
        "tf.__version__"
      ],
      "execution_count": 3,
      "outputs": [
        {
          "output_type": "execute_result",
          "data": {
            "application/vnd.google.colaboratory.intrinsic+json": {
              "type": "string"
            },
            "text/plain": [
              "'2.4.0-dev20201012'"
            ]
          },
          "metadata": {
            "tags": []
          },
          "execution_count": 3
        }
      ]
    },
    {
      "cell_type": "markdown",
      "metadata": {
        "id": "ZNtDfBD9V_ai"
      },
      "source": [
        "# Read data"
      ]
    },
    {
      "cell_type": "code",
      "metadata": {
        "id": "0gHolheVL3eS"
      },
      "source": [
        "#Dataset from https://data.gov.sg/dataset/resale-flat-prices\n",
        "file_url = \"https://docs.google.com/spreadsheets/d/e/2PACX-1vQ8OfO82KXoRmO0E6c58MdwsOSc8ns5Geme87SiaiqTUrS_hI8u8mYE5KIOfQe4m2m3GGf9En22xuXx/pub?gid=382289391&single=true&output=csv\"\n",
        "data = pd.read_csv(file_url)\n",
        "\n"
      ],
      "execution_count": 4,
      "outputs": []
    },
    {
      "cell_type": "code",
      "metadata": {
        "id": "Rk5vYDwddrZ9",
        "outputId": "b053e39f-9176-49c1-ce56-6f533236b0a9",
        "colab": {
          "base_uri": "https://localhost:8080/",
          "height": 34
        }
      },
      "source": [
        "dataframe = data.copy()\n",
        "dataframe.shape"
      ],
      "execution_count": 5,
      "outputs": [
        {
          "output_type": "execute_result",
          "data": {
            "text/plain": [
              "(77895, 11)"
            ]
          },
          "metadata": {
            "tags": []
          },
          "execution_count": 5
        }
      ]
    },
    {
      "cell_type": "code",
      "metadata": {
        "id": "gSjTZLBoOaZ-",
        "outputId": "6b197c71-8059-4800-b9cf-ef51feb5a74a",
        "colab": {
          "base_uri": "https://localhost:8080/",
          "height": 363
        }
      },
      "source": [
        "dataframe.head()"
      ],
      "execution_count": 6,
      "outputs": [
        {
          "output_type": "execute_result",
          "data": {
            "text/html": [
              "<div>\n",
              "<style scoped>\n",
              "    .dataframe tbody tr th:only-of-type {\n",
              "        vertical-align: middle;\n",
              "    }\n",
              "\n",
              "    .dataframe tbody tr th {\n",
              "        vertical-align: top;\n",
              "    }\n",
              "\n",
              "    .dataframe thead th {\n",
              "        text-align: right;\n",
              "    }\n",
              "</style>\n",
              "<table border=\"1\" class=\"dataframe\">\n",
              "  <thead>\n",
              "    <tr style=\"text-align: right;\">\n",
              "      <th></th>\n",
              "      <th>month</th>\n",
              "      <th>town</th>\n",
              "      <th>flat_type</th>\n",
              "      <th>block</th>\n",
              "      <th>street_name</th>\n",
              "      <th>storey_range</th>\n",
              "      <th>floor_area_sqm</th>\n",
              "      <th>flat_model</th>\n",
              "      <th>lease_commence_date</th>\n",
              "      <th>remaining_lease</th>\n",
              "      <th>resale_price</th>\n",
              "    </tr>\n",
              "  </thead>\n",
              "  <tbody>\n",
              "    <tr>\n",
              "      <th>0</th>\n",
              "      <td>2017-01</td>\n",
              "      <td>ANG MO KIO</td>\n",
              "      <td>2 ROOM</td>\n",
              "      <td>406</td>\n",
              "      <td>ANG MO KIO AVE 10</td>\n",
              "      <td>10 TO 12</td>\n",
              "      <td>44.0</td>\n",
              "      <td>Improved</td>\n",
              "      <td>1979</td>\n",
              "      <td>61 years 04 months</td>\n",
              "      <td>232000.0</td>\n",
              "    </tr>\n",
              "    <tr>\n",
              "      <th>1</th>\n",
              "      <td>2017-01</td>\n",
              "      <td>ANG MO KIO</td>\n",
              "      <td>3 ROOM</td>\n",
              "      <td>108</td>\n",
              "      <td>ANG MO KIO AVE 4</td>\n",
              "      <td>01 TO 03</td>\n",
              "      <td>67.0</td>\n",
              "      <td>New Generation</td>\n",
              "      <td>1978</td>\n",
              "      <td>60 years 07 months</td>\n",
              "      <td>250000.0</td>\n",
              "    </tr>\n",
              "    <tr>\n",
              "      <th>2</th>\n",
              "      <td>2017-01</td>\n",
              "      <td>ANG MO KIO</td>\n",
              "      <td>3 ROOM</td>\n",
              "      <td>602</td>\n",
              "      <td>ANG MO KIO AVE 5</td>\n",
              "      <td>01 TO 03</td>\n",
              "      <td>67.0</td>\n",
              "      <td>New Generation</td>\n",
              "      <td>1980</td>\n",
              "      <td>62 years 05 months</td>\n",
              "      <td>262000.0</td>\n",
              "    </tr>\n",
              "    <tr>\n",
              "      <th>3</th>\n",
              "      <td>2017-01</td>\n",
              "      <td>ANG MO KIO</td>\n",
              "      <td>3 ROOM</td>\n",
              "      <td>465</td>\n",
              "      <td>ANG MO KIO AVE 10</td>\n",
              "      <td>04 TO 06</td>\n",
              "      <td>68.0</td>\n",
              "      <td>New Generation</td>\n",
              "      <td>1980</td>\n",
              "      <td>62 years 01 month</td>\n",
              "      <td>265000.0</td>\n",
              "    </tr>\n",
              "    <tr>\n",
              "      <th>4</th>\n",
              "      <td>2017-01</td>\n",
              "      <td>ANG MO KIO</td>\n",
              "      <td>3 ROOM</td>\n",
              "      <td>601</td>\n",
              "      <td>ANG MO KIO AVE 5</td>\n",
              "      <td>01 TO 03</td>\n",
              "      <td>67.0</td>\n",
              "      <td>New Generation</td>\n",
              "      <td>1980</td>\n",
              "      <td>62 years 05 months</td>\n",
              "      <td>265000.0</td>\n",
              "    </tr>\n",
              "  </tbody>\n",
              "</table>\n",
              "</div>"
            ],
            "text/plain": [
              "     month        town  ...     remaining_lease resale_price\n",
              "0  2017-01  ANG MO KIO  ...  61 years 04 months     232000.0\n",
              "1  2017-01  ANG MO KIO  ...  60 years 07 months     250000.0\n",
              "2  2017-01  ANG MO KIO  ...  62 years 05 months     262000.0\n",
              "3  2017-01  ANG MO KIO  ...   62 years 01 month     265000.0\n",
              "4  2017-01  ANG MO KIO  ...  62 years 05 months     265000.0\n",
              "\n",
              "[5 rows x 11 columns]"
            ]
          },
          "metadata": {
            "tags": []
          },
          "execution_count": 6
        }
      ]
    },
    {
      "cell_type": "markdown",
      "metadata": {
        "id": "t4hW_suQWIdy"
      },
      "source": [
        "# Visualize data"
      ]
    },
    {
      "cell_type": "code",
      "metadata": {
        "id": "fwx_agYhRdgA",
        "outputId": "3f575d12-9a10-493a-ae0d-76b189e9f072",
        "colab": {
          "base_uri": "https://localhost:8080/",
          "height": 1000
        }
      },
      "source": [
        "#visualizing house prices\n",
        "fig = plt.figure(figsize=(10,7))\n",
        "fig.add_subplot(2,1,1)\n",
        "sns.distplot(dataframe['resale_price'])\n",
        "plt.tight_layout()\n",
        "\n",
        "#visualizing square metres\n",
        "fig = plt.figure(figsize=(20,12))\n",
        "fig.add_subplot(2,2,1)\n",
        "sns.scatterplot(dataframe['floor_area_sqm'], dataframe['resale_price'])\n",
        "\n",
        "\n",
        "#visualizing bedrooms,bathrooms,floors,grade\n",
        "fig = plt.figure(figsize=(15,7))\n",
        "fig.add_subplot(2,2,1)\n",
        "sns.countplot(dataframe['town'])\n",
        "plt.xticks(rotation=90)\n",
        "fig.add_subplot(2,2,2)\n",
        "sns.countplot(dataframe['flat_type'])\n",
        "plt.xticks(rotation=90)\n",
        "fig.add_subplot(2,2,3)\n",
        "sns.countplot(dataframe['flat_model'])\n",
        "plt.xticks(rotation=90)\n",
        "fig.add_subplot(2,2,4)\n",
        "sns.countplot(dataframe['storey_range'])\n",
        "plt.xticks(rotation=90)\n",
        "\n",
        "plt.tight_layout()\n"
      ],
      "execution_count": 7,
      "outputs": [
        {
          "output_type": "stream",
          "text": [
            "/usr/local/lib/python3.6/dist-packages/seaborn/distributions.py:2551: FutureWarning: `distplot` is a deprecated function and will be removed in a future version. Please adapt your code to use either `displot` (a figure-level function with similar flexibility) or `histplot` (an axes-level function for histograms).\n",
            "  warnings.warn(msg, FutureWarning)\n",
            "/usr/local/lib/python3.6/dist-packages/seaborn/_decorators.py:43: FutureWarning: Pass the following variables as keyword args: x, y. From version 0.12, the only valid positional argument will be `data`, and passing other arguments without an explicit keyword will result in an error or misinterpretation.\n",
            "  FutureWarning\n",
            "/usr/local/lib/python3.6/dist-packages/seaborn/_decorators.py:43: FutureWarning: Pass the following variable as a keyword arg: x. From version 0.12, the only valid positional argument will be `data`, and passing other arguments without an explicit keyword will result in an error or misinterpretation.\n",
            "  FutureWarning\n",
            "/usr/local/lib/python3.6/dist-packages/seaborn/_decorators.py:43: FutureWarning: Pass the following variable as a keyword arg: x. From version 0.12, the only valid positional argument will be `data`, and passing other arguments without an explicit keyword will result in an error or misinterpretation.\n",
            "  FutureWarning\n",
            "/usr/local/lib/python3.6/dist-packages/seaborn/_decorators.py:43: FutureWarning: Pass the following variable as a keyword arg: x. From version 0.12, the only valid positional argument will be `data`, and passing other arguments without an explicit keyword will result in an error or misinterpretation.\n",
            "  FutureWarning\n",
            "/usr/local/lib/python3.6/dist-packages/seaborn/_decorators.py:43: FutureWarning: Pass the following variable as a keyword arg: x. From version 0.12, the only valid positional argument will be `data`, and passing other arguments without an explicit keyword will result in an error or misinterpretation.\n",
            "  FutureWarning\n"
          ],
          "name": "stderr"
        },
        {
          "output_type": "display_data",
          "data": {
            "image/png": "[encoded data removed]",
            "text/plain": [
              "<Figure size 720x504 with 1 Axes>"
            ]
          },
          "metadata": {
            "tags": [],
            "needs_background": "light"
          }
        },
        {
          "output_type": "display_data",
          "data": {
            "image/png": "[encoded data removed]",
            "text/plain": [
              "<Figure size 1440x864 with 1 Axes>"
            ]
          },
          "metadata": {
            "tags": [],
            "needs_background": "light"
          }
        },
        {
          "output_type": "display_data",
          "data": {
            "image/png": "[encoded data removed]",
            "text/plain": [
              "<Figure size 1080x504 with 4 Axes>"
            ]
          },
          "metadata": {
            "tags": [],
            "needs_background": "light"
          }
        }
      ]
    },
    {
      "cell_type": "markdown",
      "metadata": {
        "id": "fIgww-E1WRhJ"
      },
      "source": [
        "# Preprocess data"
      ]
    },
    {
      "cell_type": "code",
      "metadata": {
        "id": "I2QVArbHVJ6u",
        "outputId": "4be1c704-f86f-48c3-c5de-3210ef87ed22",
        "colab": {
          "base_uri": "https://localhost:8080/",
          "height": 351
        }
      },
      "source": [
        "#let's break date to years, months\n",
        "dataframe['date'] = pd.to_datetime(dataframe['month'])\n",
        "dataframe['month'] = dataframe['date'].apply(lambda date:date.month)\n",
        "dataframe['year'] = dataframe['date'].apply(lambda date:date.year)\n",
        "\n",
        "#Get number of years left on lease as a continuous number (ignoring months)\n",
        "dataframe['remaining_lease'] = dataframe['remaining_lease'].apply(lambda remaining_lease:remaining_lease[:2])\n",
        "\n",
        "#Get storey range as a continuous number\n",
        "dataframe['storey_range'] = dataframe['storey_range'].apply(lambda storey_range:storey_range[:2])\n",
        "\n",
        "#data visualization house price vs months and years\n",
        "fig = plt.figure(figsize=(16,5))\n",
        "fig.add_subplot(1,2,1)\n",
        "dataframe.groupby('month').mean()['resale_price'].plot()\n",
        "fig.add_subplot(1,2,2)\n",
        "dataframe.groupby('year').mean()['resale_price'].plot()\n"
      ],
      "execution_count": 8,
      "outputs": [
        {
          "output_type": "execute_result",
          "data": {
            "text/plain": [
              "<matplotlib.axes._subplots.AxesSubplot at 0x7fc6b8691630>"
            ]
          },
          "metadata": {
            "tags": []
          },
          "execution_count": 8
        },
        {
          "output_type": "display_data",
          "data": {
            "image/png": "[encoded data removed]",
            "text/plain": [
              "<Figure size 1152x360 with 2 Axes>"
            ]
          },
          "metadata": {
            "tags": [],
            "needs_background": "light"
          }
        }
      ]
    },
    {
      "cell_type": "markdown",
      "metadata": {
        "id": "Xp5rgObpPOsq"
      },
      "source": [
        "We can also use Google Geocode rest API to enrich the dataframe with longtitude and latitude data. For example,\n",
        "import requests\n",
        "\n",
        "response = requests.get('https://maps.googleapis.com/maps/api/geocode/json?address=1600+Amphitheatre+Parkway,+Mountain+View,+CA')\n",
        "\n",
        "resp_json_payload = response.json()\n",
        "\n",
        "print(resp_json_payload['results'][0]['geometry']['location'])\n",
        "\n",
        "OR\n",
        "\n",
        "USe Geopy and Geopanda as shown here https://towardsdatascience.com/geocode-with-python-161ec1e62b89"
      ]
    },
    {
      "cell_type": "code",
      "metadata": {
        "id": "P9EKYk4liFZF",
        "outputId": "68888ae1-1121-485f-9c16-2f6fcd3bd538",
        "colab": {
          "base_uri": "https://localhost:8080/",
          "height": 490
        }
      },
      "source": [
        "%pip install geopandas\n",
        "%pip install geopy"
      ],
      "execution_count": 9,
      "outputs": [
        {
          "output_type": "stream",
          "text": [
            "Collecting geopandas\n",
            "\u001b[?25l  Downloading https://files.pythonhosted.org/packages/f7/a4/e66aafbefcbb717813bf3a355c8c4fc3ed04ea1dd7feb2920f2f4f868921/geopandas-0.8.1-py2.py3-none-any.whl (962kB)\n",
            "\u001b[K     |████████████████████████████████| 972kB 4.6MB/s \n",
            "\u001b[?25hCollecting pyproj>=2.2.0\n",
            "\u001b[?25l  Downloading https://files.pythonhosted.org/packages/e5/c3/071e080230ac4b6c64f1a2e2f9161c9737a2bc7b683d2c90b024825000c0/pyproj-2.6.1.post1-cp36-cp36m-manylinux2010_x86_64.whl (10.9MB)\n",
            "\u001b[K     |████████████████████████████████| 10.9MB 24.2MB/s \n",
            "\u001b[?25hRequirement already satisfied: pandas>=0.23.0 in /usr/local/lib/python3.6/dist-packages (from geopandas) (1.1.2)\n",
            "Collecting fiona\n",
            "\u001b[?25l  Downloading https://files.pythonhosted.org/packages/36/8b/e8b2c11bed5373c8e98edb85ce891b09aa1f4210fd451d0fb3696b7695a2/Fiona-1.8.17-cp36-cp36m-manylinux1_x86_64.whl (14.8MB)\n",
            "\u001b[K     |████████████████████████████████| 14.8MB 181kB/s \n",
            "\u001b[?25hRequirement already satisfied: shapely in /usr/local/lib/python3.6/dist-packages (from geopandas) (1.7.1)\n",
            "Requirement already satisfied: python-dateutil>=2.7.3 in /usr/local/lib/python3.6/dist-packages (from pandas>=0.23.0->geopandas) (2.8.1)\n",
            "Requirement already satisfied: numpy>=1.15.4 in /usr/local/lib/python3.6/dist-packages (from pandas>=0.23.0->geopandas) (1.18.5)\n",
            "Requirement already satisfied: pytz>=2017.2 in /usr/local/lib/python3.6/dist-packages (from pandas>=0.23.0->geopandas) (2018.9)\n",
            "Collecting click-plugins>=1.0\n",
            "  Downloading https://files.pythonhosted.org/packages/e9/da/824b92d9942f4e472702488857914bdd50f73021efea15b4cad9aca8ecef/click_plugins-1.1.1-py2.py3-none-any.whl\n",
            "Requirement already satisfied: attrs>=17 in /usr/local/lib/python3.6/dist-packages (from fiona->geopandas) (20.2.0)\n",
            "Requirement already satisfied: click<8,>=4.0 in /usr/local/lib/python3.6/dist-packages (from fiona->geopandas) (7.1.2)\n",
            "Requirement already satisfied: six>=1.7 in /usr/local/lib/python3.6/dist-packages (from fiona->geopandas) (1.15.0)\n",
            "Collecting munch\n",
            "  Downloading https://files.pythonhosted.org/packages/cc/ab/85d8da5c9a45e072301beb37ad7f833cd344e04c817d97e0cc75681d248f/munch-2.5.0-py2.py3-none-any.whl\n",
            "Collecting cligj>=0.5\n",
            "  Downloading https://files.pythonhosted.org/packages/e4/be/30a58b4b0733850280d01f8bd132591b4668ed5c7046761098d665ac2174/cligj-0.5.0-py3-none-any.whl\n",
            "Installing collected packages: pyproj, click-plugins, munch, cligj, fiona, geopandas\n",
            "Successfully installed click-plugins-1.1.1 cligj-0.5.0 fiona-1.8.17 geopandas-0.8.1 munch-2.5.0 pyproj-2.6.1.post1\n",
            "Requirement already satisfied: geopy in /usr/local/lib/python3.6/dist-packages (1.17.0)\n",
            "Requirement already satisfied: geographiclib<2,>=1.49 in /usr/local/lib/python3.6/dist-packages (from geopy) (1.50)\n"
          ],
          "name": "stdout"
        }
      ]
    },
    {
      "cell_type": "markdown",
      "metadata": {
        "id": "XHEQuKm4WZmf"
      },
      "source": [
        "# Geocode locations"
      ]
    },
    {
      "cell_type": "code",
      "metadata": {
        "id": "bWkHwjT5glRU"
      },
      "source": [
        "#Concat address\n",
        "\n",
        "dataframe['address'] = dataframe['block'].map(str) + ', ' + dataframe['street_name'].map(str) + ', Singapore' "
      ],
      "execution_count": 10,
      "outputs": []
    },
    {
      "cell_type": "code",
      "metadata": {
        "id": "2N7G9Ua3jsHZ",
        "outputId": "bff84a1c-762c-4045-be1e-cfca85ad40fc",
        "colab": {
          "base_uri": "https://localhost:8080/",
          "height": 454
        }
      },
      "source": [
        "\n",
        "import geopandas as gpd\n",
        "import geopy\n",
        "from geopy.geocoders import Nominatim\n",
        "import folium\n",
        "from folium.plugins import FastMarkerCluster\n",
        "from geopy.extra.rate_limiter import RateLimiter\n",
        "\n",
        "'''\n",
        "#Geocode by address\n",
        "locator = Nominatim(user_agent=\"myGeocoder\")\n",
        "\n",
        "# 1 - convenient function to delay between geocoding calls\n",
        "geocode = RateLimiter(locator.geocode, min_delay_seconds=1)\n",
        "# 2- - create location column\n",
        "dataframe['location'] = dataframe['address'].apply(geocode)\n",
        "print(\"step 2\")\n",
        "# 3 - create longitude, laatitude and altitude from location column (returns tuple)\n",
        "dataframe['point'] = dataframe['location'].apply(lambda loc: tuple(loc.point) if loc else None)\n",
        "print(\"step 3\")\n",
        "# 4 - split point column into latitude, longitude and altitude columns\n",
        "dataframe[['latitude', 'longitude', 'altitude']] = pd.DataFrame(dataframe['point'].tolist(), index=df.index)\n",
        "print(\"step 4\")\n",
        "'''\n",
        "#Geocode by town (Singapore is so small that geocoding by addresses might not make much difference compared to geocoding to town)\n",
        "town = [x for x in dataframe['town'].unique().tolist() \n",
        "            if type(x) == str]\n",
        "latitude = []\n",
        "longitude =  []\n",
        "for i in range(0, len(town)):\n",
        "    # remove things that does not seem usefull here\n",
        "    try:\n",
        "        geolocator = Nominatim(user_agent=\"ny_explorer\")\n",
        "        loc = geolocator.geocode(town[i])\n",
        "        latitude.append(loc.latitude)\n",
        "        longitude.append(loc.longitude)\n",
        "        print('The geographical coordinate of location are {}, {}.'.format(loc.latitude, loc.longitude))\n",
        "    except:\n",
        "        # in the case the geolocator does not work, then add nan element to list\n",
        "        # to keep the right size\n",
        "        latitude.append(np.nan)\n",
        "        longitude.append(np.nan)\n",
        "# create a dataframe with the locatio, latitude and longitude\n",
        "df_ = pd.DataFrame({'town':town, \n",
        "                    'latitude': latitude,\n",
        "                    'longitude':longitude})\n",
        "# merge on Restaurant_Location with rest_df to get the column \n",
        "dataframe = dataframe.merge(df_, on='town', how='left')\n"
      ],
      "execution_count": 11,
      "outputs": [
        {
          "output_type": "stream",
          "text": [
            "The geographical coordinate of location are 1.3700803, 103.8495228.\n",
            "The geographical coordinate of location are 1.3239765, 103.930216.\n",
            "The geographical coordinate of location are 1.3509859, 103.84825507492937.\n",
            "The geographical coordinate of location are 1.3490572, 103.7495906.\n",
            "The geographical coordinate of location are 4.5592879, 101.0255816.\n",
            "The geographical coordinate of location are 1.3791486, 103.76141301431002.\n",
            "The geographical coordinate of location are 1.3546901, 103.7763724.\n",
            "The geographical coordinate of location are 36.5070827, -79.7447575.\n",
            "The geographical coordinate of location are 1.3847493, 103.7445341.\n",
            "The geographical coordinate of location are 1.3151003, 103.7652311.\n",
            "The geographical coordinate of location are 1.3181862, 103.8870563.\n",
            "The geographical coordinate of location are 1.3708011, 103.89254433997465.\n",
            "The geographical coordinate of location are 1.333108, 103.7422939.\n",
            "The geographical coordinate of location are 1.3396365, 103.7073387.\n",
            "The geographical coordinate of location are 1.32975, 103.8638399.\n",
            "The geographical coordinate of location are 1.3026889, 103.9073952.\n",
            "The geographical coordinate of location are 1.3730307, 103.949255.\n",
            "The geographical coordinate of location are 1.40519735, 103.90234976571602.\n",
            "The geographical coordinate of location are -45.0321923, 168.661.\n",
            "The geographical coordinate of location are 1.4490928, 103.8200555.\n",
            "The geographical coordinate of location are 1.3919236499999998, 103.89549093760694.\n",
            "The geographical coordinate of location are 1.3497610500000001, 103.87368414801405.\n",
            "The geographical coordinate of location are 1.3546528, 103.9435712.\n",
            "The geographical coordinate of location are 1.3353906, 103.8497414.\n",
            "The geographical coordinate of location are 30.1734194, -95.504686.\n",
            "The geographical coordinate of location are 1.4293839, 103.8350282.\n"
          ],
          "name": "stdout"
        }
      ]
    },
    {
      "cell_type": "code",
      "metadata": {
        "id": "YbQuKgBXV26S",
        "outputId": "e6384e96-0316-4ba3-c29c-b384b60a5ffe",
        "colab": {
          "base_uri": "https://localhost:8080/",
          "height": 842
        }
      },
      "source": [
        "dataframe.head(100)"
      ],
      "execution_count": 12,
      "outputs": [
        {
          "output_type": "execute_result",
          "data": {
            "text/html": [
              "<div>\n",
              "<style scoped>\n",
              "    .dataframe tbody tr th:only-of-type {\n",
              "        vertical-align: middle;\n",
              "    }\n",
              "\n",
              "    .dataframe tbody tr th {\n",
              "        vertical-align: top;\n",
              "    }\n",
              "\n",
              "    .dataframe thead th {\n",
              "        text-align: right;\n",
              "    }\n",
              "</style>\n",
              "<table border=\"1\" class=\"dataframe\">\n",
              "  <thead>\n",
              "    <tr style=\"text-align: right;\">\n",
              "      <th></th>\n",
              "      <th>month</th>\n",
              "      <th>town</th>\n",
              "      <th>flat_type</th>\n",
              "      <th>block</th>\n",
              "      <th>street_name</th>\n",
              "      <th>storey_range</th>\n",
              "      <th>floor_area_sqm</th>\n",
              "      <th>flat_model</th>\n",
              "      <th>lease_commence_date</th>\n",
              "      <th>remaining_lease</th>\n",
              "      <th>resale_price</th>\n",
              "      <th>date</th>\n",
              "      <th>year</th>\n",
              "      <th>address</th>\n",
              "      <th>latitude</th>\n",
              "      <th>longitude</th>\n",
              "    </tr>\n",
              "  </thead>\n",
              "  <tbody>\n",
              "    <tr>\n",
              "      <th>0</th>\n",
              "      <td>1</td>\n",
              "      <td>ANG MO KIO</td>\n",
              "      <td>2 ROOM</td>\n",
              "      <td>406</td>\n",
              "      <td>ANG MO KIO AVE 10</td>\n",
              "      <td>10</td>\n",
              "      <td>44.0</td>\n",
              "      <td>Improved</td>\n",
              "      <td>1979</td>\n",
              "      <td>61</td>\n",
              "      <td>232000.0</td>\n",
              "      <td>2017-01-01</td>\n",
              "      <td>2017</td>\n",
              "      <td>406, ANG MO KIO AVE 10, Singapore</td>\n",
              "      <td>1.370080</td>\n",
              "      <td>103.849523</td>\n",
              "    </tr>\n",
              "    <tr>\n",
              "      <th>1</th>\n",
              "      <td>1</td>\n",
              "      <td>ANG MO KIO</td>\n",
              "      <td>3 ROOM</td>\n",
              "      <td>108</td>\n",
              "      <td>ANG MO KIO AVE 4</td>\n",
              "      <td>01</td>\n",
              "      <td>67.0</td>\n",
              "      <td>New Generation</td>\n",
              "      <td>1978</td>\n",
              "      <td>60</td>\n",
              "      <td>250000.0</td>\n",
              "      <td>2017-01-01</td>\n",
              "      <td>2017</td>\n",
              "      <td>108, ANG MO KIO AVE 4, Singapore</td>\n",
              "      <td>1.370080</td>\n",
              "      <td>103.849523</td>\n",
              "    </tr>\n",
              "    <tr>\n",
              "      <th>2</th>\n",
              "      <td>1</td>\n",
              "      <td>ANG MO KIO</td>\n",
              "      <td>3 ROOM</td>\n",
              "      <td>602</td>\n",
              "      <td>ANG MO KIO AVE 5</td>\n",
              "      <td>01</td>\n",
              "      <td>67.0</td>\n",
              "      <td>New Generation</td>\n",
              "      <td>1980</td>\n",
              "      <td>62</td>\n",
              "      <td>262000.0</td>\n",
              "      <td>2017-01-01</td>\n",
              "      <td>2017</td>\n",
              "      <td>602, ANG MO KIO AVE 5, Singapore</td>\n",
              "      <td>1.370080</td>\n",
              "      <td>103.849523</td>\n",
              "    </tr>\n",
              "    <tr>\n",
              "      <th>3</th>\n",
              "      <td>1</td>\n",
              "      <td>ANG MO KIO</td>\n",
              "      <td>3 ROOM</td>\n",
              "      <td>465</td>\n",
              "      <td>ANG MO KIO AVE 10</td>\n",
              "      <td>04</td>\n",
              "      <td>68.0</td>\n",
              "      <td>New Generation</td>\n",
              "      <td>1980</td>\n",
              "      <td>62</td>\n",
              "      <td>265000.0</td>\n",
              "      <td>2017-01-01</td>\n",
              "      <td>2017</td>\n",
              "      <td>465, ANG MO KIO AVE 10, Singapore</td>\n",
              "      <td>1.370080</td>\n",
              "      <td>103.849523</td>\n",
              "    </tr>\n",
              "    <tr>\n",
              "      <th>4</th>\n",
              "      <td>1</td>\n",
              "      <td>ANG MO KIO</td>\n",
              "      <td>3 ROOM</td>\n",
              "      <td>601</td>\n",
              "      <td>ANG MO KIO AVE 5</td>\n",
              "      <td>01</td>\n",
              "      <td>67.0</td>\n",
              "      <td>New Generation</td>\n",
              "      <td>1980</td>\n",
              "      <td>62</td>\n",
              "      <td>265000.0</td>\n",
              "      <td>2017-01-01</td>\n",
              "      <td>2017</td>\n",
              "      <td>601, ANG MO KIO AVE 5, Singapore</td>\n",
              "      <td>1.370080</td>\n",
              "      <td>103.849523</td>\n",
              "    </tr>\n",
              "    <tr>\n",
              "      <th>...</th>\n",
              "      <td>...</td>\n",
              "      <td>...</td>\n",
              "      <td>...</td>\n",
              "      <td>...</td>\n",
              "      <td>...</td>\n",
              "      <td>...</td>\n",
              "      <td>...</td>\n",
              "      <td>...</td>\n",
              "      <td>...</td>\n",
              "      <td>...</td>\n",
              "      <td>...</td>\n",
              "      <td>...</td>\n",
              "      <td>...</td>\n",
              "      <td>...</td>\n",
              "      <td>...</td>\n",
              "      <td>...</td>\n",
              "    </tr>\n",
              "    <tr>\n",
              "      <th>95</th>\n",
              "      <td>1</td>\n",
              "      <td>BEDOK</td>\n",
              "      <td>4 ROOM</td>\n",
              "      <td>78</td>\n",
              "      <td>BEDOK NTH RD</td>\n",
              "      <td>04</td>\n",
              "      <td>91.0</td>\n",
              "      <td>New Generation</td>\n",
              "      <td>1978</td>\n",
              "      <td>60</td>\n",
              "      <td>382000.0</td>\n",
              "      <td>2017-01-01</td>\n",
              "      <td>2017</td>\n",
              "      <td>78, BEDOK NTH RD, Singapore</td>\n",
              "      <td>1.323976</td>\n",
              "      <td>103.930216</td>\n",
              "    </tr>\n",
              "    <tr>\n",
              "      <th>96</th>\n",
              "      <td>1</td>\n",
              "      <td>BEDOK</td>\n",
              "      <td>4 ROOM</td>\n",
              "      <td>135</td>\n",
              "      <td>BEDOK RESERVOIR RD</td>\n",
              "      <td>07</td>\n",
              "      <td>84.0</td>\n",
              "      <td>Simplified</td>\n",
              "      <td>1987</td>\n",
              "      <td>69</td>\n",
              "      <td>384000.0</td>\n",
              "      <td>2017-01-01</td>\n",
              "      <td>2017</td>\n",
              "      <td>135, BEDOK RESERVOIR RD, Singapore</td>\n",
              "      <td>1.323976</td>\n",
              "      <td>103.930216</td>\n",
              "    </tr>\n",
              "    <tr>\n",
              "      <th>97</th>\n",
              "      <td>1</td>\n",
              "      <td>BEDOK</td>\n",
              "      <td>4 ROOM</td>\n",
              "      <td>148</td>\n",
              "      <td>BEDOK RESERVOIR RD</td>\n",
              "      <td>13</td>\n",
              "      <td>84.0</td>\n",
              "      <td>Simplified</td>\n",
              "      <td>1987</td>\n",
              "      <td>69</td>\n",
              "      <td>385000.0</td>\n",
              "      <td>2017-01-01</td>\n",
              "      <td>2017</td>\n",
              "      <td>148, BEDOK RESERVOIR RD, Singapore</td>\n",
              "      <td>1.323976</td>\n",
              "      <td>103.930216</td>\n",
              "    </tr>\n",
              "    <tr>\n",
              "      <th>98</th>\n",
              "      <td>1</td>\n",
              "      <td>BEDOK</td>\n",
              "      <td>4 ROOM</td>\n",
              "      <td>81</td>\n",
              "      <td>BEDOK NTH RD</td>\n",
              "      <td>01</td>\n",
              "      <td>91.0</td>\n",
              "      <td>New Generation</td>\n",
              "      <td>1978</td>\n",
              "      <td>60</td>\n",
              "      <td>390000.0</td>\n",
              "      <td>2017-01-01</td>\n",
              "      <td>2017</td>\n",
              "      <td>81, BEDOK NTH RD, Singapore</td>\n",
              "      <td>1.323976</td>\n",
              "      <td>103.930216</td>\n",
              "    </tr>\n",
              "    <tr>\n",
              "      <th>99</th>\n",
              "      <td>1</td>\n",
              "      <td>BEDOK</td>\n",
              "      <td>4 ROOM</td>\n",
              "      <td>142</td>\n",
              "      <td>BEDOK RESERVOIR RD</td>\n",
              "      <td>07</td>\n",
              "      <td>84.0</td>\n",
              "      <td>Simplified</td>\n",
              "      <td>1986</td>\n",
              "      <td>68</td>\n",
              "      <td>392000.0</td>\n",
              "      <td>2017-01-01</td>\n",
              "      <td>2017</td>\n",
              "      <td>142, BEDOK RESERVOIR RD, Singapore</td>\n",
              "      <td>1.323976</td>\n",
              "      <td>103.930216</td>\n",
              "    </tr>\n",
              "  </tbody>\n",
              "</table>\n",
              "<p>100 rows × 16 columns</p>\n",
              "</div>"
            ],
            "text/plain": [
              "    month        town  ...  latitude   longitude\n",
              "0       1  ANG MO KIO  ...  1.370080  103.849523\n",
              "1       1  ANG MO KIO  ...  1.370080  103.849523\n",
              "2       1  ANG MO KIO  ...  1.370080  103.849523\n",
              "3       1  ANG MO KIO  ...  1.370080  103.849523\n",
              "4       1  ANG MO KIO  ...  1.370080  103.849523\n",
              "..    ...         ...  ...       ...         ...\n",
              "95      1       BEDOK  ...  1.323976  103.930216\n",
              "96      1       BEDOK  ...  1.323976  103.930216\n",
              "97      1       BEDOK  ...  1.323976  103.930216\n",
              "98      1       BEDOK  ...  1.323976  103.930216\n",
              "99      1       BEDOK  ...  1.323976  103.930216\n",
              "\n",
              "[100 rows x 16 columns]"
            ]
          },
          "metadata": {
            "tags": []
          },
          "execution_count": 12
        }
      ]
    },
    {
      "cell_type": "code",
      "metadata": {
        "id": "AjjqTxtB6NtF",
        "outputId": "84a8f318-3752-4b8d-f4fa-f44a46918d80",
        "colab": {
          "base_uri": "https://localhost:8080/",
          "height": 302
        }
      },
      "source": [
        "# check if there are any Null values\n",
        "dataframe.isnull().sum()"
      ],
      "execution_count": 13,
      "outputs": [
        {
          "output_type": "execute_result",
          "data": {
            "text/plain": [
              "month                  0\n",
              "town                   0\n",
              "flat_type              0\n",
              "block                  0\n",
              "street_name            0\n",
              "storey_range           0\n",
              "floor_area_sqm         0\n",
              "flat_model             0\n",
              "lease_commence_date    0\n",
              "remaining_lease        0\n",
              "resale_price           0\n",
              "date                   0\n",
              "year                   0\n",
              "address                0\n",
              "latitude               0\n",
              "longitude              0\n",
              "dtype: int64"
            ]
          },
          "metadata": {
            "tags": []
          },
          "execution_count": 13
        }
      ]
    },
    {
      "cell_type": "markdown",
      "metadata": {
        "id": "WfKMSR9_WfcF"
      },
      "source": [
        "# Encode categorical string values"
      ]
    },
    {
      "cell_type": "code",
      "metadata": {
        "id": "8z8EtJ26b-kv"
      },
      "source": [
        "### label encode the categorical values and convert them to numbers \n",
        "'''\n",
        "le = LabelEncoder()\n",
        "\n",
        "dataframe['town']= le.fit_transform(dataframe['town'].astype(str))\n",
        "\n",
        "dataframe['flat_type'] = le.fit_transform(dataframe['flat_type'].astype(str))\n",
        "\n",
        "dataframe['street_name'] = le.fit_transform(dataframe['street_name'].astype(str))\n",
        "\n",
        "#dataframe['storey_range'] = le.fit_transform(dataframe['storey_range'].astype(str))\n",
        "\n",
        "dataframe['flat_model'] = le.fit_transform(dataframe['flat_model'].astype(str))\n",
        "\n",
        "dataframe['block'] = le.fit_transform(dataframe['block'].astype(str))\n",
        "\n",
        "dataframe['address'] = le.fit_transform(dataframe['address'].astype(str))\n",
        "'''\n",
        "\n",
        "townDict = {'ANG MO KIO': 1,'BEDOK': 2,'BISHAN': 3,'BUKIT BATOK': 4,'BUKIT MERAH': 5,'BUKIT PANJANG': 6,'BUKIT TIMAH': 7,'CENTRAL AREA': 8,'CHOA CHU KANG': 9,'CLEMENTI': 10,'GEYLANG': 11,'HOUGANG': 12,'JURONG EAST': 13,'JURONG WEST': 14,'KALLANG/WHAMPOA': 15,'MARINE PARADE': 16,'PASIR RIS': 17,'PUNGGOL': 18,'QUEENSTOWN': 19,'SEMBAWANG': 20,'SENGKANG': 21,'SERANGOON': 22,'TAMPINES': 23,'TOA PAYOH': 24,'WOODLANDS': 25,'YISHUN': 26,}\n",
        "flat_typeDict = {'1 ROOM': 1,'2 ROOM': 2,'3 ROOM': 3,'4 ROOM': 4,'5 ROOM': 5,'EXECUTIVE': 6,'MULTI-GENERATION': 7,}\n",
        "\n",
        "\n",
        "dataframe['town'] = dataframe['town'].replace(townDict, regex=True)\n",
        "dataframe['flat_type'] = dataframe['flat_type'].replace(flat_typeDict, regex=True)\n",
        "\n"
      ],
      "execution_count": 14,
      "outputs": []
    },
    {
      "cell_type": "markdown",
      "metadata": {
        "id": "AfCrWUnfWmbT"
      },
      "source": [
        "# Understand correlations"
      ]
    },
    {
      "cell_type": "code",
      "metadata": {
        "id": "uh8JFpRSACwE",
        "outputId": "39855654-f48b-43c5-d15d-f8bd92531a9b",
        "colab": {
          "base_uri": "https://localhost:8080/",
          "height": 645
        }
      },
      "source": [
        "#correlation matrix\n",
        "corrmat = dataframe.corr()\n",
        "f, ax = plt.subplots(figsize=(12, 9))\n",
        "sns.heatmap(corrmat, vmax=.8, square=True);"
      ],
      "execution_count": 15,
      "outputs": [
        {
          "output_type": "display_data",
          "data": {
            "image/png": "[encoded data removed]",
            "text/plain": [
              "<Figure size 864x648 with 2 Axes>"
            ]
          },
          "metadata": {
            "tags": [],
            "needs_background": "light"
          }
        }
      ]
    },
    {
      "cell_type": "code",
      "metadata": {
        "id": "OeyeK4iuAWld",
        "outputId": "c830dbb9-5e45-40ef-a663-4806cd993801",
        "colab": {
          "base_uri": "https://localhost:8080/",
          "height": 421
        }
      },
      "source": [
        "#resale_price correlation matrix\n",
        "k = 10 #number of variables for heatmap\n",
        "cols = corrmat.nlargest(k, 'resale_price')['resale_price'].index\n",
        "cm = np.corrcoef(dataframe[cols].values.T)\n",
        "sns.set(font_scale=1.25)\n",
        "hm = sns.heatmap(cm, cbar=True, annot=True, square=True, fmt='.2f', annot_kws={'size': 10}, yticklabels=cols.values, xticklabels=cols.values)\n",
        "plt.show()"
      ],
      "execution_count": 16,
      "outputs": [
        {
          "output_type": "display_data",
          "data": {
            "image/png": "[encoded data removed]",
            "text/plain": [
              "<Figure size 432x288 with 2 Axes>"
            ]
          },
          "metadata": {
            "tags": []
          }
        }
      ]
    },
    {
      "cell_type": "markdown",
      "metadata": {
        "id": "BY6IS4rlWvhF"
      },
      "source": [
        "# Drop columns with low correlations"
      ]
    },
    {
      "cell_type": "code",
      "metadata": {
        "id": "XSok6aemZp-6"
      },
      "source": [
        "\n",
        "\n",
        "# drop some unnecessary columns\n",
        "dataframe = dataframe.drop('date',axis=1)\n",
        "\n",
        "dataframe = dataframe.drop('block',axis=1)\n",
        "#dataframe = dataframe.drop('lease_commence_date',axis=1)\n",
        "dataframe = dataframe.drop('month',axis=1)\n",
        "dataframe = dataframe.drop('street_name',axis=1)\n",
        "dataframe = dataframe.drop('address',axis=1)\n",
        "dataframe = dataframe.drop('flat_model',axis=1)\n",
        "#dataframe = dataframe.drop('town',axis=1)\n",
        "dataframe = dataframe.drop('year',axis=1)\n",
        "#dataframe = dataframe.drop('latitude',axis=1)\n",
        "dataframe = dataframe.drop('remaining_lease',axis=1)\n",
        "\n",
        "\n",
        "\n",
        "\n",
        "\n",
        "\n"
      ],
      "execution_count": 17,
      "outputs": []
    },
    {
      "cell_type": "markdown",
      "metadata": {
        "id": "E--By9oRW0Wz"
      },
      "source": [
        "# Preview model input data"
      ]
    },
    {
      "cell_type": "code",
      "metadata": {
        "id": "neTsK6QsIDAi",
        "outputId": "3f83f2bb-a0eb-46bc-f3e9-8de43b2c56f2",
        "colab": {
          "base_uri": "https://localhost:8080/",
          "height": 195
        }
      },
      "source": [
        "dataframe.head()"
      ],
      "execution_count": 18,
      "outputs": [
        {
          "output_type": "execute_result",
          "data": {
            "text/html": [
              "<div>\n",
              "<style scoped>\n",
              "    .dataframe tbody tr th:only-of-type {\n",
              "        vertical-align: middle;\n",
              "    }\n",
              "\n",
              "    .dataframe tbody tr th {\n",
              "        vertical-align: top;\n",
              "    }\n",
              "\n",
              "    .dataframe thead th {\n",
              "        text-align: right;\n",
              "    }\n",
              "</style>\n",
              "<table border=\"1\" class=\"dataframe\">\n",
              "  <thead>\n",
              "    <tr style=\"text-align: right;\">\n",
              "      <th></th>\n",
              "      <th>town</th>\n",
              "      <th>flat_type</th>\n",
              "      <th>storey_range</th>\n",
              "      <th>floor_area_sqm</th>\n",
              "      <th>lease_commence_date</th>\n",
              "      <th>resale_price</th>\n",
              "      <th>latitude</th>\n",
              "      <th>longitude</th>\n",
              "    </tr>\n",
              "  </thead>\n",
              "  <tbody>\n",
              "    <tr>\n",
              "      <th>0</th>\n",
              "      <td>1</td>\n",
              "      <td>2</td>\n",
              "      <td>10</td>\n",
              "      <td>44.0</td>\n",
              "      <td>1979</td>\n",
              "      <td>232000.0</td>\n",
              "      <td>1.37008</td>\n",
              "      <td>103.849523</td>\n",
              "    </tr>\n",
              "    <tr>\n",
              "      <th>1</th>\n",
              "      <td>1</td>\n",
              "      <td>3</td>\n",
              "      <td>01</td>\n",
              "      <td>67.0</td>\n",
              "      <td>1978</td>\n",
              "      <td>250000.0</td>\n",
              "      <td>1.37008</td>\n",
              "      <td>103.849523</td>\n",
              "    </tr>\n",
              "    <tr>\n",
              "      <th>2</th>\n",
              "      <td>1</td>\n",
              "      <td>3</td>\n",
              "      <td>01</td>\n",
              "      <td>67.0</td>\n",
              "      <td>1980</td>\n",
              "      <td>262000.0</td>\n",
              "      <td>1.37008</td>\n",
              "      <td>103.849523</td>\n",
              "    </tr>\n",
              "    <tr>\n",
              "      <th>3</th>\n",
              "      <td>1</td>\n",
              "      <td>3</td>\n",
              "      <td>04</td>\n",
              "      <td>68.0</td>\n",
              "      <td>1980</td>\n",
              "      <td>265000.0</td>\n",
              "      <td>1.37008</td>\n",
              "      <td>103.849523</td>\n",
              "    </tr>\n",
              "    <tr>\n",
              "      <th>4</th>\n",
              "      <td>1</td>\n",
              "      <td>3</td>\n",
              "      <td>01</td>\n",
              "      <td>67.0</td>\n",
              "      <td>1980</td>\n",
              "      <td>265000.0</td>\n",
              "      <td>1.37008</td>\n",
              "      <td>103.849523</td>\n",
              "    </tr>\n",
              "  </tbody>\n",
              "</table>\n",
              "</div>"
            ],
            "text/plain": [
              "   town  flat_type storey_range  ...  resale_price  latitude   longitude\n",
              "0     1          2           10  ...      232000.0   1.37008  103.849523\n",
              "1     1          3           01  ...      250000.0   1.37008  103.849523\n",
              "2     1          3           01  ...      262000.0   1.37008  103.849523\n",
              "3     1          3           04  ...      265000.0   1.37008  103.849523\n",
              "4     1          3           01  ...      265000.0   1.37008  103.849523\n",
              "\n",
              "[5 rows x 8 columns]"
            ]
          },
          "metadata": {
            "tags": []
          },
          "execution_count": 18
        }
      ]
    },
    {
      "cell_type": "markdown",
      "metadata": {
        "id": "4kAbWZA4aXCr"
      },
      "source": [
        "# Data Split"
      ]
    },
    {
      "cell_type": "code",
      "metadata": {
        "id": "sd4bkIREaWdV"
      },
      "source": [
        "#X = dataframe.drop('resale_price',axis =1).values\n",
        "#y = dataframe['resale_price'].values\n",
        "\n",
        "X = dataframe.drop('resale_price',axis =1)\n",
        "y = dataframe['resale_price']\n",
        "\n"
      ],
      "execution_count": 19,
      "outputs": []
    },
    {
      "cell_type": "code",
      "metadata": {
        "id": "iJt0ec62uUrQ"
      },
      "source": [
        "X=X.values\n",
        "y=y.values"
      ],
      "execution_count": 20,
      "outputs": []
    },
    {
      "cell_type": "code",
      "metadata": {
        "id": "VkIcUHEzhG8n",
        "outputId": "1d9532a6-c6da-4a1b-c07a-2cd438f63322",
        "colab": {
          "base_uri": "https://localhost:8080/",
          "height": 34
        }
      },
      "source": [
        "print(X[0])"
      ],
      "execution_count": 21,
      "outputs": [
        {
          "output_type": "stream",
          "text": [
            "[1 2 '10' 44.0 1979 1.3700803 103.8495228]\n"
          ],
          "name": "stdout"
        }
      ]
    },
    {
      "cell_type": "code",
      "metadata": {
        "id": "bN047MfapYPL"
      },
      "source": [
        "#splitting Train and Test \n",
        "from sklearn.model_selection import train_test_split\n",
        "X_train, X_test, y_train, y_test = train_test_split(X, y, test_size=0.3, random_state=101)"
      ],
      "execution_count": 22,
      "outputs": []
    },
    {
      "cell_type": "code",
      "metadata": {
        "id": "c82eKi1EhIWp",
        "outputId": "4e4359bb-f87f-4e17-c36c-3bdfbb41c6bc",
        "colab": {
          "base_uri": "https://localhost:8080/",
          "height": 34
        }
      },
      "source": [
        "print(X_train[0])"
      ],
      "execution_count": 23,
      "outputs": [
        {
          "output_type": "stream",
          "text": [
            "[23 4 '01' 91.0 1984 1.3546528 103.9435712]\n"
          ],
          "name": "stdout"
        }
      ]
    },
    {
      "cell_type": "markdown",
      "metadata": {
        "id": "Obg33T9SXDhX"
      },
      "source": [
        "# Scaling"
      ]
    },
    {
      "cell_type": "code",
      "metadata": {
        "id": "fC1xzGrNaplB",
        "outputId": "c1f880b2-ab83-4655-87b4-4c2720e40c9e",
        "colab": {
          "base_uri": "https://localhost:8080/",
          "height": 52
        }
      },
      "source": [
        "#standardization scaler - fit&transform on train, fit only on test\n",
        "\n",
        "s_scaler = StandardScaler()\n",
        "X_train = s_scaler.fit_transform(X_train.astype(np.float))\n",
        "X_test = s_scaler.transform(X_test.astype(np.float))\n",
        "\n",
        "\n",
        "#MinMax scaler - fit&transform on train, fit only on test\n",
        "'''\n",
        "s_scaler = MinMaxScaler()\n",
        "X_train = s_scaler.fit_transform(X_train.astype(np.float))\n",
        "X_test = s_scaler.transform(X_test.astype(np.float))\n",
        "'''"
      ],
      "execution_count": 24,
      "outputs": [
        {
          "output_type": "execute_result",
          "data": {
            "application/vnd.google.colaboratory.intrinsic+json": {
              "type": "string"
            },
            "text/plain": [
              "'\\ns_scaler = MinMaxScaler()\\nX_train = s_scaler.fit_transform(X_train.astype(np.float))\\nX_test = s_scaler.transform(X_test.astype(np.float))\\n'"
            ]
          },
          "metadata": {
            "tags": []
          },
          "execution_count": 24
        }
      ]
    },
    {
      "cell_type": "markdown",
      "metadata": {
        "id": "_vdqRRZ5w9Np"
      },
      "source": [
        "# Model 1: Linear Regression"
      ]
    },
    {
      "cell_type": "code",
      "metadata": {
        "id": "92nWzIlCjbVu",
        "outputId": "99fc430b-ef17-4ace-82ff-a4e8a9c640d3",
        "colab": {
          "base_uri": "https://localhost:8080/",
          "height": 305
        }
      },
      "source": [
        "# Multiple Liner Regression\n",
        "from sklearn.linear_model import LinearRegression\n",
        "regressor = LinearRegression()  \n",
        "regressor.fit(X_train, y_train)\n",
        "#evaluate the model (intercept and slope)\n",
        "print(regressor.intercept_)\n",
        "print(regressor.coef_)\n",
        "#predicting the test set result\n",
        "y_pred = regressor.predict(X_test)\n",
        "#put results as a DataFrame\n",
        "coeff_df = pd.DataFrame(regressor.coef_, dataframe.drop('resale_price',axis =1).columns, columns=['Coefficient']) \n",
        "coeff_df"
      ],
      "execution_count": 25,
      "outputs": [
        {
          "output_type": "stream",
          "text": [
            "438726.56080475025\n",
            "[-23303.92408865  23763.86508526  43364.85980826  74563.50995063\n",
            "  25084.6113144  -36339.58983993 -15139.19325723]\n"
          ],
          "name": "stdout"
        },
        {
          "output_type": "execute_result",
          "data": {
            "text/html": [
              "<div>\n",
              "<style scoped>\n",
              "    .dataframe tbody tr th:only-of-type {\n",
              "        vertical-align: middle;\n",
              "    }\n",
              "\n",
              "    .dataframe tbody tr th {\n",
              "        vertical-align: top;\n",
              "    }\n",
              "\n",
              "    .dataframe thead th {\n",
              "        text-align: right;\n",
              "    }\n",
              "</style>\n",
              "<table border=\"1\" class=\"dataframe\">\n",
              "  <thead>\n",
              "    <tr style=\"text-align: right;\">\n",
              "      <th></th>\n",
              "      <th>Coefficient</th>\n",
              "    </tr>\n",
              "  </thead>\n",
              "  <tbody>\n",
              "    <tr>\n",
              "      <th>town</th>\n",
              "      <td>-23303.924089</td>\n",
              "    </tr>\n",
              "    <tr>\n",
              "      <th>flat_type</th>\n",
              "      <td>23763.865085</td>\n",
              "    </tr>\n",
              "    <tr>\n",
              "      <th>storey_range</th>\n",
              "      <td>43364.859808</td>\n",
              "    </tr>\n",
              "    <tr>\n",
              "      <th>floor_area_sqm</th>\n",
              "      <td>74563.509951</td>\n",
              "    </tr>\n",
              "    <tr>\n",
              "      <th>lease_commence_date</th>\n",
              "      <td>25084.611314</td>\n",
              "    </tr>\n",
              "    <tr>\n",
              "      <th>latitude</th>\n",
              "      <td>-36339.589840</td>\n",
              "    </tr>\n",
              "    <tr>\n",
              "      <th>longitude</th>\n",
              "      <td>-15139.193257</td>\n",
              "    </tr>\n",
              "  </tbody>\n",
              "</table>\n",
              "</div>"
            ],
            "text/plain": [
              "                      Coefficient\n",
              "town                -23303.924089\n",
              "flat_type            23763.865085\n",
              "storey_range         43364.859808\n",
              "floor_area_sqm       74563.509951\n",
              "lease_commence_date  25084.611314\n",
              "latitude            -36339.589840\n",
              "longitude           -15139.193257"
            ]
          },
          "metadata": {
            "tags": []
          },
          "execution_count": 25
        }
      ]
    },
    {
      "cell_type": "code",
      "metadata": {
        "id": "wBZq4DIAjknU",
        "outputId": "9b4c5348-e1cd-4cd4-faf8-ddd0cbd54999",
        "colab": {
          "base_uri": "https://localhost:8080/",
          "height": 410
        }
      },
      "source": [
        "# visualizing residuals\n",
        "fig = plt.figure(figsize=(10,5))\n",
        "residuals = (y_test- y_pred)\n",
        "sns.distplot(residuals)"
      ],
      "execution_count": 26,
      "outputs": [
        {
          "output_type": "stream",
          "text": [
            "/usr/local/lib/python3.6/dist-packages/seaborn/distributions.py:2551: FutureWarning: `distplot` is a deprecated function and will be removed in a future version. Please adapt your code to use either `displot` (a figure-level function with similar flexibility) or `histplot` (an axes-level function for histograms).\n",
            "  warnings.warn(msg, FutureWarning)\n"
          ],
          "name": "stderr"
        },
        {
          "output_type": "execute_result",
          "data": {
            "text/plain": [
              "<matplotlib.axes._subplots.AxesSubplot at 0x7fc6b8de8588>"
            ]
          },
          "metadata": {
            "tags": []
          },
          "execution_count": 26
        },
        {
          "output_type": "display_data",
          "data": {
            "image/png": "[encoded data removed]",
            "text/plain": [
              "<Figure size 720x360 with 1 Axes>"
            ]
          },
          "metadata": {
            "tags": []
          }
        }
      ]
    },
    {
      "cell_type": "code",
      "metadata": {
        "id": "iP6FZyGCjoas",
        "outputId": "051f9be2-1e17-4e66-b278-e1569f8f2ff6",
        "colab": {
          "base_uri": "https://localhost:8080/",
          "height": 343
        }
      },
      "source": [
        "#compare actual output values with predicted values\n",
        "y_pred = regressor.predict(X_test)\n",
        "df = pd.DataFrame({'Actual': y_test, 'Predicted': y_pred})\n",
        "df1 = df.head(10)\n",
        "df1\n"
      ],
      "execution_count": 27,
      "outputs": [
        {
          "output_type": "execute_result",
          "data": {
            "text/html": [
              "<div>\n",
              "<style scoped>\n",
              "    .dataframe tbody tr th:only-of-type {\n",
              "        vertical-align: middle;\n",
              "    }\n",
              "\n",
              "    .dataframe tbody tr th {\n",
              "        vertical-align: top;\n",
              "    }\n",
              "\n",
              "    .dataframe thead th {\n",
              "        text-align: right;\n",
              "    }\n",
              "</style>\n",
              "<table border=\"1\" class=\"dataframe\">\n",
              "  <thead>\n",
              "    <tr style=\"text-align: right;\">\n",
              "      <th></th>\n",
              "      <th>Actual</th>\n",
              "      <th>Predicted</th>\n",
              "    </tr>\n",
              "  </thead>\n",
              "  <tbody>\n",
              "    <tr>\n",
              "      <th>0</th>\n",
              "      <td>318000.0</td>\n",
              "      <td>438507.992301</td>\n",
              "    </tr>\n",
              "    <tr>\n",
              "      <th>1</th>\n",
              "      <td>770000.0</td>\n",
              "      <td>520882.740728</td>\n",
              "    </tr>\n",
              "    <tr>\n",
              "      <th>2</th>\n",
              "      <td>851800.0</td>\n",
              "      <td>538331.202484</td>\n",
              "    </tr>\n",
              "    <tr>\n",
              "      <th>3</th>\n",
              "      <td>475000.0</td>\n",
              "      <td>512533.657286</td>\n",
              "    </tr>\n",
              "    <tr>\n",
              "      <th>4</th>\n",
              "      <td>320000.0</td>\n",
              "      <td>343942.388290</td>\n",
              "    </tr>\n",
              "    <tr>\n",
              "      <th>5</th>\n",
              "      <td>305000.0</td>\n",
              "      <td>360899.266588</td>\n",
              "    </tr>\n",
              "    <tr>\n",
              "      <th>6</th>\n",
              "      <td>460000.0</td>\n",
              "      <td>516238.557580</td>\n",
              "    </tr>\n",
              "    <tr>\n",
              "      <th>7</th>\n",
              "      <td>470000.0</td>\n",
              "      <td>413940.963681</td>\n",
              "    </tr>\n",
              "    <tr>\n",
              "      <th>8</th>\n",
              "      <td>468000.0</td>\n",
              "      <td>662196.628018</td>\n",
              "    </tr>\n",
              "    <tr>\n",
              "      <th>9</th>\n",
              "      <td>340000.0</td>\n",
              "      <td>517207.052462</td>\n",
              "    </tr>\n",
              "  </tbody>\n",
              "</table>\n",
              "</div>"
            ],
            "text/plain": [
              "     Actual      Predicted\n",
              "0  318000.0  438507.992301\n",
              "1  770000.0  520882.740728\n",
              "2  851800.0  538331.202484\n",
              "3  475000.0  512533.657286\n",
              "4  320000.0  343942.388290\n",
              "5  305000.0  360899.266588\n",
              "6  460000.0  516238.557580\n",
              "7  470000.0  413940.963681\n",
              "8  468000.0  662196.628018\n",
              "9  340000.0  517207.052462"
            ]
          },
          "metadata": {
            "tags": []
          },
          "execution_count": 27
        }
      ]
    },
    {
      "cell_type": "code",
      "metadata": {
        "id": "w9vLUJwv7EsR",
        "outputId": "4b87fe53-58c8-4ebb-8731-4fb437846c89",
        "colab": {
          "base_uri": "https://localhost:8080/",
          "height": 34
        }
      },
      "source": [
        "print(y_test)"
      ],
      "execution_count": 28,
      "outputs": [
        {
          "output_type": "stream",
          "text": [
            "[318000. 770000. 851800. ... 350000. 450000. 360000.]\n"
          ],
          "name": "stdout"
        }
      ]
    },
    {
      "cell_type": "code",
      "metadata": {
        "id": "Z7-QqN3gvQcC",
        "outputId": "9167e002-8565-4d04-b78b-01af642c5cfd",
        "colab": {
          "base_uri": "https://localhost:8080/",
          "height": 84
        }
      },
      "source": [
        "# evaluate the performance of the algorithm (MAE - MSE - RMSE)\n",
        "from sklearn import metrics\n",
        "print('MAE:', metrics.mean_absolute_error(y_test, y_pred))  \n",
        "print('MSE:', metrics.mean_squared_error(y_test, y_pred))  \n",
        "print('RMSE:', np.sqrt(metrics.mean_squared_error(y_test, y_pred)))\n",
        "print('VarScore:',metrics.explained_variance_score(y_test,y_pred))"
      ],
      "execution_count": 29,
      "outputs": [
        {
          "output_type": "stream",
          "text": [
            "MAE: 72189.73698345898\n",
            "MSE: 9413246271.327522\n",
            "RMSE: 97021.88552758352\n",
            "VarScore: 0.5966611367993274\n"
          ],
          "name": "stdout"
        }
      ]
    },
    {
      "cell_type": "markdown",
      "metadata": {
        "id": "swPahS1wwxnN"
      },
      "source": [
        "# Model 2: Keras neural network"
      ]
    },
    {
      "cell_type": "code",
      "metadata": {
        "id": "TiWCiD1Fw_D0"
      },
      "source": [
        "# Creating a Neural Network Model\n",
        "from tensorflow.keras.models import Sequential\n",
        "from tensorflow.keras.layers import Dense, Activation,Dropout\n",
        "from tensorflow.keras.optimizers import Adam"
      ],
      "execution_count": 30,
      "outputs": []
    },
    {
      "cell_type": "code",
      "metadata": {
        "id": "QoU6INMfxDPH"
      },
      "source": [
        "# having 7 neuron is based on the number of available features\n",
        "model = Sequential()\n",
        "model.add(Dense(9,activation='relu'))\n",
        "model.add(Dense(18,activation='relu'))\n",
        "model.add(Dense(18,activation='relu'))\n",
        "model.add(Dense(9,activation='relu'))\n",
        "model.add(Dense(1))\n",
        "model.compile(optimizer='Adam',loss='mse')"
      ],
      "execution_count": 31,
      "outputs": []
    },
    {
      "cell_type": "code",
      "metadata": {
        "id": "XDmYDa6nxF4L",
        "outputId": "353d01ea-2e48-42cc-a0ee-0f8cece6fcbe",
        "colab": {
          "base_uri": "https://localhost:8080/",
          "height": 1000
        }
      },
      "source": [
        "model.fit(x=X_train,y=y_train,\n",
        "          validation_data=(X_test,y_test),\n",
        "          batch_size=128,epochs=400)\n",
        "\n",
        "model.summary()"
      ],
      "execution_count": 32,
      "outputs": [
        {
          "output_type": "stream",
          "text": [
            "Epoch 1/400\n",
            "426/426 [==============================] - 1s 2ms/step - loss: 214865525057.3489 - val_loss: 197426675712.0000\n",
            "Epoch 2/400\n",
            "426/426 [==============================] - 1s 1ms/step - loss: 154842987277.7892 - val_loss: 29016162304.0000\n",
            "Epoch 3/400\n",
            "426/426 [==============================] - 1s 1ms/step - loss: 23636921106.5855 - val_loss: 15851044864.0000\n",
            "Epoch 4/400\n",
            "426/426 [==============================] - 1s 1ms/step - loss: 14870663774.7260 - val_loss: 12213007360.0000\n",
            "Epoch 5/400\n",
            "426/426 [==============================] - 1s 1ms/step - loss: 11976032025.7799 - val_loss: 10569812992.0000\n",
            "Epoch 6/400\n",
            "426/426 [==============================] - 1s 1ms/step - loss: 10621684407.4567 - val_loss: 9724096512.0000\n",
            "Epoch 7/400\n",
            "426/426 [==============================] - 1s 1ms/step - loss: 9668000669.6768 - val_loss: 9247040512.0000\n",
            "Epoch 8/400\n",
            "426/426 [==============================] - 1s 1ms/step - loss: 9343735935.1007 - val_loss: 8919955456.0000\n",
            "Epoch 9/400\n",
            "426/426 [==============================] - 1s 1ms/step - loss: 9056928374.7073 - val_loss: 8714435584.0000\n",
            "Epoch 10/400\n",
            "426/426 [==============================] - 1s 1ms/step - loss: 8892745978.6042 - val_loss: 8563100672.0000\n",
            "Epoch 11/400\n",
            "426/426 [==============================] - 1s 1ms/step - loss: 8693192105.6674 - val_loss: 8458939392.0000\n",
            "Epoch 12/400\n",
            "426/426 [==============================] - 1s 1ms/step - loss: 8522004527.9625 - val_loss: 8364121600.0000\n",
            "Epoch 13/400\n",
            "426/426 [==============================] - 1s 1ms/step - loss: 8409509053.4520 - val_loss: 8294218752.0000\n",
            "Epoch 14/400\n",
            "426/426 [==============================] - 1s 1ms/step - loss: 8497089512.0187 - val_loss: 8218827264.0000\n",
            "Epoch 15/400\n",
            "426/426 [==============================] - 1s 1ms/step - loss: 8215548194.1733 - val_loss: 8170272768.0000\n",
            "Epoch 16/400\n",
            "426/426 [==============================] - 1s 1ms/step - loss: 8183476038.1452 - val_loss: 8070438400.0000\n",
            "Epoch 17/400\n",
            "426/426 [==============================] - 1s 1ms/step - loss: 8076359123.6347 - val_loss: 7995677184.0000\n",
            "Epoch 18/400\n",
            "426/426 [==============================] - 1s 1ms/step - loss: 8101454826.4169 - val_loss: 7928360448.0000\n",
            "Epoch 19/400\n",
            "426/426 [==============================] - 1s 1ms/step - loss: 7892052078.3138 - val_loss: 7845223424.0000\n",
            "Epoch 20/400\n",
            "426/426 [==============================] - 1s 1ms/step - loss: 7862233014.8571 - val_loss: 7749857792.0000\n",
            "Epoch 21/400\n",
            "426/426 [==============================] - 1s 1ms/step - loss: 7750061111.1569 - val_loss: 7657299968.0000\n",
            "Epoch 22/400\n",
            "426/426 [==============================] - 1s 2ms/step - loss: 7738027776.5995 - val_loss: 7584882688.0000\n",
            "Epoch 23/400\n",
            "426/426 [==============================] - 1s 1ms/step - loss: 7626905187.5222 - val_loss: 7523989504.0000\n",
            "Epoch 24/400\n",
            "426/426 [==============================] - 1s 1ms/step - loss: 7614904491.4660 - val_loss: 7474520576.0000\n",
            "Epoch 25/400\n",
            "426/426 [==============================] - 1s 1ms/step - loss: 7436082972.1780 - val_loss: 7436057088.0000\n",
            "Epoch 26/400\n",
            "426/426 [==============================] - 1s 1ms/step - loss: 7556409936.3372 - val_loss: 7402853888.0000\n",
            "Epoch 27/400\n",
            "426/426 [==============================] - 1s 1ms/step - loss: 7400658545.9110 - val_loss: 7372307456.0000\n",
            "Epoch 28/400\n",
            "426/426 [==============================] - 1s 1ms/step - loss: 7348394946.8478 - val_loss: 7373724160.0000\n",
            "Epoch 29/400\n",
            "426/426 [==============================] - 1s 1ms/step - loss: 7364909480.4684 - val_loss: 7336273920.0000\n",
            "Epoch 30/400\n",
            "426/426 [==============================] - 1s 1ms/step - loss: 7376952126.9508 - val_loss: 7326084608.0000\n",
            "Epoch 31/400\n",
            "426/426 [==============================] - 1s 1ms/step - loss: 7378185060.1218 - val_loss: 7308536832.0000\n",
            "Epoch 32/400\n",
            "426/426 [==============================] - 1s 1ms/step - loss: 7354627870.5761 - val_loss: 7311746048.0000\n",
            "Epoch 33/400\n",
            "426/426 [==============================] - 1s 2ms/step - loss: 7250292990.2014 - val_loss: 7293056512.0000\n",
            "Epoch 34/400\n",
            "426/426 [==============================] - 1s 1ms/step - loss: 7380646860.4403 - val_loss: 7293201408.0000\n",
            "Epoch 35/400\n",
            "426/426 [==============================] - 1s 1ms/step - loss: 7281323476.8337 - val_loss: 7267884544.0000\n",
            "Epoch 36/400\n",
            "426/426 [==============================] - 1s 1ms/step - loss: 7349618825.8923 - val_loss: 7261631488.0000\n",
            "Epoch 37/400\n",
            "426/426 [==============================] - 1s 1ms/step - loss: 7224137705.2178 - val_loss: 7246815232.0000\n",
            "Epoch 38/400\n",
            "426/426 [==============================] - 1s 1ms/step - loss: 7369486286.8384 - val_loss: 7243922944.0000\n",
            "Epoch 39/400\n",
            "426/426 [==============================] - 1s 1ms/step - loss: 7327480959.1007 - val_loss: 7231897088.0000\n",
            "Epoch 40/400\n",
            "426/426 [==============================] - 1s 1ms/step - loss: 7201217310.5761 - val_loss: 7237901824.0000\n",
            "Epoch 41/400\n",
            "426/426 [==============================] - 1s 2ms/step - loss: 7159806581.5082 - val_loss: 7230516224.0000\n",
            "Epoch 42/400\n",
            "426/426 [==============================] - 1s 1ms/step - loss: 7252837444.3466 - val_loss: 7209409536.0000\n",
            "Epoch 43/400\n",
            "426/426 [==============================] - 1s 1ms/step - loss: 7337356754.4356 - val_loss: 7216714240.0000\n",
            "Epoch 44/400\n",
            "426/426 [==============================] - 1s 2ms/step - loss: 7238991825.2365 - val_loss: 7199187456.0000\n",
            "Epoch 45/400\n",
            "426/426 [==============================] - 1s 1ms/step - loss: 7260572526.9133 - val_loss: 7197370880.0000\n",
            "Epoch 46/400\n",
            "426/426 [==============================] - 1s 1ms/step - loss: 7213551727.5129 - val_loss: 7189181952.0000\n",
            "Epoch 47/400\n",
            "426/426 [==============================] - 1s 1ms/step - loss: 7170181576.8431 - val_loss: 7178526208.0000\n",
            "Epoch 48/400\n",
            "426/426 [==============================] - 1s 1ms/step - loss: 7192769599.5504 - val_loss: 7176030208.0000\n",
            "Epoch 49/400\n",
            "426/426 [==============================] - 1s 1ms/step - loss: 7169853737.3677 - val_loss: 7174779904.0000\n",
            "Epoch 50/400\n",
            "426/426 [==============================] - 1s 1ms/step - loss: 7248551143.4192 - val_loss: 7164794368.0000\n",
            "Epoch 51/400\n",
            "426/426 [==============================] - 1s 1ms/step - loss: 7257215634.2857 - val_loss: 7168508928.0000\n",
            "Epoch 52/400\n",
            "426/426 [==============================] - 1s 1ms/step - loss: 7242209977.8548 - val_loss: 7156799488.0000\n",
            "Epoch 53/400\n",
            "426/426 [==============================] - 1s 1ms/step - loss: 7170668936.0937 - val_loss: 7161031680.0000\n",
            "Epoch 54/400\n",
            "426/426 [==============================] - 1s 1ms/step - loss: 7153366468.0468 - val_loss: 7156663296.0000\n",
            "Epoch 55/400\n",
            "426/426 [==============================] - 1s 1ms/step - loss: 7184453096.0187 - val_loss: 7147741696.0000\n",
            "Epoch 56/400\n",
            "426/426 [==============================] - 1s 1ms/step - loss: 7255613177.4052 - val_loss: 7160798720.0000\n",
            "Epoch 57/400\n",
            "426/426 [==============================] - 1s 2ms/step - loss: 7208118997.4333 - val_loss: 7154079232.0000\n",
            "Epoch 58/400\n",
            "426/426 [==============================] - 1s 1ms/step - loss: 7132442857.8173 - val_loss: 7130563584.0000\n",
            "Epoch 59/400\n",
            "426/426 [==============================] - 1s 2ms/step - loss: 7079835428.5714 - val_loss: 7136894976.0000\n",
            "Epoch 60/400\n",
            "426/426 [==============================] - 1s 1ms/step - loss: 7125807768.2810 - val_loss: 7130148864.0000\n",
            "Epoch 61/400\n",
            "426/426 [==============================] - 1s 1ms/step - loss: 7192582278.2951 - val_loss: 7139502080.0000\n",
            "Epoch 62/400\n",
            "426/426 [==============================] - 1s 1ms/step - loss: 7158802623.8501 - val_loss: 7123062272.0000\n",
            "Epoch 63/400\n",
            "426/426 [==============================] - 1s 2ms/step - loss: 7130787674.5293 - val_loss: 7130893312.0000\n",
            "Epoch 64/400\n",
            "426/426 [==============================] - 1s 1ms/step - loss: 7057508078.6136 - val_loss: 7122437632.0000\n",
            "Epoch 65/400\n",
            "426/426 [==============================] - 1s 1ms/step - loss: 7075363126.5574 - val_loss: 7123020288.0000\n",
            "Epoch 66/400\n",
            "426/426 [==============================] - 1s 2ms/step - loss: 7158033326.4637 - val_loss: 7108564992.0000\n",
            "Epoch 67/400\n",
            "426/426 [==============================] - 1s 1ms/step - loss: 7075315016.5433 - val_loss: 7107667456.0000\n",
            "Epoch 68/400\n",
            "426/426 [==============================] - 1s 1ms/step - loss: 7102596726.7073 - val_loss: 7114270208.0000\n",
            "Epoch 69/400\n",
            "426/426 [==============================] - 1s 1ms/step - loss: 7116367601.0117 - val_loss: 7109322240.0000\n",
            "Epoch 70/400\n",
            "426/426 [==============================] - 1s 2ms/step - loss: 7041361012.3091 - val_loss: 7101811712.0000\n",
            "Epoch 71/400\n",
            "426/426 [==============================] - 1s 1ms/step - loss: 7165595272.6932 - val_loss: 7097322496.0000\n",
            "Epoch 72/400\n",
            "426/426 [==============================] - 1s 1ms/step - loss: 7141640566.1077 - val_loss: 7094350848.0000\n",
            "Epoch 73/400\n",
            "426/426 [==============================] - 1s 1ms/step - loss: 7140046741.2834 - val_loss: 7096038912.0000\n",
            "Epoch 74/400\n",
            "426/426 [==============================] - 1s 1ms/step - loss: 7101204067.5222 - val_loss: 7085186560.0000\n",
            "Epoch 75/400\n",
            "426/426 [==============================] - 1s 2ms/step - loss: 7141506944.8993 - val_loss: 7087425024.0000\n",
            "Epoch 76/400\n",
            "426/426 [==============================] - 1s 1ms/step - loss: 7056867736.8806 - val_loss: 7091609088.0000\n",
            "Epoch 77/400\n",
            "426/426 [==============================] - 1s 1ms/step - loss: 7090751726.6136 - val_loss: 7083936768.0000\n",
            "Epoch 78/400\n",
            "426/426 [==============================] - 1s 1ms/step - loss: 7109342367.4754 - val_loss: 7075332096.0000\n",
            "Epoch 79/400\n",
            "426/426 [==============================] - 1s 1ms/step - loss: 7103413075.3349 - val_loss: 7072970240.0000\n",
            "Epoch 80/400\n",
            "426/426 [==============================] - 1s 2ms/step - loss: 7058066521.9297 - val_loss: 7074727936.0000\n",
            "Epoch 81/400\n",
            "426/426 [==============================] - 1s 1ms/step - loss: 7095412370.2857 - val_loss: 7072704512.0000\n",
            "Epoch 82/400\n",
            "426/426 [==============================] - 1s 2ms/step - loss: 7129088311.7564 - val_loss: 7063857152.0000\n",
            "Epoch 83/400\n",
            "426/426 [==============================] - 1s 1ms/step - loss: 7142162336.0749 - val_loss: 7070167552.0000\n",
            "Epoch 84/400\n",
            "426/426 [==============================] - 1s 2ms/step - loss: 6980664291.2225 - val_loss: 7097658880.0000\n",
            "Epoch 85/400\n",
            "426/426 [==============================] - 1s 2ms/step - loss: 7010571993.0304 - val_loss: 7061724672.0000\n",
            "Epoch 86/400\n",
            "426/426 [==============================] - 1s 2ms/step - loss: 7043297223.6440 - val_loss: 7073969152.0000\n",
            "Epoch 87/400\n",
            "426/426 [==============================] - 1s 1ms/step - loss: 7096238968.5059 - val_loss: 7048646144.0000\n",
            "Epoch 88/400\n",
            "426/426 [==============================] - 1s 2ms/step - loss: 7111066801.4614 - val_loss: 7073640960.0000\n",
            "Epoch 89/400\n",
            "426/426 [==============================] - 1s 2ms/step - loss: 7024711664.4122 - val_loss: 7045952000.0000\n",
            "Epoch 90/400\n",
            "426/426 [==============================] - 1s 2ms/step - loss: 7069370648.5808 - val_loss: 7044028416.0000\n",
            "Epoch 91/400\n",
            "426/426 [==============================] - 1s 2ms/step - loss: 7078981672.7682 - val_loss: 7041974784.0000\n",
            "Epoch 92/400\n",
            "426/426 [==============================] - 1s 2ms/step - loss: 7036237839.5878 - val_loss: 7040498688.0000\n",
            "Epoch 93/400\n",
            "426/426 [==============================] - 1s 1ms/step - loss: 7078995182.6136 - val_loss: 7037457408.0000\n",
            "Epoch 94/400\n",
            "426/426 [==============================] - 1s 1ms/step - loss: 7107882379.6909 - val_loss: 7037284864.0000\n",
            "Epoch 95/400\n",
            "426/426 [==============================] - 1s 1ms/step - loss: 7085688027.4286 - val_loss: 7058775552.0000\n",
            "Epoch 96/400\n",
            "426/426 [==============================] - 1s 1ms/step - loss: 7040011671.6815 - val_loss: 7032876032.0000\n",
            "Epoch 97/400\n",
            "426/426 [==============================] - 1s 1ms/step - loss: 7014800756.9087 - val_loss: 7051375616.0000\n",
            "Epoch 98/400\n",
            "426/426 [==============================] - 1s 2ms/step - loss: 7135418943.5504 - val_loss: 7037748224.0000\n",
            "Epoch 99/400\n",
            "426/426 [==============================] - 1s 2ms/step - loss: 6938734568.0187 - val_loss: 7023104000.0000\n",
            "Epoch 100/400\n",
            "426/426 [==============================] - 1s 2ms/step - loss: 7034082403.5222 - val_loss: 7030304768.0000\n",
            "Epoch 101/400\n",
            "426/426 [==============================] - 1s 2ms/step - loss: 7007710746.3794 - val_loss: 7030469120.0000\n",
            "Epoch 102/400\n",
            "426/426 [==============================] - 1s 1ms/step - loss: 6984795073.6487 - val_loss: 7017316864.0000\n",
            "Epoch 103/400\n",
            "426/426 [==============================] - 1s 2ms/step - loss: 7030057850.9040 - val_loss: 7018253312.0000\n",
            "Epoch 104/400\n",
            "426/426 [==============================] - 1s 1ms/step - loss: 7036491785.5925 - val_loss: 7018544128.0000\n",
            "Epoch 105/400\n",
            "426/426 [==============================] - 1s 2ms/step - loss: 7003085254.4450 - val_loss: 7015519744.0000\n",
            "Epoch 106/400\n",
            "426/426 [==============================] - 1s 2ms/step - loss: 7088178596.8712 - val_loss: 7006885888.0000\n",
            "Epoch 107/400\n",
            "426/426 [==============================] - 1s 2ms/step - loss: 6972552898.2482 - val_loss: 7002892800.0000\n",
            "Epoch 108/400\n",
            "426/426 [==============================] - 1s 2ms/step - loss: 7058907074.8478 - val_loss: 7001221632.0000\n",
            "Epoch 109/400\n",
            "426/426 [==============================] - 1s 2ms/step - loss: 7035755042.7728 - val_loss: 6996343808.0000\n",
            "Epoch 110/400\n",
            "426/426 [==============================] - 1s 2ms/step - loss: 6941899656.0937 - val_loss: 6989371904.0000\n",
            "Epoch 111/400\n",
            "426/426 [==============================] - 1s 2ms/step - loss: 7063883772.4028 - val_loss: 6991699456.0000\n",
            "Epoch 112/400\n",
            "426/426 [==============================] - 1s 1ms/step - loss: 7130369382.5199 - val_loss: 6994005504.0000\n",
            "Epoch 113/400\n",
            "426/426 [==============================] - 1s 1ms/step - loss: 6935093369.1054 - val_loss: 6955156992.0000\n",
            "Epoch 114/400\n",
            "426/426 [==============================] - 1s 2ms/step - loss: 7062866741.3583 - val_loss: 6945227776.0000\n",
            "Epoch 115/400\n",
            "426/426 [==============================] - 1s 2ms/step - loss: 6996125752.3560 - val_loss: 6930781184.0000\n",
            "Epoch 116/400\n",
            "426/426 [==============================] - 1s 2ms/step - loss: 6931144464.1874 - val_loss: 6932824576.0000\n",
            "Epoch 117/400\n",
            "426/426 [==============================] - 1s 1ms/step - loss: 6952406528.0000 - val_loss: 6906319360.0000\n",
            "Epoch 118/400\n",
            "426/426 [==============================] - 1s 2ms/step - loss: 6938627530.0422 - val_loss: 6891266560.0000\n",
            "Epoch 119/400\n",
            "426/426 [==============================] - 1s 2ms/step - loss: 6922687437.6393 - val_loss: 6886612992.0000\n",
            "Epoch 120/400\n",
            "426/426 [==============================] - 1s 2ms/step - loss: 6926012776.9180 - val_loss: 6870798848.0000\n",
            "Epoch 121/400\n",
            "426/426 [==============================] - 1s 2ms/step - loss: 6748772941.9391 - val_loss: 6851476992.0000\n",
            "Epoch 122/400\n",
            "426/426 [==============================] - 1s 1ms/step - loss: 6800074292.7588 - val_loss: 6838644224.0000\n",
            "Epoch 123/400\n",
            "426/426 [==============================] - 1s 1ms/step - loss: 6861164037.9953 - val_loss: 6834321408.0000\n",
            "Epoch 124/400\n",
            "426/426 [==============================] - 1s 2ms/step - loss: 6820859652.1967 - val_loss: 6811129856.0000\n",
            "Epoch 125/400\n",
            "426/426 [==============================] - 1s 2ms/step - loss: 6802637611.7658 - val_loss: 6804338688.0000\n",
            "Epoch 126/400\n",
            "426/426 [==============================] - 1s 1ms/step - loss: 6740530753.9485 - val_loss: 6792758784.0000\n",
            "Epoch 127/400\n",
            "426/426 [==============================] - 1s 2ms/step - loss: 6868507871.0258 - val_loss: 6781894144.0000\n",
            "Epoch 128/400\n",
            "426/426 [==============================] - 1s 2ms/step - loss: 6853878216.8431 - val_loss: 6774411264.0000\n",
            "Epoch 129/400\n",
            "426/426 [==============================] - 1s 1ms/step - loss: 6763053644.7400 - val_loss: 6770191872.0000\n",
            "Epoch 130/400\n",
            "426/426 [==============================] - 1s 1ms/step - loss: 6788929087.5504 - val_loss: 6765785600.0000\n",
            "Epoch 131/400\n",
            "426/426 [==============================] - 1s 1ms/step - loss: 6762495803.3536 - val_loss: 6758503424.0000\n",
            "Epoch 132/400\n",
            "426/426 [==============================] - 1s 1ms/step - loss: 6709315218.2857 - val_loss: 6765162496.0000\n",
            "Epoch 133/400\n",
            "426/426 [==============================] - 1s 1ms/step - loss: 6831577025.6487 - val_loss: 6750658048.0000\n",
            "Epoch 134/400\n",
            "426/426 [==============================] - 1s 1ms/step - loss: 6849447111.0445 - val_loss: 6741765120.0000\n",
            "Epoch 135/400\n",
            "426/426 [==============================] - 1s 2ms/step - loss: 6767214812.6276 - val_loss: 6736288256.0000\n",
            "Epoch 136/400\n",
            "426/426 [==============================] - 1s 2ms/step - loss: 6801473588.7588 - val_loss: 6734534144.0000\n",
            "Epoch 137/400\n",
            "426/426 [==============================] - 1s 2ms/step - loss: 6752089588.0094 - val_loss: 6736145408.0000\n",
            "Epoch 138/400\n",
            "426/426 [==============================] - 1s 1ms/step - loss: 6682047002.3794 - val_loss: 6721410560.0000\n",
            "Epoch 139/400\n",
            "426/426 [==============================] - 1s 2ms/step - loss: 6712537633.5738 - val_loss: 6717192192.0000\n",
            "Epoch 140/400\n",
            "426/426 [==============================] - 1s 2ms/step - loss: 6840011168.0749 - val_loss: 6733032448.0000\n",
            "Epoch 141/400\n",
            "426/426 [==============================] - 1s 1ms/step - loss: 6567010778.8290 - val_loss: 6742382592.0000\n",
            "Epoch 142/400\n",
            "426/426 [==============================] - 1s 1ms/step - loss: 6712076580.5714 - val_loss: 6708658176.0000\n",
            "Epoch 143/400\n",
            "426/426 [==============================] - 1s 2ms/step - loss: 6620339014.1452 - val_loss: 6702307328.0000\n",
            "Epoch 144/400\n",
            "426/426 [==============================] - 1s 2ms/step - loss: 6628281105.3864 - val_loss: 6695094272.0000\n",
            "Epoch 145/400\n",
            "426/426 [==============================] - 1s 1ms/step - loss: 6764124136.0187 - val_loss: 6688578048.0000\n",
            "Epoch 146/400\n",
            "426/426 [==============================] - 1s 2ms/step - loss: 6736213144.2810 - val_loss: 6684424192.0000\n",
            "Epoch 147/400\n",
            "426/426 [==============================] - 1s 1ms/step - loss: 6686260227.5972 - val_loss: 6688702464.0000\n",
            "Epoch 148/400\n",
            "426/426 [==============================] - 1s 1ms/step - loss: 6714588494.5386 - val_loss: 6669599232.0000\n",
            "Epoch 149/400\n",
            "426/426 [==============================] - 1s 1ms/step - loss: 6703973505.4988 - val_loss: 6668055040.0000\n",
            "Epoch 150/400\n",
            "426/426 [==============================] - 1s 1ms/step - loss: 6707158971.6534 - val_loss: 6667642880.0000\n",
            "Epoch 151/400\n",
            "426/426 [==============================] - 1s 1ms/step - loss: 6757209757.0773 - val_loss: 6661991936.0000\n",
            "Epoch 152/400\n",
            "426/426 [==============================] - 1s 1ms/step - loss: 6732641616.9368 - val_loss: 6670357504.0000\n",
            "Epoch 153/400\n",
            "426/426 [==============================] - 1s 1ms/step - loss: 6683088130.9977 - val_loss: 6656765440.0000\n",
            "Epoch 154/400\n",
            "426/426 [==============================] - 1s 1ms/step - loss: 6672190226.5855 - val_loss: 6655273472.0000\n",
            "Epoch 155/400\n",
            "426/426 [==============================] - 1s 1ms/step - loss: 6708761778.6604 - val_loss: 6651224576.0000\n",
            "Epoch 156/400\n",
            "426/426 [==============================] - 1s 1ms/step - loss: 6682369365.7330 - val_loss: 6642716672.0000\n",
            "Epoch 157/400\n",
            "426/426 [==============================] - 1s 1ms/step - loss: 6592870232.1311 - val_loss: 6660116992.0000\n",
            "Epoch 158/400\n",
            "426/426 [==============================] - 1s 1ms/step - loss: 6748924962.7728 - val_loss: 6683189760.0000\n",
            "Epoch 159/400\n",
            "426/426 [==============================] - 1s 1ms/step - loss: 6706006845.7518 - val_loss: 6641628672.0000\n",
            "Epoch 160/400\n",
            "426/426 [==============================] - 1s 1ms/step - loss: 6670833535.7002 - val_loss: 6636077568.0000\n",
            "Epoch 161/400\n",
            "426/426 [==============================] - 1s 1ms/step - loss: 6596039954.5855 - val_loss: 6643062272.0000\n",
            "Epoch 162/400\n",
            "426/426 [==============================] - 1s 1ms/step - loss: 6572335981.7143 - val_loss: 6629058048.0000\n",
            "Epoch 163/400\n",
            "426/426 [==============================] - 1s 1ms/step - loss: 6592678427.5785 - val_loss: 6641752064.0000\n",
            "Epoch 164/400\n",
            "426/426 [==============================] - 1s 1ms/step - loss: 6623543677.3021 - val_loss: 6624345600.0000\n",
            "Epoch 165/400\n",
            "426/426 [==============================] - 1s 1ms/step - loss: 6658561298.5855 - val_loss: 6626475520.0000\n",
            "Epoch 166/400\n",
            "426/426 [==============================] - 1s 1ms/step - loss: 6597653301.3583 - val_loss: 6633825792.0000\n",
            "Epoch 167/400\n",
            "426/426 [==============================] - 1s 1ms/step - loss: 6637355956.4590 - val_loss: 6619956224.0000\n",
            "Epoch 168/400\n",
            "426/426 [==============================] - 1s 2ms/step - loss: 6532888761.8548 - val_loss: 6613667840.0000\n",
            "Epoch 169/400\n",
            "426/426 [==============================] - 1s 1ms/step - loss: 6741539542.6323 - val_loss: 6611853312.0000\n",
            "Epoch 170/400\n",
            "426/426 [==============================] - 1s 1ms/step - loss: 6659382882.3232 - val_loss: 6610149376.0000\n",
            "Epoch 171/400\n",
            "426/426 [==============================] - 1s 1ms/step - loss: 6631781890.3981 - val_loss: 6617984000.0000\n",
            "Epoch 172/400\n",
            "426/426 [==============================] - 1s 2ms/step - loss: 6653026184.0937 - val_loss: 6608500736.0000\n",
            "Epoch 173/400\n",
            "426/426 [==============================] - 1s 1ms/step - loss: 6605035577.5550 - val_loss: 6606550016.0000\n",
            "Epoch 174/400\n",
            "426/426 [==============================] - 1s 2ms/step - loss: 6637436484.3466 - val_loss: 6616814592.0000\n",
            "Epoch 175/400\n",
            "426/426 [==============================] - 1s 1ms/step - loss: 6629794531.8220 - val_loss: 6605430272.0000\n",
            "Epoch 176/400\n",
            "426/426 [==============================] - 1s 1ms/step - loss: 6648823508.2342 - val_loss: 6604103680.0000\n",
            "Epoch 177/400\n",
            "426/426 [==============================] - 1s 1ms/step - loss: 6664979753.3677 - val_loss: 6599460864.0000\n",
            "Epoch 178/400\n",
            "426/426 [==============================] - 1s 2ms/step - loss: 6653018609.6112 - val_loss: 6597578752.0000\n",
            "Epoch 179/400\n",
            "426/426 [==============================] - 1s 1ms/step - loss: 6675673293.0398 - val_loss: 6598896128.0000\n",
            "Epoch 180/400\n",
            "426/426 [==============================] - 1s 1ms/step - loss: 6756556430.6885 - val_loss: 6593633280.0000\n",
            "Epoch 181/400\n",
            "426/426 [==============================] - 1s 1ms/step - loss: 6574142007.1569 - val_loss: 6598394368.0000\n",
            "Epoch 182/400\n",
            "426/426 [==============================] - 1s 1ms/step - loss: 6645427906.2482 - val_loss: 6592781824.0000\n",
            "Epoch 183/400\n",
            "426/426 [==============================] - 1s 1ms/step - loss: 6665837168.7119 - val_loss: 6589914624.0000\n",
            "Epoch 184/400\n",
            "426/426 [==============================] - 1s 1ms/step - loss: 6684449651.7096 - val_loss: 6595747328.0000\n",
            "Epoch 185/400\n",
            "426/426 [==============================] - 1s 1ms/step - loss: 6633030364.6276 - val_loss: 6596266496.0000\n",
            "Epoch 186/400\n",
            "426/426 [==============================] - 1s 2ms/step - loss: 6605524240.1874 - val_loss: 6585938432.0000\n",
            "Epoch 187/400\n",
            "426/426 [==============================] - 1s 1ms/step - loss: 6670035911.6440 - val_loss: 6602672128.0000\n",
            "Epoch 188/400\n",
            "426/426 [==============================] - 1s 1ms/step - loss: 6525322243.5972 - val_loss: 6587288064.0000\n",
            "Epoch 189/400\n",
            "426/426 [==============================] - 1s 1ms/step - loss: 6561416962.9977 - val_loss: 6583946752.0000\n",
            "Epoch 190/400\n",
            "426/426 [==============================] - 1s 1ms/step - loss: 6553002754.9977 - val_loss: 6580309504.0000\n",
            "Epoch 191/400\n",
            "426/426 [==============================] - 1s 1ms/step - loss: 6591265047.3817 - val_loss: 6580229120.0000\n",
            "Epoch 192/400\n",
            "426/426 [==============================] - 1s 1ms/step - loss: 6623981398.9321 - val_loss: 6576799232.0000\n",
            "Epoch 193/400\n",
            "426/426 [==============================] - 1s 1ms/step - loss: 6468173936.7119 - val_loss: 6595409408.0000\n",
            "Epoch 194/400\n",
            "426/426 [==============================] - 1s 1ms/step - loss: 6710427060.4590 - val_loss: 6597946368.0000\n",
            "Epoch 195/400\n",
            "426/426 [==============================] - 1s 1ms/step - loss: 6695759286.8571 - val_loss: 6572518400.0000\n",
            "Epoch 196/400\n",
            "426/426 [==============================] - 1s 1ms/step - loss: 6521831353.2553 - val_loss: 6575410176.0000\n",
            "Epoch 197/400\n",
            "426/426 [==============================] - 1s 1ms/step - loss: 6648751035.6534 - val_loss: 6569297920.0000\n",
            "Epoch 198/400\n",
            "426/426 [==============================] - 1s 1ms/step - loss: 6575454577.3115 - val_loss: 6574551040.0000\n",
            "Epoch 199/400\n",
            "426/426 [==============================] - 1s 1ms/step - loss: 6526896795.8782 - val_loss: 6558693376.0000\n",
            "Epoch 200/400\n",
            "426/426 [==============================] - 1s 1ms/step - loss: 6551249595.0539 - val_loss: 6556260864.0000\n",
            "Epoch 201/400\n",
            "426/426 [==============================] - 1s 1ms/step - loss: 6583418242.0984 - val_loss: 6568049152.0000\n",
            "Epoch 202/400\n",
            "426/426 [==============================] - 1s 2ms/step - loss: 6544558576.4122 - val_loss: 6556822528.0000\n",
            "Epoch 203/400\n",
            "426/426 [==============================] - 1s 1ms/step - loss: 6665416533.7330 - val_loss: 6553451520.0000\n",
            "Epoch 204/400\n",
            "426/426 [==============================] - 1s 2ms/step - loss: 6566349395.9344 - val_loss: 6550388736.0000\n",
            "Epoch 205/400\n",
            "426/426 [==============================] - 1s 1ms/step - loss: 6530545363.0351 - val_loss: 6551228928.0000\n",
            "Epoch 206/400\n",
            "426/426 [==============================] - 1s 1ms/step - loss: 6640252912.4122 - val_loss: 6547940352.0000\n",
            "Epoch 207/400\n",
            "426/426 [==============================] - 1s 2ms/step - loss: 6556931116.3653 - val_loss: 6546476544.0000\n",
            "Epoch 208/400\n",
            "426/426 [==============================] - 1s 1ms/step - loss: 6642772891.2787 - val_loss: 6551628800.0000\n",
            "Epoch 209/400\n",
            "426/426 [==============================] - 1s 1ms/step - loss: 6647267031.8314 - val_loss: 6546661376.0000\n",
            "Epoch 210/400\n",
            "426/426 [==============================] - 1s 1ms/step - loss: 6629317074.4356 - val_loss: 6539508736.0000\n",
            "Epoch 211/400\n",
            "426/426 [==============================] - 1s 2ms/step - loss: 6471341939.7096 - val_loss: 6542150656.0000\n",
            "Epoch 212/400\n",
            "426/426 [==============================] - 1s 1ms/step - loss: 6515403997.8267 - val_loss: 6534540800.0000\n",
            "Epoch 213/400\n",
            "426/426 [==============================] - 1s 1ms/step - loss: 6589400872.1686 - val_loss: 6542991360.0000\n",
            "Epoch 214/400\n",
            "426/426 [==============================] - 1s 2ms/step - loss: 6524909928.9180 - val_loss: 6534708736.0000\n",
            "Epoch 215/400\n",
            "426/426 [==============================] - 1s 2ms/step - loss: 6500510996.9836 - val_loss: 6551067648.0000\n",
            "Epoch 216/400\n",
            "426/426 [==============================] - 1s 2ms/step - loss: 6519509963.2412 - val_loss: 6529182720.0000\n",
            "Epoch 217/400\n",
            "426/426 [==============================] - 1s 2ms/step - loss: 6614270600.6932 - val_loss: 6531986944.0000\n",
            "Epoch 218/400\n",
            "426/426 [==============================] - 1s 2ms/step - loss: 6501185151.1007 - val_loss: 6525020160.0000\n",
            "Epoch 219/400\n",
            "426/426 [==============================] - 1s 2ms/step - loss: 6589749972.2342 - val_loss: 6524001792.0000\n",
            "Epoch 220/400\n",
            "426/426 [==============================] - 1s 2ms/step - loss: 6596365352.7682 - val_loss: 6524350464.0000\n",
            "Epoch 221/400\n",
            "426/426 [==============================] - 1s 2ms/step - loss: 6519812546.8478 - val_loss: 6522372608.0000\n",
            "Epoch 222/400\n",
            "426/426 [==============================] - 1s 2ms/step - loss: 6643848863.4754 - val_loss: 6518626304.0000\n",
            "Epoch 223/400\n",
            "426/426 [==============================] - 1s 2ms/step - loss: 6568862212.7963 - val_loss: 6522719232.0000\n",
            "Epoch 224/400\n",
            "426/426 [==============================] - 1s 2ms/step - loss: 6561274515.4848 - val_loss: 6522304512.0000\n",
            "Epoch 225/400\n",
            "426/426 [==============================] - 1s 2ms/step - loss: 6604494725.6955 - val_loss: 6526631424.0000\n",
            "Epoch 226/400\n",
            "426/426 [==============================] - 1s 2ms/step - loss: 6523367367.6440 - val_loss: 6513178624.0000\n",
            "Epoch 227/400\n",
            "426/426 [==============================] - 1s 2ms/step - loss: 6676323344.7869 - val_loss: 6511575040.0000\n",
            "Epoch 228/400\n",
            "426/426 [==============================] - 1s 2ms/step - loss: 6639728401.3864 - val_loss: 6518150656.0000\n",
            "Epoch 229/400\n",
            "426/426 [==============================] - 1s 2ms/step - loss: 6457798001.3115 - val_loss: 6509645312.0000\n",
            "Epoch 230/400\n",
            "426/426 [==============================] - 1s 1ms/step - loss: 6535492073.2178 - val_loss: 6513806848.0000\n",
            "Epoch 231/400\n",
            "426/426 [==============================] - 1s 2ms/step - loss: 6552765304.5059 - val_loss: 6510102528.0000\n",
            "Epoch 232/400\n",
            "426/426 [==============================] - 1s 1ms/step - loss: 6560333277.2272 - val_loss: 6501922304.0000\n",
            "Epoch 233/400\n",
            "426/426 [==============================] - 1s 2ms/step - loss: 6541509414.9696 - val_loss: 6507800064.0000\n",
            "Epoch 234/400\n",
            "426/426 [==============================] - 1s 2ms/step - loss: 6543158257.6112 - val_loss: 6506657792.0000\n",
            "Epoch 235/400\n",
            "426/426 [==============================] - 1s 2ms/step - loss: 6521388500.8337 - val_loss: 6500995584.0000\n",
            "Epoch 236/400\n",
            "426/426 [==============================] - 1s 1ms/step - loss: 6611210923.4660 - val_loss: 6503067136.0000\n",
            "Epoch 237/400\n",
            "426/426 [==============================] - 1s 2ms/step - loss: 6494606780.8525 - val_loss: 6495079424.0000\n",
            "Epoch 238/400\n",
            "426/426 [==============================] - 1s 1ms/step - loss: 6556794787.6721 - val_loss: 6511754752.0000\n",
            "Epoch 239/400\n",
            "426/426 [==============================] - 1s 2ms/step - loss: 6543350945.8735 - val_loss: 6492061696.0000\n",
            "Epoch 240/400\n",
            "426/426 [==============================] - 1s 2ms/step - loss: 6578893704.0937 - val_loss: 6496737792.0000\n",
            "Epoch 241/400\n",
            "426/426 [==============================] - 1s 1ms/step - loss: 6616596030.3513 - val_loss: 6495732736.0000\n",
            "Epoch 242/400\n",
            "426/426 [==============================] - 1s 1ms/step - loss: 6493338416.5621 - val_loss: 6502037504.0000\n",
            "Epoch 243/400\n",
            "426/426 [==============================] - 1s 1ms/step - loss: 6489659010.6979 - val_loss: 6506139648.0000\n",
            "Epoch 244/400\n",
            "426/426 [==============================] - 1s 2ms/step - loss: 6473393461.3583 - val_loss: 6485331968.0000\n",
            "Epoch 245/400\n",
            "426/426 [==============================] - 1s 2ms/step - loss: 6429768250.7541 - val_loss: 6492168704.0000\n",
            "Epoch 246/400\n",
            "426/426 [==============================] - 1s 1ms/step - loss: 6420160997.6206 - val_loss: 6493155328.0000\n",
            "Epoch 247/400\n",
            "426/426 [==============================] - 1s 1ms/step - loss: 6479645487.3630 - val_loss: 6479389696.0000\n",
            "Epoch 248/400\n",
            "426/426 [==============================] - 1s 1ms/step - loss: 6492942314.4169 - val_loss: 6517112320.0000\n",
            "Epoch 249/400\n",
            "426/426 [==============================] - 1s 1ms/step - loss: 6539546283.4660 - val_loss: 6490454528.0000\n",
            "Epoch 250/400\n",
            "426/426 [==============================] - 1s 2ms/step - loss: 6414983109.2459 - val_loss: 6487206400.0000\n",
            "Epoch 251/400\n",
            "426/426 [==============================] - 1s 1ms/step - loss: 6539571333.0960 - val_loss: 6477433344.0000\n",
            "Epoch 252/400\n",
            "426/426 [==============================] - 1s 2ms/step - loss: 6454545980.5527 - val_loss: 6475350528.0000\n",
            "Epoch 253/400\n",
            "426/426 [==============================] - 1s 1ms/step - loss: 6432344549.6206 - val_loss: 6490624512.0000\n",
            "Epoch 254/400\n",
            "426/426 [==============================] - 1s 2ms/step - loss: 6511741643.8407 - val_loss: 6474200576.0000\n",
            "Epoch 255/400\n",
            "426/426 [==============================] - 1s 1ms/step - loss: 6463337187.8220 - val_loss: 6472667136.0000\n",
            "Epoch 256/400\n",
            "426/426 [==============================] - 1s 1ms/step - loss: 6623514670.7635 - val_loss: 6494450176.0000\n",
            "Epoch 257/400\n",
            "426/426 [==============================] - 1s 2ms/step - loss: 6610657411.8970 - val_loss: 6475393024.0000\n",
            "Epoch 258/400\n",
            "426/426 [==============================] - 1s 1ms/step - loss: 6504007374.2389 - val_loss: 6474004480.0000\n",
            "Epoch 259/400\n",
            "426/426 [==============================] - 1s 1ms/step - loss: 6494194805.5082 - val_loss: 6465710080.0000\n",
            "Epoch 260/400\n",
            "426/426 [==============================] - 1s 1ms/step - loss: 6519798927.8876 - val_loss: 6466502656.0000\n",
            "Epoch 261/400\n",
            "426/426 [==============================] - 1s 1ms/step - loss: 6506664424.0187 - val_loss: 6478653952.0000\n",
            "Epoch 262/400\n",
            "426/426 [==============================] - 1s 1ms/step - loss: 6609872943.9625 - val_loss: 6465627648.0000\n",
            "Epoch 263/400\n",
            "426/426 [==============================] - 1s 2ms/step - loss: 6487207527.1194 - val_loss: 6478682624.0000\n",
            "Epoch 264/400\n",
            "426/426 [==============================] - 1s 2ms/step - loss: 6422382595.5972 - val_loss: 6457953792.0000\n",
            "Epoch 265/400\n",
            "426/426 [==============================] - 1s 1ms/step - loss: 6532873533.7518 - val_loss: 6463035392.0000\n",
            "Epoch 266/400\n",
            "426/426 [==============================] - 1s 2ms/step - loss: 6533203279.7377 - val_loss: 6454584832.0000\n",
            "Epoch 267/400\n",
            "426/426 [==============================] - 1s 2ms/step - loss: 6444647208.1686 - val_loss: 6455281664.0000\n",
            "Epoch 268/400\n",
            "426/426 [==============================] - 1s 1ms/step - loss: 6510433359.1382 - val_loss: 6463267328.0000\n",
            "Epoch 269/400\n",
            "426/426 [==============================] - 1s 2ms/step - loss: 6498038328.3560 - val_loss: 6484268544.0000\n",
            "Epoch 270/400\n",
            "426/426 [==============================] - 1s 1ms/step - loss: 6448639044.3466 - val_loss: 6449028096.0000\n",
            "Epoch 271/400\n",
            "426/426 [==============================] - 1s 2ms/step - loss: 6517104649.5925 - val_loss: 6449537536.0000\n",
            "Epoch 272/400\n",
            "426/426 [==============================] - 1s 1ms/step - loss: 6543864913.5363 - val_loss: 6444305408.0000\n",
            "Epoch 273/400\n",
            "426/426 [==============================] - 1s 1ms/step - loss: 6500886199.4567 - val_loss: 6438708224.0000\n",
            "Epoch 274/400\n",
            "426/426 [==============================] - 1s 2ms/step - loss: 6420097864.5433 - val_loss: 6441423360.0000\n",
            "Epoch 275/400\n",
            "426/426 [==============================] - 1s 2ms/step - loss: 6423192620.3653 - val_loss: 6454259200.0000\n",
            "Epoch 276/400\n",
            "426/426 [==============================] - 1s 2ms/step - loss: 6404523312.5621 - val_loss: 6435777024.0000\n",
            "Epoch 277/400\n",
            "426/426 [==============================] - 1s 2ms/step - loss: 6378492427.9906 - val_loss: 6436048384.0000\n",
            "Epoch 278/400\n",
            "426/426 [==============================] - 1s 1ms/step - loss: 6496034881.9485 - val_loss: 6438935040.0000\n",
            "Epoch 279/400\n",
            "426/426 [==============================] - 1s 1ms/step - loss: 6496901779.4848 - val_loss: 6437097984.0000\n",
            "Epoch 280/400\n",
            "426/426 [==============================] - 1s 2ms/step - loss: 6477784469.2834 - val_loss: 6428651008.0000\n",
            "Epoch 281/400\n",
            "426/426 [==============================] - 1s 1ms/step - loss: 6390335338.1171 - val_loss: 6432797184.0000\n",
            "Epoch 282/400\n",
            "426/426 [==============================] - 1s 2ms/step - loss: 6450961465.5550 - val_loss: 6426867712.0000\n",
            "Epoch 283/400\n",
            "426/426 [==============================] - 1s 2ms/step - loss: 6441662717.0023 - val_loss: 6423580160.0000\n",
            "Epoch 284/400\n",
            "426/426 [==============================] - 1s 1ms/step - loss: 6458253806.0141 - val_loss: 6427791360.0000\n",
            "Epoch 285/400\n",
            "426/426 [==============================] - 1s 2ms/step - loss: 6484351941.2459 - val_loss: 6429693952.0000\n",
            "Epoch 286/400\n",
            "426/426 [==============================] - 1s 2ms/step - loss: 6443868847.0632 - val_loss: 6421589504.0000\n",
            "Epoch 287/400\n",
            "426/426 [==============================] - 1s 1ms/step - loss: 6467271841.8735 - val_loss: 6429711872.0000\n",
            "Epoch 288/400\n",
            "426/426 [==============================] - 1s 2ms/step - loss: 6336241968.5621 - val_loss: 6421240320.0000\n",
            "Epoch 289/400\n",
            "426/426 [==============================] - 1s 1ms/step - loss: 6575189164.6651 - val_loss: 6416299520.0000\n",
            "Epoch 290/400\n",
            "426/426 [==============================] - 1s 1ms/step - loss: 6560352411.8782 - val_loss: 6435718144.0000\n",
            "Epoch 291/400\n",
            "426/426 [==============================] - 1s 2ms/step - loss: 6395688079.8876 - val_loss: 6412734464.0000\n",
            "Epoch 292/400\n",
            "426/426 [==============================] - 1s 2ms/step - loss: 6557372854.8571 - val_loss: 6415544320.0000\n",
            "Epoch 293/400\n",
            "426/426 [==============================] - 1s 2ms/step - loss: 6329962476.8150 - val_loss: 6416913408.0000\n",
            "Epoch 294/400\n",
            "426/426 [==============================] - 1s 2ms/step - loss: 6631486702.6136 - val_loss: 6418095104.0000\n",
            "Epoch 295/400\n",
            "426/426 [==============================] - 1s 1ms/step - loss: 6314782883.0726 - val_loss: 6416798208.0000\n",
            "Epoch 296/400\n",
            "426/426 [==============================] - 1s 1ms/step - loss: 6479927028.6089 - val_loss: 6410120704.0000\n",
            "Epoch 297/400\n",
            "426/426 [==============================] - 1s 1ms/step - loss: 6520536362.5667 - val_loss: 6409161216.0000\n",
            "Epoch 298/400\n",
            "426/426 [==============================] - 1s 1ms/step - loss: 6416189335.6815 - val_loss: 6413542912.0000\n",
            "Epoch 299/400\n",
            "426/426 [==============================] - 1s 1ms/step - loss: 6500656733.5269 - val_loss: 6415188992.0000\n",
            "Epoch 300/400\n",
            "426/426 [==============================] - 1s 1ms/step - loss: 6514393829.0211 - val_loss: 6408414208.0000\n",
            "Epoch 301/400\n",
            "426/426 [==============================] - 1s 1ms/step - loss: 6610425382.3700 - val_loss: 6416880640.0000\n",
            "Epoch 302/400\n",
            "426/426 [==============================] - 1s 1ms/step - loss: 6456774163.1850 - val_loss: 6408661504.0000\n",
            "Epoch 303/400\n",
            "426/426 [==============================] - 1s 1ms/step - loss: 6420843721.4426 - val_loss: 6413226496.0000\n",
            "Epoch 304/400\n",
            "426/426 [==============================] - 1s 2ms/step - loss: 6463549866.8665 - val_loss: 6409855488.0000\n",
            "Epoch 305/400\n",
            "426/426 [==============================] - 1s 1ms/step - loss: 6428766356.6838 - val_loss: 6402949120.0000\n",
            "Epoch 306/400\n",
            "426/426 [==============================] - 1s 1ms/step - loss: 6490809146.1546 - val_loss: 6407050240.0000\n",
            "Epoch 307/400\n",
            "426/426 [==============================] - 1s 2ms/step - loss: 6514939709.7518 - val_loss: 6399466496.0000\n",
            "Epoch 308/400\n",
            "426/426 [==============================] - 1s 2ms/step - loss: 6388612930.5480 - val_loss: 6398843392.0000\n",
            "Epoch 309/400\n",
            "426/426 [==============================] - 1s 2ms/step - loss: 6449620242.5855 - val_loss: 6400651264.0000\n",
            "Epoch 310/400\n",
            "426/426 [==============================] - 1s 2ms/step - loss: 6347195406.3888 - val_loss: 6400501760.0000\n",
            "Epoch 311/400\n",
            "426/426 [==============================] - 1s 2ms/step - loss: 6611180257.4239 - val_loss: 6417816064.0000\n",
            "Epoch 312/400\n",
            "426/426 [==============================] - 1s 2ms/step - loss: 6418061946.3045 - val_loss: 6406124544.0000\n",
            "Epoch 313/400\n",
            "426/426 [==============================] - 1s 2ms/step - loss: 6361635083.3911 - val_loss: 6405967872.0000\n",
            "Epoch 314/400\n",
            "426/426 [==============================] - 1s 2ms/step - loss: 6417049254.6698 - val_loss: 6396677632.0000\n",
            "Epoch 315/400\n",
            "426/426 [==============================] - 1s 2ms/step - loss: 6513517626.7541 - val_loss: 6396501504.0000\n",
            "Epoch 316/400\n",
            "426/426 [==============================] - 1s 2ms/step - loss: 6402732450.4731 - val_loss: 6403329536.0000\n",
            "Epoch 317/400\n",
            "426/426 [==============================] - 1s 2ms/step - loss: 6349680653.1897 - val_loss: 6391766016.0000\n",
            "Epoch 318/400\n",
            "426/426 [==============================] - 1s 2ms/step - loss: 6407833252.2717 - val_loss: 6397334528.0000\n",
            "Epoch 319/400\n",
            "426/426 [==============================] - 1s 2ms/step - loss: 6471864019.0351 - val_loss: 6392968704.0000\n",
            "Epoch 320/400\n",
            "426/426 [==============================] - 1s 2ms/step - loss: 6366638773.0585 - val_loss: 6387349504.0000\n",
            "Epoch 321/400\n",
            "426/426 [==============================] - 1s 2ms/step - loss: 6424767104.2998 - val_loss: 6386595328.0000\n",
            "Epoch 322/400\n",
            "426/426 [==============================] - 1s 2ms/step - loss: 6463950695.7190 - val_loss: 6386242560.0000\n",
            "Epoch 323/400\n",
            "426/426 [==============================] - 1s 2ms/step - loss: 6493087038.9508 - val_loss: 6389487616.0000\n",
            "Epoch 324/400\n",
            "426/426 [==============================] - 1s 2ms/step - loss: 6478385620.8337 - val_loss: 6390247424.0000\n",
            "Epoch 325/400\n",
            "426/426 [==============================] - 1s 2ms/step - loss: 6438384223.9251 - val_loss: 6397223936.0000\n",
            "Epoch 326/400\n",
            "426/426 [==============================] - 1s 2ms/step - loss: 6352925012.5340 - val_loss: 6382106624.0000\n",
            "Epoch 327/400\n",
            "426/426 [==============================] - 1s 2ms/step - loss: 6423453675.0164 - val_loss: 6385704448.0000\n",
            "Epoch 328/400\n",
            "426/426 [==============================] - 1s 2ms/step - loss: 6350849988.0468 - val_loss: 6380954624.0000\n",
            "Epoch 329/400\n",
            "426/426 [==============================] - 1s 2ms/step - loss: 6455136745.2178 - val_loss: 6386557440.0000\n",
            "Epoch 330/400\n",
            "426/426 [==============================] - 1s 2ms/step - loss: 6319416855.9813 - val_loss: 6400376832.0000\n",
            "Epoch 331/400\n",
            "426/426 [==============================] - 1s 1ms/step - loss: 6357376671.4754 - val_loss: 6378961920.0000\n",
            "Epoch 332/400\n",
            "426/426 [==============================] - 1s 2ms/step - loss: 6411627871.3255 - val_loss: 6386705920.0000\n",
            "Epoch 333/400\n",
            "426/426 [==============================] - 1s 2ms/step - loss: 6436826725.9204 - val_loss: 6373039616.0000\n",
            "Epoch 334/400\n",
            "426/426 [==============================] - 1s 2ms/step - loss: 6440526108.1780 - val_loss: 6383560704.0000\n",
            "Epoch 335/400\n",
            "426/426 [==============================] - 1s 2ms/step - loss: 6370309247.1007 - val_loss: 6382756864.0000\n",
            "Epoch 336/400\n",
            "426/426 [==============================] - 1s 2ms/step - loss: 6372410880.0000 - val_loss: 6375495168.0000\n",
            "Epoch 337/400\n",
            "426/426 [==============================] - 1s 2ms/step - loss: 6330545486.5386 - val_loss: 6373702144.0000\n",
            "Epoch 338/400\n",
            "426/426 [==============================] - 1s 2ms/step - loss: 6371537431.9813 - val_loss: 6379142144.0000\n",
            "Epoch 339/400\n",
            "426/426 [==============================] - 1s 2ms/step - loss: 6333471902.2763 - val_loss: 6376323584.0000\n",
            "Epoch 340/400\n",
            "426/426 [==============================] - 1s 2ms/step - loss: 6506385870.8384 - val_loss: 6372243456.0000\n",
            "Epoch 341/400\n",
            "426/426 [==============================] - 1s 2ms/step - loss: 6404698030.4637 - val_loss: 6377291776.0000\n",
            "Epoch 342/400\n",
            "426/426 [==============================] - 1s 2ms/step - loss: 6397883480.7307 - val_loss: 6370624000.0000\n",
            "Epoch 343/400\n",
            "426/426 [==============================] - 1s 2ms/step - loss: 6463966212.7963 - val_loss: 6372589568.0000\n",
            "Epoch 344/400\n",
            "426/426 [==============================] - 1s 2ms/step - loss: 6353367037.6019 - val_loss: 6373996032.0000\n",
            "Epoch 345/400\n",
            "426/426 [==============================] - 1s 2ms/step - loss: 6471701013.5831 - val_loss: 6382594048.0000\n",
            "Epoch 346/400\n",
            "426/426 [==============================] - 1s 2ms/step - loss: 6333267246.1639 - val_loss: 6372911104.0000\n",
            "Epoch 347/400\n",
            "426/426 [==============================] - 1s 2ms/step - loss: 6348925377.6487 - val_loss: 6370329600.0000\n",
            "Epoch 348/400\n",
            "426/426 [==============================] - 1s 2ms/step - loss: 6406742132.3091 - val_loss: 6373433856.0000\n",
            "Epoch 349/400\n",
            "426/426 [==============================] - 1s 2ms/step - loss: 6450054777.1054 - val_loss: 6370457088.0000\n",
            "Epoch 350/400\n",
            "426/426 [==============================] - 1s 2ms/step - loss: 6428509552.1124 - val_loss: 6364351488.0000\n",
            "Epoch 351/400\n",
            "426/426 [==============================] - 1s 2ms/step - loss: 6410516765.3770 - val_loss: 6363450880.0000\n",
            "Epoch 352/400\n",
            "426/426 [==============================] - 1s 2ms/step - loss: 6409573465.9297 - val_loss: 6397993984.0000\n",
            "Epoch 353/400\n",
            "426/426 [==============================] - 1s 2ms/step - loss: 6319306372.4965 - val_loss: 6359376896.0000\n",
            "Epoch 354/400\n",
            "426/426 [==============================] - 1s 1ms/step - loss: 6327859799.5316 - val_loss: 6372107264.0000\n",
            "Epoch 355/400\n",
            "426/426 [==============================] - 1s 2ms/step - loss: 6470562086.9696 - val_loss: 6365528064.0000\n",
            "Epoch 356/400\n",
            "426/426 [==============================] - 1s 2ms/step - loss: 6478131670.0328 - val_loss: 6366597632.0000\n",
            "Epoch 357/400\n",
            "426/426 [==============================] - 1s 2ms/step - loss: 6396347591.0445 - val_loss: 6375220224.0000\n",
            "Epoch 358/400\n",
            "426/426 [==============================] - 1s 2ms/step - loss: 6430112452.6464 - val_loss: 6358449152.0000\n",
            "Epoch 359/400\n",
            "426/426 [==============================] - 1s 2ms/step - loss: 6397179756.5152 - val_loss: 6358530560.0000\n",
            "Epoch 360/400\n",
            "426/426 [==============================] - 1s 2ms/step - loss: 6468690302.5012 - val_loss: 6363880960.0000\n",
            "Epoch 361/400\n",
            "426/426 [==============================] - 1s 2ms/step - loss: 6506761957.0211 - val_loss: 6359193088.0000\n",
            "Epoch 362/400\n",
            "426/426 [==============================] - 1s 2ms/step - loss: 6390837347.5222 - val_loss: 6374232064.0000\n",
            "Epoch 363/400\n",
            "426/426 [==============================] - 1s 2ms/step - loss: 6371160018.4356 - val_loss: 6376623616.0000\n",
            "Epoch 364/400\n",
            "426/426 [==============================] - 1s 2ms/step - loss: 6373094811.2787 - val_loss: 6353559552.0000\n",
            "Epoch 365/400\n",
            "426/426 [==============================] - 1s 2ms/step - loss: 6400513329.7611 - val_loss: 6372302848.0000\n",
            "Epoch 366/400\n",
            "426/426 [==============================] - 1s 2ms/step - loss: 6409475470.0890 - val_loss: 6356352000.0000\n",
            "Epoch 367/400\n",
            "426/426 [==============================] - 1s 2ms/step - loss: 6343985614.8384 - val_loss: 6367911424.0000\n",
            "Epoch 368/400\n",
            "426/426 [==============================] - 1s 2ms/step - loss: 6424814617.1803 - val_loss: 6358873600.0000\n",
            "Epoch 369/400\n",
            "426/426 [==============================] - 1s 2ms/step - loss: 6356350487.9813 - val_loss: 6354316800.0000\n",
            "Epoch 370/400\n",
            "426/426 [==============================] - 1s 2ms/step - loss: 6330448981.1335 - val_loss: 6360977920.0000\n",
            "Epoch 371/400\n",
            "426/426 [==============================] - 1s 2ms/step - loss: 6381845188.6464 - val_loss: 6352001536.0000\n",
            "Epoch 372/400\n",
            "426/426 [==============================] - 1s 2ms/step - loss: 6311195634.8103 - val_loss: 6354132480.0000\n",
            "Epoch 373/400\n",
            "426/426 [==============================] - 1s 2ms/step - loss: 6440631817.5925 - val_loss: 6354112512.0000\n",
            "Epoch 374/400\n",
            "426/426 [==============================] - 1s 2ms/step - loss: 6473973158.0703 - val_loss: 6350259200.0000\n",
            "Epoch 375/400\n",
            "426/426 [==============================] - 1s 2ms/step - loss: 6406596018.0609 - val_loss: 6352296448.0000\n",
            "Epoch 376/400\n",
            "426/426 [==============================] - 1s 2ms/step - loss: 6367299245.8642 - val_loss: 6349932544.0000\n",
            "Epoch 377/400\n",
            "426/426 [==============================] - 1s 2ms/step - loss: 6379128513.0492 - val_loss: 6366161408.0000\n",
            "Epoch 378/400\n",
            "426/426 [==============================] - 1s 2ms/step - loss: 6373123384.9555 - val_loss: 6349429760.0000\n",
            "Epoch 379/400\n",
            "426/426 [==============================] - 1s 2ms/step - loss: 6411938438.2951 - val_loss: 6366682624.0000\n",
            "Epoch 380/400\n",
            "426/426 [==============================] - 1s 2ms/step - loss: 6384330211.2225 - val_loss: 6346864640.0000\n",
            "Epoch 381/400\n",
            "426/426 [==============================] - 1s 1ms/step - loss: 6411009767.4192 - val_loss: 6355367424.0000\n",
            "Epoch 382/400\n",
            "426/426 [==============================] - 1s 2ms/step - loss: 6367748019.2600 - val_loss: 6343487488.0000\n",
            "Epoch 383/400\n",
            "426/426 [==============================] - 1s 2ms/step - loss: 6370466931.1101 - val_loss: 6366056960.0000\n",
            "Epoch 384/400\n",
            "426/426 [==============================] - 1s 2ms/step - loss: 6273581763.4473 - val_loss: 6342235136.0000\n",
            "Epoch 385/400\n",
            "426/426 [==============================] - 1s 2ms/step - loss: 6430527594.7166 - val_loss: 6352262656.0000\n",
            "Epoch 386/400\n",
            "426/426 [==============================] - 1s 2ms/step - loss: 6431816001.3489 - val_loss: 6345536000.0000\n",
            "Epoch 387/400\n",
            "426/426 [==============================] - 1s 1ms/step - loss: 6464770405.3208 - val_loss: 6344649216.0000\n",
            "Epoch 388/400\n",
            "426/426 [==============================] - 1s 2ms/step - loss: 6343230510.7635 - val_loss: 6344849408.0000\n",
            "Epoch 389/400\n",
            "426/426 [==============================] - 1s 2ms/step - loss: 6523076866.9977 - val_loss: 6350603264.0000\n",
            "Epoch 390/400\n",
            "426/426 [==============================] - 1s 2ms/step - loss: 6506246760.3185 - val_loss: 6348322816.0000\n",
            "Epoch 391/400\n",
            "426/426 [==============================] - 1s 2ms/step - loss: 6344718074.6042 - val_loss: 6340850176.0000\n",
            "Epoch 392/400\n",
            "426/426 [==============================] - 1s 2ms/step - loss: 6430331203.7471 - val_loss: 6341553664.0000\n",
            "Epoch 393/400\n",
            "426/426 [==============================] - 1s 2ms/step - loss: 6361950843.5035 - val_loss: 6344178176.0000\n",
            "Epoch 394/400\n",
            "426/426 [==============================] - 1s 2ms/step - loss: 6369071179.5410 - val_loss: 6345297408.0000\n",
            "Epoch 395/400\n",
            "426/426 [==============================] - 1s 2ms/step - loss: 6366160972.7400 - val_loss: 6353899008.0000\n",
            "Epoch 396/400\n",
            "426/426 [==============================] - 1s 1ms/step - loss: 6404776603.8782 - val_loss: 6341229568.0000\n",
            "Epoch 397/400\n",
            "426/426 [==============================] - 1s 2ms/step - loss: 6425133259.8407 - val_loss: 6341935616.0000\n",
            "Epoch 398/400\n",
            "426/426 [==============================] - 1s 2ms/step - loss: 6376498733.5644 - val_loss: 6344104448.0000\n",
            "Epoch 399/400\n",
            "426/426 [==============================] - 1s 2ms/step - loss: 6417986213.4707 - val_loss: 6335904256.0000\n",
            "Epoch 400/400\n",
            "426/426 [==============================] - 1s 1ms/step - loss: 6393087820.1405 - val_loss: 6340508160.0000\n",
            "Model: \"sequential\"\n",
            "_________________________________________________________________\n",
            "Layer (type)                 Output Shape              Param #   \n",
            "=================================================================\n",
            "dense (Dense)                (None, 9)                 72        \n",
            "_________________________________________________________________\n",
            "dense_1 (Dense)              (None, 18)                180       \n",
            "_________________________________________________________________\n",
            "dense_2 (Dense)              (None, 18)                342       \n",
            "_________________________________________________________________\n",
            "dense_3 (Dense)              (None, 9)                 171       \n",
            "_________________________________________________________________\n",
            "dense_4 (Dense)              (None, 1)                 10        \n",
            "=================================================================\n",
            "Total params: 775\n",
            "Trainable params: 775\n",
            "Non-trainable params: 0\n",
            "_________________________________________________________________\n"
          ],
          "name": "stdout"
        }
      ]
    },
    {
      "cell_type": "code",
      "metadata": {
        "id": "65IrrJNLxH1a",
        "outputId": "f5992041-39aa-48f6-cdef-a1faf58dedc7",
        "colab": {
          "base_uri": "https://localhost:8080/",
          "height": 520
        }
      },
      "source": [
        "loss_df = pd.DataFrame(model.history.history)\n",
        "loss_df.plot(figsize=(12,8))"
      ],
      "execution_count": 33,
      "outputs": [
        {
          "output_type": "execute_result",
          "data": {
            "text/plain": [
              "<matplotlib.axes._subplots.AxesSubplot at 0x7fc67a06e2b0>"
            ]
          },
          "metadata": {
            "tags": []
          },
          "execution_count": 33
        },
        {
          "output_type": "display_data",
          "data": {
            "image/png": "[encoded data removed]",
            "text/plain": [
              "<Figure size 864x576 with 1 Axes>"
            ]
          },
          "metadata": {
            "tags": []
          }
        }
      ]
    },
    {
      "cell_type": "code",
      "metadata": {
        "id": "UPCFGIXAxKkX",
        "outputId": "051bdf06-c34d-4d4b-9bef-7a100fa3f6c7",
        "colab": {
          "base_uri": "https://localhost:8080/",
          "height": 441
        }
      },
      "source": [
        "y_pred = model.predict(X_test)\n",
        "from sklearn import metrics\n",
        "print('MAE:', metrics.mean_absolute_error(y_test, y_pred))  \n",
        "print('MSE:', metrics.mean_squared_error(y_test, y_pred))  \n",
        "print('RMSE:', np.sqrt(metrics.mean_squared_error(y_test, y_pred)))\n",
        "print('VarScore:',metrics.explained_variance_score(y_test,y_pred))\n",
        "# Visualizing Our predictions\n",
        "fig = plt.figure(figsize=(10,5))\n",
        "plt.scatter(y_test,y_pred)\n",
        "# Perfect predictions\n",
        "plt.plot(y_test,y_test,'r')"
      ],
      "execution_count": 34,
      "outputs": [
        {
          "output_type": "stream",
          "text": [
            "MAE: 56495.94624577432\n",
            "MSE: 6340508352.301189\n",
            "RMSE: 79627.30908614951\n",
            "VarScore: 0.7283287366455662\n"
          ],
          "name": "stdout"
        },
        {
          "output_type": "execute_result",
          "data": {
            "text/plain": [
              "[<matplotlib.lines.Line2D at 0x7fc678f7a1d0>]"
            ]
          },
          "metadata": {
            "tags": []
          },
          "execution_count": 34
        },
        {
          "output_type": "display_data",
          "data": {
            "image/png": "[encoded data removed]",
            "text/plain": [
              "<Figure size 720x360 with 1 Axes>"
            ]
          },
          "metadata": {
            "tags": []
          }
        }
      ]
    },
    {
      "cell_type": "code",
      "metadata": {
        "id": "X0gj0KtCxQwC",
        "outputId": "c119cfcf-9704-45c6-e739-c043bc29bae5",
        "colab": {
          "base_uri": "https://localhost:8080/",
          "height": 35
        }
      },
      "source": [
        "# visualizing residuals\n",
        "'''\n",
        "fig = plt.figure(figsize=(10,5))\n",
        "residuals = (y_test- y_pred)\n",
        "sns.distplot(residuals)\n",
        "'''"
      ],
      "execution_count": 35,
      "outputs": [
        {
          "output_type": "execute_result",
          "data": {
            "application/vnd.google.colaboratory.intrinsic+json": {
              "type": "string"
            },
            "text/plain": [
              "'\\nfig = plt.figure(figsize=(10,5))\\nresiduals = (y_test- y_pred)\\nsns.distplot(residuals)\\n'"
            ]
          },
          "metadata": {
            "tags": []
          },
          "execution_count": 35
        }
      ]
    },
    {
      "cell_type": "code",
      "metadata": {
        "id": "GgJ_2Gp26ohf",
        "outputId": "6051283f-9d90-4c7a-be8b-77e3886d113c",
        "colab": {
          "base_uri": "https://localhost:8080/",
          "height": 134
        }
      },
      "source": [
        "print(y_pred)"
      ],
      "execution_count": 36,
      "outputs": [
        {
          "output_type": "stream",
          "text": [
            "[[385677.75]\n",
            " [509279.06]\n",
            " [493894.88]\n",
            " ...\n",
            " [310385.3 ]\n",
            " [570794.6 ]\n",
            " [344175.4 ]]\n"
          ],
          "name": "stdout"
        }
      ]
    },
    {
      "cell_type": "code",
      "metadata": {
        "id": "Z75-c6Hr3dp9",
        "outputId": "064fc5b4-fcd7-487f-e019-f07c5ddb3635",
        "colab": {
          "base_uri": "https://localhost:8080/",
          "height": 639
        }
      },
      "source": [
        "y_pred_2 = []\n",
        "for pred in y_pred:\n",
        "  y_pred_2.append(pred[0])\n",
        "\n",
        "df = pd.DataFrame({'Actual': y_test, 'Predicted': y_pred_2})\n",
        "df1 = df.head(20)\n",
        "df1"
      ],
      "execution_count": 37,
      "outputs": [
        {
          "output_type": "execute_result",
          "data": {
            "text/html": [
              "<div>\n",
              "<style scoped>\n",
              "    .dataframe tbody tr th:only-of-type {\n",
              "        vertical-align: middle;\n",
              "    }\n",
              "\n",
              "    .dataframe tbody tr th {\n",
              "        vertical-align: top;\n",
              "    }\n",
              "\n",
              "    .dataframe thead th {\n",
              "        text-align: right;\n",
              "    }\n",
              "</style>\n",
              "<table border=\"1\" class=\"dataframe\">\n",
              "  <thead>\n",
              "    <tr style=\"text-align: right;\">\n",
              "      <th></th>\n",
              "      <th>Actual</th>\n",
              "      <th>Predicted</th>\n",
              "    </tr>\n",
              "  </thead>\n",
              "  <tbody>\n",
              "    <tr>\n",
              "      <th>0</th>\n",
              "      <td>318000.0</td>\n",
              "      <td>385677.750000</td>\n",
              "    </tr>\n",
              "    <tr>\n",
              "      <th>1</th>\n",
              "      <td>770000.0</td>\n",
              "      <td>509279.062500</td>\n",
              "    </tr>\n",
              "    <tr>\n",
              "      <th>2</th>\n",
              "      <td>851800.0</td>\n",
              "      <td>493894.875000</td>\n",
              "    </tr>\n",
              "    <tr>\n",
              "      <th>3</th>\n",
              "      <td>475000.0</td>\n",
              "      <td>514704.062500</td>\n",
              "    </tr>\n",
              "    <tr>\n",
              "      <th>4</th>\n",
              "      <td>320000.0</td>\n",
              "      <td>302358.187500</td>\n",
              "    </tr>\n",
              "    <tr>\n",
              "      <th>5</th>\n",
              "      <td>305000.0</td>\n",
              "      <td>334527.906250</td>\n",
              "    </tr>\n",
              "    <tr>\n",
              "      <th>6</th>\n",
              "      <td>460000.0</td>\n",
              "      <td>453781.500000</td>\n",
              "    </tr>\n",
              "    <tr>\n",
              "      <th>7</th>\n",
              "      <td>470000.0</td>\n",
              "      <td>407535.875000</td>\n",
              "    </tr>\n",
              "    <tr>\n",
              "      <th>8</th>\n",
              "      <td>468000.0</td>\n",
              "      <td>709418.375000</td>\n",
              "    </tr>\n",
              "    <tr>\n",
              "      <th>9</th>\n",
              "      <td>340000.0</td>\n",
              "      <td>429401.937500</td>\n",
              "    </tr>\n",
              "    <tr>\n",
              "      <th>10</th>\n",
              "      <td>355000.0</td>\n",
              "      <td>393211.500000</td>\n",
              "    </tr>\n",
              "    <tr>\n",
              "      <th>11</th>\n",
              "      <td>308000.0</td>\n",
              "      <td>293967.062500</td>\n",
              "    </tr>\n",
              "    <tr>\n",
              "      <th>12</th>\n",
              "      <td>250000.0</td>\n",
              "      <td>282048.468750</td>\n",
              "    </tr>\n",
              "    <tr>\n",
              "      <th>13</th>\n",
              "      <td>442000.0</td>\n",
              "      <td>564670.375000</td>\n",
              "    </tr>\n",
              "    <tr>\n",
              "      <th>14</th>\n",
              "      <td>228000.0</td>\n",
              "      <td>234893.890625</td>\n",
              "    </tr>\n",
              "    <tr>\n",
              "      <th>15</th>\n",
              "      <td>315000.0</td>\n",
              "      <td>364203.406250</td>\n",
              "    </tr>\n",
              "    <tr>\n",
              "      <th>16</th>\n",
              "      <td>363000.0</td>\n",
              "      <td>332925.468750</td>\n",
              "    </tr>\n",
              "    <tr>\n",
              "      <th>17</th>\n",
              "      <td>395000.0</td>\n",
              "      <td>407619.125000</td>\n",
              "    </tr>\n",
              "    <tr>\n",
              "      <th>18</th>\n",
              "      <td>398000.0</td>\n",
              "      <td>391537.250000</td>\n",
              "    </tr>\n",
              "    <tr>\n",
              "      <th>19</th>\n",
              "      <td>325000.0</td>\n",
              "      <td>272640.687500</td>\n",
              "    </tr>\n",
              "  </tbody>\n",
              "</table>\n",
              "</div>"
            ],
            "text/plain": [
              "      Actual      Predicted\n",
              "0   318000.0  385677.750000\n",
              "1   770000.0  509279.062500\n",
              "2   851800.0  493894.875000\n",
              "3   475000.0  514704.062500\n",
              "4   320000.0  302358.187500\n",
              "5   305000.0  334527.906250\n",
              "6   460000.0  453781.500000\n",
              "7   470000.0  407535.875000\n",
              "8   468000.0  709418.375000\n",
              "9   340000.0  429401.937500\n",
              "10  355000.0  393211.500000\n",
              "11  308000.0  293967.062500\n",
              "12  250000.0  282048.468750\n",
              "13  442000.0  564670.375000\n",
              "14  228000.0  234893.890625\n",
              "15  315000.0  364203.406250\n",
              "16  363000.0  332925.468750\n",
              "17  395000.0  407619.125000\n",
              "18  398000.0  391537.250000\n",
              "19  325000.0  272640.687500"
            ]
          },
          "metadata": {
            "tags": []
          },
          "execution_count": 37
        }
      ]
    },
    {
      "cell_type": "markdown",
      "metadata": {
        "id": "08i_sKgk9UQw"
      },
      "source": [
        "# Model 3: K nearest neighbours\n",
        "\n"
      ]
    },
    {
      "cell_type": "markdown",
      "metadata": {
        "id": "WNLZKZIaPHa1"
      },
      "source": [
        "We would like to try K nearest neighbours to try to improve our pricing accuracy. We use scikit learn, with reference to this example https://www.dataquest.io/blog/machine-learning-tutorial/"
      ]
    },
    {
      "cell_type": "code",
      "metadata": {
        "id": "94mwQxBmPObl"
      },
      "source": [
        "from sklearn.neighbors import KNeighborsRegressor\n",
        "knn = KNeighborsRegressor(algorithm='brute')"
      ],
      "execution_count": 38,
      "outputs": []
    },
    {
      "cell_type": "code",
      "metadata": {
        "id": "qbgn4mfVPWDd",
        "outputId": "22187914-aac7-4559-f6d4-600c31c3d85d",
        "colab": {
          "base_uri": "https://localhost:8080/",
          "height": 67
        }
      },
      "source": [
        "knn.fit(X_train,y_train)"
      ],
      "execution_count": 39,
      "outputs": [
        {
          "output_type": "execute_result",
          "data": {
            "text/plain": [
              "KNeighborsRegressor(algorithm='brute', leaf_size=30, metric='minkowski',\n",
              "                    metric_params=None, n_jobs=None, n_neighbors=5, p=2,\n",
              "                    weights='uniform')"
            ]
          },
          "metadata": {
            "tags": []
          },
          "execution_count": 39
        }
      ]
    },
    {
      "cell_type": "code",
      "metadata": {
        "id": "9ORObW0rM6wP",
        "outputId": "bd5035e2-dbab-4e0e-e281-cb737f0788d9",
        "colab": {
          "base_uri": "https://localhost:8080/",
          "height": 50
        }
      },
      "source": [
        "print(X_test[0])"
      ],
      "execution_count": 40,
      "outputs": [
        {
          "output_type": "stream",
          "text": [
            "[-0.74191395 -0.14449066 -1.15402826  0.42595447  0.15439213 -0.11934425\n",
            "  0.26425403]\n"
          ],
          "name": "stdout"
        }
      ]
    },
    {
      "cell_type": "code",
      "metadata": {
        "id": "HgPxdQAuPs4M"
      },
      "source": [
        "predictions = knn.predict(X_test)\n"
      ],
      "execution_count": 41,
      "outputs": []
    },
    {
      "cell_type": "code",
      "metadata": {
        "id": "954w_358P5Ki",
        "outputId": "b9c03c35-85fd-4e63-ab9f-b67bdb2cf0aa",
        "colab": {
          "base_uri": "https://localhost:8080/",
          "height": 34
        }
      },
      "source": [
        "from sklearn.metrics import mean_squared_error\n",
        "mse = mean_squared_error(y_test, predictions)\n",
        "rmse = mse ** (1/2)\n",
        "print(rmse)"
      ],
      "execution_count": 42,
      "outputs": [
        {
          "output_type": "stream",
          "text": [
            "46496.816061493475\n"
          ],
          "name": "stdout"
        }
      ]
    },
    {
      "cell_type": "code",
      "metadata": {
        "id": "1hFnEKayVp_n",
        "outputId": "599ebec7-a3ff-4450-f921-dc0723dfe168",
        "colab": {
          "base_uri": "https://localhost:8080/",
          "height": 374
        }
      },
      "source": [
        "# Visualizing Our predictions\n",
        "fig = plt.figure(figsize=(10,5))\n",
        "plt.scatter(y_test,predictions)\n",
        "# Perfect predictions\n",
        "plt.plot(y_test,y_test,'r')"
      ],
      "execution_count": 43,
      "outputs": [
        {
          "output_type": "execute_result",
          "data": {
            "text/plain": [
              "[<matplotlib.lines.Line2D at 0x7fc678fb45f8>]"
            ]
          },
          "metadata": {
            "tags": []
          },
          "execution_count": 43
        },
        {
          "output_type": "display_data",
          "data": {
            "image/png": "[encoded data removed]",
            "text/plain": [
              "<Figure size 720x360 with 1 Axes>"
            ]
          },
          "metadata": {
            "tags": []
          }
        }
      ]
    },
    {
      "cell_type": "code",
      "metadata": {
        "id": "pGVESp86QisA",
        "outputId": "cb9a5958-65a6-49e2-deef-98afdd3d78be",
        "colab": {
          "base_uri": "https://localhost:8080/",
          "height": 639
        }
      },
      "source": [
        "df = pd.DataFrame({'Actual': y_test, 'Predicted': predictions})\n",
        "df1 = df.head(20)\n",
        "df1"
      ],
      "execution_count": 44,
      "outputs": [
        {
          "output_type": "execute_result",
          "data": {
            "text/html": [
              "<div>\n",
              "<style scoped>\n",
              "    .dataframe tbody tr th:only-of-type {\n",
              "        vertical-align: middle;\n",
              "    }\n",
              "\n",
              "    .dataframe tbody tr th {\n",
              "        vertical-align: top;\n",
              "    }\n",
              "\n",
              "    .dataframe thead th {\n",
              "        text-align: right;\n",
              "    }\n",
              "</style>\n",
              "<table border=\"1\" class=\"dataframe\">\n",
              "  <thead>\n",
              "    <tr style=\"text-align: right;\">\n",
              "      <th></th>\n",
              "      <th>Actual</th>\n",
              "      <th>Predicted</th>\n",
              "    </tr>\n",
              "  </thead>\n",
              "  <tbody>\n",
              "    <tr>\n",
              "      <th>0</th>\n",
              "      <td>318000.0</td>\n",
              "      <td>362600.0</td>\n",
              "    </tr>\n",
              "    <tr>\n",
              "      <th>1</th>\n",
              "      <td>770000.0</td>\n",
              "      <td>641600.0</td>\n",
              "    </tr>\n",
              "    <tr>\n",
              "      <th>2</th>\n",
              "      <td>851800.0</td>\n",
              "      <td>734600.0</td>\n",
              "    </tr>\n",
              "    <tr>\n",
              "      <th>3</th>\n",
              "      <td>475000.0</td>\n",
              "      <td>452577.6</td>\n",
              "    </tr>\n",
              "    <tr>\n",
              "      <th>4</th>\n",
              "      <td>320000.0</td>\n",
              "      <td>305600.0</td>\n",
              "    </tr>\n",
              "    <tr>\n",
              "      <th>5</th>\n",
              "      <td>305000.0</td>\n",
              "      <td>303800.0</td>\n",
              "    </tr>\n",
              "    <tr>\n",
              "      <th>6</th>\n",
              "      <td>460000.0</td>\n",
              "      <td>408300.0</td>\n",
              "    </tr>\n",
              "    <tr>\n",
              "      <th>7</th>\n",
              "      <td>470000.0</td>\n",
              "      <td>436000.0</td>\n",
              "    </tr>\n",
              "    <tr>\n",
              "      <th>8</th>\n",
              "      <td>468000.0</td>\n",
              "      <td>476000.0</td>\n",
              "    </tr>\n",
              "    <tr>\n",
              "      <th>9</th>\n",
              "      <td>340000.0</td>\n",
              "      <td>333600.0</td>\n",
              "    </tr>\n",
              "    <tr>\n",
              "      <th>10</th>\n",
              "      <td>355000.0</td>\n",
              "      <td>374977.6</td>\n",
              "    </tr>\n",
              "    <tr>\n",
              "      <th>11</th>\n",
              "      <td>308000.0</td>\n",
              "      <td>311600.0</td>\n",
              "    </tr>\n",
              "    <tr>\n",
              "      <th>12</th>\n",
              "      <td>250000.0</td>\n",
              "      <td>256600.0</td>\n",
              "    </tr>\n",
              "    <tr>\n",
              "      <th>13</th>\n",
              "      <td>442000.0</td>\n",
              "      <td>452600.0</td>\n",
              "    </tr>\n",
              "    <tr>\n",
              "      <th>14</th>\n",
              "      <td>228000.0</td>\n",
              "      <td>224177.6</td>\n",
              "    </tr>\n",
              "    <tr>\n",
              "      <th>15</th>\n",
              "      <td>315000.0</td>\n",
              "      <td>382000.0</td>\n",
              "    </tr>\n",
              "    <tr>\n",
              "      <th>16</th>\n",
              "      <td>363000.0</td>\n",
              "      <td>325600.0</td>\n",
              "    </tr>\n",
              "    <tr>\n",
              "      <th>17</th>\n",
              "      <td>395000.0</td>\n",
              "      <td>420200.0</td>\n",
              "    </tr>\n",
              "    <tr>\n",
              "      <th>18</th>\n",
              "      <td>398000.0</td>\n",
              "      <td>364777.6</td>\n",
              "    </tr>\n",
              "    <tr>\n",
              "      <th>19</th>\n",
              "      <td>325000.0</td>\n",
              "      <td>312000.0</td>\n",
              "    </tr>\n",
              "  </tbody>\n",
              "</table>\n",
              "</div>"
            ],
            "text/plain": [
              "      Actual  Predicted\n",
              "0   318000.0   362600.0\n",
              "1   770000.0   641600.0\n",
              "2   851800.0   734600.0\n",
              "3   475000.0   452577.6\n",
              "4   320000.0   305600.0\n",
              "5   305000.0   303800.0\n",
              "6   460000.0   408300.0\n",
              "7   470000.0   436000.0\n",
              "8   468000.0   476000.0\n",
              "9   340000.0   333600.0\n",
              "10  355000.0   374977.6\n",
              "11  308000.0   311600.0\n",
              "12  250000.0   256600.0\n",
              "13  442000.0   452600.0\n",
              "14  228000.0   224177.6\n",
              "15  315000.0   382000.0\n",
              "16  363000.0   325600.0\n",
              "17  395000.0   420200.0\n",
              "18  398000.0   364777.6\n",
              "19  325000.0   312000.0"
            ]
          },
          "metadata": {
            "tags": []
          },
          "execution_count": 44
        }
      ]
    },
    {
      "cell_type": "markdown",
      "metadata": {
        "id": "A9WTQWwVVzES"
      },
      "source": [
        "# Conclusion\n",
        "\n",
        "K nearest neighbours seems to have the best prediction with a relatively low RMSE. Neural networks come in second while Linear regression comes in last."
      ]
    }
  ]
}