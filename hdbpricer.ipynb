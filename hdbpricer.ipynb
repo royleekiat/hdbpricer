{
  "nbformat": 4,
  "nbformat_minor": 0,
  "metadata": {
    "colab": {
      "name": "hdbpricer.ipynb",
      "provenance": [],
      "collapsed_sections": [],
      "toc_visible": true,
      "authorship_tag": "ABX9TyNkPO4mTU9gHEK+VH72CyW2",
      "include_colab_link": true
    },
    "kernelspec": {
      "name": "python3",
      "display_name": "Python 3"
    },
    "accelerator": "GPU"
  },
  "cells": [
    {
      "cell_type": "markdown",
      "metadata": {
        "id": "view-in-github",
        "colab_type": "text"
      },
      "source": [
        "<a href=\"https://colab.research.google.com/github/royleekiat/hdbpricer/blob/main/hdbpricer.ipynb\" target=\"_parent\"><img src=\"https://colab.research.google.com/assets/colab-badge.svg\" alt=\"Open In Colab\"/></a>"
      ]
    },
    {
      "cell_type": "markdown",
      "metadata": {
        "id": "IY6SVTgzRvzb"
      },
      "source": [
        "# HDB Resale Price Prediction\n",
        "\n",
        "Some inspiration (and code) taken from US Housing data prediction https://towardsdatascience.com/house-prices-prediction-using-deep-learning-dea265cc3154\n",
        "\n",
        "**Dataset for HDB Resale prices**\n",
        "https://data.gov.sg/dataset/resale-flat-prices"
      ]
    },
    {
      "cell_type": "code",
      "metadata": {
        "id": "nMheCkNFKvE4"
      },
      "source": [
        "%pip -q install tf-nightly"
      ],
      "execution_count": 1,
      "outputs": []
    },
    {
      "cell_type": "code",
      "metadata": {
        "id": "2tqXkSY1LrHa",
        "outputId": "58c29be8-6613-48d0-f3f7-a2675710575d",
        "colab": {
          "base_uri": "https://localhost:8080/",
          "height": 185
        }
      },
      "source": [
        "%matplotlib inline\n",
        "import matplotlib.pyplot as plt\n",
        "\n",
        "import math\n",
        "import tensorflow as tf\n",
        "from collections import defaultdict\n",
        "import numpy as np\n",
        "from numpy import unique\n",
        "import pandas as pd\n",
        "import seaborn as sns\n",
        "from sklearn.preprocessing import StandardScaler, LabelEncoder, MinMaxScaler\n",
        "from tensorflow import keras\n",
        "from tensorflow.keras import layers\n",
        "from tensorflow.keras.callbacks import ModelCheckpoint, Callback, TensorBoard"
      ],
      "execution_count": 2,
      "outputs": [
        {
          "output_type": "stream",
          "text": [
            "INFO:tensorflow:Using local port 23850\n",
            "INFO:tensorflow:Using local port 15761\n",
            "INFO:tensorflow:Using local port 17840\n",
            "INFO:tensorflow:Using local port 17320\n",
            "INFO:tensorflow:Using local port 22677\n",
            "INFO:tensorflow:Using local port 20212\n",
            "INFO:tensorflow:Using local port 21047\n",
            "INFO:tensorflow:Using local port 22145\n",
            "INFO:tensorflow:Using local port 15396\n",
            "INFO:tensorflow:Using local port 21811\n"
          ],
          "name": "stdout"
        }
      ]
    },
    {
      "cell_type": "code",
      "metadata": {
        "id": "u9eQmO_MLxbs",
        "outputId": "5d238128-8827-4690-fb9b-465c7c395b85",
        "colab": {
          "base_uri": "https://localhost:8080/",
          "height": 35
        }
      },
      "source": [
        "tf.__version__"
      ],
      "execution_count": 3,
      "outputs": [
        {
          "output_type": "execute_result",
          "data": {
            "application/vnd.google.colaboratory.intrinsic+json": {
              "type": "string"
            },
            "text/plain": [
              "'2.4.0-dev20201011'"
            ]
          },
          "metadata": {
            "tags": []
          },
          "execution_count": 3
        }
      ]
    },
    {
      "cell_type": "markdown",
      "metadata": {
        "id": "ZNtDfBD9V_ai"
      },
      "source": [
        "# Read data"
      ]
    },
    {
      "cell_type": "code",
      "metadata": {
        "id": "0gHolheVL3eS"
      },
      "source": [
        "#Dataset from https://data.gov.sg/dataset/resale-flat-prices\n",
        "file_url = \"https://docs.google.com/spreadsheets/d/e/2PACX-1vQ8OfO82KXoRmO0E6c58MdwsOSc8ns5Geme87SiaiqTUrS_hI8u8mYE5KIOfQe4m2m3GGf9En22xuXx/pub?gid=382289391&single=true&output=csv\"\n",
        "data = pd.read_csv(file_url)\n",
        "\n"
      ],
      "execution_count": 4,
      "outputs": []
    },
    {
      "cell_type": "code",
      "metadata": {
        "id": "Rk5vYDwddrZ9",
        "outputId": "eb9c5259-6a7b-47ae-b91d-2b868e51bcd2",
        "colab": {
          "base_uri": "https://localhost:8080/",
          "height": 34
        }
      },
      "source": [
        "dataframe = data.copy()\n",
        "dataframe.shape"
      ],
      "execution_count": 5,
      "outputs": [
        {
          "output_type": "execute_result",
          "data": {
            "text/plain": [
              "(77895, 11)"
            ]
          },
          "metadata": {
            "tags": []
          },
          "execution_count": 5
        }
      ]
    },
    {
      "cell_type": "code",
      "metadata": {
        "id": "gSjTZLBoOaZ-",
        "outputId": "e3772eb0-995c-4ee7-ef81-6aa55dd32d48",
        "colab": {
          "base_uri": "https://localhost:8080/",
          "height": 363
        }
      },
      "source": [
        "dataframe.head()"
      ],
      "execution_count": 6,
      "outputs": [
        {
          "output_type": "execute_result",
          "data": {
            "text/html": [
              "<div>\n",
              "<style scoped>\n",
              "    .dataframe tbody tr th:only-of-type {\n",
              "        vertical-align: middle;\n",
              "    }\n",
              "\n",
              "    .dataframe tbody tr th {\n",
              "        vertical-align: top;\n",
              "    }\n",
              "\n",
              "    .dataframe thead th {\n",
              "        text-align: right;\n",
              "    }\n",
              "</style>\n",
              "<table border=\"1\" class=\"dataframe\">\n",
              "  <thead>\n",
              "    <tr style=\"text-align: right;\">\n",
              "      <th></th>\n",
              "      <th>month</th>\n",
              "      <th>town</th>\n",
              "      <th>flat_type</th>\n",
              "      <th>block</th>\n",
              "      <th>street_name</th>\n",
              "      <th>storey_range</th>\n",
              "      <th>floor_area_sqm</th>\n",
              "      <th>flat_model</th>\n",
              "      <th>lease_commence_date</th>\n",
              "      <th>remaining_lease</th>\n",
              "      <th>resale_price</th>\n",
              "    </tr>\n",
              "  </thead>\n",
              "  <tbody>\n",
              "    <tr>\n",
              "      <th>0</th>\n",
              "      <td>2017-01</td>\n",
              "      <td>ANG MO KIO</td>\n",
              "      <td>2 ROOM</td>\n",
              "      <td>406</td>\n",
              "      <td>ANG MO KIO AVE 10</td>\n",
              "      <td>10 TO 12</td>\n",
              "      <td>44.0</td>\n",
              "      <td>Improved</td>\n",
              "      <td>1979</td>\n",
              "      <td>61 years 04 months</td>\n",
              "      <td>232000.0</td>\n",
              "    </tr>\n",
              "    <tr>\n",
              "      <th>1</th>\n",
              "      <td>2017-01</td>\n",
              "      <td>ANG MO KIO</td>\n",
              "      <td>3 ROOM</td>\n",
              "      <td>108</td>\n",
              "      <td>ANG MO KIO AVE 4</td>\n",
              "      <td>01 TO 03</td>\n",
              "      <td>67.0</td>\n",
              "      <td>New Generation</td>\n",
              "      <td>1978</td>\n",
              "      <td>60 years 07 months</td>\n",
              "      <td>250000.0</td>\n",
              "    </tr>\n",
              "    <tr>\n",
              "      <th>2</th>\n",
              "      <td>2017-01</td>\n",
              "      <td>ANG MO KIO</td>\n",
              "      <td>3 ROOM</td>\n",
              "      <td>602</td>\n",
              "      <td>ANG MO KIO AVE 5</td>\n",
              "      <td>01 TO 03</td>\n",
              "      <td>67.0</td>\n",
              "      <td>New Generation</td>\n",
              "      <td>1980</td>\n",
              "      <td>62 years 05 months</td>\n",
              "      <td>262000.0</td>\n",
              "    </tr>\n",
              "    <tr>\n",
              "      <th>3</th>\n",
              "      <td>2017-01</td>\n",
              "      <td>ANG MO KIO</td>\n",
              "      <td>3 ROOM</td>\n",
              "      <td>465</td>\n",
              "      <td>ANG MO KIO AVE 10</td>\n",
              "      <td>04 TO 06</td>\n",
              "      <td>68.0</td>\n",
              "      <td>New Generation</td>\n",
              "      <td>1980</td>\n",
              "      <td>62 years 01 month</td>\n",
              "      <td>265000.0</td>\n",
              "    </tr>\n",
              "    <tr>\n",
              "      <th>4</th>\n",
              "      <td>2017-01</td>\n",
              "      <td>ANG MO KIO</td>\n",
              "      <td>3 ROOM</td>\n",
              "      <td>601</td>\n",
              "      <td>ANG MO KIO AVE 5</td>\n",
              "      <td>01 TO 03</td>\n",
              "      <td>67.0</td>\n",
              "      <td>New Generation</td>\n",
              "      <td>1980</td>\n",
              "      <td>62 years 05 months</td>\n",
              "      <td>265000.0</td>\n",
              "    </tr>\n",
              "  </tbody>\n",
              "</table>\n",
              "</div>"
            ],
            "text/plain": [
              "     month        town  ...     remaining_lease resale_price\n",
              "0  2017-01  ANG MO KIO  ...  61 years 04 months     232000.0\n",
              "1  2017-01  ANG MO KIO  ...  60 years 07 months     250000.0\n",
              "2  2017-01  ANG MO KIO  ...  62 years 05 months     262000.0\n",
              "3  2017-01  ANG MO KIO  ...   62 years 01 month     265000.0\n",
              "4  2017-01  ANG MO KIO  ...  62 years 05 months     265000.0\n",
              "\n",
              "[5 rows x 11 columns]"
            ]
          },
          "metadata": {
            "tags": []
          },
          "execution_count": 6
        }
      ]
    },
    {
      "cell_type": "markdown",
      "metadata": {
        "id": "t4hW_suQWIdy"
      },
      "source": [
        "# Visualize data"
      ]
    },
    {
      "cell_type": "code",
      "metadata": {
        "id": "fwx_agYhRdgA",
        "outputId": "d406f8ad-891e-416e-9556-4e8fdb1748eb",
        "colab": {
          "base_uri": "https://localhost:8080/",
          "height": 1000
        }
      },
      "source": [
        "#visualizing house prices\n",
        "fig = plt.figure(figsize=(10,7))\n",
        "fig.add_subplot(2,1,1)\n",
        "sns.distplot(dataframe['resale_price'])\n",
        "plt.tight_layout()\n",
        "\n",
        "#visualizing square metres\n",
        "fig = plt.figure(figsize=(20,12))\n",
        "fig.add_subplot(2,2,1)\n",
        "sns.scatterplot(dataframe['floor_area_sqm'], dataframe['resale_price'])\n",
        "\n",
        "\n",
        "#visualizing bedrooms,bathrooms,floors,grade\n",
        "fig = plt.figure(figsize=(15,7))\n",
        "fig.add_subplot(2,2,1)\n",
        "sns.countplot(dataframe['town'])\n",
        "plt.xticks(rotation=90)\n",
        "fig.add_subplot(2,2,2)\n",
        "sns.countplot(dataframe['flat_type'])\n",
        "plt.xticks(rotation=90)\n",
        "fig.add_subplot(2,2,3)\n",
        "sns.countplot(dataframe['flat_model'])\n",
        "plt.xticks(rotation=90)\n",
        "fig.add_subplot(2,2,4)\n",
        "sns.countplot(dataframe['storey_range'])\n",
        "plt.xticks(rotation=90)\n",
        "\n",
        "plt.tight_layout()\n"
      ],
      "execution_count": 7,
      "outputs": [
        {
          "output_type": "stream",
          "text": [
            "/usr/local/lib/python3.6/dist-packages/seaborn/distributions.py:2551: FutureWarning: `distplot` is a deprecated function and will be removed in a future version. Please adapt your code to use either `displot` (a figure-level function with similar flexibility) or `histplot` (an axes-level function for histograms).\n",
            "  warnings.warn(msg, FutureWarning)\n",
            "/usr/local/lib/python3.6/dist-packages/seaborn/_decorators.py:43: FutureWarning: Pass the following variables as keyword args: x, y. From version 0.12, the only valid positional argument will be `data`, and passing other arguments without an explicit keyword will result in an error or misinterpretation.\n",
            "  FutureWarning\n",
            "/usr/local/lib/python3.6/dist-packages/seaborn/_decorators.py:43: FutureWarning: Pass the following variable as a keyword arg: x. From version 0.12, the only valid positional argument will be `data`, and passing other arguments without an explicit keyword will result in an error or misinterpretation.\n",
            "  FutureWarning\n",
            "/usr/local/lib/python3.6/dist-packages/seaborn/_decorators.py:43: FutureWarning: Pass the following variable as a keyword arg: x. From version 0.12, the only valid positional argument will be `data`, and passing other arguments without an explicit keyword will result in an error or misinterpretation.\n",
            "  FutureWarning\n",
            "/usr/local/lib/python3.6/dist-packages/seaborn/_decorators.py:43: FutureWarning: Pass the following variable as a keyword arg: x. From version 0.12, the only valid positional argument will be `data`, and passing other arguments without an explicit keyword will result in an error or misinterpretation.\n",
            "  FutureWarning\n",
            "/usr/local/lib/python3.6/dist-packages/seaborn/_decorators.py:43: FutureWarning: Pass the following variable as a keyword arg: x. From version 0.12, the only valid positional argument will be `data`, and passing other arguments without an explicit keyword will result in an error or misinterpretation.\n",
            "  FutureWarning\n"
          ],
          "name": "stderr"
        },
        {
          "output_type": "display_data",
          "data": {
            "image/png": "[encoded data removed]",
            "text/plain": [
              "<Figure size 720x504 with 1 Axes>"
            ]
          },
          "metadata": {
            "tags": [],
            "needs_background": "light"
          }
        },
        {
          "output_type": "display_data",
          "data": {
            "image/png": "[encoded data removed]",
            "text/plain": [
              "<Figure size 1440x864 with 1 Axes>"
            ]
          },
          "metadata": {
            "tags": [],
            "needs_background": "light"
          }
        },
        {
          "output_type": "display_data",
          "data": {
            "image/png": "[encoded data removed]",
            "text/plain": [
              "<Figure size 1080x504 with 4 Axes>"
            ]
          },
          "metadata": {
            "tags": [],
            "needs_background": "light"
          }
        }
      ]
    },
    {
      "cell_type": "markdown",
      "metadata": {
        "id": "fIgww-E1WRhJ"
      },
      "source": [
        "# Preprocess data"
      ]
    },
    {
      "cell_type": "code",
      "metadata": {
        "id": "I2QVArbHVJ6u",
        "outputId": "6ea22108-6df3-42e0-892d-960c12e79021",
        "colab": {
          "base_uri": "https://localhost:8080/",
          "height": 351
        }
      },
      "source": [
        "#let's break date to years, months\n",
        "dataframe['date'] = pd.to_datetime(dataframe['month'])\n",
        "dataframe['month'] = dataframe['date'].apply(lambda date:date.month)\n",
        "dataframe['year'] = dataframe['date'].apply(lambda date:date.year)\n",
        "\n",
        "#Get number of years left on lease as a continuous number (ignoring months)\n",
        "dataframe['remaining_lease'] = dataframe['remaining_lease'].apply(lambda remaining_lease:remaining_lease[:2])\n",
        "\n",
        "#Get storey range as a continuous number\n",
        "dataframe['storey_range'] = dataframe['storey_range'].apply(lambda storey_range:storey_range[:2])\n",
        "\n",
        "#data visualization house price vs months and years\n",
        "fig = plt.figure(figsize=(16,5))\n",
        "fig.add_subplot(1,2,1)\n",
        "dataframe.groupby('month').mean()['resale_price'].plot()\n",
        "fig.add_subplot(1,2,2)\n",
        "dataframe.groupby('year').mean()['resale_price'].plot()\n"
      ],
      "execution_count": 8,
      "outputs": [
        {
          "output_type": "execute_result",
          "data": {
            "text/plain": [
              "<matplotlib.axes._subplots.AxesSubplot at 0x7ff936b55128>"
            ]
          },
          "metadata": {
            "tags": []
          },
          "execution_count": 8
        },
        {
          "output_type": "display_data",
          "data": {
            "image/png": "[encoded data removed]",
            "text/plain": [
              "<Figure size 1152x360 with 2 Axes>"
            ]
          },
          "metadata": {
            "tags": [],
            "needs_background": "light"
          }
        }
      ]
    },
    {
      "cell_type": "markdown",
      "metadata": {
        "id": "Xp5rgObpPOsq"
      },
      "source": [
        "We can also use Google Geocode rest API to enrich the dataframe with longtitude and latitude data. For example,\n",
        "import requests\n",
        "\n",
        "response = requests.get('https://maps.googleapis.com/maps/api/geocode/json?address=1600+Amphitheatre+Parkway,+Mountain+View,+CA')\n",
        "\n",
        "resp_json_payload = response.json()\n",
        "\n",
        "print(resp_json_payload['results'][0]['geometry']['location'])\n",
        "\n",
        "OR\n",
        "\n",
        "USe Geopy and Geopanda as shown here https://towardsdatascience.com/geocode-with-python-161ec1e62b89"
      ]
    },
    {
      "cell_type": "code",
      "metadata": {
        "id": "P9EKYk4liFZF",
        "outputId": "0bfaddec-e609-47c6-c5d5-e915745941a3",
        "colab": {
          "base_uri": "https://localhost:8080/",
          "height": 286
        }
      },
      "source": [
        "%pip install geopandas\n",
        "%pip install geopy"
      ],
      "execution_count": 9,
      "outputs": [
        {
          "output_type": "stream",
          "text": [
            "Requirement already satisfied: geopandas in /usr/local/lib/python3.6/dist-packages (0.8.1)\n",
            "Requirement already satisfied: pandas>=0.23.0 in /usr/local/lib/python3.6/dist-packages (from geopandas) (1.1.2)\n",
            "Requirement already satisfied: pyproj>=2.2.0 in /usr/local/lib/python3.6/dist-packages (from geopandas) (2.6.1.post1)\n",
            "Requirement already satisfied: fiona in /usr/local/lib/python3.6/dist-packages (from geopandas) (1.8.17)\n",
            "Requirement already satisfied: shapely in /usr/local/lib/python3.6/dist-packages (from geopandas) (1.7.1)\n",
            "Requirement already satisfied: pytz>=2017.2 in /usr/local/lib/python3.6/dist-packages (from pandas>=0.23.0->geopandas) (2018.9)\n",
            "Requirement already satisfied: python-dateutil>=2.7.3 in /usr/local/lib/python3.6/dist-packages (from pandas>=0.23.0->geopandas) (2.8.1)\n",
            "Requirement already satisfied: numpy>=1.15.4 in /usr/local/lib/python3.6/dist-packages (from pandas>=0.23.0->geopandas) (1.18.5)\n",
            "Requirement already satisfied: click<8,>=4.0 in /usr/local/lib/python3.6/dist-packages (from fiona->geopandas) (7.1.2)\n",
            "Requirement already satisfied: click-plugins>=1.0 in /usr/local/lib/python3.6/dist-packages (from fiona->geopandas) (1.1.1)\n",
            "Requirement already satisfied: cligj>=0.5 in /usr/local/lib/python3.6/dist-packages (from fiona->geopandas) (0.5.0)\n",
            "Requirement already satisfied: six>=1.7 in /usr/local/lib/python3.6/dist-packages (from fiona->geopandas) (1.15.0)\n",
            "Requirement already satisfied: munch in /usr/local/lib/python3.6/dist-packages (from fiona->geopandas) (2.5.0)\n",
            "Requirement already satisfied: attrs>=17 in /usr/local/lib/python3.6/dist-packages (from fiona->geopandas) (20.2.0)\n",
            "Requirement already satisfied: geopy in /usr/local/lib/python3.6/dist-packages (1.17.0)\n",
            "Requirement already satisfied: geographiclib<2,>=1.49 in /usr/local/lib/python3.6/dist-packages (from geopy) (1.50)\n"
          ],
          "name": "stdout"
        }
      ]
    },
    {
      "cell_type": "markdown",
      "metadata": {
        "id": "XHEQuKm4WZmf"
      },
      "source": [
        "# Geocode locations"
      ]
    },
    {
      "cell_type": "code",
      "metadata": {
        "id": "bWkHwjT5glRU"
      },
      "source": [
        "#Concat address\n",
        "\n",
        "dataframe['address'] = dataframe['block'].map(str) + ', ' + dataframe['street_name'].map(str) + ', Singapore' "
      ],
      "execution_count": 10,
      "outputs": []
    },
    {
      "cell_type": "code",
      "metadata": {
        "id": "2N7G9Ua3jsHZ",
        "outputId": "f29502a9-5bf1-4727-f873-33b386b3c0c1",
        "colab": {
          "base_uri": "https://localhost:8080/",
          "height": 454
        }
      },
      "source": [
        "\n",
        "import geopandas as gpd\n",
        "import geopy\n",
        "from geopy.geocoders import Nominatim\n",
        "import folium\n",
        "from folium.plugins import FastMarkerCluster\n",
        "from geopy.extra.rate_limiter import RateLimiter\n",
        "\n",
        "'''\n",
        "#Geocode by address\n",
        "locator = Nominatim(user_agent=\"myGeocoder\")\n",
        "\n",
        "# 1 - convenient function to delay between geocoding calls\n",
        "geocode = RateLimiter(locator.geocode, min_delay_seconds=1)\n",
        "# 2- - create location column\n",
        "dataframe['location'] = dataframe['address'].apply(geocode)\n",
        "print(\"step 2\")\n",
        "# 3 - create longitude, laatitude and altitude from location column (returns tuple)\n",
        "dataframe['point'] = dataframe['location'].apply(lambda loc: tuple(loc.point) if loc else None)\n",
        "print(\"step 3\")\n",
        "# 4 - split point column into latitude, longitude and altitude columns\n",
        "dataframe[['latitude', 'longitude', 'altitude']] = pd.DataFrame(dataframe['point'].tolist(), index=df.index)\n",
        "print(\"step 4\")\n",
        "'''\n",
        "#Geocode by town (Singapore is so small that geocoding by addresses might not make much difference compared to geocoding to town)\n",
        "town = [x for x in dataframe['town'].unique().tolist() \n",
        "            if type(x) == str]\n",
        "latitude = []\n",
        "longitude =  []\n",
        "for i in range(0, len(town)):\n",
        "    # remove things that does not seem usefull here\n",
        "    try:\n",
        "        geolocator = Nominatim(user_agent=\"ny_explorer\")\n",
        "        loc = geolocator.geocode(town[i])\n",
        "        latitude.append(loc.latitude)\n",
        "        longitude.append(loc.longitude)\n",
        "        print('The geographical coordinate of location are {}, {}.'.format(loc.latitude, loc.longitude))\n",
        "    except:\n",
        "        # in the case the geolocator does not work, then add nan element to list\n",
        "        # to keep the right size\n",
        "        latitude.append(np.nan)\n",
        "        longitude.append(np.nan)\n",
        "# create a dataframe with the locatio, latitude and longitude\n",
        "df_ = pd.DataFrame({'town':town, \n",
        "                    'latitude': latitude,\n",
        "                    'longitude':longitude})\n",
        "# merge on Restaurant_Location with rest_df to get the column \n",
        "dataframe = dataframe.merge(df_, on='town', how='left')\n"
      ],
      "execution_count": 11,
      "outputs": [
        {
          "output_type": "stream",
          "text": [
            "The geographical coordinate of location are 1.3700803, 103.8495228.\n",
            "The geographical coordinate of location are 1.3239765, 103.930216.\n",
            "The geographical coordinate of location are 1.3509859, 103.84825507492937.\n",
            "The geographical coordinate of location are 1.3490572, 103.7495906.\n",
            "The geographical coordinate of location are 4.5592879, 101.0255816.\n",
            "The geographical coordinate of location are 1.3791486, 103.76141301431002.\n",
            "The geographical coordinate of location are 1.3546901, 103.7763724.\n",
            "The geographical coordinate of location are 36.5070827, -79.7447575.\n",
            "The geographical coordinate of location are 1.3847493, 103.7445341.\n",
            "The geographical coordinate of location are 1.3151003, 103.7652311.\n",
            "The geographical coordinate of location are 1.3181862, 103.8870563.\n",
            "The geographical coordinate of location are 1.3708011, 103.89254433997465.\n",
            "The geographical coordinate of location are 1.333108, 103.7422939.\n",
            "The geographical coordinate of location are 1.3396365, 103.7073387.\n",
            "The geographical coordinate of location are 1.32975, 103.8638399.\n",
            "The geographical coordinate of location are 1.3026889, 103.9073952.\n",
            "The geographical coordinate of location are 1.3730307, 103.949255.\n",
            "The geographical coordinate of location are 1.40519735, 103.90234976571602.\n",
            "The geographical coordinate of location are -45.0321923, 168.661.\n",
            "The geographical coordinate of location are 1.4490928, 103.8200555.\n",
            "The geographical coordinate of location are 1.3919236499999998, 103.89549093760694.\n",
            "The geographical coordinate of location are 1.3497610500000001, 103.87368414801405.\n",
            "The geographical coordinate of location are 1.3546528, 103.9435712.\n",
            "The geographical coordinate of location are 1.3353906, 103.8497414.\n",
            "The geographical coordinate of location are 30.1734194, -95.504686.\n",
            "The geographical coordinate of location are 1.4293839, 103.8350282.\n"
          ],
          "name": "stdout"
        }
      ]
    },
    {
      "cell_type": "code",
      "metadata": {
        "id": "YbQuKgBXV26S",
        "outputId": "d171e033-2210-4bb2-caa4-55b7cb1c868b",
        "colab": {
          "base_uri": "https://localhost:8080/",
          "height": 842
        }
      },
      "source": [
        "dataframe.head(100)"
      ],
      "execution_count": 12,
      "outputs": [
        {
          "output_type": "execute_result",
          "data": {
            "text/html": [
              "<div>\n",
              "<style scoped>\n",
              "    .dataframe tbody tr th:only-of-type {\n",
              "        vertical-align: middle;\n",
              "    }\n",
              "\n",
              "    .dataframe tbody tr th {\n",
              "        vertical-align: top;\n",
              "    }\n",
              "\n",
              "    .dataframe thead th {\n",
              "        text-align: right;\n",
              "    }\n",
              "</style>\n",
              "<table border=\"1\" class=\"dataframe\">\n",
              "  <thead>\n",
              "    <tr style=\"text-align: right;\">\n",
              "      <th></th>\n",
              "      <th>month</th>\n",
              "      <th>town</th>\n",
              "      <th>flat_type</th>\n",
              "      <th>block</th>\n",
              "      <th>street_name</th>\n",
              "      <th>storey_range</th>\n",
              "      <th>floor_area_sqm</th>\n",
              "      <th>flat_model</th>\n",
              "      <th>lease_commence_date</th>\n",
              "      <th>remaining_lease</th>\n",
              "      <th>resale_price</th>\n",
              "      <th>date</th>\n",
              "      <th>year</th>\n",
              "      <th>address</th>\n",
              "      <th>latitude</th>\n",
              "      <th>longitude</th>\n",
              "    </tr>\n",
              "  </thead>\n",
              "  <tbody>\n",
              "    <tr>\n",
              "      <th>0</th>\n",
              "      <td>1</td>\n",
              "      <td>ANG MO KIO</td>\n",
              "      <td>2 ROOM</td>\n",
              "      <td>406</td>\n",
              "      <td>ANG MO KIO AVE 10</td>\n",
              "      <td>10</td>\n",
              "      <td>44.0</td>\n",
              "      <td>Improved</td>\n",
              "      <td>1979</td>\n",
              "      <td>61</td>\n",
              "      <td>232000.0</td>\n",
              "      <td>2017-01-01</td>\n",
              "      <td>2017</td>\n",
              "      <td>406, ANG MO KIO AVE 10, Singapore</td>\n",
              "      <td>1.370080</td>\n",
              "      <td>103.849523</td>\n",
              "    </tr>\n",
              "    <tr>\n",
              "      <th>1</th>\n",
              "      <td>1</td>\n",
              "      <td>ANG MO KIO</td>\n",
              "      <td>3 ROOM</td>\n",
              "      <td>108</td>\n",
              "      <td>ANG MO KIO AVE 4</td>\n",
              "      <td>01</td>\n",
              "      <td>67.0</td>\n",
              "      <td>New Generation</td>\n",
              "      <td>1978</td>\n",
              "      <td>60</td>\n",
              "      <td>250000.0</td>\n",
              "      <td>2017-01-01</td>\n",
              "      <td>2017</td>\n",
              "      <td>108, ANG MO KIO AVE 4, Singapore</td>\n",
              "      <td>1.370080</td>\n",
              "      <td>103.849523</td>\n",
              "    </tr>\n",
              "    <tr>\n",
              "      <th>2</th>\n",
              "      <td>1</td>\n",
              "      <td>ANG MO KIO</td>\n",
              "      <td>3 ROOM</td>\n",
              "      <td>602</td>\n",
              "      <td>ANG MO KIO AVE 5</td>\n",
              "      <td>01</td>\n",
              "      <td>67.0</td>\n",
              "      <td>New Generation</td>\n",
              "      <td>1980</td>\n",
              "      <td>62</td>\n",
              "      <td>262000.0</td>\n",
              "      <td>2017-01-01</td>\n",
              "      <td>2017</td>\n",
              "      <td>602, ANG MO KIO AVE 5, Singapore</td>\n",
              "      <td>1.370080</td>\n",
              "      <td>103.849523</td>\n",
              "    </tr>\n",
              "    <tr>\n",
              "      <th>3</th>\n",
              "      <td>1</td>\n",
              "      <td>ANG MO KIO</td>\n",
              "      <td>3 ROOM</td>\n",
              "      <td>465</td>\n",
              "      <td>ANG MO KIO AVE 10</td>\n",
              "      <td>04</td>\n",
              "      <td>68.0</td>\n",
              "      <td>New Generation</td>\n",
              "      <td>1980</td>\n",
              "      <td>62</td>\n",
              "      <td>265000.0</td>\n",
              "      <td>2017-01-01</td>\n",
              "      <td>2017</td>\n",
              "      <td>465, ANG MO KIO AVE 10, Singapore</td>\n",
              "      <td>1.370080</td>\n",
              "      <td>103.849523</td>\n",
              "    </tr>\n",
              "    <tr>\n",
              "      <th>4</th>\n",
              "      <td>1</td>\n",
              "      <td>ANG MO KIO</td>\n",
              "      <td>3 ROOM</td>\n",
              "      <td>601</td>\n",
              "      <td>ANG MO KIO AVE 5</td>\n",
              "      <td>01</td>\n",
              "      <td>67.0</td>\n",
              "      <td>New Generation</td>\n",
              "      <td>1980</td>\n",
              "      <td>62</td>\n",
              "      <td>265000.0</td>\n",
              "      <td>2017-01-01</td>\n",
              "      <td>2017</td>\n",
              "      <td>601, ANG MO KIO AVE 5, Singapore</td>\n",
              "      <td>1.370080</td>\n",
              "      <td>103.849523</td>\n",
              "    </tr>\n",
              "    <tr>\n",
              "      <th>...</th>\n",
              "      <td>...</td>\n",
              "      <td>...</td>\n",
              "      <td>...</td>\n",
              "      <td>...</td>\n",
              "      <td>...</td>\n",
              "      <td>...</td>\n",
              "      <td>...</td>\n",
              "      <td>...</td>\n",
              "      <td>...</td>\n",
              "      <td>...</td>\n",
              "      <td>...</td>\n",
              "      <td>...</td>\n",
              "      <td>...</td>\n",
              "      <td>...</td>\n",
              "      <td>...</td>\n",
              "      <td>...</td>\n",
              "    </tr>\n",
              "    <tr>\n",
              "      <th>95</th>\n",
              "      <td>1</td>\n",
              "      <td>BEDOK</td>\n",
              "      <td>4 ROOM</td>\n",
              "      <td>78</td>\n",
              "      <td>BEDOK NTH RD</td>\n",
              "      <td>04</td>\n",
              "      <td>91.0</td>\n",
              "      <td>New Generation</td>\n",
              "      <td>1978</td>\n",
              "      <td>60</td>\n",
              "      <td>382000.0</td>\n",
              "      <td>2017-01-01</td>\n",
              "      <td>2017</td>\n",
              "      <td>78, BEDOK NTH RD, Singapore</td>\n",
              "      <td>1.323976</td>\n",
              "      <td>103.930216</td>\n",
              "    </tr>\n",
              "    <tr>\n",
              "      <th>96</th>\n",
              "      <td>1</td>\n",
              "      <td>BEDOK</td>\n",
              "      <td>4 ROOM</td>\n",
              "      <td>135</td>\n",
              "      <td>BEDOK RESERVOIR RD</td>\n",
              "      <td>07</td>\n",
              "      <td>84.0</td>\n",
              "      <td>Simplified</td>\n",
              "      <td>1987</td>\n",
              "      <td>69</td>\n",
              "      <td>384000.0</td>\n",
              "      <td>2017-01-01</td>\n",
              "      <td>2017</td>\n",
              "      <td>135, BEDOK RESERVOIR RD, Singapore</td>\n",
              "      <td>1.323976</td>\n",
              "      <td>103.930216</td>\n",
              "    </tr>\n",
              "    <tr>\n",
              "      <th>97</th>\n",
              "      <td>1</td>\n",
              "      <td>BEDOK</td>\n",
              "      <td>4 ROOM</td>\n",
              "      <td>148</td>\n",
              "      <td>BEDOK RESERVOIR RD</td>\n",
              "      <td>13</td>\n",
              "      <td>84.0</td>\n",
              "      <td>Simplified</td>\n",
              "      <td>1987</td>\n",
              "      <td>69</td>\n",
              "      <td>385000.0</td>\n",
              "      <td>2017-01-01</td>\n",
              "      <td>2017</td>\n",
              "      <td>148, BEDOK RESERVOIR RD, Singapore</td>\n",
              "      <td>1.323976</td>\n",
              "      <td>103.930216</td>\n",
              "    </tr>\n",
              "    <tr>\n",
              "      <th>98</th>\n",
              "      <td>1</td>\n",
              "      <td>BEDOK</td>\n",
              "      <td>4 ROOM</td>\n",
              "      <td>81</td>\n",
              "      <td>BEDOK NTH RD</td>\n",
              "      <td>01</td>\n",
              "      <td>91.0</td>\n",
              "      <td>New Generation</td>\n",
              "      <td>1978</td>\n",
              "      <td>60</td>\n",
              "      <td>390000.0</td>\n",
              "      <td>2017-01-01</td>\n",
              "      <td>2017</td>\n",
              "      <td>81, BEDOK NTH RD, Singapore</td>\n",
              "      <td>1.323976</td>\n",
              "      <td>103.930216</td>\n",
              "    </tr>\n",
              "    <tr>\n",
              "      <th>99</th>\n",
              "      <td>1</td>\n",
              "      <td>BEDOK</td>\n",
              "      <td>4 ROOM</td>\n",
              "      <td>142</td>\n",
              "      <td>BEDOK RESERVOIR RD</td>\n",
              "      <td>07</td>\n",
              "      <td>84.0</td>\n",
              "      <td>Simplified</td>\n",
              "      <td>1986</td>\n",
              "      <td>68</td>\n",
              "      <td>392000.0</td>\n",
              "      <td>2017-01-01</td>\n",
              "      <td>2017</td>\n",
              "      <td>142, BEDOK RESERVOIR RD, Singapore</td>\n",
              "      <td>1.323976</td>\n",
              "      <td>103.930216</td>\n",
              "    </tr>\n",
              "  </tbody>\n",
              "</table>\n",
              "<p>100 rows × 16 columns</p>\n",
              "</div>"
            ],
            "text/plain": [
              "    month        town  ...  latitude   longitude\n",
              "0       1  ANG MO KIO  ...  1.370080  103.849523\n",
              "1       1  ANG MO KIO  ...  1.370080  103.849523\n",
              "2       1  ANG MO KIO  ...  1.370080  103.849523\n",
              "3       1  ANG MO KIO  ...  1.370080  103.849523\n",
              "4       1  ANG MO KIO  ...  1.370080  103.849523\n",
              "..    ...         ...  ...       ...         ...\n",
              "95      1       BEDOK  ...  1.323976  103.930216\n",
              "96      1       BEDOK  ...  1.323976  103.930216\n",
              "97      1       BEDOK  ...  1.323976  103.930216\n",
              "98      1       BEDOK  ...  1.323976  103.930216\n",
              "99      1       BEDOK  ...  1.323976  103.930216\n",
              "\n",
              "[100 rows x 16 columns]"
            ]
          },
          "metadata": {
            "tags": []
          },
          "execution_count": 12
        }
      ]
    },
    {
      "cell_type": "code",
      "metadata": {
        "id": "AjjqTxtB6NtF",
        "outputId": "7e78af35-66f9-41da-eebc-7867df9ad9db",
        "colab": {
          "base_uri": "https://localhost:8080/",
          "height": 302
        }
      },
      "source": [
        "# check if there are any Null values\n",
        "dataframe.isnull().sum()"
      ],
      "execution_count": 13,
      "outputs": [
        {
          "output_type": "execute_result",
          "data": {
            "text/plain": [
              "month                  0\n",
              "town                   0\n",
              "flat_type              0\n",
              "block                  0\n",
              "street_name            0\n",
              "storey_range           0\n",
              "floor_area_sqm         0\n",
              "flat_model             0\n",
              "lease_commence_date    0\n",
              "remaining_lease        0\n",
              "resale_price           0\n",
              "date                   0\n",
              "year                   0\n",
              "address                0\n",
              "latitude               0\n",
              "longitude              0\n",
              "dtype: int64"
            ]
          },
          "metadata": {
            "tags": []
          },
          "execution_count": 13
        }
      ]
    },
    {
      "cell_type": "markdown",
      "metadata": {
        "id": "WfKMSR9_WfcF"
      },
      "source": [
        "# Encode categorical string values"
      ]
    },
    {
      "cell_type": "code",
      "metadata": {
        "id": "8z8EtJ26b-kv"
      },
      "source": [
        "### label encode the categorical values and convert them to numbers \n",
        "le = LabelEncoder()\n",
        "\n",
        "dataframe['town']= le.fit_transform(dataframe['town'].astype(str))\n",
        "\n",
        "dataframe['flat_type'] = le.fit_transform(dataframe['flat_type'].astype(str))\n",
        "\n",
        "dataframe['street_name'] = le.fit_transform(dataframe['street_name'].astype(str))\n",
        "\n",
        "dataframe['storey_range'] = le.fit_transform(dataframe['storey_range'].astype(str))\n",
        "\n",
        "dataframe['flat_model'] = le.fit_transform(dataframe['flat_model'].astype(str))\n",
        "\n",
        "dataframe['block'] = le.fit_transform(dataframe['block'].astype(str))\n",
        "\n",
        "dataframe['address'] = le.fit_transform(dataframe['address'].astype(str))\n"
      ],
      "execution_count": 14,
      "outputs": []
    },
    {
      "cell_type": "markdown",
      "metadata": {
        "id": "AfCrWUnfWmbT"
      },
      "source": [
        "# Understand correlations"
      ]
    },
    {
      "cell_type": "code",
      "metadata": {
        "id": "uh8JFpRSACwE",
        "outputId": "244e533d-10d1-489c-fa20-f5b6183116d1",
        "colab": {
          "base_uri": "https://localhost:8080/",
          "height": 645
        }
      },
      "source": [
        "#correlation matrix\n",
        "corrmat = dataframe.corr()\n",
        "f, ax = plt.subplots(figsize=(12, 9))\n",
        "sns.heatmap(corrmat, vmax=.8, square=True);"
      ],
      "execution_count": 15,
      "outputs": [
        {
          "output_type": "display_data",
          "data": {
            "image/png": "[encoded data removed]",
            "text/plain": [
              "<Figure size 864x648 with 2 Axes>"
            ]
          },
          "metadata": {
            "tags": [],
            "needs_background": "light"
          }
        }
      ]
    },
    {
      "cell_type": "code",
      "metadata": {
        "id": "OeyeK4iuAWld",
        "outputId": "ff45a2c2-eb5a-4751-dd37-2601663d2714",
        "colab": {
          "base_uri": "https://localhost:8080/",
          "height": 421
        }
      },
      "source": [
        "#resale_price correlation matrix\n",
        "k = 10 #number of variables for heatmap\n",
        "cols = corrmat.nlargest(k, 'resale_price')['resale_price'].index\n",
        "cm = np.corrcoef(dataframe[cols].values.T)\n",
        "sns.set(font_scale=1.25)\n",
        "hm = sns.heatmap(cm, cbar=True, annot=True, square=True, fmt='.2f', annot_kws={'size': 10}, yticklabels=cols.values, xticklabels=cols.values)\n",
        "plt.show()"
      ],
      "execution_count": 16,
      "outputs": [
        {
          "output_type": "display_data",
          "data": {
            "image/png": "[encoded data removed]",
            "text/plain": [
              "<Figure size 432x288 with 2 Axes>"
            ]
          },
          "metadata": {
            "tags": []
          }
        }
      ]
    },
    {
      "cell_type": "markdown",
      "metadata": {
        "id": "BY6IS4rlWvhF"
      },
      "source": [
        "# Drop columns with low correlations"
      ]
    },
    {
      "cell_type": "code",
      "metadata": {
        "id": "XSok6aemZp-6"
      },
      "source": [
        "\n",
        "\n",
        "# drop some unnecessary columns\n",
        "dataframe = dataframe.drop('date',axis=1)\n",
        "\n",
        "dataframe = dataframe.drop('block',axis=1)\n",
        "#dataframe = dataframe.drop('lease_commence_date',axis=1)\n",
        "dataframe = dataframe.drop('month',axis=1)\n",
        "dataframe = dataframe.drop('street_name',axis=1)\n",
        "dataframe = dataframe.drop('address',axis=1)\n",
        "#dataframe = dataframe.drop('flat_model',axis=1)\n",
        "#dataframe = dataframe.drop('town',axis=1)\n",
        "dataframe = dataframe.drop('year',axis=1)\n",
        "#dataframe = dataframe.drop('latitude',axis=1)\n",
        "dataframe = dataframe.drop('remaining_lease',axis=1)\n",
        "\n",
        "\n",
        "\n",
        "\n",
        "\n",
        "\n"
      ],
      "execution_count": 17,
      "outputs": []
    },
    {
      "cell_type": "markdown",
      "metadata": {
        "id": "E--By9oRW0Wz"
      },
      "source": [
        "# Preview model input data"
      ]
    },
    {
      "cell_type": "code",
      "metadata": {
        "id": "neTsK6QsIDAi",
        "outputId": "dc427bb2-4def-4bbc-fbb8-e7fbc5912b42",
        "colab": {
          "base_uri": "https://localhost:8080/",
          "height": 195
        }
      },
      "source": [
        "dataframe.head()"
      ],
      "execution_count": 18,
      "outputs": [
        {
          "output_type": "execute_result",
          "data": {
            "text/html": [
              "<div>\n",
              "<style scoped>\n",
              "    .dataframe tbody tr th:only-of-type {\n",
              "        vertical-align: middle;\n",
              "    }\n",
              "\n",
              "    .dataframe tbody tr th {\n",
              "        vertical-align: top;\n",
              "    }\n",
              "\n",
              "    .dataframe thead th {\n",
              "        text-align: right;\n",
              "    }\n",
              "</style>\n",
              "<table border=\"1\" class=\"dataframe\">\n",
              "  <thead>\n",
              "    <tr style=\"text-align: right;\">\n",
              "      <th></th>\n",
              "      <th>town</th>\n",
              "      <th>flat_type</th>\n",
              "      <th>storey_range</th>\n",
              "      <th>floor_area_sqm</th>\n",
              "      <th>flat_model</th>\n",
              "      <th>lease_commence_date</th>\n",
              "      <th>resale_price</th>\n",
              "      <th>latitude</th>\n",
              "      <th>longitude</th>\n",
              "    </tr>\n",
              "  </thead>\n",
              "  <tbody>\n",
              "    <tr>\n",
              "      <th>0</th>\n",
              "      <td>0</td>\n",
              "      <td>1</td>\n",
              "      <td>3</td>\n",
              "      <td>44.0</td>\n",
              "      <td>4</td>\n",
              "      <td>1979</td>\n",
              "      <td>232000.0</td>\n",
              "      <td>1.37008</td>\n",
              "      <td>103.849523</td>\n",
              "    </tr>\n",
              "    <tr>\n",
              "      <th>1</th>\n",
              "      <td>0</td>\n",
              "      <td>2</td>\n",
              "      <td>0</td>\n",
              "      <td>67.0</td>\n",
              "      <td>11</td>\n",
              "      <td>1978</td>\n",
              "      <td>250000.0</td>\n",
              "      <td>1.37008</td>\n",
              "      <td>103.849523</td>\n",
              "    </tr>\n",
              "    <tr>\n",
              "      <th>2</th>\n",
              "      <td>0</td>\n",
              "      <td>2</td>\n",
              "      <td>0</td>\n",
              "      <td>67.0</td>\n",
              "      <td>11</td>\n",
              "      <td>1980</td>\n",
              "      <td>262000.0</td>\n",
              "      <td>1.37008</td>\n",
              "      <td>103.849523</td>\n",
              "    </tr>\n",
              "    <tr>\n",
              "      <th>3</th>\n",
              "      <td>0</td>\n",
              "      <td>2</td>\n",
              "      <td>1</td>\n",
              "      <td>68.0</td>\n",
              "      <td>11</td>\n",
              "      <td>1980</td>\n",
              "      <td>265000.0</td>\n",
              "      <td>1.37008</td>\n",
              "      <td>103.849523</td>\n",
              "    </tr>\n",
              "    <tr>\n",
              "      <th>4</th>\n",
              "      <td>0</td>\n",
              "      <td>2</td>\n",
              "      <td>0</td>\n",
              "      <td>67.0</td>\n",
              "      <td>11</td>\n",
              "      <td>1980</td>\n",
              "      <td>265000.0</td>\n",
              "      <td>1.37008</td>\n",
              "      <td>103.849523</td>\n",
              "    </tr>\n",
              "  </tbody>\n",
              "</table>\n",
              "</div>"
            ],
            "text/plain": [
              "   town  flat_type  storey_range  ...  resale_price  latitude   longitude\n",
              "0     0          1             3  ...      232000.0   1.37008  103.849523\n",
              "1     0          2             0  ...      250000.0   1.37008  103.849523\n",
              "2     0          2             0  ...      262000.0   1.37008  103.849523\n",
              "3     0          2             1  ...      265000.0   1.37008  103.849523\n",
              "4     0          2             0  ...      265000.0   1.37008  103.849523\n",
              "\n",
              "[5 rows x 9 columns]"
            ]
          },
          "metadata": {
            "tags": []
          },
          "execution_count": 18
        }
      ]
    },
    {
      "cell_type": "markdown",
      "metadata": {
        "id": "4kAbWZA4aXCr"
      },
      "source": [
        "# Data Split"
      ]
    },
    {
      "cell_type": "code",
      "metadata": {
        "id": "sd4bkIREaWdV"
      },
      "source": [
        "#X = dataframe.drop('resale_price',axis =1).values\n",
        "#y = dataframe['resale_price'].values\n",
        "\n",
        "X = dataframe.drop('resale_price',axis =1)\n",
        "y = dataframe['resale_price']\n",
        "\n"
      ],
      "execution_count": 19,
      "outputs": []
    },
    {
      "cell_type": "code",
      "metadata": {
        "id": "iJt0ec62uUrQ"
      },
      "source": [
        "X=X.values\n",
        "y=y.values"
      ],
      "execution_count": 20,
      "outputs": []
    },
    {
      "cell_type": "code",
      "metadata": {
        "id": "bN047MfapYPL"
      },
      "source": [
        "#splitting Train and Test \n",
        "from sklearn.model_selection import train_test_split\n",
        "X_train, X_test, y_train, y_test = train_test_split(X, y, test_size=0.3, random_state=101)"
      ],
      "execution_count": 21,
      "outputs": []
    },
    {
      "cell_type": "markdown",
      "metadata": {
        "id": "Obg33T9SXDhX"
      },
      "source": [
        "# Scaling"
      ]
    },
    {
      "cell_type": "code",
      "metadata": {
        "id": "fC1xzGrNaplB",
        "outputId": "b939e36b-fb7a-4a2d-af60-dee890433b01",
        "colab": {
          "base_uri": "https://localhost:8080/",
          "height": 52
        }
      },
      "source": [
        "#standardization scaler - fit&transform on train, fit only on test\n",
        "\n",
        "s_scaler = StandardScaler()\n",
        "X_train = s_scaler.fit_transform(X_train.astype(np.float))\n",
        "X_test = s_scaler.transform(X_test.astype(np.float))\n",
        "\n",
        "\n",
        "#MinMax scaler - fit&transform on train, fit only on test\n",
        "'''\n",
        "s_scaler = MinMaxScaler()\n",
        "X_train = s_scaler.fit_transform(X_train.astype(np.float))\n",
        "X_test = s_scaler.transform(X_test.astype(np.float))\n",
        "'''"
      ],
      "execution_count": 22,
      "outputs": [
        {
          "output_type": "execute_result",
          "data": {
            "application/vnd.google.colaboratory.intrinsic+json": {
              "type": "string"
            },
            "text/plain": [
              "'\\ns_scaler = MinMaxScaler()\\nX_train = s_scaler.fit_transform(X_train.astype(np.float))\\nX_test = s_scaler.transform(X_test.astype(np.float))\\n'"
            ]
          },
          "metadata": {
            "tags": []
          },
          "execution_count": 22
        }
      ]
    },
    {
      "cell_type": "markdown",
      "metadata": {
        "id": "_vdqRRZ5w9Np"
      },
      "source": [
        "# Model 1: Linear Regression"
      ]
    },
    {
      "cell_type": "code",
      "metadata": {
        "id": "92nWzIlCjbVu",
        "outputId": "d4d357b7-cfce-4482-f5a6-8a9d1921c3e3",
        "colab": {
          "base_uri": "https://localhost:8080/",
          "height": 334
        }
      },
      "source": [
        "# Multiple Liner Regression\n",
        "from sklearn.linear_model import LinearRegression\n",
        "regressor = LinearRegression()  \n",
        "regressor.fit(X_train, y_train)\n",
        "#evaluate the model (intercept and slope)\n",
        "print(regressor.intercept_)\n",
        "print(regressor.coef_)\n",
        "#predicting the test set result\n",
        "y_pred = regressor.predict(X_test)\n",
        "#put results as a DataFrame\n",
        "coeff_df = pd.DataFrame(regressor.coef_, dataframe.drop('resale_price',axis =1).columns, columns=['Coefficient']) \n",
        "coeff_df"
      ],
      "execution_count": 23,
      "outputs": [
        {
          "output_type": "stream",
          "text": [
            "438726.56080475025\n",
            "[-23357.73866819  23900.66535851  43309.26302484  74054.5520322\n",
            "  -1051.74737631  25036.28624063 -36263.36477513 -15127.65725615]\n"
          ],
          "name": "stdout"
        },
        {
          "output_type": "execute_result",
          "data": {
            "text/html": [
              "<div>\n",
              "<style scoped>\n",
              "    .dataframe tbody tr th:only-of-type {\n",
              "        vertical-align: middle;\n",
              "    }\n",
              "\n",
              "    .dataframe tbody tr th {\n",
              "        vertical-align: top;\n",
              "    }\n",
              "\n",
              "    .dataframe thead th {\n",
              "        text-align: right;\n",
              "    }\n",
              "</style>\n",
              "<table border=\"1\" class=\"dataframe\">\n",
              "  <thead>\n",
              "    <tr style=\"text-align: right;\">\n",
              "      <th></th>\n",
              "      <th>Coefficient</th>\n",
              "    </tr>\n",
              "  </thead>\n",
              "  <tbody>\n",
              "    <tr>\n",
              "      <th>town</th>\n",
              "      <td>-23357.738668</td>\n",
              "    </tr>\n",
              "    <tr>\n",
              "      <th>flat_type</th>\n",
              "      <td>23900.665359</td>\n",
              "    </tr>\n",
              "    <tr>\n",
              "      <th>storey_range</th>\n",
              "      <td>43309.263025</td>\n",
              "    </tr>\n",
              "    <tr>\n",
              "      <th>floor_area_sqm</th>\n",
              "      <td>74054.552032</td>\n",
              "    </tr>\n",
              "    <tr>\n",
              "      <th>flat_model</th>\n",
              "      <td>-1051.747376</td>\n",
              "    </tr>\n",
              "    <tr>\n",
              "      <th>lease_commence_date</th>\n",
              "      <td>25036.286241</td>\n",
              "    </tr>\n",
              "    <tr>\n",
              "      <th>latitude</th>\n",
              "      <td>-36263.364775</td>\n",
              "    </tr>\n",
              "    <tr>\n",
              "      <th>longitude</th>\n",
              "      <td>-15127.657256</td>\n",
              "    </tr>\n",
              "  </tbody>\n",
              "</table>\n",
              "</div>"
            ],
            "text/plain": [
              "                      Coefficient\n",
              "town                -23357.738668\n",
              "flat_type            23900.665359\n",
              "storey_range         43309.263025\n",
              "floor_area_sqm       74054.552032\n",
              "flat_model           -1051.747376\n",
              "lease_commence_date  25036.286241\n",
              "latitude            -36263.364775\n",
              "longitude           -15127.657256"
            ]
          },
          "metadata": {
            "tags": []
          },
          "execution_count": 23
        }
      ]
    },
    {
      "cell_type": "code",
      "metadata": {
        "id": "wBZq4DIAjknU",
        "outputId": "84e5b2c1-20ae-4779-a38e-e5a6ffda749a",
        "colab": {
          "base_uri": "https://localhost:8080/",
          "height": 410
        }
      },
      "source": [
        "# visualizing residuals\n",
        "fig = plt.figure(figsize=(10,5))\n",
        "residuals = (y_test- y_pred)\n",
        "sns.distplot(residuals)"
      ],
      "execution_count": 24,
      "outputs": [
        {
          "output_type": "stream",
          "text": [
            "/usr/local/lib/python3.6/dist-packages/seaborn/distributions.py:2551: FutureWarning: `distplot` is a deprecated function and will be removed in a future version. Please adapt your code to use either `displot` (a figure-level function with similar flexibility) or `histplot` (an axes-level function for histograms).\n",
            "  warnings.warn(msg, FutureWarning)\n"
          ],
          "name": "stderr"
        },
        {
          "output_type": "execute_result",
          "data": {
            "text/plain": [
              "<matplotlib.axes._subplots.AxesSubplot at 0x7ff92e86ae48>"
            ]
          },
          "metadata": {
            "tags": []
          },
          "execution_count": 24
        },
        {
          "output_type": "display_data",
          "data": {
            "image/png": "[encoded data removed]",
            "text/plain": [
              "<Figure size 720x360 with 1 Axes>"
            ]
          },
          "metadata": {
            "tags": []
          }
        }
      ]
    },
    {
      "cell_type": "code",
      "metadata": {
        "id": "iP6FZyGCjoas",
        "outputId": "90075d36-2e46-44ff-88c8-aad08da3c83d",
        "colab": {
          "base_uri": "https://localhost:8080/",
          "height": 343
        }
      },
      "source": [
        "#compare actual output values with predicted values\n",
        "y_pred = regressor.predict(X_test)\n",
        "df = pd.DataFrame({'Actual': y_test, 'Predicted': y_pred})\n",
        "df1 = df.head(10)\n",
        "df1\n"
      ],
      "execution_count": 25,
      "outputs": [
        {
          "output_type": "execute_result",
          "data": {
            "text/html": [
              "<div>\n",
              "<style scoped>\n",
              "    .dataframe tbody tr th:only-of-type {\n",
              "        vertical-align: middle;\n",
              "    }\n",
              "\n",
              "    .dataframe tbody tr th {\n",
              "        vertical-align: top;\n",
              "    }\n",
              "\n",
              "    .dataframe thead th {\n",
              "        text-align: right;\n",
              "    }\n",
              "</style>\n",
              "<table border=\"1\" class=\"dataframe\">\n",
              "  <thead>\n",
              "    <tr style=\"text-align: right;\">\n",
              "      <th></th>\n",
              "      <th>Actual</th>\n",
              "      <th>Predicted</th>\n",
              "    </tr>\n",
              "  </thead>\n",
              "  <tbody>\n",
              "    <tr>\n",
              "      <th>0</th>\n",
              "      <td>318000.0</td>\n",
              "      <td>438564.437470</td>\n",
              "    </tr>\n",
              "    <tr>\n",
              "      <th>1</th>\n",
              "      <td>770000.0</td>\n",
              "      <td>521524.833284</td>\n",
              "    </tr>\n",
              "    <tr>\n",
              "      <th>2</th>\n",
              "      <td>851800.0</td>\n",
              "      <td>538466.857712</td>\n",
              "    </tr>\n",
              "    <tr>\n",
              "      <th>3</th>\n",
              "      <td>475000.0</td>\n",
              "      <td>512650.522981</td>\n",
              "    </tr>\n",
              "    <tr>\n",
              "      <th>4</th>\n",
              "      <td>320000.0</td>\n",
              "      <td>342175.458003</td>\n",
              "    </tr>\n",
              "    <tr>\n",
              "      <th>5</th>\n",
              "      <td>305000.0</td>\n",
              "      <td>361240.254288</td>\n",
              "    </tr>\n",
              "    <tr>\n",
              "      <th>6</th>\n",
              "      <td>460000.0</td>\n",
              "      <td>517079.630774</td>\n",
              "    </tr>\n",
              "    <tr>\n",
              "      <th>7</th>\n",
              "      <td>470000.0</td>\n",
              "      <td>412920.814808</td>\n",
              "    </tr>\n",
              "    <tr>\n",
              "      <th>8</th>\n",
              "      <td>468000.0</td>\n",
              "      <td>662174.940417</td>\n",
              "    </tr>\n",
              "    <tr>\n",
              "      <th>9</th>\n",
              "      <td>340000.0</td>\n",
              "      <td>515828.649275</td>\n",
              "    </tr>\n",
              "  </tbody>\n",
              "</table>\n",
              "</div>"
            ],
            "text/plain": [
              "     Actual      Predicted\n",
              "0  318000.0  438564.437470\n",
              "1  770000.0  521524.833284\n",
              "2  851800.0  538466.857712\n",
              "3  475000.0  512650.522981\n",
              "4  320000.0  342175.458003\n",
              "5  305000.0  361240.254288\n",
              "6  460000.0  517079.630774\n",
              "7  470000.0  412920.814808\n",
              "8  468000.0  662174.940417\n",
              "9  340000.0  515828.649275"
            ]
          },
          "metadata": {
            "tags": []
          },
          "execution_count": 25
        }
      ]
    },
    {
      "cell_type": "code",
      "metadata": {
        "id": "w9vLUJwv7EsR",
        "outputId": "f90e71a7-6147-48b2-e05b-469547d417ed",
        "colab": {
          "base_uri": "https://localhost:8080/",
          "height": 34
        }
      },
      "source": [
        "print(y_test)"
      ],
      "execution_count": 26,
      "outputs": [
        {
          "output_type": "stream",
          "text": [
            "[318000. 770000. 851800. ... 350000. 450000. 360000.]\n"
          ],
          "name": "stdout"
        }
      ]
    },
    {
      "cell_type": "code",
      "metadata": {
        "id": "Z7-QqN3gvQcC",
        "outputId": "ad2f57eb-3683-429a-ec79-49211c4fa16d",
        "colab": {
          "base_uri": "https://localhost:8080/",
          "height": 84
        }
      },
      "source": [
        "# evaluate the performance of the algorithm (MAE - MSE - RMSE)\n",
        "from sklearn import metrics\n",
        "print('MAE:', metrics.mean_absolute_error(y_test, y_pred))  \n",
        "print('MSE:', metrics.mean_squared_error(y_test, y_pred))  \n",
        "print('RMSE:', np.sqrt(metrics.mean_squared_error(y_test, y_pred)))\n",
        "print('VarScore:',metrics.explained_variance_score(y_test,y_pred))"
      ],
      "execution_count": 27,
      "outputs": [
        {
          "output_type": "stream",
          "text": [
            "MAE: 72201.84859012302\n",
            "MSE: 9412504821.71503\n",
            "RMSE: 97018.06440923788\n",
            "VarScore: 0.5966934529266692\n"
          ],
          "name": "stdout"
        }
      ]
    },
    {
      "cell_type": "markdown",
      "metadata": {
        "id": "swPahS1wwxnN"
      },
      "source": [
        "# Model 2: Keras neural network"
      ]
    },
    {
      "cell_type": "code",
      "metadata": {
        "id": "TiWCiD1Fw_D0"
      },
      "source": [
        "# Creating a Neural Network Model\n",
        "from tensorflow.keras.models import Sequential\n",
        "from tensorflow.keras.layers import Dense, Activation,Dropout\n",
        "from tensorflow.keras.optimizers import Adam"
      ],
      "execution_count": 28,
      "outputs": []
    },
    {
      "cell_type": "code",
      "metadata": {
        "id": "QoU6INMfxDPH"
      },
      "source": [
        "# having 7 neuron is based on the number of available features\n",
        "model = Sequential()\n",
        "model.add(Dense(9,activation='relu'))\n",
        "model.add(Dense(18,activation='relu'))\n",
        "model.add(Dense(18,activation='relu'))\n",
        "model.add(Dense(9,activation='relu'))\n",
        "model.add(Dense(1))\n",
        "model.compile(optimizer='Adam',loss='mse')"
      ],
      "execution_count": 29,
      "outputs": []
    },
    {
      "cell_type": "code",
      "metadata": {
        "id": "XDmYDa6nxF4L",
        "outputId": "468b4d62-4848-4e8e-dacc-993a32eb55cd",
        "colab": {
          "base_uri": "https://localhost:8080/",
          "height": 1000
        }
      },
      "source": [
        "model.fit(x=X_train,y=y_train,\n",
        "          validation_data=(X_test,y_test),\n",
        "          batch_size=128,epochs=400)\n",
        "\n",
        "model.summary()"
      ],
      "execution_count": 30,
      "outputs": [
        {
          "output_type": "stream",
          "text": [
            "Epoch 1/400\n",
            "426/426 [==============================] - 1s 2ms/step - loss: 215099041489.8361 - val_loss: 197315837952.0000\n",
            "Epoch 2/400\n",
            "426/426 [==============================] - 1s 2ms/step - loss: 153379225868.5901 - val_loss: 24743636992.0000\n",
            "Epoch 3/400\n",
            "426/426 [==============================] - 1s 2ms/step - loss: 21954045472.3747 - val_loss: 17347721216.0000\n",
            "Epoch 4/400\n",
            "426/426 [==============================] - 1s 2ms/step - loss: 16477729509.0211 - val_loss: 14163376128.0000\n",
            "Epoch 5/400\n",
            "426/426 [==============================] - 1s 1ms/step - loss: 13886141742.1639 - val_loss: 12078249984.0000\n",
            "Epoch 6/400\n",
            "426/426 [==============================] - 1s 2ms/step - loss: 11718162312.0937 - val_loss: 10770380800.0000\n",
            "Epoch 7/400\n",
            "426/426 [==============================] - 1s 2ms/step - loss: 10568887239.6440 - val_loss: 10005351424.0000\n",
            "Epoch 8/400\n",
            "426/426 [==============================] - 1s 2ms/step - loss: 9956779015.1944 - val_loss: 9534577664.0000\n",
            "Epoch 9/400\n",
            "426/426 [==============================] - 1s 2ms/step - loss: 9400807591.8689 - val_loss: 9231947776.0000\n",
            "Epoch 10/400\n",
            "426/426 [==============================] - 1s 2ms/step - loss: 9341816537.0304 - val_loss: 9002199040.0000\n",
            "Epoch 11/400\n",
            "426/426 [==============================] - 1s 2ms/step - loss: 8971976549.3208 - val_loss: 8854326272.0000\n",
            "Epoch 12/400\n",
            "426/426 [==============================] - 1s 2ms/step - loss: 8817757073.6862 - val_loss: 8742537216.0000\n",
            "Epoch 13/400\n",
            "426/426 [==============================] - 1s 2ms/step - loss: 8722877866.8665 - val_loss: 8612062208.0000\n",
            "Epoch 14/400\n",
            "426/426 [==============================] - 1s 2ms/step - loss: 8677930515.1850 - val_loss: 8549495296.0000\n",
            "Epoch 15/400\n",
            "426/426 [==============================] - 1s 1ms/step - loss: 8485030619.4286 - val_loss: 8449070080.0000\n",
            "Epoch 16/400\n",
            "426/426 [==============================] - 1s 2ms/step - loss: 8443423600.1124 - val_loss: 8355801088.0000\n",
            "Epoch 17/400\n",
            "426/426 [==============================] - 1s 2ms/step - loss: 8420165714.7354 - val_loss: 8289784832.0000\n",
            "Epoch 18/400\n",
            "426/426 [==============================] - 1s 2ms/step - loss: 8427835834.4543 - val_loss: 8196976128.0000\n",
            "Epoch 19/400\n",
            "426/426 [==============================] - 1s 2ms/step - loss: 8222974034.7354 - val_loss: 8111534592.0000\n",
            "Epoch 20/400\n",
            "426/426 [==============================] - 1s 2ms/step - loss: 8072257438.8759 - val_loss: 8046819840.0000\n",
            "Epoch 21/400\n",
            "426/426 [==============================] - 1s 2ms/step - loss: 8018854274.0984 - val_loss: 7970911232.0000\n",
            "Epoch 22/400\n",
            "426/426 [==============================] - 1s 2ms/step - loss: 7894368211.6347 - val_loss: 7904330240.0000\n",
            "Epoch 23/400\n",
            "426/426 [==============================] - 1s 2ms/step - loss: 7981819960.3560 - val_loss: 7835932672.0000\n",
            "Epoch 24/400\n",
            "426/426 [==============================] - 1s 2ms/step - loss: 7911177646.4637 - val_loss: 7779326976.0000\n",
            "Epoch 25/400\n",
            "426/426 [==============================] - 1s 2ms/step - loss: 7923665015.9063 - val_loss: 7732781568.0000\n",
            "Epoch 26/400\n",
            "426/426 [==============================] - 1s 2ms/step - loss: 7791659457.6487 - val_loss: 7693207040.0000\n",
            "Epoch 27/400\n",
            "426/426 [==============================] - 1s 2ms/step - loss: 7698919264.5246 - val_loss: 7648160768.0000\n",
            "Epoch 28/400\n",
            "426/426 [==============================] - 1s 2ms/step - loss: 7680513380.1218 - val_loss: 7613284864.0000\n",
            "Epoch 29/400\n",
            "426/426 [==============================] - 1s 2ms/step - loss: 7661299811.5222 - val_loss: 7571632640.0000\n",
            "Epoch 30/400\n",
            "426/426 [==============================] - 1s 1ms/step - loss: 7532944081.8361 - val_loss: 7531358208.0000\n",
            "Epoch 31/400\n",
            "426/426 [==============================] - 1s 2ms/step - loss: 7510514592.0749 - val_loss: 7500514816.0000\n",
            "Epoch 32/400\n",
            "426/426 [==============================] - 1s 2ms/step - loss: 7571872345.9297 - val_loss: 7483529216.0000\n",
            "Epoch 33/400\n",
            "426/426 [==============================] - 1s 2ms/step - loss: 7486935404.5152 - val_loss: 7437689856.0000\n",
            "Epoch 34/400\n",
            "426/426 [==============================] - 1s 2ms/step - loss: 7610831954.7354 - val_loss: 7434637824.0000\n",
            "Epoch 35/400\n",
            "426/426 [==============================] - 1s 2ms/step - loss: 7437914610.8103 - val_loss: 7386303488.0000\n",
            "Epoch 36/400\n",
            "426/426 [==============================] - 1s 2ms/step - loss: 7467691961.2553 - val_loss: 7359885824.0000\n",
            "Epoch 37/400\n",
            "426/426 [==============================] - 1s 2ms/step - loss: 7476568506.4543 - val_loss: 7351828480.0000\n",
            "Epoch 38/400\n",
            "426/426 [==============================] - 1s 2ms/step - loss: 7413460914.0609 - val_loss: 7320601600.0000\n",
            "Epoch 39/400\n",
            "426/426 [==============================] - 1s 2ms/step - loss: 7384274439.1944 - val_loss: 7295400960.0000\n",
            "Epoch 40/400\n",
            "426/426 [==============================] - 1s 2ms/step - loss: 7274968345.7799 - val_loss: 7287382528.0000\n",
            "Epoch 41/400\n",
            "426/426 [==============================] - 1s 2ms/step - loss: 7266569223.1944 - val_loss: 7265998848.0000\n",
            "Epoch 42/400\n",
            "426/426 [==============================] - 1s 2ms/step - loss: 7231090082.4731 - val_loss: 7234023424.0000\n",
            "Epoch 43/400\n",
            "426/426 [==============================] - 1s 2ms/step - loss: 7305512589.4895 - val_loss: 7218686976.0000\n",
            "Epoch 44/400\n",
            "426/426 [==============================] - 1s 2ms/step - loss: 7239648223.6253 - val_loss: 7197297664.0000\n",
            "Epoch 45/400\n",
            "426/426 [==============================] - 1s 2ms/step - loss: 7192315112.6183 - val_loss: 7175114752.0000\n",
            "Epoch 46/400\n",
            "426/426 [==============================] - 1s 2ms/step - loss: 7163275564.9649 - val_loss: 7160953344.0000\n",
            "Epoch 47/400\n",
            "426/426 [==============================] - 1s 2ms/step - loss: 7147748873.5925 - val_loss: 7154977792.0000\n",
            "Epoch 48/400\n",
            "426/426 [==============================] - 1s 2ms/step - loss: 7259291712.7494 - val_loss: 7106462208.0000\n",
            "Epoch 49/400\n",
            "426/426 [==============================] - 1s 2ms/step - loss: 7112829390.8384 - val_loss: 7088475136.0000\n",
            "Epoch 50/400\n",
            "426/426 [==============================] - 1s 2ms/step - loss: 7076968874.8665 - val_loss: 7071077888.0000\n",
            "Epoch 51/400\n",
            "426/426 [==============================] - 1s 2ms/step - loss: 7109111653.3208 - val_loss: 7058391552.0000\n",
            "Epoch 52/400\n",
            "426/426 [==============================] - 1s 2ms/step - loss: 7009312869.9204 - val_loss: 7054802432.0000\n",
            "Epoch 53/400\n",
            "426/426 [==============================] - 1s 2ms/step - loss: 7058701837.1897 - val_loss: 7028628992.0000\n",
            "Epoch 54/400\n",
            "426/426 [==============================] - 1s 2ms/step - loss: 7134910002.3607 - val_loss: 7016967680.0000\n",
            "Epoch 55/400\n",
            "426/426 [==============================] - 1s 2ms/step - loss: 7086734482.2857 - val_loss: 7002363904.0000\n",
            "Epoch 56/400\n",
            "426/426 [==============================] - 1s 2ms/step - loss: 6952937913.2553 - val_loss: 7004500480.0000\n",
            "Epoch 57/400\n",
            "426/426 [==============================] - 1s 2ms/step - loss: 7044262360.4309 - val_loss: 6987557888.0000\n",
            "Epoch 58/400\n",
            "426/426 [==============================] - 1s 2ms/step - loss: 6973106028.5152 - val_loss: 6972646400.0000\n",
            "Epoch 59/400\n",
            "426/426 [==============================] - 1s 1ms/step - loss: 6967452070.0703 - val_loss: 6956732416.0000\n",
            "Epoch 60/400\n",
            "426/426 [==============================] - 1s 2ms/step - loss: 6862881977.8548 - val_loss: 6949942784.0000\n",
            "Epoch 61/400\n",
            "426/426 [==============================] - 1s 2ms/step - loss: 6976460654.9133 - val_loss: 6926819840.0000\n",
            "Epoch 62/400\n",
            "426/426 [==============================] - 1s 2ms/step - loss: 6912352060.5527 - val_loss: 6924511232.0000\n",
            "Epoch 63/400\n",
            "426/426 [==============================] - 1s 2ms/step - loss: 6868834722.4731 - val_loss: 6911842304.0000\n",
            "Epoch 64/400\n",
            "426/426 [==============================] - 1s 2ms/step - loss: 6963388851.2600 - val_loss: 6905338368.0000\n",
            "Epoch 65/400\n",
            "426/426 [==============================] - 1s 2ms/step - loss: 6864822274.3981 - val_loss: 6903950336.0000\n",
            "Epoch 66/400\n",
            "426/426 [==============================] - 1s 2ms/step - loss: 6851357549.7143 - val_loss: 6870920192.0000\n",
            "Epoch 67/400\n",
            "426/426 [==============================] - 1s 2ms/step - loss: 6769223003.7283 - val_loss: 6863370240.0000\n",
            "Epoch 68/400\n",
            "426/426 [==============================] - 1s 2ms/step - loss: 6912567619.7471 - val_loss: 6852258816.0000\n",
            "Epoch 69/400\n",
            "426/426 [==============================] - 1s 2ms/step - loss: 6867214267.6534 - val_loss: 6851937280.0000\n",
            "Epoch 70/400\n",
            "426/426 [==============================] - 1s 2ms/step - loss: 6921169266.5105 - val_loss: 6839429632.0000\n",
            "Epoch 71/400\n",
            "426/426 [==============================] - 1s 2ms/step - loss: 6873444096.5995 - val_loss: 6830297600.0000\n",
            "Epoch 72/400\n",
            "426/426 [==============================] - 1s 2ms/step - loss: 6948317318.2951 - val_loss: 6826612736.0000\n",
            "Epoch 73/400\n",
            "426/426 [==============================] - 1s 2ms/step - loss: 6890413117.1522 - val_loss: 6820912640.0000\n",
            "Epoch 74/400\n",
            "426/426 [==============================] - 1s 2ms/step - loss: 6797386823.9438 - val_loss: 6828987392.0000\n",
            "Epoch 75/400\n",
            "426/426 [==============================] - 1s 2ms/step - loss: 6860403291.1288 - val_loss: 6807620608.0000\n",
            "Epoch 76/400\n",
            "426/426 [==============================] - 1s 2ms/step - loss: 6825584738.3232 - val_loss: 6810141184.0000\n",
            "Epoch 77/400\n",
            "426/426 [==============================] - 1s 2ms/step - loss: 6784382015.5504 - val_loss: 6797435904.0000\n",
            "Epoch 78/400\n",
            "426/426 [==============================] - 1s 2ms/step - loss: 6781169112.4309 - val_loss: 6787293696.0000\n",
            "Epoch 79/400\n",
            "426/426 [==============================] - 1s 2ms/step - loss: 6744688032.0749 - val_loss: 6786522624.0000\n",
            "Epoch 80/400\n",
            "426/426 [==============================] - 1s 2ms/step - loss: 6860641221.2459 - val_loss: 6776806400.0000\n",
            "Epoch 81/400\n",
            "426/426 [==============================] - 1s 2ms/step - loss: 6779071593.5176 - val_loss: 6772547072.0000\n",
            "Epoch 82/400\n",
            "426/426 [==============================] - 1s 2ms/step - loss: 6779398978.5480 - val_loss: 6761492992.0000\n",
            "Epoch 83/400\n",
            "426/426 [==============================] - 1s 2ms/step - loss: 6659573748.0094 - val_loss: 6758592512.0000\n",
            "Epoch 84/400\n",
            "426/426 [==============================] - 1s 2ms/step - loss: 6743532111.1382 - val_loss: 6747111424.0000\n",
            "Epoch 85/400\n",
            "426/426 [==============================] - 1s 2ms/step - loss: 6716797557.5082 - val_loss: 6742708224.0000\n",
            "Epoch 86/400\n",
            "426/426 [==============================] - 1s 2ms/step - loss: 6710412466.6604 - val_loss: 6737605632.0000\n",
            "Epoch 87/400\n",
            "426/426 [==============================] - 1s 2ms/step - loss: 6760552287.3255 - val_loss: 6732070400.0000\n",
            "Epoch 88/400\n",
            "426/426 [==============================] - 1s 2ms/step - loss: 6737948266.7166 - val_loss: 6726749184.0000\n",
            "Epoch 89/400\n",
            "426/426 [==============================] - 1s 2ms/step - loss: 6790035658.6417 - val_loss: 6730430464.0000\n",
            "Epoch 90/400\n",
            "426/426 [==============================] - 1s 2ms/step - loss: 6586836982.4075 - val_loss: 6731385344.0000\n",
            "Epoch 91/400\n",
            "426/426 [==============================] - 1s 2ms/step - loss: 6735325871.0632 - val_loss: 6736228352.0000\n",
            "Epoch 92/400\n",
            "426/426 [==============================] - 1s 2ms/step - loss: 6690273465.8548 - val_loss: 6711998464.0000\n",
            "Epoch 93/400\n",
            "426/426 [==============================] - 1s 2ms/step - loss: 6741891272.2436 - val_loss: 6711806976.0000\n",
            "Epoch 94/400\n",
            "426/426 [==============================] - 1s 2ms/step - loss: 6680907718.4450 - val_loss: 6706970624.0000\n",
            "Epoch 95/400\n",
            "426/426 [==============================] - 1s 2ms/step - loss: 6766465503.6253 - val_loss: 6708728832.0000\n",
            "Epoch 96/400\n",
            "426/426 [==============================] - 1s 2ms/step - loss: 6779101044.9087 - val_loss: 6698607104.0000\n",
            "Epoch 97/400\n",
            "426/426 [==============================] - 1s 2ms/step - loss: 6673860224.2998 - val_loss: 6703791104.0000\n",
            "Epoch 98/400\n",
            "426/426 [==============================] - 1s 2ms/step - loss: 6782181602.6230 - val_loss: 6701732864.0000\n",
            "Epoch 99/400\n",
            "426/426 [==============================] - 1s 2ms/step - loss: 6728839249.5363 - val_loss: 6688800768.0000\n",
            "Epoch 100/400\n",
            "426/426 [==============================] - 1s 2ms/step - loss: 6712178987.7658 - val_loss: 6709615616.0000\n",
            "Epoch 101/400\n",
            "426/426 [==============================] - 1s 2ms/step - loss: 6672500731.2037 - val_loss: 6690474496.0000\n",
            "Epoch 102/400\n",
            "426/426 [==============================] - 1s 2ms/step - loss: 6685789549.7143 - val_loss: 6677217792.0000\n",
            "Epoch 103/400\n",
            "426/426 [==============================] - 1s 2ms/step - loss: 6721628813.4895 - val_loss: 6678742528.0000\n",
            "Epoch 104/400\n",
            "426/426 [==============================] - 1s 2ms/step - loss: 6638346080.5246 - val_loss: 6673376256.0000\n",
            "Epoch 105/400\n",
            "426/426 [==============================] - 1s 2ms/step - loss: 6737484472.6557 - val_loss: 6665402880.0000\n",
            "Epoch 106/400\n",
            "426/426 [==============================] - 1s 2ms/step - loss: 6697718949.4707 - val_loss: 6663543296.0000\n",
            "Epoch 107/400\n",
            "426/426 [==============================] - 1s 2ms/step - loss: 6650448111.8126 - val_loss: 6667670016.0000\n",
            "Epoch 108/400\n",
            "426/426 [==============================] - 1s 2ms/step - loss: 6676928845.3396 - val_loss: 6659302912.0000\n",
            "Epoch 109/400\n",
            "426/426 [==============================] - 1s 2ms/step - loss: 6639431045.6955 - val_loss: 6667370496.0000\n",
            "Epoch 110/400\n",
            "426/426 [==============================] - 1s 2ms/step - loss: 6639701362.5105 - val_loss: 6646559744.0000\n",
            "Epoch 111/400\n",
            "426/426 [==============================] - 1s 2ms/step - loss: 6667980315.5785 - val_loss: 6647045632.0000\n",
            "Epoch 112/400\n",
            "426/426 [==============================] - 1s 2ms/step - loss: 6608358335.2506 - val_loss: 6643845120.0000\n",
            "Epoch 113/400\n",
            "426/426 [==============================] - 1s 2ms/step - loss: 6706994870.2576 - val_loss: 6642720256.0000\n",
            "Epoch 114/400\n",
            "426/426 [==============================] - 1s 1ms/step - loss: 6771591458.1733 - val_loss: 6639684096.0000\n",
            "Epoch 115/400\n",
            "426/426 [==============================] - 1s 2ms/step - loss: 6528403556.7213 - val_loss: 6636436992.0000\n",
            "Epoch 116/400\n",
            "426/426 [==============================] - 1s 2ms/step - loss: 6569307980.1405 - val_loss: 6646148096.0000\n",
            "Epoch 117/400\n",
            "426/426 [==============================] - 1s 2ms/step - loss: 6652982382.3138 - val_loss: 6634241536.0000\n",
            "Epoch 118/400\n",
            "426/426 [==============================] - 1s 2ms/step - loss: 6681271562.1920 - val_loss: 6627935232.0000\n",
            "Epoch 119/400\n",
            "426/426 [==============================] - 1s 2ms/step - loss: 6778589198.3888 - val_loss: 6641840640.0000\n",
            "Epoch 120/400\n",
            "426/426 [==============================] - 1s 2ms/step - loss: 6662828178.2857 - val_loss: 6625822720.0000\n",
            "Epoch 121/400\n",
            "426/426 [==============================] - 1s 2ms/step - loss: 6672548116.9836 - val_loss: 6618138112.0000\n",
            "Epoch 122/400\n",
            "426/426 [==============================] - 1s 2ms/step - loss: 6545898322.1358 - val_loss: 6616579072.0000\n",
            "Epoch 123/400\n",
            "426/426 [==============================] - 1s 1ms/step - loss: 6616751542.8571 - val_loss: 6613532160.0000\n",
            "Epoch 124/400\n",
            "426/426 [==============================] - 1s 2ms/step - loss: 6651039815.9438 - val_loss: 6609902080.0000\n",
            "Epoch 125/400\n",
            "426/426 [==============================] - 1s 2ms/step - loss: 6554253150.1265 - val_loss: 6611902464.0000\n",
            "Epoch 126/400\n",
            "426/426 [==============================] - 1s 2ms/step - loss: 6574532720.7119 - val_loss: 6605549568.0000\n",
            "Epoch 127/400\n",
            "426/426 [==============================] - 1s 2ms/step - loss: 6691447890.7354 - val_loss: 6603722752.0000\n",
            "Epoch 128/400\n",
            "426/426 [==============================] - 1s 2ms/step - loss: 6630571379.7096 - val_loss: 6592013824.0000\n",
            "Epoch 129/400\n",
            "426/426 [==============================] - 1s 2ms/step - loss: 6624290163.7096 - val_loss: 6581715456.0000\n",
            "Epoch 130/400\n",
            "426/426 [==============================] - 1s 2ms/step - loss: 6590757625.4052 - val_loss: 6573864960.0000\n",
            "Epoch 131/400\n",
            "426/426 [==============================] - 1s 2ms/step - loss: 6702315897.7049 - val_loss: 6565972480.0000\n",
            "Epoch 132/400\n",
            "426/426 [==============================] - 1s 2ms/step - loss: 6667224918.9321 - val_loss: 6553240576.0000\n",
            "Epoch 133/400\n",
            "426/426 [==============================] - 1s 2ms/step - loss: 6731684509.0773 - val_loss: 6543908864.0000\n",
            "Epoch 134/400\n",
            "426/426 [==============================] - 1s 2ms/step - loss: 6587424627.7096 - val_loss: 6536904192.0000\n",
            "Epoch 135/400\n",
            "426/426 [==============================] - 1s 2ms/step - loss: 6578311662.0141 - val_loss: 6530423296.0000\n",
            "Epoch 136/400\n",
            "426/426 [==============================] - 1s 2ms/step - loss: 6455599900.1780 - val_loss: 6529760768.0000\n",
            "Epoch 137/400\n",
            "426/426 [==============================] - 1s 2ms/step - loss: 6605652633.4801 - val_loss: 6526138880.0000\n",
            "Epoch 138/400\n",
            "426/426 [==============================] - 1s 2ms/step - loss: 6650919641.0304 - val_loss: 6511470080.0000\n",
            "Epoch 139/400\n",
            "426/426 [==============================] - 1s 2ms/step - loss: 6597183025.1616 - val_loss: 6512536576.0000\n",
            "Epoch 140/400\n",
            "426/426 [==============================] - 1s 2ms/step - loss: 6417936092.6276 - val_loss: 6511553536.0000\n",
            "Epoch 141/400\n",
            "426/426 [==============================] - 1s 2ms/step - loss: 6465538923.3162 - val_loss: 6512615424.0000\n",
            "Epoch 142/400\n",
            "426/426 [==============================] - 1s 2ms/step - loss: 6566694197.3583 - val_loss: 6496786944.0000\n",
            "Epoch 143/400\n",
            "426/426 [==============================] - 1s 2ms/step - loss: 6566254919.3443 - val_loss: 6492559360.0000\n",
            "Epoch 144/400\n",
            "426/426 [==============================] - 1s 2ms/step - loss: 6615314760.5433 - val_loss: 6491191808.0000\n",
            "Epoch 145/400\n",
            "426/426 [==============================] - 1s 2ms/step - loss: 6504049770.7166 - val_loss: 6484105216.0000\n",
            "Epoch 146/400\n",
            "426/426 [==============================] - 1s 2ms/step - loss: 6533306052.6464 - val_loss: 6485478912.0000\n",
            "Epoch 147/400\n",
            "426/426 [==============================] - 1s 2ms/step - loss: 6482622252.9649 - val_loss: 6477745664.0000\n",
            "Epoch 148/400\n",
            "426/426 [==============================] - 1s 2ms/step - loss: 6434763659.6909 - val_loss: 6471375360.0000\n",
            "Epoch 149/400\n",
            "426/426 [==============================] - 1s 2ms/step - loss: 6626297275.6534 - val_loss: 6475212288.0000\n",
            "Epoch 150/400\n",
            "426/426 [==============================] - 1s 2ms/step - loss: 6548003441.9110 - val_loss: 6473668608.0000\n",
            "Epoch 151/400\n",
            "426/426 [==============================] - 1s 2ms/step - loss: 6592700521.5176 - val_loss: 6465108480.0000\n",
            "Epoch 152/400\n",
            "426/426 [==============================] - 1s 2ms/step - loss: 6554458106.0047 - val_loss: 6455721984.0000\n",
            "Epoch 153/400\n",
            "426/426 [==============================] - 1s 2ms/step - loss: 6539929604.7963 - val_loss: 6448940032.0000\n",
            "Epoch 154/400\n",
            "426/426 [==============================] - 1s 2ms/step - loss: 6537202315.0913 - val_loss: 6455472128.0000\n",
            "Epoch 155/400\n",
            "426/426 [==============================] - 1s 2ms/step - loss: 6383890404.4215 - val_loss: 6445145088.0000\n",
            "Epoch 156/400\n",
            "426/426 [==============================] - 1s 2ms/step - loss: 6504251863.2318 - val_loss: 6444034048.0000\n",
            "Epoch 157/400\n",
            "426/426 [==============================] - 1s 2ms/step - loss: 6426158395.3536 - val_loss: 6426082304.0000\n",
            "Epoch 158/400\n",
            "426/426 [==============================] - 1s 2ms/step - loss: 6334613865.5176 - val_loss: 6418819584.0000\n",
            "Epoch 159/400\n",
            "426/426 [==============================] - 1s 2ms/step - loss: 6483867359.0258 - val_loss: 6412079616.0000\n",
            "Epoch 160/400\n",
            "426/426 [==============================] - 1s 2ms/step - loss: 6428241945.1803 - val_loss: 6402245632.0000\n",
            "Epoch 161/400\n",
            "426/426 [==============================] - 1s 2ms/step - loss: 6501677821.0023 - val_loss: 6397056512.0000\n",
            "Epoch 162/400\n",
            "426/426 [==============================] - 1s 2ms/step - loss: 6447952587.8407 - val_loss: 6378129920.0000\n",
            "Epoch 163/400\n",
            "426/426 [==============================] - 1s 2ms/step - loss: 6406753368.7307 - val_loss: 6373153280.0000\n",
            "Epoch 164/400\n",
            "426/426 [==============================] - 1s 2ms/step - loss: 6496928387.8970 - val_loss: 6368826880.0000\n",
            "Epoch 165/400\n",
            "426/426 [==============================] - 1s 2ms/step - loss: 6393569403.5035 - val_loss: 6363811328.0000\n",
            "Epoch 166/400\n",
            "426/426 [==============================] - 1s 2ms/step - loss: 6410912658.8852 - val_loss: 6360803328.0000\n",
            "Epoch 167/400\n",
            "426/426 [==============================] - 1s 2ms/step - loss: 6413325718.4824 - val_loss: 6345148416.0000\n",
            "Epoch 168/400\n",
            "426/426 [==============================] - 1s 2ms/step - loss: 6326597646.3888 - val_loss: 6341796864.0000\n",
            "Epoch 169/400\n",
            "426/426 [==============================] - 1s 2ms/step - loss: 6412761861.3958 - val_loss: 6336368128.0000\n",
            "Epoch 170/400\n",
            "426/426 [==============================] - 1s 2ms/step - loss: 6282215005.5269 - val_loss: 6335179264.0000\n",
            "Epoch 171/400\n",
            "426/426 [==============================] - 1s 2ms/step - loss: 6321925727.9251 - val_loss: 6319524864.0000\n",
            "Epoch 172/400\n",
            "426/426 [==============================] - 1s 2ms/step - loss: 6277268499.1850 - val_loss: 6303904768.0000\n",
            "Epoch 173/400\n",
            "426/426 [==============================] - 1s 2ms/step - loss: 6389731440.7119 - val_loss: 6283094528.0000\n",
            "Epoch 174/400\n",
            "426/426 [==============================] - 1s 2ms/step - loss: 6360640473.6300 - val_loss: 6270782464.0000\n",
            "Epoch 175/400\n",
            "426/426 [==============================] - 1s 2ms/step - loss: 6339208445.0023 - val_loss: 6262974464.0000\n",
            "Epoch 176/400\n",
            "426/426 [==============================] - 1s 2ms/step - loss: 6183362834.5855 - val_loss: 6236558848.0000\n",
            "Epoch 177/400\n",
            "426/426 [==============================] - 1s 2ms/step - loss: 6337811873.2740 - val_loss: 6225622016.0000\n",
            "Epoch 178/400\n",
            "426/426 [==============================] - 1s 2ms/step - loss: 6201721907.5597 - val_loss: 6218162176.0000\n",
            "Epoch 179/400\n",
            "426/426 [==============================] - 1s 2ms/step - loss: 6238489559.2318 - val_loss: 6257892352.0000\n",
            "Epoch 180/400\n",
            "426/426 [==============================] - 1s 2ms/step - loss: 6344410060.4403 - val_loss: 6204375040.0000\n",
            "Epoch 181/400\n",
            "426/426 [==============================] - 1s 2ms/step - loss: 6243819008.0000 - val_loss: 6202748416.0000\n",
            "Epoch 182/400\n",
            "426/426 [==============================] - 1s 2ms/step - loss: 6107079905.4239 - val_loss: 6195091456.0000\n",
            "Epoch 183/400\n",
            "426/426 [==============================] - 1s 2ms/step - loss: 6367108693.1335 - val_loss: 6190173696.0000\n",
            "Epoch 184/400\n",
            "426/426 [==============================] - 1s 2ms/step - loss: 6302288610.6230 - val_loss: 6183070208.0000\n",
            "Epoch 185/400\n",
            "426/426 [==============================] - 1s 2ms/step - loss: 6194004372.0843 - val_loss: 6188096000.0000\n",
            "Epoch 186/400\n",
            "426/426 [==============================] - 1s 2ms/step - loss: 6218004740.1967 - val_loss: 6176145408.0000\n",
            "Epoch 187/400\n",
            "426/426 [==============================] - 1s 2ms/step - loss: 6379310878.5761 - val_loss: 6177747968.0000\n",
            "Epoch 188/400\n",
            "426/426 [==============================] - 1s 2ms/step - loss: 6247885506.2482 - val_loss: 6172866048.0000\n",
            "Epoch 189/400\n",
            "426/426 [==============================] - 1s 2ms/step - loss: 6265092874.1920 - val_loss: 6168840704.0000\n",
            "Epoch 190/400\n",
            "426/426 [==============================] - 1s 2ms/step - loss: 6234174866.8852 - val_loss: 6164101120.0000\n",
            "Epoch 191/400\n",
            "426/426 [==============================] - 1s 2ms/step - loss: 6262343506.1358 - val_loss: 6166480896.0000\n",
            "Epoch 192/400\n",
            "426/426 [==============================] - 1s 2ms/step - loss: 6120486404.7963 - val_loss: 6160711680.0000\n",
            "Epoch 193/400\n",
            "426/426 [==============================] - 1s 2ms/step - loss: 6157130632.0937 - val_loss: 6164632064.0000\n",
            "Epoch 194/400\n",
            "426/426 [==============================] - 1s 2ms/step - loss: 6223061120.2998 - val_loss: 6158758912.0000\n",
            "Epoch 195/400\n",
            "426/426 [==============================] - 1s 2ms/step - loss: 6174082571.9906 - val_loss: 6153875456.0000\n",
            "Epoch 196/400\n",
            "426/426 [==============================] - 1s 2ms/step - loss: 6278028208.8618 - val_loss: 6147142656.0000\n",
            "Epoch 197/400\n",
            "426/426 [==============================] - 1s 2ms/step - loss: 6237539908.3466 - val_loss: 6146378752.0000\n",
            "Epoch 198/400\n",
            "426/426 [==============================] - 1s 2ms/step - loss: 6127146766.9883 - val_loss: 6150203904.0000\n",
            "Epoch 199/400\n",
            "426/426 [==============================] - 1s 2ms/step - loss: 6296757823.5504 - val_loss: 6166981120.0000\n",
            "Epoch 200/400\n",
            "426/426 [==============================] - 1s 2ms/step - loss: 6134014406.4450 - val_loss: 6153373184.0000\n",
            "Epoch 201/400\n",
            "426/426 [==============================] - 1s 2ms/step - loss: 6116858449.5363 - val_loss: 6140323328.0000\n",
            "Epoch 202/400\n",
            "426/426 [==============================] - 1s 2ms/step - loss: 6175627248.4122 - val_loss: 6150296576.0000\n",
            "Epoch 203/400\n",
            "426/426 [==============================] - 1s 2ms/step - loss: 6241182104.8806 - val_loss: 6158496256.0000\n",
            "Epoch 204/400\n",
            "426/426 [==============================] - 1s 2ms/step - loss: 6172739557.6206 - val_loss: 6139346944.0000\n",
            "Epoch 205/400\n",
            "426/426 [==============================] - 1s 2ms/step - loss: 6115235063.0070 - val_loss: 6144316928.0000\n",
            "Epoch 206/400\n",
            "426/426 [==============================] - 1s 2ms/step - loss: 6156905596.7026 - val_loss: 6133933568.0000\n",
            "Epoch 207/400\n",
            "426/426 [==============================] - 1s 2ms/step - loss: 6186286133.9578 - val_loss: 6132457472.0000\n",
            "Epoch 208/400\n",
            "426/426 [==============================] - 1s 2ms/step - loss: 6170449235.3349 - val_loss: 6142839296.0000\n",
            "Epoch 209/400\n",
            "426/426 [==============================] - 1s 2ms/step - loss: 6229742488.8806 - val_loss: 6130759168.0000\n",
            "Epoch 210/400\n",
            "426/426 [==============================] - 1s 2ms/step - loss: 6140578163.7096 - val_loss: 6137330176.0000\n",
            "Epoch 211/400\n",
            "426/426 [==============================] - 1s 2ms/step - loss: 6232970196.8337 - val_loss: 6139303936.0000\n",
            "Epoch 212/400\n",
            "426/426 [==============================] - 1s 2ms/step - loss: 6188976203.5410 - val_loss: 6126532608.0000\n",
            "Epoch 213/400\n",
            "426/426 [==============================] - 1s 2ms/step - loss: 6145823303.9438 - val_loss: 6139111424.0000\n",
            "Epoch 214/400\n",
            "426/426 [==============================] - 1s 2ms/step - loss: 6193271064.5808 - val_loss: 6121439744.0000\n",
            "Epoch 215/400\n",
            "426/426 [==============================] - 1s 2ms/step - loss: 6300961793.1991 - val_loss: 6128246272.0000\n",
            "Epoch 216/400\n",
            "426/426 [==============================] - 1s 2ms/step - loss: 6130413541.6206 - val_loss: 6139813376.0000\n",
            "Epoch 217/400\n",
            "426/426 [==============================] - 1s 2ms/step - loss: 6137757898.6417 - val_loss: 6121725440.0000\n",
            "Epoch 218/400\n",
            "426/426 [==============================] - 1s 2ms/step - loss: 6193777472.1499 - val_loss: 6125715456.0000\n",
            "Epoch 219/400\n",
            "426/426 [==============================] - 1s 2ms/step - loss: 6269173215.6253 - val_loss: 6121455616.0000\n",
            "Epoch 220/400\n",
            "426/426 [==============================] - 1s 2ms/step - loss: 6191982910.9508 - val_loss: 6125203456.0000\n",
            "Epoch 221/400\n",
            "426/426 [==============================] - 1s 2ms/step - loss: 6078480469.1335 - val_loss: 6132528128.0000\n",
            "Epoch 222/400\n",
            "426/426 [==============================] - 1s 2ms/step - loss: 6117713669.3958 - val_loss: 6123514368.0000\n",
            "Epoch 223/400\n",
            "426/426 [==============================] - 1s 2ms/step - loss: 6092177922.3981 - val_loss: 6131025920.0000\n",
            "Epoch 224/400\n",
            "426/426 [==============================] - 1s 2ms/step - loss: 6129243981.3396 - val_loss: 6116092416.0000\n",
            "Epoch 225/400\n",
            "426/426 [==============================] - 1s 2ms/step - loss: 6316411615.0258 - val_loss: 6115099648.0000\n",
            "Epoch 226/400\n",
            "426/426 [==============================] - 1s 2ms/step - loss: 6184542241.5738 - val_loss: 6121955840.0000\n",
            "Epoch 227/400\n",
            "426/426 [==============================] - 1s 2ms/step - loss: 6160668783.5129 - val_loss: 6119664128.0000\n",
            "Epoch 228/400\n",
            "426/426 [==============================] - 1s 2ms/step - loss: 6237011623.8689 - val_loss: 6116964864.0000\n",
            "Epoch 229/400\n",
            "426/426 [==============================] - 1s 2ms/step - loss: 6179545429.7330 - val_loss: 6134837760.0000\n",
            "Epoch 230/400\n",
            "426/426 [==============================] - 1s 2ms/step - loss: 6202806918.2951 - val_loss: 6118498304.0000\n",
            "Epoch 231/400\n",
            "426/426 [==============================] - 1s 2ms/step - loss: 6193886566.5199 - val_loss: 6115337216.0000\n",
            "Epoch 232/400\n",
            "426/426 [==============================] - 1s 2ms/step - loss: 6111248108.2155 - val_loss: 6118170112.0000\n",
            "Epoch 233/400\n",
            "426/426 [==============================] - 1s 2ms/step - loss: 6235242079.9251 - val_loss: 6114721792.0000\n",
            "Epoch 234/400\n",
            "426/426 [==============================] - 1s 2ms/step - loss: 6235850347.9157 - val_loss: 6111861248.0000\n",
            "Epoch 235/400\n",
            "426/426 [==============================] - 1s 2ms/step - loss: 6181696866.9227 - val_loss: 6118200320.0000\n",
            "Epoch 236/400\n",
            "426/426 [==============================] - 1s 2ms/step - loss: 6138490132.9836 - val_loss: 6110752768.0000\n",
            "Epoch 237/400\n",
            "426/426 [==============================] - 1s 2ms/step - loss: 6118472954.6042 - val_loss: 6109009408.0000\n",
            "Epoch 238/400\n",
            "426/426 [==============================] - 1s 2ms/step - loss: 6158590568.3185 - val_loss: 6128951808.0000\n",
            "Epoch 239/400\n",
            "426/426 [==============================] - 1s 2ms/step - loss: 6279004863.8501 - val_loss: 6115719168.0000\n",
            "Epoch 240/400\n",
            "426/426 [==============================] - 1s 2ms/step - loss: 6210262087.9438 - val_loss: 6107981312.0000\n",
            "Epoch 241/400\n",
            "426/426 [==============================] - 1s 2ms/step - loss: 6109718221.0398 - val_loss: 6117746688.0000\n",
            "Epoch 242/400\n",
            "426/426 [==============================] - 1s 2ms/step - loss: 6201800711.1944 - val_loss: 6109943296.0000\n",
            "Epoch 243/400\n",
            "426/426 [==============================] - 1s 2ms/step - loss: 6172856071.7939 - val_loss: 6106947584.0000\n",
            "Epoch 244/400\n",
            "426/426 [==============================] - 1s 2ms/step - loss: 6166790986.9415 - val_loss: 6106682880.0000\n",
            "Epoch 245/400\n",
            "426/426 [==============================] - 1s 2ms/step - loss: 6164907448.0562 - val_loss: 6105273344.0000\n",
            "Epoch 246/400\n",
            "426/426 [==============================] - 1s 2ms/step - loss: 6279969232.0375 - val_loss: 6114685952.0000\n",
            "Epoch 247/400\n",
            "426/426 [==============================] - 1s 2ms/step - loss: 6178216434.8103 - val_loss: 6109992448.0000\n",
            "Epoch 248/400\n",
            "426/426 [==============================] - 1s 2ms/step - loss: 6170999451.8782 - val_loss: 6102200832.0000\n",
            "Epoch 249/400\n",
            "426/426 [==============================] - 1s 2ms/step - loss: 6225449793.3489 - val_loss: 6115507200.0000\n",
            "Epoch 250/400\n",
            "426/426 [==============================] - 1s 2ms/step - loss: 6102186069.1335 - val_loss: 6104939520.0000\n",
            "Epoch 251/400\n",
            "426/426 [==============================] - 1s 2ms/step - loss: 6164965142.1827 - val_loss: 6105743360.0000\n",
            "Epoch 252/400\n",
            "426/426 [==============================] - 1s 2ms/step - loss: 6151356987.9532 - val_loss: 6109277184.0000\n",
            "Epoch 253/400\n",
            "426/426 [==============================] - 1s 2ms/step - loss: 6237493201.2365 - val_loss: 6100593664.0000\n",
            "Epoch 254/400\n",
            "426/426 [==============================] - 1s 2ms/step - loss: 6103346920.6183 - val_loss: 6116093440.0000\n",
            "Epoch 255/400\n",
            "426/426 [==============================] - 1s 2ms/step - loss: 6140552982.1827 - val_loss: 6098472960.0000\n",
            "Epoch 256/400\n",
            "426/426 [==============================] - 1s 2ms/step - loss: 6167972561.8361 - val_loss: 6098881536.0000\n",
            "Epoch 257/400\n",
            "426/426 [==============================] - 1s 2ms/step - loss: 6033792787.7845 - val_loss: 6097794048.0000\n",
            "Epoch 258/400\n",
            "426/426 [==============================] - 1s 2ms/step - loss: 6250231300.7963 - val_loss: 6109052416.0000\n",
            "Epoch 259/400\n",
            "426/426 [==============================] - 1s 2ms/step - loss: 6207669208.4309 - val_loss: 6096912384.0000\n",
            "Epoch 260/400\n",
            "426/426 [==============================] - 1s 2ms/step - loss: 6093842390.6323 - val_loss: 6097505280.0000\n",
            "Epoch 261/400\n",
            "426/426 [==============================] - 1s 2ms/step - loss: 6099005203.7845 - val_loss: 6096877056.0000\n",
            "Epoch 262/400\n",
            "426/426 [==============================] - 1s 2ms/step - loss: 6170498202.6792 - val_loss: 6097847808.0000\n",
            "Epoch 263/400\n",
            "426/426 [==============================] - 1s 2ms/step - loss: 6163175419.2037 - val_loss: 6095914496.0000\n",
            "Epoch 264/400\n",
            "426/426 [==============================] - 1s 2ms/step - loss: 6137891982.6885 - val_loss: 6097831936.0000\n",
            "Epoch 265/400\n",
            "426/426 [==============================] - 1s 2ms/step - loss: 6153624110.7635 - val_loss: 6105493504.0000\n",
            "Epoch 266/400\n",
            "426/426 [==============================] - 1s 2ms/step - loss: 6145500155.2037 - val_loss: 6090810880.0000\n",
            "Epoch 267/400\n",
            "426/426 [==============================] - 1s 2ms/step - loss: 6183431110.4450 - val_loss: 6096638976.0000\n",
            "Epoch 268/400\n",
            "426/426 [==============================] - 1s 2ms/step - loss: 6090301529.9297 - val_loss: 6094924288.0000\n",
            "Epoch 269/400\n",
            "426/426 [==============================] - 1s 2ms/step - loss: 6094167789.4145 - val_loss: 6097287680.0000\n",
            "Epoch 270/400\n",
            "426/426 [==============================] - 1s 2ms/step - loss: 6161982893.2646 - val_loss: 6094652928.0000\n",
            "Epoch 271/400\n",
            "426/426 [==============================] - 1s 2ms/step - loss: 6168804539.0539 - val_loss: 6142730240.0000\n",
            "Epoch 272/400\n",
            "426/426 [==============================] - 1s 2ms/step - loss: 6192356865.1991 - val_loss: 6088817152.0000\n",
            "Epoch 273/400\n",
            "426/426 [==============================] - 1s 2ms/step - loss: 6165549657.9297 - val_loss: 6092969472.0000\n",
            "Epoch 274/400\n",
            "426/426 [==============================] - 1s 2ms/step - loss: 6186206815.9251 - val_loss: 6096664576.0000\n",
            "Epoch 275/400\n",
            "426/426 [==============================] - 1s 2ms/step - loss: 6049778841.4801 - val_loss: 6090364416.0000\n",
            "Epoch 276/400\n",
            "426/426 [==============================] - 1s 2ms/step - loss: 6099541751.0070 - val_loss: 6093350912.0000\n",
            "Epoch 277/400\n",
            "426/426 [==============================] - 1s 2ms/step - loss: 6128328090.0796 - val_loss: 6090263040.0000\n",
            "Epoch 278/400\n",
            "426/426 [==============================] - 1s 2ms/step - loss: 6155726768.8618 - val_loss: 6096463872.0000\n",
            "Epoch 279/400\n",
            "426/426 [==============================] - 1s 2ms/step - loss: 6164393442.0234 - val_loss: 6095606272.0000\n",
            "Epoch 280/400\n",
            "426/426 [==============================] - 1s 2ms/step - loss: 6049354008.5808 - val_loss: 6091906048.0000\n",
            "Epoch 281/400\n",
            "426/426 [==============================] - 1s 2ms/step - loss: 6138610624.4496 - val_loss: 6093900800.0000\n",
            "Epoch 282/400\n",
            "426/426 [==============================] - 1s 2ms/step - loss: 6186774489.6300 - val_loss: 6090415104.0000\n",
            "Epoch 283/400\n",
            "426/426 [==============================] - 1s 2ms/step - loss: 6181397488.4122 - val_loss: 6097730048.0000\n",
            "Epoch 284/400\n",
            "426/426 [==============================] - 1s 2ms/step - loss: 6131564454.0703 - val_loss: 6092928512.0000\n",
            "Epoch 285/400\n",
            "426/426 [==============================] - 1s 2ms/step - loss: 6165498317.6393 - val_loss: 6100880384.0000\n",
            "Epoch 286/400\n",
            "426/426 [==============================] - 1s 2ms/step - loss: 6038569211.8033 - val_loss: 6095834112.0000\n",
            "Epoch 287/400\n",
            "426/426 [==============================] - 1s 2ms/step - loss: 6178022199.7564 - val_loss: 6089384448.0000\n",
            "Epoch 288/400\n",
            "426/426 [==============================] - 1s 2ms/step - loss: 6176994234.4543 - val_loss: 6089666560.0000\n",
            "Epoch 289/400\n",
            "426/426 [==============================] - 1s 2ms/step - loss: 6022670202.9040 - val_loss: 6087907328.0000\n",
            "Epoch 290/400\n",
            "426/426 [==============================] - 1s 2ms/step - loss: 6193430234.2295 - val_loss: 6094182912.0000\n",
            "Epoch 291/400\n",
            "426/426 [==============================] - 1s 2ms/step - loss: 6188753253.3208 - val_loss: 6088507392.0000\n",
            "Epoch 292/400\n",
            "426/426 [==============================] - 1s 2ms/step - loss: 6034234156.9649 - val_loss: 6095698432.0000\n",
            "Epoch 293/400\n",
            "426/426 [==============================] - 1s 2ms/step - loss: 6092743154.8103 - val_loss: 6099824128.0000\n",
            "Epoch 294/400\n",
            "426/426 [==============================] - 1s 2ms/step - loss: 6137245591.6815 - val_loss: 6093256704.0000\n",
            "Epoch 295/400\n",
            "426/426 [==============================] - 1s 2ms/step - loss: 6043422897.4614 - val_loss: 6104811008.0000\n",
            "Epoch 296/400\n",
            "426/426 [==============================] - 1s 2ms/step - loss: 6190446004.4590 - val_loss: 6102215680.0000\n",
            "Epoch 297/400\n",
            "426/426 [==============================] - 1s 2ms/step - loss: 6142810213.9204 - val_loss: 6110402048.0000\n",
            "Epoch 298/400\n",
            "426/426 [==============================] - 1s 2ms/step - loss: 6267250141.2272 - val_loss: 6096319488.0000\n",
            "Epoch 299/400\n",
            "426/426 [==============================] - 1s 2ms/step - loss: 6201466153.3677 - val_loss: 6092465664.0000\n",
            "Epoch 300/400\n",
            "426/426 [==============================] - 1s 2ms/step - loss: 6164837523.4848 - val_loss: 6084329472.0000\n",
            "Epoch 301/400\n",
            "426/426 [==============================] - 1s 2ms/step - loss: 6133809125.6206 - val_loss: 6086289920.0000\n",
            "Epoch 302/400\n",
            "426/426 [==============================] - 1s 2ms/step - loss: 6042937126.9696 - val_loss: 6095076864.0000\n",
            "Epoch 303/400\n",
            "426/426 [==============================] - 1s 2ms/step - loss: 6195493769.2927 - val_loss: 6094499328.0000\n",
            "Epoch 304/400\n",
            "426/426 [==============================] - 1s 2ms/step - loss: 6068825011.2600 - val_loss: 6084770304.0000\n",
            "Epoch 305/400\n",
            "426/426 [==============================] - 1s 2ms/step - loss: 6134455195.2787 - val_loss: 6092812288.0000\n",
            "Epoch 306/400\n",
            "426/426 [==============================] - 1s 2ms/step - loss: 6113810404.4215 - val_loss: 6083529728.0000\n",
            "Epoch 307/400\n",
            "426/426 [==============================] - 1s 2ms/step - loss: 6192928799.1756 - val_loss: 6095022080.0000\n",
            "Epoch 308/400\n",
            "426/426 [==============================] - 1s 2ms/step - loss: 6147556341.2084 - val_loss: 6091511296.0000\n",
            "Epoch 309/400\n",
            "426/426 [==============================] - 1s 2ms/step - loss: 6151403213.0398 - val_loss: 6095650304.0000\n",
            "Epoch 310/400\n",
            "426/426 [==============================] - 1s 2ms/step - loss: 6179156031.5504 - val_loss: 6111040512.0000\n",
            "Epoch 311/400\n",
            "426/426 [==============================] - 1s 2ms/step - loss: 6020710338.8478 - val_loss: 6085838336.0000\n",
            "Epoch 312/400\n",
            "426/426 [==============================] - 1s 2ms/step - loss: 6104059543.0820 - val_loss: 6102251520.0000\n",
            "Epoch 313/400\n",
            "426/426 [==============================] - 1s 2ms/step - loss: 6212807754.3419 - val_loss: 6085082624.0000\n",
            "Epoch 314/400\n",
            "426/426 [==============================] - 1s 2ms/step - loss: 6153023792.5621 - val_loss: 6083974656.0000\n",
            "Epoch 315/400\n",
            "426/426 [==============================] - 1s 2ms/step - loss: 6180084176.0375 - val_loss: 6086810624.0000\n",
            "Epoch 316/400\n",
            "426/426 [==============================] - 1s 2ms/step - loss: 6122862600.3934 - val_loss: 6080790528.0000\n",
            "Epoch 317/400\n",
            "426/426 [==============================] - 1s 2ms/step - loss: 6099534169.3302 - val_loss: 6088077824.0000\n",
            "Epoch 318/400\n",
            "426/426 [==============================] - 1s 2ms/step - loss: 6201319655.4192 - val_loss: 6091210752.0000\n",
            "Epoch 319/400\n",
            "426/426 [==============================] - 1s 2ms/step - loss: 6178451238.9696 - val_loss: 6085295104.0000\n",
            "Epoch 320/400\n",
            "426/426 [==============================] - 1s 2ms/step - loss: 6154938910.5761 - val_loss: 6088336896.0000\n",
            "Epoch 321/400\n",
            "426/426 [==============================] - 1s 2ms/step - loss: 6151679579.1288 - val_loss: 6085196288.0000\n",
            "Epoch 322/400\n",
            "426/426 [==============================] - 1s 2ms/step - loss: 6127934007.1569 - val_loss: 6086877184.0000\n",
            "Epoch 323/400\n",
            "426/426 [==============================] - 1s 2ms/step - loss: 6086980849.0117 - val_loss: 6086668288.0000\n",
            "Epoch 324/400\n",
            "426/426 [==============================] - 1s 2ms/step - loss: 6133181219.3724 - val_loss: 6080314880.0000\n",
            "Epoch 325/400\n",
            "426/426 [==============================] - 1s 2ms/step - loss: 6136083115.4660 - val_loss: 6082386432.0000\n",
            "Epoch 326/400\n",
            "426/426 [==============================] - 1s 2ms/step - loss: 6158549453.6393 - val_loss: 6090067456.0000\n",
            "Epoch 327/400\n",
            "426/426 [==============================] - 1s 2ms/step - loss: 6138215259.7283 - val_loss: 6092716032.0000\n",
            "Epoch 328/400\n",
            "426/426 [==============================] - 1s 2ms/step - loss: 6013097920.4496 - val_loss: 6076952576.0000\n",
            "Epoch 329/400\n",
            "426/426 [==============================] - 1s 2ms/step - loss: 6120522882.6979 - val_loss: 6083943936.0000\n",
            "Epoch 330/400\n",
            "426/426 [==============================] - 1s 2ms/step - loss: 6192447750.5948 - val_loss: 6082601984.0000\n",
            "Epoch 331/400\n",
            "426/426 [==============================] - 1s 2ms/step - loss: 6171882475.6159 - val_loss: 6088558080.0000\n",
            "Epoch 332/400\n",
            "426/426 [==============================] - 1s 2ms/step - loss: 6129235601.0867 - val_loss: 6100320256.0000\n",
            "Epoch 333/400\n",
            "426/426 [==============================] - 1s 2ms/step - loss: 6185560689.9110 - val_loss: 6085103104.0000\n",
            "Epoch 334/400\n",
            "426/426 [==============================] - 1s 2ms/step - loss: 6082351388.1780 - val_loss: 6076370944.0000\n",
            "Epoch 335/400\n",
            "426/426 [==============================] - 1s 2ms/step - loss: 6173917567.7002 - val_loss: 6097697792.0000\n",
            "Epoch 336/400\n",
            "426/426 [==============================] - 1s 2ms/step - loss: 6082791229.7518 - val_loss: 6078768128.0000\n",
            "Epoch 337/400\n",
            "426/426 [==============================] - 1s 2ms/step - loss: 6094893504.4496 - val_loss: 6081768448.0000\n",
            "Epoch 338/400\n",
            "426/426 [==============================] - 1s 2ms/step - loss: 6074502022.8946 - val_loss: 6074511872.0000\n",
            "Epoch 339/400\n",
            "426/426 [==============================] - 1s 2ms/step - loss: 6113851493.9204 - val_loss: 6082309632.0000\n",
            "Epoch 340/400\n",
            "426/426 [==============================] - 1s 2ms/step - loss: 6006896118.4075 - val_loss: 6082693120.0000\n",
            "Epoch 341/400\n",
            "426/426 [==============================] - 1s 2ms/step - loss: 6089001760.9742 - val_loss: 6092764160.0000\n",
            "Epoch 342/400\n",
            "426/426 [==============================] - 1s 2ms/step - loss: 6105666795.0164 - val_loss: 6093885440.0000\n",
            "Epoch 343/400\n",
            "426/426 [==============================] - 1s 2ms/step - loss: 6102227701.8080 - val_loss: 6072359424.0000\n",
            "Epoch 344/400\n",
            "426/426 [==============================] - 1s 2ms/step - loss: 6041587807.9251 - val_loss: 6084826624.0000\n",
            "Epoch 345/400\n",
            "426/426 [==============================] - 1s 2ms/step - loss: 6014388178.4356 - val_loss: 6086313472.0000\n",
            "Epoch 346/400\n",
            "426/426 [==============================] - 1s 2ms/step - loss: 6083911544.5059 - val_loss: 6080481280.0000\n",
            "Epoch 347/400\n",
            "426/426 [==============================] - 1s 2ms/step - loss: 6063331230.8759 - val_loss: 6083557376.0000\n",
            "Epoch 348/400\n",
            "426/426 [==============================] - 1s 2ms/step - loss: 6137233615.4379 - val_loss: 6072088576.0000\n",
            "Epoch 349/400\n",
            "426/426 [==============================] - 1s 2ms/step - loss: 5996268503.2318 - val_loss: 6068864512.0000\n",
            "Epoch 350/400\n",
            "426/426 [==============================] - 1s 2ms/step - loss: 5983743588.7213 - val_loss: 6073893376.0000\n",
            "Epoch 351/400\n",
            "426/426 [==============================] - 1s 2ms/step - loss: 6133136385.1991 - val_loss: 6079023616.0000\n",
            "Epoch 352/400\n",
            "426/426 [==============================] - 1s 2ms/step - loss: 6064680347.2787 - val_loss: 6080713216.0000\n",
            "Epoch 353/400\n",
            "426/426 [==============================] - 1s 2ms/step - loss: 6141949282.9227 - val_loss: 6073922048.0000\n",
            "Epoch 354/400\n",
            "426/426 [==============================] - 1s 2ms/step - loss: 6116267922.8852 - val_loss: 6071268864.0000\n",
            "Epoch 355/400\n",
            "426/426 [==============================] - 1s 2ms/step - loss: 6157041529.7049 - val_loss: 6070588928.0000\n",
            "Epoch 356/400\n",
            "426/426 [==============================] - 1s 2ms/step - loss: 6057560671.9251 - val_loss: 6076804608.0000\n",
            "Epoch 357/400\n",
            "426/426 [==============================] - 1s 2ms/step - loss: 6154964994.3981 - val_loss: 6073691648.0000\n",
            "Epoch 358/400\n",
            "426/426 [==============================] - 1s 2ms/step - loss: 6107929686.3326 - val_loss: 6077542912.0000\n",
            "Epoch 359/400\n",
            "426/426 [==============================] - 1s 2ms/step - loss: 6143197759.5504 - val_loss: 6076112384.0000\n",
            "Epoch 360/400\n",
            "426/426 [==============================] - 1s 2ms/step - loss: 6154680630.5574 - val_loss: 6066068992.0000\n",
            "Epoch 361/400\n",
            "426/426 [==============================] - 1s 2ms/step - loss: 6223444963.2225 - val_loss: 6071688192.0000\n",
            "Epoch 362/400\n",
            "426/426 [==============================] - 1s 2ms/step - loss: 6034768411.5785 - val_loss: 6075523072.0000\n",
            "Epoch 363/400\n",
            "426/426 [==============================] - 1s 2ms/step - loss: 6171365419.1663 - val_loss: 6072028160.0000\n",
            "Epoch 364/400\n",
            "426/426 [==============================] - 1s 2ms/step - loss: 6080007066.0796 - val_loss: 6067662848.0000\n",
            "Epoch 365/400\n",
            "426/426 [==============================] - 1s 2ms/step - loss: 6066024873.6674 - val_loss: 6064820224.0000\n",
            "Epoch 366/400\n",
            "426/426 [==============================] - 1s 2ms/step - loss: 6062937010.0609 - val_loss: 6067768832.0000\n",
            "Epoch 367/400\n",
            "426/426 [==============================] - 1s 2ms/step - loss: 6095172712.3185 - val_loss: 6064862720.0000\n",
            "Epoch 368/400\n",
            "426/426 [==============================] - 1s 2ms/step - loss: 6085875949.4145 - val_loss: 6070080512.0000\n",
            "Epoch 369/400\n",
            "426/426 [==============================] - 1s 2ms/step - loss: 6026296954.3045 - val_loss: 6060737024.0000\n",
            "Epoch 370/400\n",
            "426/426 [==============================] - 1s 2ms/step - loss: 6159477692.8525 - val_loss: 6079019008.0000\n",
            "Epoch 371/400\n",
            "426/426 [==============================] - 1s 2ms/step - loss: 6148590980.4965 - val_loss: 6067929600.0000\n",
            "Epoch 372/400\n",
            "426/426 [==============================] - 1s 2ms/step - loss: 6152658632.2436 - val_loss: 6066452992.0000\n",
            "Epoch 373/400\n",
            "426/426 [==============================] - 1s 2ms/step - loss: 6162771093.8829 - val_loss: 6063583232.0000\n",
            "Epoch 374/400\n",
            "426/426 [==============================] - 1s 2ms/step - loss: 6166883180.5152 - val_loss: 6059860992.0000\n",
            "Epoch 375/400\n",
            "426/426 [==============================] - 1s 2ms/step - loss: 6211226787.0726 - val_loss: 6073744896.0000\n",
            "Epoch 376/400\n",
            "426/426 [==============================] - 1s 2ms/step - loss: 6069815963.8782 - val_loss: 6062979584.0000\n",
            "Epoch 377/400\n",
            "426/426 [==============================] - 1s 2ms/step - loss: 6067254563.3724 - val_loss: 6072911872.0000\n",
            "Epoch 378/400\n",
            "426/426 [==============================] - 1s 2ms/step - loss: 6146130765.3396 - val_loss: 6062254592.0000\n",
            "Epoch 379/400\n",
            "426/426 [==============================] - 1s 2ms/step - loss: 6179163748.7213 - val_loss: 6063034368.0000\n",
            "Epoch 380/400\n",
            "426/426 [==============================] - 1s 2ms/step - loss: 6031675674.9789 - val_loss: 6057151488.0000\n",
            "Epoch 381/400\n",
            "426/426 [==============================] - 1s 2ms/step - loss: 6042819540.8337 - val_loss: 6065643008.0000\n",
            "Epoch 382/400\n",
            "426/426 [==============================] - 1s 2ms/step - loss: 6155526085.2459 - val_loss: 6061719040.0000\n",
            "Epoch 383/400\n",
            "426/426 [==============================] - 1s 2ms/step - loss: 6046949181.7518 - val_loss: 6053555200.0000\n",
            "Epoch 384/400\n",
            "426/426 [==============================] - 1s 2ms/step - loss: 6044285887.2506 - val_loss: 6059934208.0000\n",
            "Epoch 385/400\n",
            "426/426 [==============================] - 1s 2ms/step - loss: 6085372685.7892 - val_loss: 6053983232.0000\n",
            "Epoch 386/400\n",
            "426/426 [==============================] - 1s 2ms/step - loss: 6146417280.2998 - val_loss: 6084663296.0000\n",
            "Epoch 387/400\n",
            "426/426 [==============================] - 1s 2ms/step - loss: 6067916117.7330 - val_loss: 6058518528.0000\n",
            "Epoch 388/400\n",
            "426/426 [==============================] - 1s 2ms/step - loss: 6067097251.0726 - val_loss: 6070415360.0000\n",
            "Epoch 389/400\n",
            "426/426 [==============================] - 1s 2ms/step - loss: 6110350188.5152 - val_loss: 6050788352.0000\n",
            "Epoch 390/400\n",
            "426/426 [==============================] - 1s 2ms/step - loss: 6119253911.6815 - val_loss: 6053464064.0000\n",
            "Epoch 391/400\n",
            "426/426 [==============================] - 1s 2ms/step - loss: 6126788452.1218 - val_loss: 6061638656.0000\n",
            "Epoch 392/400\n",
            "426/426 [==============================] - 1s 2ms/step - loss: 6103344165.1710 - val_loss: 6055625728.0000\n",
            "Epoch 393/400\n",
            "426/426 [==============================] - 1s 2ms/step - loss: 6093421053.6019 - val_loss: 6056323584.0000\n",
            "Epoch 394/400\n",
            "426/426 [==============================] - 1s 2ms/step - loss: 6040826125.7892 - val_loss: 6055601664.0000\n",
            "Epoch 395/400\n",
            "426/426 [==============================] - 1s 2ms/step - loss: 6160460199.2693 - val_loss: 6049520128.0000\n",
            "Epoch 396/400\n",
            "426/426 [==============================] - 1s 2ms/step - loss: 6040966172.7775 - val_loss: 6071877632.0000\n",
            "Epoch 397/400\n",
            "426/426 [==============================] - 1s 2ms/step - loss: 6055905323.1663 - val_loss: 6063854592.0000\n",
            "Epoch 398/400\n",
            "426/426 [==============================] - 1s 2ms/step - loss: 6046377495.9813 - val_loss: 6079254016.0000\n",
            "Epoch 399/400\n",
            "426/426 [==============================] - 1s 2ms/step - loss: 6076748441.4801 - val_loss: 6049582592.0000\n",
            "Epoch 400/400\n",
            "426/426 [==============================] - 1s 2ms/step - loss: 6117469079.6815 - val_loss: 6059205632.0000\n",
            "Model: \"sequential\"\n",
            "_________________________________________________________________\n",
            "Layer (type)                 Output Shape              Param #   \n",
            "=================================================================\n",
            "dense (Dense)                (None, 9)                 81        \n",
            "_________________________________________________________________\n",
            "dense_1 (Dense)              (None, 18)                180       \n",
            "_________________________________________________________________\n",
            "dense_2 (Dense)              (None, 18)                342       \n",
            "_________________________________________________________________\n",
            "dense_3 (Dense)              (None, 9)                 171       \n",
            "_________________________________________________________________\n",
            "dense_4 (Dense)              (None, 1)                 10        \n",
            "=================================================================\n",
            "Total params: 784\n",
            "Trainable params: 784\n",
            "Non-trainable params: 0\n",
            "_________________________________________________________________\n"
          ],
          "name": "stdout"
        }
      ]
    },
    {
      "cell_type": "code",
      "metadata": {
        "id": "65IrrJNLxH1a",
        "outputId": "cfd07a3d-cefd-46a3-8646-b7ec179eaec6",
        "colab": {
          "base_uri": "https://localhost:8080/",
          "height": 520
        }
      },
      "source": [
        "loss_df = pd.DataFrame(model.history.history)\n",
        "loss_df.plot(figsize=(12,8))"
      ],
      "execution_count": 31,
      "outputs": [
        {
          "output_type": "execute_result",
          "data": {
            "text/plain": [
              "<matplotlib.axes._subplots.AxesSubplot at 0x7ff8f8c69390>"
            ]
          },
          "metadata": {
            "tags": []
          },
          "execution_count": 31
        },
        {
          "output_type": "display_data",
          "data": {
            "image/png": "[encoded data removed]",
            "text/plain": [
              "<Figure size 864x576 with 1 Axes>"
            ]
          },
          "metadata": {
            "tags": []
          }
        }
      ]
    },
    {
      "cell_type": "code",
      "metadata": {
        "id": "UPCFGIXAxKkX",
        "outputId": "fa05f012-8d91-4046-ac29-e354c035ad4f",
        "colab": {
          "base_uri": "https://localhost:8080/",
          "height": 441
        }
      },
      "source": [
        "y_pred = model.predict(X_test)\n",
        "from sklearn import metrics\n",
        "print('MAE:', metrics.mean_absolute_error(y_test, y_pred))  \n",
        "print('MSE:', metrics.mean_squared_error(y_test, y_pred))  \n",
        "print('RMSE:', np.sqrt(metrics.mean_squared_error(y_test, y_pred)))\n",
        "print('VarScore:',metrics.explained_variance_score(y_test,y_pred))\n",
        "# Visualizing Our predictions\n",
        "fig = plt.figure(figsize=(10,5))\n",
        "plt.scatter(y_test,y_pred)\n",
        "# Perfect predictions\n",
        "plt.plot(y_test,y_test,'r')"
      ],
      "execution_count": 32,
      "outputs": [
        {
          "output_type": "stream",
          "text": [
            "MAE: 56388.31258044846\n",
            "MSE: 6059204688.65156\n",
            "RMSE: 77840.89342146298\n",
            "VarScore: 0.7407291147286488\n"
          ],
          "name": "stdout"
        },
        {
          "output_type": "execute_result",
          "data": {
            "text/plain": [
              "[<matplotlib.lines.Line2D at 0x7ff8f8cc71d0>]"
            ]
          },
          "metadata": {
            "tags": []
          },
          "execution_count": 32
        },
        {
          "output_type": "display_data",
          "data": {
            "image/png": "[encoded data removed]",
            "text/plain": [
              "<Figure size 720x360 with 1 Axes>"
            ]
          },
          "metadata": {
            "tags": []
          }
        }
      ]
    },
    {
      "cell_type": "code",
      "metadata": {
        "id": "X0gj0KtCxQwC",
        "outputId": "a912076b-e8c6-486c-911d-1ec21f306dd5",
        "colab": {
          "base_uri": "https://localhost:8080/",
          "height": 35
        }
      },
      "source": [
        "# visualizing residuals\n",
        "'''\n",
        "fig = plt.figure(figsize=(10,5))\n",
        "residuals = (y_test- y_pred)\n",
        "sns.distplot(residuals)\n",
        "'''"
      ],
      "execution_count": 33,
      "outputs": [
        {
          "output_type": "execute_result",
          "data": {
            "application/vnd.google.colaboratory.intrinsic+json": {
              "type": "string"
            },
            "text/plain": [
              "'\\nfig = plt.figure(figsize=(10,5))\\nresiduals = (y_test- y_pred)\\nsns.distplot(residuals)\\n'"
            ]
          },
          "metadata": {
            "tags": []
          },
          "execution_count": 33
        }
      ]
    },
    {
      "cell_type": "code",
      "metadata": {
        "id": "GgJ_2Gp26ohf",
        "outputId": "80854221-d6a7-4ec1-ff2e-9da560d85a9e",
        "colab": {
          "base_uri": "https://localhost:8080/",
          "height": 134
        }
      },
      "source": [
        "print(y_pred)"
      ],
      "execution_count": 34,
      "outputs": [
        {
          "output_type": "stream",
          "text": [
            "[[374444.34]\n",
            " [501374.6 ]\n",
            " [517994.47]\n",
            " ...\n",
            " [308357.22]\n",
            " [544379.2 ]\n",
            " [333464.9 ]]\n"
          ],
          "name": "stdout"
        }
      ]
    },
    {
      "cell_type": "code",
      "metadata": {
        "id": "Z75-c6Hr3dp9",
        "outputId": "9288ce08-24bd-4014-a384-e74d3a9dd92d",
        "colab": {
          "base_uri": "https://localhost:8080/",
          "height": 639
        }
      },
      "source": [
        "y_pred_2 = []\n",
        "for pred in y_pred:\n",
        "  y_pred_2.append(pred[0])\n",
        "\n",
        "df = pd.DataFrame({'Actual': y_test, 'Predicted': y_pred_2})\n",
        "df1 = df.head(20)\n",
        "df1"
      ],
      "execution_count": 35,
      "outputs": [
        {
          "output_type": "execute_result",
          "data": {
            "text/html": [
              "<div>\n",
              "<style scoped>\n",
              "    .dataframe tbody tr th:only-of-type {\n",
              "        vertical-align: middle;\n",
              "    }\n",
              "\n",
              "    .dataframe tbody tr th {\n",
              "        vertical-align: top;\n",
              "    }\n",
              "\n",
              "    .dataframe thead th {\n",
              "        text-align: right;\n",
              "    }\n",
              "</style>\n",
              "<table border=\"1\" class=\"dataframe\">\n",
              "  <thead>\n",
              "    <tr style=\"text-align: right;\">\n",
              "      <th></th>\n",
              "      <th>Actual</th>\n",
              "      <th>Predicted</th>\n",
              "    </tr>\n",
              "  </thead>\n",
              "  <tbody>\n",
              "    <tr>\n",
              "      <th>0</th>\n",
              "      <td>318000.0</td>\n",
              "      <td>374444.34375</td>\n",
              "    </tr>\n",
              "    <tr>\n",
              "      <th>1</th>\n",
              "      <td>770000.0</td>\n",
              "      <td>501374.59375</td>\n",
              "    </tr>\n",
              "    <tr>\n",
              "      <th>2</th>\n",
              "      <td>851800.0</td>\n",
              "      <td>517994.46875</td>\n",
              "    </tr>\n",
              "    <tr>\n",
              "      <th>3</th>\n",
              "      <td>475000.0</td>\n",
              "      <td>478700.96875</td>\n",
              "    </tr>\n",
              "    <tr>\n",
              "      <th>4</th>\n",
              "      <td>320000.0</td>\n",
              "      <td>311498.50000</td>\n",
              "    </tr>\n",
              "    <tr>\n",
              "      <th>5</th>\n",
              "      <td>305000.0</td>\n",
              "      <td>354389.90625</td>\n",
              "    </tr>\n",
              "    <tr>\n",
              "      <th>6</th>\n",
              "      <td>460000.0</td>\n",
              "      <td>485741.03125</td>\n",
              "    </tr>\n",
              "    <tr>\n",
              "      <th>7</th>\n",
              "      <td>470000.0</td>\n",
              "      <td>417193.21875</td>\n",
              "    </tr>\n",
              "    <tr>\n",
              "      <th>8</th>\n",
              "      <td>468000.0</td>\n",
              "      <td>649142.56250</td>\n",
              "    </tr>\n",
              "    <tr>\n",
              "      <th>9</th>\n",
              "      <td>340000.0</td>\n",
              "      <td>416620.59375</td>\n",
              "    </tr>\n",
              "    <tr>\n",
              "      <th>10</th>\n",
              "      <td>355000.0</td>\n",
              "      <td>397532.15625</td>\n",
              "    </tr>\n",
              "    <tr>\n",
              "      <th>11</th>\n",
              "      <td>308000.0</td>\n",
              "      <td>282148.71875</td>\n",
              "    </tr>\n",
              "    <tr>\n",
              "      <th>12</th>\n",
              "      <td>250000.0</td>\n",
              "      <td>281704.21875</td>\n",
              "    </tr>\n",
              "    <tr>\n",
              "      <th>13</th>\n",
              "      <td>442000.0</td>\n",
              "      <td>519820.21875</td>\n",
              "    </tr>\n",
              "    <tr>\n",
              "      <th>14</th>\n",
              "      <td>228000.0</td>\n",
              "      <td>246128.43750</td>\n",
              "    </tr>\n",
              "    <tr>\n",
              "      <th>15</th>\n",
              "      <td>315000.0</td>\n",
              "      <td>339183.75000</td>\n",
              "    </tr>\n",
              "    <tr>\n",
              "      <th>16</th>\n",
              "      <td>363000.0</td>\n",
              "      <td>356461.93750</td>\n",
              "    </tr>\n",
              "    <tr>\n",
              "      <th>17</th>\n",
              "      <td>395000.0</td>\n",
              "      <td>421399.21875</td>\n",
              "    </tr>\n",
              "    <tr>\n",
              "      <th>18</th>\n",
              "      <td>398000.0</td>\n",
              "      <td>386349.59375</td>\n",
              "    </tr>\n",
              "    <tr>\n",
              "      <th>19</th>\n",
              "      <td>325000.0</td>\n",
              "      <td>243580.59375</td>\n",
              "    </tr>\n",
              "  </tbody>\n",
              "</table>\n",
              "</div>"
            ],
            "text/plain": [
              "      Actual     Predicted\n",
              "0   318000.0  374444.34375\n",
              "1   770000.0  501374.59375\n",
              "2   851800.0  517994.46875\n",
              "3   475000.0  478700.96875\n",
              "4   320000.0  311498.50000\n",
              "5   305000.0  354389.90625\n",
              "6   460000.0  485741.03125\n",
              "7   470000.0  417193.21875\n",
              "8   468000.0  649142.56250\n",
              "9   340000.0  416620.59375\n",
              "10  355000.0  397532.15625\n",
              "11  308000.0  282148.71875\n",
              "12  250000.0  281704.21875\n",
              "13  442000.0  519820.21875\n",
              "14  228000.0  246128.43750\n",
              "15  315000.0  339183.75000\n",
              "16  363000.0  356461.93750\n",
              "17  395000.0  421399.21875\n",
              "18  398000.0  386349.59375\n",
              "19  325000.0  243580.59375"
            ]
          },
          "metadata": {
            "tags": []
          },
          "execution_count": 35
        }
      ]
    },
    {
      "cell_type": "markdown",
      "metadata": {
        "id": "08i_sKgk9UQw"
      },
      "source": [
        "# Model 3: K nearest neighbours\n",
        "\n"
      ]
    },
    {
      "cell_type": "markdown",
      "metadata": {
        "id": "WNLZKZIaPHa1"
      },
      "source": [
        "We would like to try K nearest neighbours to try to improve our pricing accuracy. We use scikit learn, with reference to this example https://www.dataquest.io/blog/machine-learning-tutorial/"
      ]
    },
    {
      "cell_type": "code",
      "metadata": {
        "id": "94mwQxBmPObl"
      },
      "source": [
        "from sklearn.neighbors import KNeighborsRegressor\n",
        "knn = KNeighborsRegressor(algorithm='brute')"
      ],
      "execution_count": 36,
      "outputs": []
    },
    {
      "cell_type": "code",
      "metadata": {
        "id": "qbgn4mfVPWDd",
        "outputId": "5a8a04c8-ddcc-4bb0-8a41-fa6b0107001e",
        "colab": {
          "base_uri": "https://localhost:8080/",
          "height": 67
        }
      },
      "source": [
        "knn.fit(X_train,y_train)"
      ],
      "execution_count": 37,
      "outputs": [
        {
          "output_type": "execute_result",
          "data": {
            "text/plain": [
              "KNeighborsRegressor(algorithm='brute', leaf_size=30, metric='minkowski',\n",
              "                    metric_params=None, n_jobs=None, n_neighbors=5, p=2,\n",
              "                    weights='uniform')"
            ]
          },
          "metadata": {
            "tags": []
          },
          "execution_count": 37
        }
      ]
    },
    {
      "cell_type": "code",
      "metadata": {
        "id": "HgPxdQAuPs4M"
      },
      "source": [
        "predictions = knn.predict(X_test)\n"
      ],
      "execution_count": 38,
      "outputs": []
    },
    {
      "cell_type": "code",
      "metadata": {
        "id": "954w_358P5Ki",
        "outputId": "f357d493-3970-4da2-aa29-e90d9dde4fa3",
        "colab": {
          "base_uri": "https://localhost:8080/",
          "height": 34
        }
      },
      "source": [
        "from sklearn.metrics import mean_squared_error\n",
        "mse = mean_squared_error(y_test, predictions)\n",
        "rmse = mse ** (1/2)\n",
        "print(rmse)"
      ],
      "execution_count": 39,
      "outputs": [
        {
          "output_type": "stream",
          "text": [
            "45958.45690904216\n"
          ],
          "name": "stdout"
        }
      ]
    },
    {
      "cell_type": "code",
      "metadata": {
        "id": "1hFnEKayVp_n",
        "outputId": "ddfc4750-7ce9-47f5-a603-4af8ed17179d",
        "colab": {
          "base_uri": "https://localhost:8080/",
          "height": 374
        }
      },
      "source": [
        "# Visualizing Our predictions\n",
        "fig = plt.figure(figsize=(10,5))\n",
        "plt.scatter(y_test,predictions)\n",
        "# Perfect predictions\n",
        "plt.plot(y_test,y_test,'r')"
      ],
      "execution_count": 40,
      "outputs": [
        {
          "output_type": "execute_result",
          "data": {
            "text/plain": [
              "[<matplotlib.lines.Line2D at 0x7ff8f7bd79e8>]"
            ]
          },
          "metadata": {
            "tags": []
          },
          "execution_count": 40
        },
        {
          "output_type": "display_data",
          "data": {
            "image/png": "[encoded data removed]",
            "text/plain": [
              "<Figure size 720x360 with 1 Axes>"
            ]
          },
          "metadata": {
            "tags": []
          }
        }
      ]
    },
    {
      "cell_type": "code",
      "metadata": {
        "id": "pGVESp86QisA",
        "outputId": "3a3c0249-7044-41e5-da60-f061ac8fccab",
        "colab": {
          "base_uri": "https://localhost:8080/",
          "height": 639
        }
      },
      "source": [
        "df = pd.DataFrame({'Actual': y_test, 'Predicted': predictions})\n",
        "df1 = df.head(20)\n",
        "df1"
      ],
      "execution_count": 41,
      "outputs": [
        {
          "output_type": "execute_result",
          "data": {
            "text/html": [
              "<div>\n",
              "<style scoped>\n",
              "    .dataframe tbody tr th:only-of-type {\n",
              "        vertical-align: middle;\n",
              "    }\n",
              "\n",
              "    .dataframe tbody tr th {\n",
              "        vertical-align: top;\n",
              "    }\n",
              "\n",
              "    .dataframe thead th {\n",
              "        text-align: right;\n",
              "    }\n",
              "</style>\n",
              "<table border=\"1\" class=\"dataframe\">\n",
              "  <thead>\n",
              "    <tr style=\"text-align: right;\">\n",
              "      <th></th>\n",
              "      <th>Actual</th>\n",
              "      <th>Predicted</th>\n",
              "    </tr>\n",
              "  </thead>\n",
              "  <tbody>\n",
              "    <tr>\n",
              "      <th>0</th>\n",
              "      <td>318000.0</td>\n",
              "      <td>353200.0</td>\n",
              "    </tr>\n",
              "    <tr>\n",
              "      <th>1</th>\n",
              "      <td>770000.0</td>\n",
              "      <td>642000.0</td>\n",
              "    </tr>\n",
              "    <tr>\n",
              "      <th>2</th>\n",
              "      <td>851800.0</td>\n",
              "      <td>734600.0</td>\n",
              "    </tr>\n",
              "    <tr>\n",
              "      <th>3</th>\n",
              "      <td>475000.0</td>\n",
              "      <td>465800.0</td>\n",
              "    </tr>\n",
              "    <tr>\n",
              "      <th>4</th>\n",
              "      <td>320000.0</td>\n",
              "      <td>319400.0</td>\n",
              "    </tr>\n",
              "    <tr>\n",
              "      <th>5</th>\n",
              "      <td>305000.0</td>\n",
              "      <td>305600.0</td>\n",
              "    </tr>\n",
              "    <tr>\n",
              "      <th>6</th>\n",
              "      <td>460000.0</td>\n",
              "      <td>390700.0</td>\n",
              "    </tr>\n",
              "    <tr>\n",
              "      <th>7</th>\n",
              "      <td>470000.0</td>\n",
              "      <td>436000.0</td>\n",
              "    </tr>\n",
              "    <tr>\n",
              "      <th>8</th>\n",
              "      <td>468000.0</td>\n",
              "      <td>473000.0</td>\n",
              "    </tr>\n",
              "    <tr>\n",
              "      <th>9</th>\n",
              "      <td>340000.0</td>\n",
              "      <td>348900.0</td>\n",
              "    </tr>\n",
              "    <tr>\n",
              "      <th>10</th>\n",
              "      <td>355000.0</td>\n",
              "      <td>387977.6</td>\n",
              "    </tr>\n",
              "    <tr>\n",
              "      <th>11</th>\n",
              "      <td>308000.0</td>\n",
              "      <td>329600.0</td>\n",
              "    </tr>\n",
              "    <tr>\n",
              "      <th>12</th>\n",
              "      <td>250000.0</td>\n",
              "      <td>245800.0</td>\n",
              "    </tr>\n",
              "    <tr>\n",
              "      <th>13</th>\n",
              "      <td>442000.0</td>\n",
              "      <td>451600.0</td>\n",
              "    </tr>\n",
              "    <tr>\n",
              "      <th>14</th>\n",
              "      <td>228000.0</td>\n",
              "      <td>204200.0</td>\n",
              "    </tr>\n",
              "    <tr>\n",
              "      <th>15</th>\n",
              "      <td>315000.0</td>\n",
              "      <td>372800.0</td>\n",
              "    </tr>\n",
              "    <tr>\n",
              "      <th>16</th>\n",
              "      <td>363000.0</td>\n",
              "      <td>340800.0</td>\n",
              "    </tr>\n",
              "    <tr>\n",
              "      <th>17</th>\n",
              "      <td>395000.0</td>\n",
              "      <td>420200.0</td>\n",
              "    </tr>\n",
              "    <tr>\n",
              "      <th>18</th>\n",
              "      <td>398000.0</td>\n",
              "      <td>365800.0</td>\n",
              "    </tr>\n",
              "    <tr>\n",
              "      <th>19</th>\n",
              "      <td>325000.0</td>\n",
              "      <td>307600.0</td>\n",
              "    </tr>\n",
              "  </tbody>\n",
              "</table>\n",
              "</div>"
            ],
            "text/plain": [
              "      Actual  Predicted\n",
              "0   318000.0   353200.0\n",
              "1   770000.0   642000.0\n",
              "2   851800.0   734600.0\n",
              "3   475000.0   465800.0\n",
              "4   320000.0   319400.0\n",
              "5   305000.0   305600.0\n",
              "6   460000.0   390700.0\n",
              "7   470000.0   436000.0\n",
              "8   468000.0   473000.0\n",
              "9   340000.0   348900.0\n",
              "10  355000.0   387977.6\n",
              "11  308000.0   329600.0\n",
              "12  250000.0   245800.0\n",
              "13  442000.0   451600.0\n",
              "14  228000.0   204200.0\n",
              "15  315000.0   372800.0\n",
              "16  363000.0   340800.0\n",
              "17  395000.0   420200.0\n",
              "18  398000.0   365800.0\n",
              "19  325000.0   307600.0"
            ]
          },
          "metadata": {
            "tags": []
          },
          "execution_count": 41
        }
      ]
    },
    {
      "cell_type": "markdown",
      "metadata": {
        "id": "A9WTQWwVVzES"
      },
      "source": [
        "# Conclusion\n",
        "\n",
        "K nearest neighbours seems to have the best prediction with a relatively low RMSE. Neural networks come in second while Linear regression comes in last."
      ]
    }
  ]
}